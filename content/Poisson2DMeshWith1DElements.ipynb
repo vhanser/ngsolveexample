{
 "cells": [
  {
   "cell_type": "markdown",
   "metadata": {},
   "source": [
    "## Electro-Statics with One Dimensional elements\n",
    "\n",
    "solve\n",
    "\n",
    "\\begin{align}\n",
    "(\\lambda\\nabla u, \\nabla b)_\\Omega &= 0 \\quad&&\\text{in } \\Omega\\\\\n",
    "u &= 1 &&\\text{on }\\Gamma_{\\text{top}}\\\\\n",
    "u &= 0 &&\\text{on }\\Gamma_{\\text{bottom}}\\cup\\Gamma_{\\text{source}}\\\\\n",
    "-\\lambda\\nabla u\\cdot\\mathbf{n} &= 0 && \\text{on }\\Gamma_{\\text{left}}\\cup\\Gamma_{\\text{right}}\n",
    "\\end{align}"
   ]
  },
  {
   "cell_type": "code",
   "execution_count": 53,
   "metadata": {},
   "outputs": [],
   "source": [
    "from netgen . occ import *\n",
    "from ngsolve import Mesh\n",
    "from netgen . meshing import MeshingParameters\n",
    "from ngsolve.webgui import Draw"
   ]
  },
  {
   "cell_type": "code",
   "execution_count": 54,
   "metadata": {},
   "outputs": [],
   "source": [
    "W = 3\n",
    "w1 = 1\n",
    "H = 2\n",
    "h1 = 1\n",
    "\n",
    "orderFE = 2"
   ]
  },
  {
   "cell_type": "code",
   "execution_count": 57,
   "metadata": {},
   "outputs": [
    {
     "name": "stdout",
     "output_type": "stream",
     "text": [
      "('bottom', 'left', 'right', 'top', 'source_left', 'source_right')\n"
     ]
    }
   ],
   "source": [
    "#        ___________________________________\n",
    "#       |                                   |        ^\n",
    "#       |                                   |        |\n",
    "#       |                                   |        |\n",
    "#       |       |                   |       |   ^    |\n",
    "#       |       |                   |       |   |    |\n",
    "#       |       |                   |       |   |    |\n",
    "#       |       |                   |       |   h1   H\n",
    "#       |       |                   |       |   |    |\n",
    "#       |       |                   |       |   |    |\n",
    "#       |       |                   |       |   v    |\n",
    "#       |                                   |        |\n",
    "#       |                                   |        |\n",
    "#       0___________________________________|        v\n",
    "#\n",
    "#                <--------w1-------->\n",
    "#        <----------------W----------------->\n",
    "#\n",
    "#\n",
    "#\n",
    "\n",
    "\n",
    "\n",
    "wp = WorkPlane ( Axes ((0 ,0 ,0) , n =Z , h = X ) )\n",
    "outer = wp.Rectangle(W , H).Face()\n",
    "\n",
    "outer = WorkPlane().Rectangle(W, H).Face()\n",
    "outer.edges.Min(Y).name=\"bottom\"\n",
    "outer.edges.Max(Y).name=\"top\"\n",
    "outer.edges.Min(X).name=\"left\"\n",
    "outer.edges.Max(X).name=\"right\"\n",
    "\n",
    "left_source = Edge(Segment(Pnt((W-w1)/2, (H-h1)/2, 0), Pnt((W-w1)/2, H-(H-h1)/2, 0)))\n",
    "left_source.edges.name=\"source_left\"\n",
    "left_source.edges.maxh=0.05\n",
    "\n",
    "\n",
    "right_source = Edge(Segment(Pnt(W-(W-w1)/2, (H-h1)/2, 0), Pnt(W-(W-w1)/2, H-(H-h1)/2, 0)))\n",
    "right_source.edges.name=\"source_right\"\n",
    "right_source.edges.maxh=0.05\n",
    "\n",
    "geo = Glue([outer, left_source, right_source])\n",
    "\n",
    "#Draw(geo, True)\n",
    "\n",
    "mesh = Mesh ( OCCGeometry ( geo , dim=2).GenerateMesh (maxh = 0.2) )\n",
    "print(mesh.GetBoundaries())"
   ]
  },
  {
   "cell_type": "code",
   "execution_count": 61,
   "metadata": {},
   "outputs": [
    {
     "data": {
      "application/vnd.jupyter.widget-view+json": {
       "model_id": "087b620916e04c3ba6a099e0b6564f9d",
       "version_major": 2,
       "version_minor": 0
      },
      "text/plain": [
       "WebGuiWidget(layout=Layout(height='500px', width='100%'), value={'gui_settings': {'Objects': {'Wireframe': Fal…"
      ]
     },
     "metadata": {},
     "output_type": "display_data"
    },
    {
     "data": {
      "text/plain": [
       "BaseWebGuiScene"
      ]
     },
     "execution_count": 61,
     "metadata": {},
     "output_type": "execute_result"
    }
   ],
   "source": [
    "\n",
    "fes = H1(mesh, order=orderFE, dirichlet=\"source.*|top|bottom\")\n",
    "u,v,sol = (*fes.TnT(), GridFunction(fes))\n",
    "sol.Set(mesh.BoundaryCF({\"source.*|bottom\":0, \"top\":1}, default=0), BND)\n",
    "BVP(bf=BilinearForm(grad(u)*grad(v)*dx), lf=LinearForm(fes), gf=sol)\n",
    "Draw(sol, settings={\"Objects\":{\"Wireframe\":False}})\n",
    "\n",
    "\n"
   ]
  }
 ],
 "metadata": {
  "kernelspec": {
   "display_name": "Python 3",
   "language": "python",
   "name": "python3"
  },
  "language_info": {
   "codemirror_mode": {
    "name": "ipython",
    "version": 3
   },
   "file_extension": ".py",
   "mimetype": "text/x-python",
   "name": "python",
   "nbconvert_exporter": "python",
   "pygments_lexer": "ipython3",
   "version": "3.10.12"
  }
 },
 "nbformat": 4,
 "nbformat_minor": 2
}
