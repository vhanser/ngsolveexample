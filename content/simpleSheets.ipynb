{
 "cells": [
  {
   "cell_type": "markdown",
   "metadata": {},
   "source": [
    "# Constrained Eddy Current Problem in 2D with the Magnetic Vector Potential\n",
    "\n",
    "\n",
    "\\begin{align*}\n",
    "\\int_\\Omega \\nu \\nabla u \\cdot \\nabla u'  + j\\omega\\sigma u u' \\;d\\Omega = 0\n",
    "\\end{align*}\n",
    "with $u = B_0 x$ or $u = B_0 y$ on the boundary $\\Gamma_D = \\Gamma_{left}\\cup\\Gamma_{right}$ or $\\Gamma_D = \\Gamma_{top}\\cup\\Gamma_{bottom}$\n",
    "\n",
    "and the constraint for each sheet:\n",
    "\\begin{align*}\n",
    "\\int_{\\Omega_{c, i} } J \\;d\\Omega = 0\n",
    "\\end{align*}\n",
    "\n",
    "\n",
    "results in an extension of the base with lagrange multipliers\n",
    "\n",
    "\\begin{align*}\n",
    "\\int_\\Omega \\nu \\nabla u \\cdot \\nabla u'  + j\\omega\\sigma (u+\\lambda_i)(u'+\\lambda_i') \\;d\\Omega = 0\n",
    "\\end{align*}"
   ]
  },
  {
   "cell_type": "code",
   "execution_count": 1,
   "metadata": {},
   "outputs": [],
   "source": [
    "from netgen.occ import *\n",
    "import numpy as np\n",
    "from ngsolve import *\n",
    "from ngsolve.webgui import Draw\n",
    "maxh = 1/10\n",
    "\n",
    "\n",
    "\n",
    "freq = 50\n",
    "mu0 = 4e-7*np.pi\n",
    "mu_Fe = mu0 *1000\n",
    "mu_Air = mu0\n",
    "\n",
    "sigma_Fe =2e6\n",
    "\n",
    "\n",
    "omega = freq*2*np.pi\n",
    "\n",
    "delta = np.sqrt(2/(sigma_Fe*omega*mu_Fe))\n"
   ]
  },
  {
   "cell_type": "code",
   "execution_count": 2,
   "metadata": {},
   "outputs": [],
   "source": [
    "Nsheets = 6\n",
    "ff = 0.9\n",
    "d = delta/2\n",
    "\n",
    "\n",
    "\n",
    "order0 = 2\n",
    "\n",
    "B0 = 1"
   ]
  },
  {
   "cell_type": "code",
   "execution_count": 3,
   "metadata": {},
   "outputs": [
    {
     "name": "stdout",
     "output_type": "stream",
     "text": [
      "0.002427112882151404 0.0023475354106054563\n"
     ]
    },
    {
     "data": {
      "application/vnd.jupyter.widget-view+json": {
       "model_id": "bdc87a94cde34476b6bbb400fda3e593",
       "version_major": 2,
       "version_minor": 0
      },
      "text/plain": [
       "WebGuiWidget(layout=Layout(height='500px', width='100%'), value={'gui_settings': {}, 'ngsolve_version': '6.2.2…"
      ]
     },
     "metadata": {},
     "output_type": "display_data"
    },
    {
     "name": "stdout",
     "output_type": "stream",
     "text": [
      "domains {'iron5', 'iron4', 'air', 'iron1', 'iron2', 'iron3', 'iron0'}\n",
      "bnds {'right', 'top', 'left', 'default', 'bottom'}\n",
      "penetration depth 0.0015915494309189533\n"
     ]
    }
   ],
   "source": [
    "dFe = d*ff\n",
    "d0 = d*(1-ff)\n",
    "\n",
    "H_core = Nsheets*dFe + (Nsheets-1)*d0\n",
    "W_core = H_core\n",
    "\n",
    "W = 2*W_core\n",
    "H = 2*H_core\n",
    "\n",
    "wp = WorkPlane()\n",
    "outer = wp.RectangleC(W, H).Face()\n",
    "outer.name = \"air\"\n",
    "outer.edges.Max(X).name = \"right\"\n",
    "outer.edges.Min(X).name = \"left\"\n",
    "outer.edges.Max(Y).name = \"top\"\n",
    "outer.edges.Min(Y).name = \"bottom\"\n",
    "\n",
    "\n",
    "rec_sheets =[]\n",
    "x_pos = - W_core/2\n",
    "\n",
    "\n",
    "for i in range(Nsheets):\n",
    "    wp.MoveTo(x_pos, -H_core/2)\n",
    "\n",
    "    rec_sheets.append(wp.Rectangle(dFe, H_core).Face())\n",
    "    rec_sheets[-1].name = f\"iron{i}\"\n",
    "\n",
    "\n",
    "    x_pos += d\n",
    "\n",
    "print(x_pos, W_core/2)\n",
    "\n",
    "rec_sheets = Glue(rec_sheets)\n",
    "rec_sheets.edges.maxh = delta/10\n",
    "\n",
    "geo = Glue([outer - rec_sheets, rec_sheets])\n",
    "\n",
    "\n",
    "\n",
    "meshRef = Mesh(OCCGeometry(geo, dim=2).GenerateMesh(maxh=delta))\n",
    "#Draw(meshRef.MaterialCF({\"iron\":1, \"air\":2}, default=0), meshRef)\n",
    "Draw(x, meshRef)\n",
    "\n",
    "\n",
    "print(\"domains\", set(meshRef.GetMaterials()))\n",
    "print(\"bnds\", set(meshRef.GetBoundaries()))\n",
    "\n",
    "print(\"penetration depth\", delta)"
   ]
  },
  {
   "cell_type": "code",
   "execution_count": 4,
   "metadata": {},
   "outputs": [],
   "source": [
    "mu = meshRef.MaterialCF({\"iron.*\":mu_Fe, \"air\":mu_Air}, default=0)\n",
    "sigma = meshRef.MaterialCF({\"iron.*\":sigma_Fe}, default=0)\n",
    "\n",
    "\n",
    "nu = 1/mu\n",
    "rho = 1/sigma"
   ]
  },
  {
   "cell_type": "code",
   "execution_count": 13,
   "metadata": {},
   "outputs": [
    {
     "name": "stdout",
     "output_type": "stream",
     "text": [
      "order0 2\n",
      "numSheets 6\n",
      "VA  :5400\n",
      "ndof  :5406\n",
      "79740126.50448047\n",
      "\u001b[2KCG iteration 1, residual = 17.289832697818134     \n",
      "\u001b[2KCG iteration 2, residual = 3.5571727560271847e-13     \n"
     ]
    },
    {
     "data": {
      "application/vnd.jupyter.widget-view+json": {
       "model_id": "9235ad134f6d4fa9887b6ce572a93f2d",
       "version_major": 2,
       "version_minor": 0
      },
      "text/plain": [
       "WebGuiWidget(layout=Layout(height='500px', width='100%'), value={'gui_settings': {}, 'ngsolve_version': '6.2.2…"
      ]
     },
     "metadata": {},
     "output_type": "display_data"
    },
    {
     "data": {
      "application/vnd.jupyter.widget-view+json": {
       "model_id": "aa0963029e324d76a824f4feea080862",
       "version_major": 2,
       "version_minor": 0
      },
      "text/plain": [
       "WebGuiWidget(layout=Layout(height='500px', width='100%'), value={'gui_settings': {}, 'ngsolve_version': '6.2.2…"
      ]
     },
     "metadata": {},
     "output_type": "display_data"
    },
    {
     "data": {
      "text/plain": [
       "BaseWebGuiScene"
      ]
     },
     "execution_count": 13,
     "metadata": {},
     "output_type": "execute_result"
    }
   ],
   "source": [
    "excitation_orientation = \"y\"\n",
    "\n",
    "# ------------------------------------------------------------------------------\n",
    "# --- Excitation\n",
    "# ------------------------------------------------------------------------------\n",
    "H0_amp = 1\n",
    "\n",
    "# ++++++++++++++++++++++++++++++++++++++++++++++++++++++++++++++++++++++++++++++\n",
    "# +++ reference solution\n",
    "# ++++++++++++++++++++++++++++++++++++++++++++++++++++++++++++++++++++++++++++++\n",
    "print(\"order0\", order0)\n",
    "print(\"numSheets\", Nsheets)\n",
    "\n",
    "if excitation_orientation == \"x\":\n",
    "    dir_A = \"top|bottom\"\n",
    "else:\n",
    "    dir_A = \"left|right\"\n",
    "VA = H1(meshRef,order=order0, complex=True, dirichlet=dir_A)\n",
    "VNum = []\n",
    "\n",
    "for i in range(Nsheets):\n",
    "    VNum.append(NumberSpace(meshRef, complex=True, definedon=meshRef.Materials(f\"iron{i}\")))\n",
    "\n",
    "\n",
    "V = FESpace([VA] + VNum)\n",
    "ndof = V.ndof\t\n",
    "print(f\"VA  :{VA.ndof}\")    \n",
    "print(f\"ndof  :{ndof}\")    \n",
    "\n",
    "# Gridfunctions\n",
    "sol_ref = GridFunction(V, \"sol\") \n",
    "A_ref = sol_ref.components[0] \n",
    "\n",
    "trials = V.TrialFunction()\n",
    "tests  = V.TestFunction()\n",
    "\n",
    "uA = trials[0]\n",
    "vA = tests[0]\n",
    "\n",
    "\n",
    "# ------------------------------------------------------------------------------\n",
    "# Matrix\n",
    "# ------------------------------------------------------------------------------\n",
    "with TaskManager():\n",
    "    # Bilinear form with \n",
    "    ah_ref = BilinearForm(V, symmetric=True)\n",
    "\n",
    "    # A:\n",
    "    ah_ref += nu*grad(uA) * grad(vA) * dx\n",
    "\n",
    "    # lagrange multipliers\n",
    "    for i in range(Nsheets):\n",
    "        ah_ref += 1j*omega * sigma_Fe * (uA + trials[1+i]) * (vA + tests[1+i]) * dx(f\"iron{i}\")\n",
    "\n",
    "\n",
    "    prec = Preconditioner(ah_ref, type=\"direct\")\n",
    "    ah_ref.Assemble()\n",
    "\n",
    "print(ah_ref.mat.AsVector().Norm())\n",
    "\n",
    "f_ref = LinearForm(V) \n",
    "\n",
    "\n",
    "f_ref.Assemble()\n",
    "\n",
    "# ------------------------------------------------------------------------------\n",
    "# ------ Solve It\n",
    "# ------------------------------------------------------------------------------\n",
    "with TaskManager():\n",
    "    \n",
    "    if excitation_orientation == \"x\":\n",
    "        A_ref.Set(B0*y, BND)\n",
    "    else:\n",
    "        A_ref.Set(B0*x, BND)\n",
    "    # solve it\n",
    "    solvers.BVP(bf=ah_ref, lf=f_ref, gf=sol_ref, pre=prec, maxsteps=5)\n",
    "            \n",
    "    gradA = grad(A_ref)\n",
    "    B = CF((gradA[1], -gradA[0])) \n",
    "    H = 1/mu * B\n",
    "    E = -1j*omega*(sum(sol_ref.components))\n",
    "    J = sigma * E\n",
    "\n",
    "    hb = 1/2 * InnerProduct(H,  B) / 2\n",
    "    p =  1/2 * InnerProduct(E,  J) \n",
    "\n",
    "\n",
    "Draw(J.imag, meshRef)\n",
    "Draw(B.real, meshRef, vectors=True)\n",
    "\n",
    "\n"
   ]
  }
 ],
 "metadata": {
  "kernelspec": {
   "display_name": "Python 3",
   "language": "python",
   "name": "python3"
  },
  "language_info": {
   "codemirror_mode": {
    "name": "ipython",
    "version": 3
   },
   "file_extension": ".py",
   "mimetype": "text/x-python",
   "name": "python",
   "nbconvert_exporter": "python",
   "pygments_lexer": "ipython3",
   "version": "3.10.12"
  },
  "orig_nbformat": 4
 },
 "nbformat": 4,
 "nbformat_minor": 2
}
