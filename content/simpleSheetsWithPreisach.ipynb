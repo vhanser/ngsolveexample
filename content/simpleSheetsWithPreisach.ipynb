{
 "cells": [
  {
   "cell_type": "markdown",
   "metadata": {},
   "source": [
    "# Constrained Eddy Current Problem in 2D with the Magnetic Vector Potential\n",
    "\n",
    "\n",
    "\\begin{align*}\n",
    "\\int_\\Omega \\nu \\nabla u \\cdot \\nabla u'  + j\\omega\\sigma u u' \\;d\\Omega = 0\n",
    "\\end{align*}\n",
    "with $u = B_0 x$ or $u = B_0 y$ on the boundary $\\Gamma_D = \\Gamma_{left}\\cup\\Gamma_{right}$ or $\\Gamma_D = \\Gamma_{top}\\cup\\Gamma_{bottom}$\n",
    "\n",
    "and the constraint for each sheet:\n",
    "\\begin{align*}\n",
    "\\int_{\\Omega_{c, i} } J \\;d\\Omega = 0\n",
    "\\end{align*}\n",
    "\n",
    "\n",
    "results in an extension of the base with lagrange multipliers\n",
    "\n",
    "\\begin{align*}\n",
    "\\int_\\Omega \\nu \\nabla u \\cdot \\nabla u'  + j\\omega\\sigma (u+\\lambda_i)(u'+\\lambda_i') \\;d\\Omega = 0\n",
    "\\end{align*}"
   ]
  },
  {
   "cell_type": "code",
   "execution_count": 3,
   "metadata": {},
   "outputs": [],
   "source": [
    "from netgen.occ import *\n",
    "import numpy as np\n",
    "from ngsolve import *\n",
    "from ngsolve.webgui import Draw\n",
    "import cempy as cp\n",
    "\n",
    "maxh = 1/10\n",
    "\n",
    "\n",
    "\n",
    "freq = 50\n",
    "mu0 = 4e-7*np.pi\n",
    "\n",
    "mu_Air = mu0\n",
    "\n",
    "sigma_Fe =2e6\n",
    "\n",
    "\n",
    "omega = freq*2*np.pi\n",
    "\n",
    "delta = np.sqrt(2/(sigma_Fe*omega*1000*mu_Air))\n"
   ]
  },
  {
   "cell_type": "code",
   "execution_count": 4,
   "metadata": {},
   "outputs": [],
   "source": [
    "Nsheets = 6\n",
    "ff = 0.9\n",
    "d = delta/2\n",
    "\n",
    "\n",
    "\n",
    "order0 = 2\n",
    "\n",
    "B0 = 1"
   ]
  },
  {
   "cell_type": "code",
   "execution_count": 5,
   "metadata": {},
   "outputs": [
    {
     "name": "stdout",
     "output_type": "stream",
     "text": [
      "0.002427112882151404 0.0023475354106054563\n"
     ]
    },
    {
     "data": {
      "application/vnd.jupyter.widget-view+json": {
       "model_id": "ec00c5310cc64a71a846814d0b47df74",
       "version_major": 2,
       "version_minor": 0
      },
      "text/plain": [
       "WebGuiWidget(layout=Layout(height='500px', width='100%'), value={'gui_settings': {}, 'ngsolve_version': '6.2.2…"
      ]
     },
     "metadata": {},
     "output_type": "display_data"
    },
    {
     "name": "stdout",
     "output_type": "stream",
     "text": [
      "domains {'iron3', 'iron5', 'iron1', 'iron2', 'iron4', 'iron0', 'air'}\n",
      "bnds {'bottom', 'default', 'left', 'top', 'right'}\n",
      "penetration depth 0.0015915494309189533\n"
     ]
    }
   ],
   "source": [
    "dFe = d*ff\n",
    "d0 = d*(1-ff)\n",
    "\n",
    "H_core = Nsheets*dFe + (Nsheets-1)*d0\n",
    "W_core = H_core\n",
    "\n",
    "W = 2*W_core\n",
    "H = 2*H_core\n",
    "\n",
    "wp = WorkPlane()\n",
    "outer = wp.RectangleC(W, H).Face()\n",
    "outer.name = \"air\"\n",
    "outer.edges.Max(X).name = \"right\"\n",
    "outer.edges.Min(X).name = \"left\"\n",
    "outer.edges.Max(Y).name = \"top\"\n",
    "outer.edges.Min(Y).name = \"bottom\"\n",
    "\n",
    "\n",
    "rec_sheets =[]\n",
    "x_pos = - W_core/2\n",
    "\n",
    "\n",
    "for i in range(Nsheets):\n",
    "    wp.MoveTo(x_pos, -H_core/2)\n",
    "\n",
    "    rec_sheets.append(wp.Rectangle(dFe, H_core).Face())\n",
    "    rec_sheets[-1].name = f\"iron{i}\"\n",
    "\n",
    "\n",
    "    x_pos += d\n",
    "\n",
    "print(x_pos, W_core/2)\n",
    "\n",
    "rec_sheets = Glue(rec_sheets)\n",
    "rec_sheets.edges.maxh = delta/10\n",
    "\n",
    "geo = Glue([outer - rec_sheets, rec_sheets])\n",
    "\n",
    "\n",
    "\n",
    "meshRef = Mesh(OCCGeometry(geo, dim=2).GenerateMesh(maxh=delta))\n",
    "Draw(meshRef.MaterialCF({\"iron.*\":1, \"air\":2}, default=0), meshRef)\n",
    "# Draw(x, meshRef)\n",
    "\n",
    "\n",
    "print(\"domains\", set(meshRef.GetMaterials()))\n",
    "print(\"bnds\", set(meshRef.GetBoundaries()))\n",
    "\n",
    "print(\"penetration depth\", delta)"
   ]
  },
  {
   "cell_type": "code",
   "execution_count": 6,
   "metadata": {},
   "outputs": [
    {
     "name": "stdout",
     "output_type": "stream",
     "text": [
      "order0 2\n",
      "numSheets 6\n",
      "VA  :5425\n",
      "ndof  :5431\n"
     ]
    }
   ],
   "source": [
    "excitation_orientation = \"y\"\n",
    "\n",
    "# ------------------------------------------------------------------------------\n",
    "# --- Excitation\n",
    "# ------------------------------------------------------------------------------\n",
    "H0_amp = 1\n",
    "\n",
    "# ++++++++++++++++++++++++++++++++++++++++++++++++++++++++++++++++++++++++++++++\n",
    "# +++ reference solution\n",
    "# ++++++++++++++++++++++++++++++++++++++++++++++++++++++++++++++++++++++++++++++\n",
    "print(\"order0\", order0)\n",
    "print(\"numSheets\", Nsheets)\n",
    "\n",
    "if excitation_orientation == \"x\":\n",
    "    dir_A = \"top|bottom\"\n",
    "else:\n",
    "    dir_A = \"left|right\"\n",
    "VA = H1(meshRef,order=order0, complex=False, dirichlet=dir_A)\n",
    "VNum = []\n",
    "\n",
    "for i in range(Nsheets):\n",
    "    VNum.append(NumberSpace(meshRef, complex=False, definedon=meshRef.Materials(f\"iron{i}\")))\n",
    "\n",
    "\n",
    "V = FESpace([VA] + VNum)\n",
    "ndof = V.ndof\t\n",
    "print(f\"VA  :{VA.ndof}\")    \n",
    "print(f\"ndof  :{ndof}\")    \n",
    "\n",
    "# Gridfunctions\n",
    "sol_ref = GridFunction(V, \"sol\") \n",
    "sol_ref_o = GridFunction(V, \"sol\") \n",
    "A_ref = sol_ref.components[0] \n",
    "A_ref_o = sol_ref_o.components[0] \n",
    "\n",
    "\n",
    "trials = V.TrialFunction()\n",
    "tests  = V.TestFunction()\n",
    "\n",
    "uA = trials[0]\n",
    "vA = tests[0]\n",
    "\n",
    "# ------------------------------------------------------------------------------\n",
    "# --- field quantities\n",
    "# ------------------------------------------------------------------------------\n",
    "gradA = grad(A_ref)\n",
    "B = CF((gradA[1], -gradA[0])) \n",
    "\n",
    "E = -1j*omega*(sum(sol_ref.components))\n"
   ]
  },
  {
   "cell_type": "code",
   "execution_count": 7,
   "metadata": {},
   "outputs": [
    {
     "name": "stdout",
     "output_type": "stream",
     "text": [
      "loaded 2D\n"
     ]
    }
   ],
   "source": [
    "ev = cp.preisachScalar.Everett_Lorentzian(401, 1640, 1.5)\n",
    "\n",
    "filename = \"save/EverettMatrix_inverse\"+  ev.name + \"_\" + str(ev.NA)  + (\"_nonlin\" if ev.isNonLin else \"\")\n",
    "\n",
    "iev = ev.copy(False)\n",
    "\n",
    "if not iev.Load(filename + \"_2D.bin\"):\n",
    "    \n",
    "    if not iev.Load(filename + \"_1D.bin\"):\n",
    "        p = cp.preisachScalar.preisach(ev)\n",
    "        print(\"calculate 1D inverse\")\n",
    "        iev = p.getInverseEverettMatrix()\n",
    "\n",
    "        iev.Save(filename + \"_1D.bin\")\n",
    "    else:\n",
    "        print(\"loaded 1D\")\n",
    "\n",
    "\n",
    "    print(\"calculate 2D inverse\")\n",
    "    input()\n",
    "    iev.Generate2DAdaption(4)\n",
    "    iev.Save(filename + \"_2D.bin\")\n",
    "else:\n",
    "    print(\"loaded 2D\")"
   ]
  },
  {
   "cell_type": "code",
   "execution_count": 8,
   "metadata": {},
   "outputs": [],
   "source": [
    "intrule = IntegrationRule(TRIG, order0+2)\n",
    "dist = cp.preisachVector.circleDistribution(40)\n",
    "Binput = B.real\n",
    "\n",
    "\n",
    "mask = meshRef.MaterialCF({\"iron.*\":1}, default=0)\n",
    "\n",
    "intrule = IntegrationRule(TRIG, 2*order0+2)\n",
    "dist = cp.preisachVector.circleDistribution(3)\n",
    "Binput = B.real\n",
    "\n",
    "\n",
    "\n"
   ]
  },
  {
   "cell_type": "code",
   "execution_count": 10,
   "metadata": {},
   "outputs": [
    {
     "name": "stdout",
     "output_type": "stream",
     "text": [
      "17748\n"
     ]
    }
   ],
   "source": [
    "Preisach_ref = cp.preisachVector.ngPreisachVector2(meshRef, intrule, Binput, iev, dist, field=\"B\", mask = mask )\n",
    "print(Preisach_ref.CountVectorPreisachPoints())"
   ]
  },
  {
   "cell_type": "code",
   "execution_count": 11,
   "metadata": {},
   "outputs": [],
   "source": [
    "nu_preisach = Preisach_ref.GetNu()\n",
    "H_preisach = Preisach_ref.GetH()\n",
    "\n",
    "nu = meshRef.MaterialCF({\"iron.*\":nu_preisach, \"air\":1/mu_Air}, default=0)\n",
    "sigma = meshRef.MaterialCF({\"iron.*\":sigma_Fe}, default=0)\n",
    "\n",
    "\n",
    "\n",
    "rho = 1/sigma\n",
    "\n",
    "\n",
    "H = meshRef.MaterialCF({\"iron.*\":H_preisach, \"air\":1/mu_Air  * B}, default=0)\n",
    "J = sigma * E"
   ]
  },
  {
   "cell_type": "code",
   "execution_count": 12,
   "metadata": {},
   "outputs": [],
   "source": [
    "ti = np.linspace(0, 1/freq*1.25, 200)\n",
    "dt = ti[1] - ti[0]\n",
    "Bin = B0*np.sin(ti)\n",
    "\n",
    "\n"
   ]
  },
  {
   "cell_type": "code",
   "execution_count": 13,
   "metadata": {},
   "outputs": [],
   "source": [
    "fesFP = MatrixValued(L2(meshRef, definedon=meshRef.Materials(\"iron.*\")))\n",
    "nu_FP = GridFunction(fesFP)\n",
    "nu_FP_init = 1/(700 * mu0)\n",
    "nu_FP.Set(CF((nu_FP_init, 0, 0, nu_FP_init), dims=(2,2)))"
   ]
  },
  {
   "cell_type": "code",
   "execution_count": 14,
   "metadata": {},
   "outputs": [
    {
     "name": "stdout",
     "output_type": "stream",
     "text": [
      "22.28743100762064\n"
     ]
    }
   ],
   "source": [
    "\n",
    "\n",
    "\n",
    "# ------------------------------------------------------------------------------\n",
    "# Matrix\n",
    "# ------------------------------------------------------------------------------\n",
    "with TaskManager():\n",
    "    # Bilinear form with \n",
    "    ah_ref = BilinearForm(V, symmetric=True)\n",
    "\n",
    "    # A:\n",
    "    ah_ref += dt * nu_FP *grad(uA) * grad(vA) * dx\n",
    "\n",
    "    # lagrange multipliers\n",
    "    for i in range(Nsheets):\n",
    "        ah_ref += sigma_Fe * (uA + trials[1+i]) * (vA + tests[1+i]) * dx(f\"iron{i}\")\n",
    "\n",
    "\n",
    "    prec = Preconditioner(ah_ref, type=\"direct\")\n",
    "    ah_ref.Assemble()\n",
    "\n",
    "print(ah_ref.mat.AsVector().Norm())\n",
    "\n",
    "f_ref = LinearForm(V) \n",
    "\n",
    "\n",
    "# lagrange multipliers\n",
    "for i in range(Nsheets):\n",
    "    # Euler\n",
    "    f_ref += sigma_Fe * A_ref * vA * dx(f\"iron{i}\")\n",
    "\n",
    "    # nonlin\n",
    "    gradvA = grad(vA)\n",
    "    curlvA = CF((gradA[1], -gradA[0]))\n",
    "    f_ref += dt * (nu_FP * grad(A_ref)) * grad(vA) * dx(f\"iron{i}\")\n",
    "    f_ref += dt * (- H_preisach)* curlvA * dx(f\"iron{i}\")\n",
    "\n",
    "\n",
    "\n",
    "\n",
    "\n",
    "\n",
    "\n"
   ]
  },
  {
   "cell_type": "code",
   "execution_count": 15,
   "metadata": {},
   "outputs": [
    {
     "name": "stdout",
     "output_type": "stream",
     "text": [
      "------------- 0 199\n",
      "0\n",
      "\u001b[2KCG iteration 1, residual = 0.0     \n",
      "1\n",
      "\u001b[2KCG iteration 1, residual = 0.0     \n",
      "2\n",
      "\u001b[2KCG iteration 1, residual = 0.0     \n",
      "3\n",
      "\u001b[2KCG iteration 1, residual = 0.0     \n",
      "4\n",
      "\u001b[2KCG iteration 1, residual = 0.0     \n",
      "5\n",
      "\u001b[2KCG iteration 1, residual = 0.0     \n",
      "6\n",
      "\u001b[2KCG iteration 1, residual = 0.0     \n",
      "7\n",
      "\u001b[2KCG iteration 1, residual = 0.0     \n",
      "8\n",
      "\u001b[2KCG iteration 1, residual = 0.0     \n",
      "9\n",
      "\u001b[2KCG iteration 1, residual = 0.0     \n",
      "10\n",
      "\u001b[2KCG iteration 1, residual = 0.0     \n",
      "11\n",
      "\u001b[2KCG iteration 1, residual = 0.0     \n",
      "12\n",
      "\u001b[2KCG iteration 1, residual = 0.0     \n",
      "13\n",
      "\u001b[2KCG iteration 1, residual = 0.0     \n",
      "14\n",
      "\u001b[2KCG iteration 1, residual = 0.0     \n",
      "15\n",
      "\u001b[2KCG iteration 1, residual = 0.0     \n",
      "16\n",
      "\u001b[2KCG iteration 1, residual = 0.0     \n",
      "17\n",
      "\u001b[2KCG iteration 1, residual = 0.0     \n",
      "18\n"
     ]
    },
    {
     "ename": "",
     "evalue": "",
     "output_type": "error",
     "traceback": [
      "\u001b[1;31mThe Kernel crashed while executing code in the the current cell or a previous cell. Please review the code in the cell(s) to identify a possible cause of the failure. Click <a href='https://aka.ms/vscodeJupyterKernelCrash'>here</a> for more info. View Jupyter <a href='command:jupyter.viewOutput'>log</a> for further details."
     ]
    }
   ],
   "source": [
    "# ------------------------------------------------------------------------------\n",
    "# ------ Solve It\n",
    "# ------------------------------------------------------------------------------\n",
    "with TaskManager():\n",
    "    \n",
    "\n",
    "    for i in range(len(Bin)):\n",
    "        print(\"-------------\", i, len(Bin)-1)\n",
    "        sol_ref_o.vec.data = sol_ref.vec\n",
    "\n",
    "        if i> 0:\n",
    "            nu_FP.Set(nu_preisach)\n",
    "\n",
    "            ah_ref.Assemble()\n",
    "\n",
    "\n",
    "        if excitation_orientation == \"x\":\n",
    "            A_ref.Set(Bin[i]*y, BND)\n",
    "        else:\n",
    "            A_ref.Set(Bin[i]*x, BND)\n",
    "\n",
    "        for it in range(20):\n",
    "            \n",
    "            # solve it\n",
    "            f_ref.Assemble()\n",
    "            solvers.BVP(bf=ah_ref, lf=f_ref, gf=sol_ref, pre=prec, maxsteps=5)\n",
    "\n",
    "            Preisach_ref.Update()\n",
    "\n",
    "        print(\"doen\")\n",
    "\n",
    "        Preisach_ref.UpdatePast()\n",
    "            \n",
    "\n",
    "\n",
    "\n",
    "\n",
    "\n",
    "        Draw(J.imag, meshRef)\n",
    "        Draw(B.real, meshRef, vectors=True)\n",
    "\n",
    "    "
   ]
  }
 ],
 "metadata": {
  "kernelspec": {
   "display_name": "Python 3",
   "language": "python",
   "name": "python3"
  },
  "language_info": {
   "codemirror_mode": {
    "name": "ipython",
    "version": 3
   },
   "file_extension": ".py",
   "mimetype": "text/x-python",
   "name": "python",
   "nbconvert_exporter": "python",
   "pygments_lexer": "ipython3",
   "version": "3.10.12"
  },
  "orig_nbformat": 4
 },
 "nbformat": 4,
 "nbformat_minor": 2
}
