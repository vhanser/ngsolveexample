{
 "cells": [
  {
   "cell_type": "markdown",
   "id": "dafa24a8",
   "metadata": {},
   "source": [
    "## Introduction\n",
    "\n",
    "1. full problem\n",
    "1. quasi-periodic boundaries\n",
    "1. linear problem with curved coordinates\n",
    "1. linear problem \n",
    "\n",
    "\n",
    "\n",
    "## Biot Savart Field $H_{BS}$ of a single Conductor\n",
    "\n",
    "\\begin{align}\n",
    "    \\mathbf{H}_{BS} = \\frac{I_0}{2\\pi||\\mathbf{r}||}\\mathbf{e}_{\\varphi}\n",
    "\\end{align}"
   ]
  },
  {
   "cell_type": "code",
   "execution_count": 31,
   "id": "43d1e1f1",
   "metadata": {},
   "outputs": [],
   "source": [
    "r1, r2, r3, r4, phi_deg, maxh = 0.01, 0.02, 0.03, 0.032, 45, 0.001\n",
    "maxh = 0.1\n",
    "maxhEdges = 0.001\n",
    "\n",
    "order0 = 2"
   ]
  },
  {
   "cell_type": "code",
   "execution_count": 32,
   "id": "a2b2577f",
   "metadata": {},
   "outputs": [
    {
     "name": "stdout",
     "output_type": "stream",
     "text": [
      "domains ('rotor', 'magnet', 'air')\n",
      "boundaries {'left_iron', 'left_air', 'right_air', 'mag_rot', 'outer', 'right_iron', 'interface', 'inner'}\n"
     ]
    }
   ],
   "source": [
    "from permanentMagnetGeometry import  simpleGeoMagnetOnIron\n",
    "\n",
    "\n",
    "import numpy as np\n",
    "from ngsolve import *\n",
    "from ngsolve.webgui import Draw\n",
    "r1, r2, r3, r4, phi_deg, maxh = 0.01, 0.02, 0.03, 0.032, 45, 0.001\n",
    "maxh = 0.1\n",
    "maxhEdges = 0.001\n",
    "\n",
    "cMesh_simple = simpleGeoMagnetOnIron(r1, r2, r3, r4, (r3+r2)/2 * np.pi  * 90/180, (r4+r1)/2 * np.pi, maxh=maxh, maxhEdges=maxhEdges, periodic=False)\n",
    "#cMesh_simple = simpleGeoMagnetOnIron(r1, r2, r3, r4,  np.pi/2 ,  np.pi, maxh=maxh, maxhEdges=maxhEdges, periodic=False)\n",
    "mesh_simple = cMesh_simple.mesh\n",
    "\n",
    "# cMesh_simple = simpleGeoMagnetOnIron(d0 = (r4-r3)*10, Hm=r3-r2, HFe=r2-r1, Bm=np.pi/2, B=np.pi, maxh=maxh, periodic=True, maxhEdges = maxhEdges)\n",
    "# mesh_simple = cMesh_simple.mesh\n",
    "\n",
    "print(\"domains\", mesh_simple.GetMaterials())\n",
    "print(\"boundaries\", set(mesh_simple.GetBoundaries()))\n",
    "\n",
    "\n",
    "#print(Integrate(1, mesh_periodic))\n",
    "#print(Integrate(1, mesh_simple))\n",
    "\n",
    "\n",
    "\n"
   ]
  },
  {
   "cell_type": "code",
   "execution_count": 33,
   "id": "90300cec",
   "metadata": {},
   "outputs": [],
   "source": [
    "from ngsolve import *\n",
    "from ngsolve.webgui import Draw\n",
    "\n",
    "import numpy as np\n",
    "\n",
    "def getR():\n",
    "    return y\n",
    "def getPhi():\n",
    "    return -x * np.pi/cMesh_simple.B \n",
    "\n",
    "def getTrafo():\n",
    "    r = getR()\n",
    "    phi = getPhi()\n",
    "    coef = np.pi/(r*2)\n",
    "    return CF((coef * sin(phi), -coef * cos(phi), cos(phi), sin(phi)), dims=(2, 2))\n",
    "\n",
    "def HBS_singleConductor_polar(I0, xy_center, dim=2):\n",
    "    r = getR()\n",
    "    phi = getPhi()\n",
    "\n",
    "    rphi_center = (sqrt(xy_center[0]**2 + xy_center[1]**2), atan2(xy_center[1], xy_center[0])) \n",
    "\n",
    "    phi_s = phi - rphi_center[1]\n",
    "    r_s = r - rphi_center[0]\n",
    "\n",
    "    if dim == 2:\n",
    "        e_phi = CF((phi, 0))/(Norm(phi) + 1e-15)\n",
    "    else:\n",
    "        e_phi = e_phi = CF((phi, 0, 0))/(Norm(phi)+1e-15)\n",
    "\n",
    "    return I0/(2*np.pi*r_s + 1e-15) * e_phi\n",
    "    \n",
    "\n",
    "\n",
    "def HBS_singleConductor_cartesian(I0, xy_center, dim=2):\n",
    "    \n",
    "\n",
    "    # shifted coordninates\n",
    "    x_s = x - xy_center[0]\n",
    "    y_s = y - xy_center[1]\n",
    "\n",
    "    r = sqrt(x_s ** 2 + y_s **2)\n",
    "\n",
    "    if dim == 2:\n",
    "        e_phi = CF((y_s, -x_s))/(r+1e-15)\n",
    "    else:\n",
    "        e_phi = e_phi = CF((y_s, -x_s, 0))/(r+1e-15)\n",
    "\n",
    "    return I0/(2*np.pi*r + 1e-15) * e_phi\n",
    "\n",
    "def animate(val, mesh, ti=np.linspace(0, 2*np.pi, 100), pause=0.1, **kwargs):\n",
    "    import time\n",
    "    t = Parameter(ti[0])\n",
    "    scene = Draw(val * exp(1j*t), mesh, **kwargs)\n",
    "    \n",
    "    for tt in ti:\n",
    "        \n",
    "        t.Set(tt)\n",
    "        scene.Redraw()\n",
    "        print(tt, end=\"\\r\")\n",
    "        time.sleep(pause)\n",
    "\n",
    "\n",
    "    "
   ]
  },
  {
   "cell_type": "code",
   "execution_count": 34,
   "id": "8ff1fbcf",
   "metadata": {},
   "outputs": [
    {
     "name": "stdout",
     "output_type": "stream",
     "text": [
      "domains ('air', 'rotor', 'magnet_top', 'magnet_bottom')\n",
      "boundaries {'mag_rot', 'outer', 'interface', 'inner'}\n"
     ]
    },
    {
     "data": {
      "application/vnd.jupyter.widget-view+json": {
       "model_id": "554a9ec8c3b54e7d9aa93040d6b0d456",
       "version_major": 2,
       "version_minor": 0
      },
      "text/plain": [
       "WebGuiWidget(layout=Layout(height='500px', width='100%'), value={'gui_settings': {}, 'ngsolve_version': '6.2.2…"
      ]
     },
     "metadata": {},
     "output_type": "display_data"
    },
    {
     "data": {
      "text/plain": [
       "BaseWebGuiScene"
      ]
     },
     "execution_count": 34,
     "metadata": {},
     "output_type": "execute_result"
    }
   ],
   "source": [
    "## mesh\n",
    "from permanentMagnetGeometry import  fullGeoMagnet\n",
    "from ngsolve.webgui import Draw\n",
    "\n",
    "\n",
    "\n",
    "\n",
    "cMesh = fullGeoMagnet(r1, r2, r3, r4, phi_deg=45, maxh=maxh, maxhEdges=maxhEdges, periodic=False)\n",
    "mesh = cMesh.mesh\n",
    "\n",
    "\n",
    "print(\"domains\", mesh.GetMaterials())\n",
    "print(\"boundaries\", set(mesh.GetBoundaries()))\n",
    "\n",
    "Draw(mesh)\n"
   ]
  },
  {
   "cell_type": "code",
   "execution_count": 35,
   "id": "7c284f50",
   "metadata": {},
   "outputs": [
    {
     "name": "stdout",
     "output_type": "stream",
     "text": [
      "excited by  BSF\n"
     ]
    }
   ],
   "source": [
    "valid_excitation_types = (\"BSF\", \"surfacecurrent\")\n",
    "excitation_type = \"BSF\"\n",
    "# ------------------------------------------------------------------------------\n",
    "# --- excitation\n",
    "# ------------------------------------------------------------------------------\n",
    "f = 50\n",
    "omega = 2*np.pi * f\n",
    "\n",
    "\n",
    "if excitation_type not in valid_excitation_types:\n",
    "    raise ValueError(f\"not a valid excitation type use: {valid_excitation_types}\")\n",
    "\n",
    "\n",
    "\n",
    "def getExcitatation(excitation_type, polar_coordinates=False):\n",
    "\n",
    "\n",
    "    if excitation_type == \"BSF\":\n",
    "\n",
    "        if polar_coordinates == True:\n",
    "            HBS_singleConductor_foo = HBS_singleConductor_polar\n",
    "\n",
    "        else:\n",
    "            HBS_singleConductor_foo = HBS_singleConductor_cartesian\n",
    "        # circle\n",
    "        phi_i = (0, 2*np.pi/3, 2*np.pi*2/3)        \n",
    "\n",
    "\n",
    "        points = [(r4 * cos(phi), r4*sin(phi)) for phi in phi_i]\n",
    "        H_BS_i = [HBS_singleConductor_foo(1 * np.exp(1j * phi), xy) for xy, phi in zip(points, phi_i)]\n",
    "\n",
    "        points = [(r4 * cos(phi + np.pi), r4*sin(phi+ np.pi)) for phi in phi_i]\n",
    "        H_BS_i += [HBS_singleConductor_foo(-1 * np.exp(1j * phi), xy) for xy, phi in zip(points, phi_i)]\n",
    "\n",
    "        HBS = sum(H_BS_i)\n",
    "\n",
    "        return HBS\n",
    "    elif excitation_type == \"surfacecurrent\":\n",
    "\n",
    "        # surface current\n",
    "        K0 = 100\n",
    "        phi = atan2(y, x)\n",
    "\n",
    "        a = exp(1j * 2*np.pi/3)\n",
    "\n",
    "        Ki = lambda i : K0 * cos(phi + (i-1) * 2*np.pi/3 ) \n",
    "        K1 = Ki(1)\n",
    "        K2 = Ki(2) * a * a\n",
    "        K3 = Ki(3) * a  \n",
    "\n",
    "        K = (K1 + K2 + K3)/1.5\n",
    "\n",
    "        return K\n",
    "\n",
    "\n",
    "HBS = getExcitatation(excitation_type)\n",
    "print(\"excited by \", excitation_type)"
   ]
  },
  {
   "cell_type": "code",
   "execution_count": 36,
   "id": "9b3cf37a",
   "metadata": {},
   "outputs": [],
   "source": [
    "\n",
    "# ------------------------------------------------------------------------------\n",
    "# --- materials\n",
    "# ------------------------------------------------------------------------------\n",
    "sigma_Fe = 2e6\n",
    "sigma_air = 0\n",
    "sigma_magnet = 556e3\n",
    "\n",
    "mu_air = 4e-7*np.pi\n",
    "mu_Fe = 1000 * mu_air\n",
    "mu_magnet = 1.05 * mu_air\n"
   ]
  },
  {
   "cell_type": "markdown",
   "id": "3f153cac",
   "metadata": {},
   "source": [
    "\n",
    "## $\\mathbf{A}$ Formulation\n",
    "\n",
    "\\begin{align*}\n",
    "\\int_\\Omega \\nu\\nabla\\times\\mathbf{A}\\cdot\\nabla\\times\\mathbf{A}' + j\\omega\\sigma\\mathbf{A}\\cdot\\mathbf{A}' \\;d\\Omega = \\int_\\Omega\\mathbf{H}_{BS}\\cdot\\nabla\\times\\mathbf{A}'\\;d\\Omega\n",
    "\\end{align*}\n",
    "\n",
    "with homogeneous Dirichlet boundaries on the inner and the outer\n",
    "\n",
    "\n",
    "In two dimensions -> single component magnetic vector potential\n",
    "\\begin{align*}\n",
    "\\mathbf{A} = u \\mathbf{e}_z \\text{ and } \\mathbf{B} = \\nabla\\times\\mathbf{A} = \\partial_y u\\mathbf{e}_x - \\partial_x u\\mathbf{e}_y\n",
    "\\end{align*}\n",
    "and therefore \n",
    "\n",
    "\\begin{align*}\n",
    "\\int_{\\Omega_{2D}} \\nu\\nabla u\\cdot \\nabla u' + j\\omega\\sigma u\\cdot u' \\;d\\Omega = \\int_{\\Omega_{2D}}\\mathbf{H}_{BS}\\cdot (\\partial_y u'\\mathbf{e}_x - \\partial_x u'\\mathbf{e}_x)\\;d\\Omega\n",
    "\\end{align*}\n"
   ]
  },
  {
   "cell_type": "code",
   "execution_count": 37,
   "id": "5b113188",
   "metadata": {},
   "outputs": [],
   "source": [
    "\n",
    "\n",
    "def solveFullWithA(mesh, order0, omega, HBS, periodic=False, polar=False):\n",
    "    if not polar:\n",
    "        P = CF((1, 0, 0, 1), dims=(2, 2))\n",
    "    else:\n",
    "        r = getR()\n",
    "        P = CF((-1, 0, 0, 1/r), dims=(2, 2))\n",
    "    # ------------------------------------------------------------------------------\n",
    "    # --- materials\n",
    "    # ------------------------------------------------------------------------------\n",
    "    mu = mesh.MaterialCF({\"air\": mu_air, \"rotor\": mu_Fe, \"magnet.*\": mu_magnet}, default=0.001)\n",
    "    nu = 1/mu\n",
    "    sigma = mesh.MaterialCF({\"air\": sigma_air, \"rotor\": sigma_Fe, \"magnet.*\": sigma_magnet}, default=0.001)\n",
    "    rho = 1/sigma\n",
    "    \n",
    "    # ------------------------------------------------------------------------------\n",
    "    # --- fem\n",
    "    # ------------------------------------------------------------------------------\n",
    "    dir_A = \"inner\"\n",
    "\n",
    "    if periodic:\n",
    "        fes = Periodic(H1(mesh, order=order0, dirichlet=dir_A, complex=True), phase=[-1, -1])\n",
    "    else:\n",
    "        fes = H1(mesh, order=order0, dirichlet=dir_A, complex=True)\n",
    "    \n",
    "\n",
    "    u, v = fes.TnT()\n",
    "\n",
    "\n",
    "    sol = GridFunction(fes, \"A\")\n",
    "    gradsol = grad(sol)\n",
    "\n",
    "\n",
    "    # ------------------------------------------------------------------------------\n",
    "    # --- fields\n",
    "    # ------------------------------------------------------------------------------\n",
    "    B = CF((gradsol[1], -gradsol[0]), dims=(2,1))\n",
    "    H = nu * B\n",
    "    E = -1j * omega * sol\n",
    "    J = sigma * E\n",
    "\n",
    "\n",
    "    # ------------------------------------------------------------------------------\n",
    "    # --- formulation\n",
    "    # ------------------------------------------------------------------------------\n",
    "\n",
    "    fuck = cMesh_simple.B/np.pi\n",
    "    fuck =np.pi/ cMesh_simple.B\n",
    "    ah = BilinearForm(fes, symmetric=True)\n",
    "    if not polar:\n",
    "        ah += nu * grad(u) * grad(v) * dx\n",
    "        ah += 1j * omega * sigma * u * v * dx(\"rotor|magnet.*\")\n",
    "    else:\n",
    "        ah += getR()*np.pi/cMesh_simple.B * nu  * (grad(u)[1] * grad(v)[1] + 1/(getR() **2) * fuck**2 *grad(u)[0] * grad(v)[0]) * dx\n",
    "        #ah += getR()*np.pi/cMesh_simple.B * nu  * grad(u) * grad(v) * dx\n",
    "        ah += getR()*np.pi/cMesh_simple.B * 1j * omega * sigma * u * v * dx(\"rotor|magnet.*\")\n",
    "\n",
    "    # prec = Preconditioner(ah, type=\"direct\")\n",
    "\n",
    "    gradv = grad(v)\n",
    "    f = LinearForm(fes)\n",
    "    if excitation_type == \"BSF\":\n",
    "        if not polar:\n",
    "            f  += HBS * CF((gradv[1], -gradv[0])) * dx\n",
    "        else:\n",
    "            f  += getR()*np.pi/cMesh_simple.B * HBS * CF((-grad(v)[1], 1/getR() * fuck * grad(v)[0])) * dx\n",
    "    # if excitation_type == \"surfacecurrent\":\n",
    "    #     f  += K * v * ds(\"outer\")\n",
    "\n",
    "\n",
    "    ah.Assemble()\n",
    "    f.Assemble()\n",
    "\n",
    "\n",
    "    # BVP(bf = ah, lf= f, pre=prec, gf=sol, maxsteps=10).Do()\n",
    "    sol.vec.data = ah.mat.Inverse(freedofs=fes.FreeDofs()) * f.vec\n",
    "\n",
    "\n",
    "    if not polar:\n",
    "        losses_magnet = .5 * Integrate(InnerProduct(E, J), mesh, definedon=mesh.Materials(\"magnet.*\")).real\n",
    "        losses_rotor = .5 * Integrate(InnerProduct(E, J), mesh, definedon=mesh.Materials(\"rotor\")).real\n",
    "    else:\n",
    "        losses_magnet = .5 * Integrate((getR()*np.pi/cMesh_simple.B) * InnerProduct(E, J), mesh, definedon=mesh.Materials(\"magnet.*\")).real\n",
    "        losses_rotor = .5 * Integrate((getR()*np.pi/cMesh_simple.B) * InnerProduct(E, J), mesh, definedon=mesh.Materials(\"rotor\")).real\n",
    "\n",
    "    if periodic:\n",
    "        losses_magnet *= 2\n",
    "        losses_rotor *= 2\n",
    "\n",
    "    return sol, B, E, H, J, losses_magnet, losses_rotor\n",
    "\n",
    "A, B_A, E_A, H_A, J_A, losses_magnet_A, losses_rotor_A = solveFullWithA(mesh, order0, omega=omega, HBS=HBS)"
   ]
  },
  {
   "cell_type": "code",
   "execution_count": 38,
   "id": "885b992b",
   "metadata": {},
   "outputs": [
    {
     "data": {
      "application/vnd.jupyter.widget-view+json": {
       "model_id": "1b540153775d4aff8f454619777bf779",
       "version_major": 2,
       "version_minor": 0
      },
      "text/plain": [
       "WebGuiWidget(layout=Layout(height='500px', width='100%'), value={'gui_settings': {}, 'ngsolve_version': '6.2.2…"
      ]
     },
     "metadata": {},
     "output_type": "display_data"
    }
   ],
   "source": [
    "#animate(J, mesh, ti= np.linspace(0, 4*np.pi, 150), pause=0.01 )\n",
    "sceneJ_A  = Draw(J_A, mesh, animate=True, max = 500, min = -500)"
   ]
  },
  {
   "cell_type": "code",
   "execution_count": 39,
   "id": "075d7b4d",
   "metadata": {},
   "outputs": [
    {
     "name": "stdout",
     "output_type": "stream",
     "text": [
      "excitation type BSF\n"
     ]
    }
   ],
   "source": [
    "print(\"excitation type\", excitation_type)"
   ]
  },
  {
   "cell_type": "markdown",
   "id": "7716c69e",
   "metadata": {},
   "source": [
    "\n",
    "## $\\mathbf{T}$,$\\Phi$ - $\\Phi$ Formulation\n",
    "\n",
    "\\begin{align}\n",
    "\\int_{\\Omega_c} \\rho\\nabla\\times\\mathbf{T}\\cdot\\nabla\\times\\mathbf{T}' + j\\omega\\mu(\\mathbf{T}-\\nabla\\Phi)\\cdot(\\mathbf{T}'-\\nabla\\Phi') \\;d\\Omega = -\\int_\\Omega j\\omega\\mu(\\mathbf{H}_{BS})\\cdot(\\mathbf{T}'-\\nabla\\Phi')\\;d\\Omega\n",
    "\\end{align}\n",
    "\n",
    "with homogeneous Dirichlet boundaries on the inner and the outer\n",
    "\n",
    "\n",
    "In two dimensions ->  current vector potential\n",
    "\\begin{align}\n",
    "\\mathbf{J} = \\nabla\\times\\mathbf{T} =\\nabla\\times(T_x\\mathbf{e}_x + T_y\\mathbf{e}_y) = (\\partial_x T_x + \\partial_y T_y)\\mathbf{e}_z\n",
    "\\end{align}\n",
    "and therefore \n",
    "\n",
    "\\begin{align}\n",
    "\\int_{\\Omega_{2D}} \\rho\\nabla \\times \\mathbf{T} \\cdot \\nabla \\times \\mathbf{T}' + j\\omega\\mu (\\mathbf{T} - \\nabla\\Phi)\\cdot (\\mathbf{T}' - \\nabla\\Phi') \\;d\\Omega = -\\int_\\Omega j\\omega\\mu(\\mathbf{H}_{BS})\\cdot(\\mathbf{T}'-\\nabla\\Phi')\\;d\\Omega\n",
    "\n",
    "\\end{align}\n"
   ]
  },
  {
   "cell_type": "code",
   "execution_count": 40,
   "id": "ed70f836",
   "metadata": {},
   "outputs": [],
   "source": [
    "def solveFullWithTPhi(mesh, order0, omega, HBS, periodic = False):\n",
    "\n",
    "    # ------------------------------------------------------------------------------\n",
    "    # --- materials\n",
    "    # ------------------------------------------------------------------------------\n",
    "    mu = mesh.MaterialCF({\"air\": mu_air, \"rotor\": mu_Fe, \"magnet.*\": mu_magnet}, default=0.001)\n",
    "    nu = 1/mu\n",
    "    sigma = mesh.MaterialCF({\"air\": sigma_air, \"rotor\": sigma_Fe, \"magnet.*\": sigma_magnet}, default=0.001)\n",
    "    rho = 1/sigma\n",
    "    \n",
    "    # ------------------------------------------------------------------------------\n",
    "    # --- fem\n",
    "    # ------------------------------------------------------------------------------\n",
    "\n",
    "    dir_T  = \"interface|inner\"\n",
    "    dir_Phi  = \"outer\"\n",
    "\n",
    "\n",
    "    fesT = HCurl(mesh, order=order0, dirichlet=dir_T, complex=True, definedon=mesh.Materials(\"rotor|magnet.*\"))\n",
    "    fesPhi = H1(mesh, order=order0+1, dirichlet=dir_Phi, complex=True)\n",
    "\n",
    "    if periodic:\n",
    "        phase = [-1, -1]\n",
    "        fes = FESpace([Periodic(fesPhi,phase), Periodic(fesT, phase)])\n",
    "    else:\n",
    "        fes = FESpace([fesPhi, fesT])\n",
    "\n",
    "    trials = fes.TrialFunction()\n",
    "    tests = fes.TestFunction()\n",
    "\n",
    "\n",
    "    uPhi, vPhi = trials[0], tests[0]\n",
    "    uT, vT = trials[1], tests[1]\n",
    "\n",
    "    sol = GridFunction(fes, \"sol\")\n",
    "    Phi = sol.components[0]\n",
    "    T = sol.components[1]\n",
    "\n",
    "\n",
    "\n",
    "    # ------------------------------------------------------------------------------\n",
    "    # --- fields\n",
    "    # ------------------------------------------------------------------------------\n",
    "    H = HBS + T - grad(Phi)\n",
    "    B = mu * H \n",
    "    J = curl(T)\n",
    "    E = rho * J \n",
    "\n",
    "\n",
    "    # ------------------------------------------------------------------------------\n",
    "    # --- formulation\n",
    "    # ------------------------------------------------------------------------------\n",
    "\n",
    "    ah = BilinearForm(fes, symmetric=True)\n",
    "    ah += rho * curl(uT) * curl(vT) * dx(\"rotor|magnet.*\")\n",
    "    ah += 1j * omega * mu * (uT - grad(uPhi)) * (vT - grad(vPhi)) * dx(\"rotor|magnet.*\")\n",
    "    ah += 1j * omega * mu * (- grad(uPhi)) * (- grad(vPhi)) * dx(\"air\")\n",
    "\n",
    "    ah += 1e-3 * uPhi * vPhi * dx(\"rotor|magnet.*\")\n",
    "\n",
    "    # prec = Preconditioner(ah, type=\"direct\")\n",
    "\n",
    "\n",
    "\n",
    "    f = LinearForm(fes)\n",
    "    if excitation_type == \"BSF\":\n",
    "        f  += - 1j*omega * mu *  HBS * (vT - grad(vPhi)) * dx\n",
    "    if excitation_type == \"surfacecurrent\":\n",
    "        raise ValueError(\"surfacecurrent excitation for T Phi not implemented\")\n",
    "\n",
    "\n",
    "    ah.Assemble()\n",
    "    f.Assemble()\n",
    "\n",
    "\n",
    "    # BVP(bf = ah, lf= f, pre=prec, gf=sol, maxsteps=10).Do()\n",
    "    sol.vec.data = ah.mat.Inverse(freedofs=fes.FreeDofs()) * f.vec\n",
    "\n",
    "\n",
    "    losses_magnet = .5 * Integrate(InnerProduct(E, J), mesh, definedon=mesh.Materials(\"magnet.*\")).real\n",
    "    losses_rotor = .5 * Integrate(InnerProduct(E, J), mesh, definedon=mesh.Materials(\"rotor\")).real\n",
    "\n",
    "    if periodic:\n",
    "        losses_magnet *= 2\n",
    "        losses_rotor *= 2\n",
    "\n",
    "    return T, Phi, B, E, H, J, losses_magnet, losses_rotor\n",
    "\n",
    "T, Phi, B_TPhi, E_TPhi, H_TPhi, J_TPhi, losses_magnet_TPhi, losses_rotor_TPhi = solveFullWithTPhi(mesh, order0, omega, HBS=HBS)"
   ]
  },
  {
   "cell_type": "code",
   "execution_count": 41,
   "id": "89262df1",
   "metadata": {},
   "outputs": [
    {
     "data": {
      "application/vnd.jupyter.widget-view+json": {
       "model_id": "f1c1768f888e4dffb9abe1d8efe16f78",
       "version_major": 2,
       "version_minor": 0
      },
      "text/plain": [
       "WebGuiWidget(layout=Layout(height='500px', width='100%'), value={'gui_settings': {}, 'ngsolve_version': '6.2.2…"
      ]
     },
     "metadata": {},
     "output_type": "display_data"
    }
   ],
   "source": [
    "#animate(J, mesh, ti= np.linspace(0, 4*np.pi, 150), pause=0.01 )\n",
    "sceneJ_TPhi  = Draw(J_TPhi, mesh, animate=True, max = 500, min = -500)"
   ]
  },
  {
   "cell_type": "markdown",
   "id": "4f161cfe",
   "metadata": {},
   "source": [
    "## Quasi Periodic Boundaries\n",
    "\n",
    "boundaries in mesh have to be \\textit{identified} as well"
   ]
  },
  {
   "cell_type": "code",
   "execution_count": 42,
   "id": "14a16e9a",
   "metadata": {},
   "outputs": [
    {
     "name": "stdout",
     "output_type": "stream",
     "text": [
      "domains ('air', 'rotor', 'magnet_top')\n",
      "boundaries {'periodic_rotor', 'mag_rot', 'outer', 'interface', 'inner', 'periodic_air'}\n"
     ]
    },
    {
     "data": {
      "application/vnd.jupyter.widget-view+json": {
       "model_id": "7740a412f5ac433880d25c1051e9c851",
       "version_major": 2,
       "version_minor": 0
      },
      "text/plain": [
       "WebGuiWidget(layout=Layout(height='500px', width='100%'), value={'gui_settings': {}, 'ngsolve_version': '6.2.2…"
      ]
     },
     "metadata": {},
     "output_type": "display_data"
    },
    {
     "data": {
      "text/plain": [
       "BaseWebGuiScene"
      ]
     },
     "execution_count": 42,
     "metadata": {},
     "output_type": "execute_result"
    }
   ],
   "source": [
    "cMesh_periodic = fullGeoMagnet(r1, r2, r3, r4, phi_deg=45, maxh=maxh, maxhEdges=maxhEdges, periodic=True)\n",
    "mesh_periodic = cMesh_periodic.mesh\n",
    "\n",
    "\n",
    "\n",
    "print(\"domains\", mesh_periodic.GetMaterials())\n",
    "print(\"boundaries\", set(mesh_periodic.GetBoundaries()))\n",
    "\n",
    "Draw(mesh_periodic)"
   ]
  },
  {
   "cell_type": "markdown",
   "id": "4832cb43",
   "metadata": {},
   "source": [
    "### $\\mathbf{A}$ Formulation"
   ]
  },
  {
   "cell_type": "code",
   "execution_count": 43,
   "id": "55bc38b2",
   "metadata": {},
   "outputs": [],
   "source": [
    "\n",
    "A, B_A_per, E_A_per, H_A_per, J_A_per, \\\n",
    "    losses_magnet_A_per, losses_rotor_A_per \\\n",
    "    = solveFullWithA(mesh_periodic, order0, omega=omega, HBS=HBS, periodic=True)"
   ]
  },
  {
   "cell_type": "code",
   "execution_count": 44,
   "id": "33bf6c8e",
   "metadata": {},
   "outputs": [
    {
     "data": {
      "application/vnd.jupyter.widget-view+json": {
       "model_id": "d2be7474b55e4b76a4feea10a4c52a7f",
       "version_major": 2,
       "version_minor": 0
      },
      "text/plain": [
       "WebGuiWidget(layout=Layout(height='500px', width='100%'), value={'gui_settings': {}, 'ngsolve_version': '6.2.2…"
      ]
     },
     "metadata": {},
     "output_type": "display_data"
    }
   ],
   "source": [
    "sceneJ_APer = Draw(J_A_per, mesh_periodic, max = 500, min = -500)"
   ]
  },
  {
   "cell_type": "markdown",
   "id": "4b93a3b3",
   "metadata": {},
   "source": [
    "## $\\mathbf{T}$,$\\Phi$ - $\\Phi$ Formulation"
   ]
  },
  {
   "cell_type": "code",
   "execution_count": 45,
   "id": "58eef8ef",
   "metadata": {},
   "outputs": [],
   "source": [
    "T_per, Phi_per, B_TPhi_per, E_TPhi_per, \\\n",
    "    H_TPhi_per, J_TPhi_per, \\\n",
    "    losses_magnet_TPhi_per, losses_rotor_TPhi_per \\\n",
    "    = solveFullWithTPhi(mesh_periodic, order0, omega, HBS=HBS, periodic=True)"
   ]
  },
  {
   "cell_type": "code",
   "execution_count": 46,
   "id": "d304d944",
   "metadata": {},
   "outputs": [
    {
     "data": {
      "application/vnd.jupyter.widget-view+json": {
       "model_id": "6a9e7f3f62cd4ef39c30f2fd236e8eba",
       "version_major": 2,
       "version_minor": 0
      },
      "text/plain": [
       "WebGuiWidget(layout=Layout(height='500px', width='100%'), value={'gui_settings': {}, 'ngsolve_version': '6.2.2…"
      ]
     },
     "metadata": {},
     "output_type": "display_data"
    }
   ],
   "source": [
    "sceneJ_TPhi  = Draw(J_TPhi_per, mesh_periodic, animate=True, max = 500, min = -500)"
   ]
  },
  {
   "cell_type": "markdown",
   "id": "d13a55b1",
   "metadata": {},
   "source": [
    "## Straight Model"
   ]
  },
  {
   "cell_type": "markdown",
   "id": "226bc189",
   "metadata": {},
   "source": [
    "### Biot Savart field"
   ]
  },
  {
   "cell_type": "code",
   "execution_count": 47,
   "id": "5d69562e",
   "metadata": {},
   "outputs": [
    {
     "data": {
      "application/vnd.jupyter.widget-view+json": {
       "model_id": "dd27c355e8294d9db2de9b4e97ab1f18",
       "version_major": 2,
       "version_minor": 0
      },
      "text/plain": [
       "WebGuiWidget(layout=Layout(height='500px', width='100%'), value={'gui_settings': {}, 'ngsolve_version': '6.2.2…"
      ]
     },
     "metadata": {},
     "output_type": "display_data"
    },
    {
     "data": {
      "text/plain": [
       "BaseWebGuiScene"
      ]
     },
     "execution_count": 47,
     "metadata": {},
     "output_type": "execute_result"
    }
   ],
   "source": [
    "HBS_polar = getExcitatation(excitation_type, polar_coordinates=True)\n",
    "\n",
    "#HBS_polar = HBS_singleConductor_polar(1, (0, r2))\n",
    "HBS_full = getExcitatation(excitation_type, polar_coordinates=False)\n",
    "Draw(HBS_polar, mesh_simple)\n"
   ]
  },
  {
   "cell_type": "markdown",
   "id": "21b23a61",
   "metadata": {},
   "source": [
    "### $\\mathbf{A}$ Formulation\n",
    "\n",
    "\\begin{align*}\n",
    "\\int_\\Omega \\nu\\nabla\\times\\mathbf{A}\\cdot\\nabla\\times\\mathbf{A}' + j\\omega\\sigma\\mathbf{A}\\cdot\\mathbf{A}' \\;d\\Omega = \\int_\\Omega\\mathbf{H}_{BS}\\cdot\\nabla\\times\\mathbf{A}'\\;d\\Omega\n",
    "\\end{align*}\n",
    "\n",
    "with homogeneous Dirichlet boundaries on the inner and the outer\n",
    "\n",
    "\n",
    "In two dimensions polar coodinates -> single component magnetic vector potential\n",
    "\\begin{align*}\n",
    "\\mathbf{A} = u(\\varphi, r) \\mathbf{e}_z \\text{ and } \\mathbf{B} = \\nabla\\times\\mathbf{A} =  -\n",
    "\\partial_r u \\mathbf{e}_\\varphi + \\frac{1}{r}\\partial_\\varphi u\\mathbf{e}_r\n",
    "\\end{align*}\n",
    "and therefore \n",
    "\n",
    "\\begin{align*}\n",
    "\\int_{\\Omega_{2D}} \\nu\n",
    "\\begin{pmatrix}1&0\\\\0&r^{-2}\n",
    "\\end{pmatrix}\n",
    "\\nabla u\\cdot \\nabla u' r + j\\omega\\sigma u\\cdot u' r \\;d\\Omega = \\int_{\\Omega_{2D}}\\widetilde{\\mathbf{H}_{BS}}\\cdot \n",
    "(-\\partial_r u' \\mathbf{e}_\\varphi + \\frac{1}{r}\\partial_\\varphi u'\\mathbf{e}_r)r\\;d\\Omega\n",
    "\n",
    "\\end{align*}\n",
    "\n",
    "and the transformation of the Biot-Savart field $\\widetilde{\\mathbf{H}_{BS}}$\n",
    "\\begin{align*}\n",
    "\\widetilde{\\mathbf{H}_{BS}} = \\begin{pmatrix}r^{-1}\\sin(\\varphi)& -r^{-1}\\cos(\\varphi)\\\\ \\cos(\\varphi)& \\sin(\\varphi)\\end{pmatrix}\\mathbf{H}_{BS}(r\\cos(\\varphi), r\\sin(\\varphi))\n",
    "\\end{align*}\n"
   ]
  },
  {
   "cell_type": "code",
   "execution_count": 49,
   "id": "015e1eec",
   "metadata": {},
   "outputs": [
    {
     "name": "stdout",
     "output_type": "stream",
     "text": [
      "47.61904761904761\n",
      "int_original  0.036613831735526695\n",
      "int_straight 4.9609929882066685e-18\n",
      "ratio 7380343375321338.0\n"
     ]
    }
   ],
   "source": [
    "\n",
    "print(1/(cMesh_simple.B/np.pi))\n",
    "#print(Integrate(HBS_full.Norm(), mesh_periodic))\n",
    "f = CF((x, 0))\n",
    "f = CF((1, 0))\n",
    "f2 = CF((getR()*cos(getPhi()), 0))\n",
    "f2 = CF((1, 0))\n",
    "\n",
    "f = HBS_full\n",
    "f2 = getExcitatation(excitation_type, polar_coordinates=True)\n",
    "a = Integrate(f.Norm(), mesh_periodic, order=10)\n",
    "b = Integrate((getR()*np.pi/cMesh_simple.B) * (f2).Norm(), mesh_simple, order=10)\n",
    "print(\"int_original \", a)\n",
    "print(\"int_straight\", b)\n",
    "\n",
    "HBS_polar = getExcitatation(excitation_type, polar_coordinates=True)\n",
    "print(\"ratio\", a/b)\n"
   ]
  },
  {
   "cell_type": "code",
   "execution_count": 50,
   "id": "9a59899c",
   "metadata": {},
   "outputs": [
    {
     "name": "stdout",
     "output_type": "stream",
     "text": [
      "l,mag 3.4586115327030766e-05\n",
      "l,mag, polar 2.651196366055905e-40\n",
      "1.3045474778800847e+35\n",
      "l,rot 1.4595788057063392e-05\n",
      "l,rot, polar 1.3050862449450012e-39\n",
      "1.1183772807044249e+34\n"
     ]
    }
   ],
   "source": [
    "# transformation of the Biot-Savart field\n",
    "#Trafo = CF((1/r*sin(phi), -1/r*cos(phi), cos(phi), sin(phi)), dims=(2, 2))\n",
    "\n",
    "\n",
    "A, B_A_per, E_A_per, H_A_per, J_A_per, \\\n",
    "    losses_magnet_A_per, losses_rotor_A_per \\\n",
    "    = solveFullWithA(mesh_periodic, order0, omega=omega, HBS=HBS, periodic=True, polar=False)\n",
    "\n",
    "A, B_A_simple, E_A_simple, H_A_simple, J_A_simple, \\\n",
    "    losses_magnet_A_simple, losses_rotor_A_simple \\\n",
    "    = solveFullWithA(mesh_simple, order0, omega=omega, HBS= HBS_polar, periodic=True, polar=True)\n",
    "\n",
    "\n",
    "print(\"l,mag\", losses_magnet_A_per)\n",
    "print(\"l,mag, polar\", losses_magnet_A_simple)\n",
    "\n",
    "print(losses_magnet_A_per/losses_magnet_A_simple)\n",
    "\n",
    "print(\"l,rot\", losses_rotor_A_per)\n",
    "print(\"l,rot, polar\", losses_rotor_A_simple)\n",
    "print(losses_rotor_A_per/losses_rotor_A_simple)\n"
   ]
  },
  {
   "cell_type": "code",
   "execution_count": 51,
   "id": "d021bc56",
   "metadata": {},
   "outputs": [
    {
     "data": {
      "application/vnd.jupyter.widget-view+json": {
       "model_id": "f40f4af8dbc34e5ba0a816ac9edfc4e4",
       "version_major": 2,
       "version_minor": 0
      },
      "text/plain": [
       "WebGuiWidget(layout=Layout(height='500px', width='100%'), value={'gui_settings': {}, 'ngsolve_version': '6.2.2…"
      ]
     },
     "metadata": {},
     "output_type": "display_data"
    }
   ],
   "source": [
    "sceneJ_ASimple = Draw(J_A_simple, mesh_simple)"
   ]
  },
  {
   "cell_type": "markdown",
   "id": "4fa05263",
   "metadata": {},
   "source": [
    "## Losses"
   ]
  },
  {
   "cell_type": "code",
   "execution_count": 52,
   "id": "d566bac6",
   "metadata": {},
   "outputs": [
    {
     "name": "stdout",
     "output_type": "stream",
     "text": [
      "Losses in the MAGNET\n",
      " \t\tA Formulation\t\t T Phi\n",
      "full \t\t34.774 \t\t\t 34.665\n",
      "periodic \t34.586 \t\t\t 34.668\n",
      "straight \t0.000 \t\t\t 0\n",
      "\n",
      "\n",
      "\n",
      "Losses in the Rotor\n",
      " \t\tA Formulation\t\t T Phi\n",
      "full \t\t14.593 \t\t\t 14.601\n",
      "periodic \t14.596 \t\t\t 14.603\n",
      "straight \t0.000 \t\t\t 0\n"
     ]
    }
   ],
   "source": [
    "print(f\"Losses in the MAGNET\")\n",
    "print(\" \\t\\tA Formulation\\t\\t T Phi\")\n",
    "\n",
    "print(f\"full \\t\\t{losses_magnet_A*1e6:0.3f} \\t\\t\\t {losses_magnet_TPhi*1e6:0.3f}\")\n",
    "print(f\"periodic \\t{losses_magnet_A_per*1e6:0.3f} \\t\\t\\t {losses_magnet_TPhi_per*1e6:0.3f}\")\n",
    "print(f\"straight \\t{losses_magnet_A_simple*1e6:0.3f} \\t\\t\\t {0}\")\n",
    "\n",
    "print(\"\\n\\n\")\n",
    "print(f\"Losses in the Rotor\")\n",
    "print(\" \\t\\tA Formulation\\t\\t T Phi\")\n",
    "\n",
    "print(f\"full \\t\\t{losses_rotor_A*1e6:0.3f} \\t\\t\\t {losses_rotor_TPhi*1e6:0.3f}\")\n",
    "print(f\"periodic \\t{losses_rotor_A_per*1e6:0.3f} \\t\\t\\t {losses_rotor_TPhi_per*1e6:0.3f}\")\n",
    "print(f\"straight \\t{losses_rotor_A_simple*1e6:0.3f} \\t\\t\\t {0}\")\n",
    "\n"
   ]
  },
  {
   "cell_type": "markdown",
   "id": "ea4e4804",
   "metadata": {},
   "source": [
    "## PLAYGROUND\n",
    "\n",
    "\n",
    "\\begin{align*}\n",
    "\\begin{pmatrix}x\\\\y\\end{pmatrix}\\rightarrow\\begin{pmatrix}\\varphi\\\\r\\end{pmatrix}\\\\\n",
    "x \\in [0, \\pi]\\\\\n",
    "y \\in [r_1, r_4]\n",
    "\\end{align*}\n",
    "\n"
   ]
  },
  {
   "cell_type": "code",
   "execution_count": 53,
   "id": "d00116a0",
   "metadata": {},
   "outputs": [
    {
     "data": {
      "application/vnd.jupyter.widget-view+json": {
       "model_id": "037a80d1054e4861b70118a88d2154c9",
       "version_major": 2,
       "version_minor": 0
      },
      "text/plain": [
       "WebGuiWidget(layout=Layout(height='500px', width='100%'), value={'gui_settings': {}, 'ngsolve_version': '6.2.2…"
      ]
     },
     "metadata": {},
     "output_type": "display_data"
    },
    {
     "data": {
      "application/vnd.jupyter.widget-view+json": {
       "model_id": "635fa8599687404c840788abb341286a",
       "version_major": 2,
       "version_minor": 0
      },
      "text/plain": [
       "WebGuiWidget(layout=Layout(height='500px', width='100%'), value={'gui_settings': {}, 'ngsolve_version': '6.2.2…"
      ]
     },
     "metadata": {},
     "output_type": "display_data"
    },
    {
     "data": {
      "text/plain": [
       "BaseWebGuiScene"
      ]
     },
     "execution_count": 53,
     "metadata": {},
     "output_type": "execute_result"
    }
   ],
   "source": [
    "P = (r2, 0)\n",
    "field = -CF((P[0]-x, P[1]-y))\n",
    "\n",
    "#Draw(field, mesh, vectors=True)\n",
    "\n",
    "if False:\n",
    "    r = y +r2\n",
    "    phi = (x * np.pi/cMesh_simple.B + np.pi/2)\n",
    "    field_new = -CF((P[0]-r*cos(phi), P[1]-r*sin(phi)))\n",
    "    A = CF((-sin(phi), cos(phi), cos(phi), sin(phi)), dims=(2, 2))\n",
    "\n",
    "elif False:\n",
    "    r = y +r2\n",
    "    phi = x * np.pi/cMesh_simple.B + np.pi/2+np.pi\n",
    "    field_new = -CF((P[0]-r*cos(phi), P[1]-r*sin(phi)))\n",
    "    #A = CF((sin(phi), -cos(phi), -cos(phi), -sin(phi)), dims=(2, 2))\n",
    "    A = CF((-sin(phi), cos(phi), cos(phi), sin(phi)), dims=(2, 2))\n",
    "else:\n",
    "    r = y +r2\n",
    "    phi = -x * np.pi/cMesh_simple.B + np.pi/2\n",
    "    field_new = -CF((P[0]-r*cos(phi), P[1]-r*sin(phi)))\n",
    "    #A = CF((sin(phi), -cos(phi), -cos(phi), -sin(phi)), dims=(2, 2))\n",
    "    A = CF((1/r*sin(phi), -1/r*cos(phi), cos(phi), sin(phi)), dims=(2, 2))\n",
    "\n",
    "\n",
    "\n",
    "#Draw(phi, mesh_simple, vectors=True)\n",
    "#Draw(r, mesh_simple, vectors=True)\n",
    "Draw(field, mesh_periodic, vectors=True)\n",
    "Draw(A * field_new, mesh_simple, vectors=True)\n",
    "\n"
   ]
  },
  {
   "cell_type": "code",
   "execution_count": 54,
   "id": "4951d1c2",
   "metadata": {},
   "outputs": [
    {
     "data": {
      "text/plain": [
       "<ngsolve.fem.CoefficientFunction at 0x7facfdf60540>"
      ]
     },
     "execution_count": 54,
     "metadata": {},
     "output_type": "execute_result"
    }
   ],
   "source": [
    "a = CF((1, 0, 0, 1), dims=(2, 2))\n",
    "Det(a)"
   ]
  },
  {
   "cell_type": "code",
   "execution_count": 55,
   "id": "04262862",
   "metadata": {},
   "outputs": [],
   "source": [
    "from netgen.occ import *\n",
    "import numpy as np\n",
    "from ngsolve import *\n",
    "from ngsolve.webgui import Draw\n",
    "maxh = 1/10\n",
    "\n",
    "wp = WorkPlane()\n",
    "wp.MoveTo(0, 0.1)\n",
    "rec = wp.Rectangle(np.pi, 0.9).Face()\n",
    "geo = Glue([rec])\n",
    "mesh = Mesh(OCCGeometry(geo, dim=2).GenerateMesh(maxh=maxh))\n",
    "\n",
    "wp = WorkPlane()\n",
    "wp.MoveTo(-2, 0)\n",
    "rec = wp.Rectangle(4, 2).Face()\n",
    "wp.MoveTo(0, 0)\n",
    "outer = wp.Circle(1).Face()\n",
    "inner = wp.Circle(0.1).Face()\n",
    "geo = Glue([rec*(outer-inner)])\n",
    "mesh2 = Mesh(OCCGeometry(geo, dim=2).GenerateMesh(maxh=maxh))\n",
    "mesh2.Curve(3)\n",
    "\n",
    "r = y \n",
    "phi = x\n",
    "\n",
    "\n",
    "trafo_toxy = CF((r*cos(phi), r*sin(phi)), dims=(2,1))\n",
    "fes_toxy = VectorH1(mesh, order=2)\n",
    "gfu_toxy = GridFunction(fes_toxy)\n",
    "gfu_toxy.Set(trafo_toxy)\n",
    "#J_toxy = grad(gfu_toxy).trans\n",
    "#J_toxy = CF((cos(phi), -r*sin(phi), sin(phi), r*cos(phi)), dims=(2,2))\n",
    "#J_toxy = CF((-sin(phi), cos(phi), cos(phi), sin(phi)), dims=(2,2))\n",
    "#J_toxy = CF((cos(phi), sin(phi), -sin(phi), cos(phi)), dims=(2,2)).trans\n",
    "J_toxy = CF((trafo_toxy.Diff(r), trafo_toxy.Diff(phi)), dims=(2,2)).trans\n",
    "\n",
    "\n",
    "trafo_torphi = CF((sqrt(x**2+y**2), atan2(y, x)), dims=(2,1))\n",
    "fes_torphi = VectorH1(mesh, order=2)\n",
    "gfu_torphi = GridFunction(fes_torphi)\n",
    "gfu_torphi.Set(trafo_torphi)\n",
    "J_torphi = grad(gfu_torphi).trans\n",
    "J_torphi = CF((trafo_torphi.Diff(x), trafo_torphi.Diff(y)), dims=(2,2)).trans\n",
    "\n",
    "\n",
    "HBSxy = lambda xy :  1/(sqrt((x-xy[0])**2+(y-xy[1])**2 + 1e-12)**2) * CF((y-xy[1], -x-xy[0]))"
   ]
  },
  {
   "cell_type": "code",
   "execution_count": 56,
   "id": "834f90a9",
   "metadata": {},
   "outputs": [
    {
     "name": "stdout",
     "output_type": "stream",
     "text": [
      "1.5550866575089293\n",
      "1.5550883635269412\n",
      "2.827433388230791\n",
      "2.8274136788331994\n"
     ]
    },
    {
     "data": {
      "application/vnd.jupyter.widget-view+json": {
       "model_id": "11fb8f3b6496434e9dd26270439163fa",
       "version_major": 2,
       "version_minor": 0
      },
      "text/plain": [
       "WebGuiWidget(layout=Layout(height='500px', width='100%'), value={'gui_settings': {}, 'ngsolve_version': '6.2.2…"
      ]
     },
     "metadata": {},
     "output_type": "display_data"
    },
    {
     "data": {
      "application/vnd.jupyter.widget-view+json": {
       "model_id": "be4b37afba8d412ebd85a62dad78fc01",
       "version_major": 2,
       "version_minor": 0
      },
      "text/plain": [
       "WebGuiWidget(layout=Layout(height='500px', width='100%'), value={'gui_settings': {}, 'ngsolve_version': '6.2.2…"
      ]
     },
     "metadata": {},
     "output_type": "display_data"
    },
    {
     "data": {
      "text/plain": [
       "BaseWebGuiScene"
      ]
     },
     "execution_count": 56,
     "metadata": {},
     "output_type": "execute_result"
    }
   ],
   "source": [
    "#J_toxy = CF((trafo_toxy.Diff(r), trafo_toxy.Diff(phi)), dims=(2,2)).trans\n",
    "print(Integrate(1, mesh2))\n",
    "print(Integrate(Det(J_toxy) * 1, mesh))\n",
    "\n",
    "print(Integrate(1, mesh, order=10))\n",
    "print(Integrate(Det(J_torphi) * 1, mesh2, order=10))\n",
    "\n",
    "# Draw(CF((r*cos(phi), r*sin(phi)))[1], mesh, deformation=trafo_toxy*1e6)\n",
    "# Draw(CF((x, y)) [1], mesh2)\n",
    "\n",
    "\n",
    "\n",
    "HBS_polar = getExcitatation(excitation_type, polar_coordinates=True)\n",
    "\n",
    "#HBS_polar = HBS_singleConductor_polar(1, (0, r2))\n",
    "HBS_full = getExcitatation(excitation_type, polar_coordinates=False)\n",
    "\n",
    "Draw(HBS_polar, mesh, deformation=trafo_toxy*1e6)\n",
    "Draw(HBS_full, mesh2)"
   ]
  },
  {
   "cell_type": "code",
   "execution_count": null,
   "id": "89ed932d",
   "metadata": {},
   "outputs": [
    {
     "data": {
      "application/vnd.jupyter.widget-view+json": {
       "model_id": "d74bfc71283f471984f2ee6de5fb2008",
       "version_major": 2,
       "version_minor": 0
      },
      "text/plain": [
       "WebGuiWidget(layout=Layout(height='500px', width='100%'), value={'gui_settings': {}, 'ngsolve_version': '6.2.2…"
      ]
     },
     "metadata": {},
     "output_type": "display_data"
    },
    {
     "data": {
      "application/vnd.jupyter.widget-view+json": {
       "model_id": "3e411d35f6924165b90626d428ae0388",
       "version_major": 2,
       "version_minor": 0
      },
      "text/plain": [
       "WebGuiWidget(layout=Layout(height='500px', width='100%'), value={'gui_settings': {}, 'ngsolve_version': '6.2.2…"
      ]
     },
     "metadata": {},
     "output_type": "display_data"
    },
    {
     "data": {
      "text/plain": [
       "BaseWebGuiScene"
      ]
     },
     "execution_count": 93,
     "metadata": {},
     "output_type": "execute_result"
    }
   ],
   "source": [
    "Draw(J_toxy/Det(J_toxy) * CF((0, -phi))/Norm(phi + 1e-13), mesh, vectors=True, deformation=trafo_toxy * 1e6)\n",
    "Draw( CF((y, -x))/sqrt(x**2+y**2), mesh2, vectors=True)\n",
    "\n",
    "#Draw( HBSxy((0,0)), mesh2, vectors=True)"
   ]
  },
  {
   "cell_type": "code",
   "execution_count": null,
   "id": "9579f347",
   "metadata": {},
   "outputs": [
    {
     "name": "stdout",
     "output_type": "stream",
     "text": [
      "1.5550883635269412\n",
      "1.5550866575089293\n",
      "0.6659999999999947\n",
      "0.6660000590246437\n",
      "1.0461503536453978\n",
      "1.04615044864557\n",
      "0.896257285749054\n",
      "0.6660000590246464\n"
     ]
    }
   ],
   "source": [
    "\n",
    "\n",
    "\n",
    "J = CF((cos(phi), -r*sin(phi), sin(phi), r*cos(phi)), dims=(2,2))\n",
    "\n",
    "\n",
    "Cof = (Inv(J)).trans\n",
    "\n",
    "Cof = Det(J) * Inv(J)\n",
    "\n",
    "print(Integrate(Det(J), mesh))\n",
    "print(Integrate(1, mesh2))\n",
    "\n",
    "print(Integrate(Det(J) * r * sin(phi), mesh, order=10))\n",
    "print(Integrate(y, mesh2, order=10))\n",
    "\n",
    "print(Integrate(Det(J)*r, mesh))\n",
    "print(Integrate(sqrt(x**2+y**2), mesh2))\n",
    "\n",
    "\n",
    "\n",
    "print(Integrate((Cof * CF((r*sin(phi), 0))).Norm(), mesh))\n",
    "print(Integrate((CF((y, 0))).Norm(), mesh2))\n",
    "\n",
    "\n"
   ]
  },
  {
   "cell_type": "code",
   "execution_count": null,
   "id": "ad690225",
   "metadata": {},
   "outputs": [
    {
     "data": {
      "application/vnd.jupyter.widget-view+json": {
       "model_id": "a3d4acc88ecf46529f55a70eceb16f80",
       "version_major": 2,
       "version_minor": 0
      },
      "text/plain": [
       "WebGuiWidget(layout=Layout(height='500px', width='100%'), value={'gui_settings': {}, 'ngsolve_version': '6.2.2…"
      ]
     },
     "metadata": {},
     "output_type": "display_data"
    },
    {
     "data": {
      "text/plain": [
       "BaseWebGuiScene"
      ]
     },
     "execution_count": 94,
     "metadata": {},
     "output_type": "execute_result"
    }
   ],
   "source": [
    "Draw(CF((x, 0)), mesh, vectors=True, deformation=deform)"
   ]
  }
 ],
 "metadata": {
  "kernelspec": {
   "display_name": "Python 3 (ipykernel)",
   "language": "python",
   "name": "python3"
  },
  "language_info": {
   "codemirror_mode": {
    "name": "ipython",
    "version": 3
   },
   "file_extension": ".py",
   "mimetype": "text/x-python",
   "name": "python",
   "nbconvert_exporter": "python",
   "pygments_lexer": "ipython3",
   "version": "3.10.12"
  }
 },
 "nbformat": 4,
 "nbformat_minor": 5
}
