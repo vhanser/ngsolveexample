{
 "cells": [
  {
   "cell_type": "code",
   "execution_count": 1,
   "metadata": {},
   "outputs": [],
   "source": [
    "from ngsolve import *\n",
    "from netgen.occ import *\n",
    "from ngsolve.webgui import Draw\n",
    "import datetime"
   ]
  },
  {
   "cell_type": "code",
   "execution_count": 2,
   "metadata": {},
   "outputs": [],
   "source": [
    "def animate(x, mesh, sleep = 0.1, periods=1, stepsperPeriod=50, animate_domains = None, *args, **kwargs):\n",
    "    import time\n",
    "    import numpy as np\n",
    "\n",
    "    ti = np.linspace(0, np.pi*2*periods, stepsperPeriod*periods)\n",
    "    t_par = Parameter(0)\n",
    "\n",
    "    if animate_domains != None:\n",
    "        animate_CF = mesh.MaterialCF({dom[0] :exp(1j*t_par*dom[1]) for dom in animate_domains}, default=1)\n",
    "    else:\n",
    "        animate_CF = exp(1j*t_par)\n",
    "\n",
    "    scene = Draw(x.real + x.imag*animate_CF.real, mesh, *args, **kwargs)\n",
    "    for t in ti:\n",
    "        t_par.Set(t)\n",
    "        scene.Redraw()\n",
    "        time.sleep(sleep)"
   ]
  },
  {
   "cell_type": "code",
   "execution_count": 3,
   "metadata": {},
   "outputs": [
    {
     "name": "stdout",
     "output_type": "stream",
     "text": [
      "13\n"
     ]
    }
   ],
   "source": [
    "print(datetime.datetime.today().day)"
   ]
  },
  {
   "cell_type": "code",
   "execution_count": 7,
   "metadata": {},
   "outputs": [
    {
     "name": "stdout",
     "output_type": "stream",
     "text": [
      "24\n"
     ]
    },
    {
     "data": {
      "application/vnd.jupyter.widget-view+json": {
       "model_id": "3d09c1f251d34dce92ec2f96790ba638",
       "version_major": 2,
       "version_minor": 0
      },
      "text/plain": [
       "WebGuiWidget(layout=Layout(height='500px', width='100%'), value={'gui_settings': {'Objects': {'Wireframe': Fal…"
      ]
     },
     "metadata": {},
     "output_type": "display_data"
    }
   ],
   "source": [
    "wp = WorkPlane()\n",
    "\n",
    "\n",
    "triag = lambda width, height, shift : wp.MoveTo(0, shift).LineTo(width/2, shift).LineTo(0, shift+height).LineTo(-width/2, shift).Close().Face()\n",
    "\n",
    "trunc_height = 1\n",
    "trunc_width = 0.2\n",
    "\n",
    "# trunk\n",
    "tree = wp.MoveTo(-trunc_width/2, 0).Rectangle(trunc_width, trunc_height).Face()\n",
    "tree.name=\"trunk\"\n",
    "\n",
    "\n",
    "widths = [3, 2.5, 1.9, 1.3, 1]\n",
    "heights = [1, 0.8, 0.7, 0.6, 0.5]\n",
    "shifts = [trunc_height+ s for s in [0.0, 0.5, .9, 1.4, 1.8]]\n",
    "\n",
    "\n",
    "# branches\n",
    "tops = [triag(w, h, s) for w, h, s in zip(widths, heights, shifts)]\n",
    "def rename(t, n): \n",
    "    t.name = n\n",
    "[rename(t, \"top\") for t in tops]\n",
    "\n",
    "# balls\n",
    "ball = lambda x, y, r : wp.MoveTo(x, y).Circle(r).Face()\n",
    "xyrc_balls = [\n",
    "                (0.1, 2, 0.05, 0.1), \n",
    "                (-0.9, 1.2, 0.07, 0.3 + 0.1j), \n",
    "                (0, 3, 0.05, 0.4),\n",
    "                (-.2, 1.5, 0.06, 0.4 + 0.2j), \n",
    "                (.1, 2.5, 0.07, 0.8 + 0.2j),\n",
    "                (-.7, 1.7, 0.09, 0.5 + 0.5j),\n",
    "                (0.8, 1.2, 0.09, 0.3 + 0.2j)]\n",
    "balls = [ball(x, y, r) for x, y, r, _ in xyrc_balls]\n",
    "[rename(balls[i], f\"ball{i}\") for i in range(len(balls))]\n",
    "\n",
    "\n",
    "  \n",
    "# candles\n",
    "width_candle = 0.05\n",
    "height_candle = 0.2\n",
    "color_candle = 1\n",
    "\n",
    "candle = lambda x, y : wp.MoveTo(x, y).Rectangle(width_candle, height_candle).Face()\n",
    "xyc_candles = [ (1.1, 1.55, color_candle), \n",
    "                (1.4, 1.05, color_candle), \n",
    "                (0.5, 1.4, color_candle), \n",
    "                (0.7, 1.95, color_candle), \n",
    "                (-.3, 2, color_candle), \n",
    "                (-.5, 1.34, color_candle), \n",
    "                (0.1, 3, color_candle), \n",
    "                (-.1, 1.1 , color_candle), \n",
    "                (-1.1, 1.1 , color_candle), \n",
    "                (-1.4, 1.05 , color_candle), \n",
    "                (-1.2, 1.15 , color_candle), \n",
    "                (-1.15, 1.55 , color_candle), \n",
    "                (0.3, 1.55 , color_candle), \n",
    "                (0.35, 1.05 , color_candle), \n",
    "                (-0.45, 1.75 , color_candle), \n",
    "                (-0.55, 2.1 , color_candle), \n",
    "                (-0.5, 2.5 , color_candle), \n",
    "                (-0.1, 2.4 , color_candle), \n",
    "                (0.4, 2.5 , color_candle), \n",
    "                (-0.2, 3. , color_candle), \n",
    "                (-0.8, 2. , color_candle), \n",
    "                (-0, 1.6 , color_candle), \n",
    "                (-0.7, 1.1 , color_candle), \n",
    "                (0-width_candle/2, 3.25 , color_candle), \n",
    "                ]\n",
    "print(len(xyc_candles))\n",
    "candles = [candle(x, y) for x, y, _ in xyc_candles]\n",
    "[rename(candles[i], f\"candle{i}\") for i in range(len(candles))]\n",
    "\n",
    "# flames\n",
    "today = datetime.datetime.today()\n",
    "flame_diameter = width_candle\n",
    "xyc_flames = xyc_candles.copy()\n",
    "if today.month == 12:\n",
    "    xyc_flames = xyc_flames[:today.day]\n",
    "    flames = [ball(x+width_candle/2, y + height_candle+width_candle/2, flame_diameter) for x, y, _ in xyc_flames]\n",
    "    [rename(flames[i], f\"flame{i}\") for i in range(len(flames))]\n",
    "    mesh = Mesh(OCCGeometry(Glue([tree, Fuse(tops)- Fuse(balls) - Fuse(candles) - Fuse(flames), Fuse(balls), Fuse(candles), Fuse(flames)] ), dim = 2).GenerateMesh(maxh=5))\n",
    "\n",
    "else:\n",
    "    mesh = Mesh(OCCGeometry(Glue([tree, Fuse(tops)- Fuse(balls) - Fuse(candles) , Fuse(balls), Fuse(candles)] ), dim = 2).GenerateMesh(maxh=5))\n",
    "\n",
    "\n",
    "\n",
    "\n",
    "\n",
    "\n",
    "settings = {\"Objects\":{\"Wireframe\":False, \"Edges\":False}, \"Colormap\":{\"autoscale\":False, \"min\": 0.1, \"max\":1, \"ncolors\":100}}\n",
    "colors = {\"top\":0.6, \"trunk\":0.86}\n",
    "for i in range(len(balls)):\n",
    "    colors.update({f\"ball{i}\":xyrc_balls[i][3]})\n",
    "for i in range(len(candles)):\n",
    "    colors.update({f\"candle{i}\":xyc_candles[i][2]})\n",
    "\n",
    "\n",
    "\n",
    "if today.month == 12:\n",
    "    for i in range(len(flames)):\n",
    "        colors.update({f\"flame{i}\":0.85 + 1j*0.05 })\n",
    "\n",
    "# animate(mesh.MaterialCF(colors, default=0), mesh, sleep=0.1, min = 0,max = 1, settings=settings, animate_domains=[\"ball.*\"], stepsperPeriod=20, periods=5)\n",
    "animate(mesh.MaterialCF(colors, default=0), mesh, sleep=0.1, min = 0,max = 1, settings=settings, animate_domains=[(\"flame.*\", 3), (\"ball.*\", 0.7)], stepsperPeriod=20, periods=5)\n"
   ]
  },
  {
   "cell_type": "code",
   "execution_count": null,
   "metadata": {},
   "outputs": [],
   "source": []
  },
  {
   "cell_type": "code",
   "execution_count": null,
   "metadata": {},
   "outputs": [],
   "source": []
  }
 ],
 "metadata": {
  "kernelspec": {
   "display_name": "Python 3 (ipykernel)",
   "language": "python",
   "name": "python3"
  },
  "language_info": {
   "codemirror_mode": {
    "name": "ipython",
    "version": 3
   },
   "file_extension": ".py",
   "mimetype": "text/x-python",
   "name": "python",
   "nbconvert_exporter": "python",
   "pygments_lexer": "ipython3",
   "version": "3.10.12"
  }
 },
 "nbformat": 4,
 "nbformat_minor": 2
}
