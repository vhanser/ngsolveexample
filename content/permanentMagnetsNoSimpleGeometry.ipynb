{
 "cells": [
  {
   "cell_type": "code",
   "execution_count": 1,
   "id": "90300cec",
   "metadata": {},
   "outputs": [],
   "source": [
    "from ngsolve import *\n",
    "from ngsolve.webgui import Draw\n",
    "import numpy as np"
   ]
  },
  {
   "cell_type": "markdown",
   "id": "9b11e874",
   "metadata": {},
   "source": [
    "# ngSolve Example for the Calculation of Eddy Current Losses in Permanet Magnets"
   ]
  },
  {
   "cell_type": "markdown",
   "id": "dafa24a8",
   "metadata": {},
   "source": [
    "## Introduction\n",
    "\n",
    "In this example the eddy current losses in a permanent magnet motor are calculated. \n",
    "\n",
    "\n",
    "1. full problem\n",
    "1. quasi-periodic boundaries\n"
   ]
  },
  {
   "cell_type": "markdown",
   "id": "7f85be5b",
   "metadata": {},
   "source": [
    "## Geometry\n",
    "\n",
    "In the first step the full geometry of the problem with two magnets attached to a cylindrical rotor is simulated. "
   ]
  },
  {
   "cell_type": "code",
   "execution_count": 2,
   "id": "8ff1fbcf",
   "metadata": {},
   "outputs": [
    {
     "name": "stdout",
     "output_type": "stream",
     "text": [
      "domains ('air', 'rotor', 'magnet_top', 'magnet_bottom')\n",
      "boundaries {'inner', 'outer', 'mag_rot', 'interface'}\n"
     ]
    },
    {
     "data": {
      "application/vnd.jupyter.widget-view+json": {
       "model_id": "c190c8a6b8b647f897a810a443a54a7f",
       "version_major": 2,
       "version_minor": 0
      },
      "text/plain": [
       "WebGuiWidget(layout=Layout(height='500px', width='100%'), value={'gui_settings': {}, 'ngsolve_version': '6.2.2…"
      ]
     },
     "metadata": {},
     "output_type": "display_data"
    },
    {
     "data": {
      "text/plain": [
       "BaseWebGuiScene"
      ]
     },
     "execution_count": 2,
     "metadata": {},
     "output_type": "execute_result"
    }
   ],
   "source": [
    "## mesh\n",
    "from permanentMagnetGeometry import  fullGeoMagnet\n",
    "from ngsolve.webgui import Draw\n",
    "\n",
    "\n",
    "r1, r2, r3, r4, phi_deg, maxh = 0.01, 0.02, 0.03, 0.032, 45, 0.001\n",
    "maxh = 0.1\n",
    "maxhEdges = 0.001\n",
    "\n",
    "order0 = 2\n",
    "\n",
    "cMesh = fullGeoMagnet(r1, r2, r3, r4, phi_deg=45, maxh=maxh, maxhEdges=maxhEdges, periodic=False)\n",
    "mesh = cMesh.mesh\n",
    "\n",
    "\n",
    "print(\"domains\", mesh.GetMaterials())\n",
    "print(\"boundaries\", set(mesh.GetBoundaries()))\n",
    "\n",
    "Draw(CF([0, 1, 2, 3]), mesh)\n"
   ]
  },
  {
   "cell_type": "markdown",
   "id": "dbf65da5",
   "metadata": {},
   "source": [
    "## Biot-Savart Field $H_{BS}$ of a Single Conductor\n",
    "The Biot-Savart field of a filament current is derived from Ampere's law and yields \n",
    "\\begin{align}\n",
    "    \\mathbf{H}_{BS} = \\frac{I_0}{2\\pi||\\mathbf{r}||}\\mathbf{e}_{\\varphi}\n",
    "\\end{align}\n",
    "for the magentic field strength $H_{BS}$ in the distance $\\mathbf{r}$ form a filament current. \n",
    "\n",
    "\n",
    "### Excitation of the Problem\n",
    "\n",
    "Further, the excitation of the problem is given by a three-phase current network\n",
    "\\begin{align*}\n",
    "i_u &= i_0 e^{j(\\omega t)}\\\\\n",
    "i_v &= i_0 e^{j(\\omega t + 120^\\circ)}\\\\\n",
    "i_w &= i_0 e^{j(\\omega t - 120^\\circ)}\\\\\n",
    "\\end{align*}\n",
    "surrounding the motor. "
   ]
  },
  {
   "cell_type": "code",
   "execution_count": 3,
   "id": "7c284f50",
   "metadata": {},
   "outputs": [
    {
     "data": {
      "application/vnd.jupyter.widget-view+json": {
       "model_id": "fdba598fbfda4c97b9c9bad963a2b2a8",
       "version_major": 2,
       "version_minor": 0
      },
      "text/plain": [
       "WebGuiWidget(layout=Layout(height='500px', width='100%'), value={'gui_settings': {}, 'ngsolve_version': '6.2.2…"
      ]
     },
     "metadata": {},
     "output_type": "display_data"
    },
    {
     "data": {
      "text/plain": [
       "BaseWebGuiScene"
      ]
     },
     "execution_count": 3,
     "metadata": {},
     "output_type": "execute_result"
    }
   ],
   "source": [
    "\n",
    "# ------------------------------------------------------------------------------\n",
    "# --- excitation\n",
    "# ------------------------------------------------------------------------------\n",
    "f = 50\n",
    "omega = 2*np.pi * f\n",
    "\n",
    "\n",
    "def HBS_singleConductor(I0, xy_center, dim=2):\n",
    "\n",
    "    # shifted coordninates\n",
    "    x_s = x - xy_center[0]\n",
    "    y_s = y - xy_center[1]\n",
    "\n",
    "    r = sqrt(x_s ** 2 + y_s **2)\n",
    "\n",
    "    if dim == 2:\n",
    "        e_phi = CF((y_s, -x_s))/(r+1e-15)\n",
    "    else:\n",
    "        e_phi = e_phi = CF((y_s, -x_s, 0))/(r+1e-15)\n",
    "\n",
    "    return I0/(2*np.pi*r + 1e-15) * e_phi\n",
    "\n",
    "\n",
    "# angles\n",
    "N_BS = 3\n",
    "phi_i = [i * 2*np.pi/N_BS for i in range(N_BS)]\n",
    "\n",
    "# centeres of the filament currents\n",
    "points_pos = [(r4 * cos(phi), r4*sin(phi)) for phi in phi_i]\n",
    "H_BS_i = [HBS_singleConductor(1 * np.exp(1j * phi), xy) for xy, phi in zip(points_pos, phi_i)]\n",
    "\n",
    "\n",
    "\n",
    "points_neg = [(r4 * cos(phi + np.pi), r4*sin(phi+ np.pi)) for phi in phi_i]\n",
    "H_BS_i += [HBS_singleConductor(-1 * np.exp(1j * phi), xy) for xy, phi in zip(points_neg, phi_i)]\n",
    "\n",
    "HBS = sum(H_BS_i)\n",
    "\n",
    "\n",
    "# draw them on the mesh\n",
    "colors = [\"blue\", \"red\", \"yellow\"]\n",
    "points = [{ \"type\": \"points\", \"position\": [points_pos[i][0], points_pos[i][1], 0, points_neg[i][0], points_neg[i][1], 0,], \"size\":20, \"color\": colors[i%N_BS], \"name\": \"points_u\"} for i in range(N_BS)]    \n",
    "# points_u = { \"type\": \"points\", \"position\": [points_pos[0][0], points_pos[0][1], 0, points_neg[0][0], points_neg[0][1], 0,], \"size\":20, \"color\": \"blue\", \"name\": \"points_u\"}\n",
    "# points_v = { \"type\": \"points\", \"position\": [points_pos[1][0], points_pos[1][1], 0, points_neg[1][0], points_neg[1][1], 0,], \"size\":20, \"color\": \"red\", \"name\": \"points_v\"}\n",
    "# points_w = { \"type\": \"points\", \"position\": [points_pos[2][0], points_pos[2][1], 0, points_neg[2][0], points_neg[2][1], 0,], \"size\":20, \"color\": \"yellow\", \"name\": \"points_w\"}\n",
    "Draw(mesh, objects=points)\n"
   ]
  },
  {
   "cell_type": "code",
   "execution_count": 4,
   "id": "9b3cf37a",
   "metadata": {},
   "outputs": [],
   "source": [
    "\n",
    "# ------------------------------------------------------------------------------\n",
    "# --- materials\n",
    "# ------------------------------------------------------------------------------\n",
    "sigma_Fe = 2e6\n",
    "sigma_air = 0\n",
    "sigma_magnet = 556e3\n",
    "\n",
    "mu_air = 4e-7*np.pi\n",
    "mu_Fe = 1000 * mu_air\n",
    "mu_magnet = 1.05 * mu_air\n"
   ]
  },
  {
   "cell_type": "markdown",
   "id": "3f153cac",
   "metadata": {},
   "source": [
    "\n",
    "## $\\mathbf{A}$ Formulation\n",
    "\n",
    "Based on Maxwell's equation of the eddy current problem in the time harmonic case\n",
    "\\begin{align*}\n",
    "\\nabla\\times\\mathbf{H} &= \\mathbf{J}\\\\\n",
    "\\nabla\\times\\mathbf{E} &= -j\\omega \\mathbf{B}\\\\\n",
    "\\nabla\\cdot\\mathbf{B} &= 0\n",
    "\\end{align*}\n",
    "and the related constitutive relations $\\mathbf{H} = \\nu \\mathbf{B}, \\mathbf{J} = \\sigma\\mathbf{E}$ the weak form of the boundary value problem with the magnetic vector Potential $\\mathbf{A}$\n",
    "\n",
    "\\begin{align*}\n",
    "\\int_\\Omega \\nu\\nabla\\times\\mathbf{A}\\cdot\\nabla\\times\\mathbf{A}' + j\\omega\\sigma\\mathbf{A}\\cdot\\mathbf{A}' \\;d\\Omega = \\int_\\Omega\\mathbf{H}_{BS}\\cdot\\nabla\\times\\mathbf{A}'\\;d\\Omega\n",
    "\\end{align*}\n",
    "\n",
    "with homogeneous Dirichlet boundaries on the inner and the outer boundary can be derived. \n",
    "\n",
    "\n",
    "In two dimensions the magnetic vector potential can be represented by a single component magnetic vector potential $u(x, y)$\n",
    "\\begin{align*}\n",
    "\\mathbf{A} = u \\mathbf{e}_z \\text{ and } \\mathbf{B} = \\nabla\\times\\mathbf{A} = \\partial_y u\\mathbf{e}_x - \\partial_x u\\mathbf{e}_x\n",
    "\\end{align*}\n",
    "which yields the boundary value problem in two dimensions\n",
    "\n",
    "\\begin{align*}\n",
    "\\int_{\\Omega_{2D}} \\nu\\nabla u\\cdot \\nabla u' + j\\omega\\sigma u\\cdot u' \\;d\\Omega = \\int_{\\Omega_{2D}}\\mathbf{H}_{BS}\\cdot (\\partial_y u'\\mathbf{e}_x - \\partial_x u'\\mathbf{e}_x)\\;d\\Omega.\n",
    "\\end{align*}\n"
   ]
  },
  {
   "cell_type": "code",
   "execution_count": 5,
   "id": "5b113188",
   "metadata": {},
   "outputs": [
    {
     "name": "stdout",
     "output_type": "stream",
     "text": [
      "\u001b[2KCG iteration 1, residual = 0.0002300283900072151     \n",
      "\u001b[2KCG iteration 2, residual = 1.3481703219722107e-16     \n"
     ]
    }
   ],
   "source": [
    "\n",
    "\n",
    "def solveFullWithA(mesh, order0, omega, HBS, periodic=False):\n",
    "\n",
    "    # ------------------------------------------------------------------------------\n",
    "    # --- materials\n",
    "    # ------------------------------------------------------------------------------\n",
    "    mu = mesh.MaterialCF({\"air\": mu_air, \"rotor\": mu_Fe, \"magnet.*\": mu_magnet}, default=0.001)\n",
    "    nu = 1/mu\n",
    "    sigma = mesh.MaterialCF({\"air\": sigma_air, \"rotor\": sigma_Fe, \"magnet.*\": sigma_magnet}, default=0.001)\n",
    "    rho = 1/sigma\n",
    "    \n",
    "    # ------------------------------------------------------------------------------\n",
    "    # --- fem\n",
    "    # ------------------------------------------------------------------------------\n",
    "    dir_A = \"inner\"\n",
    "\n",
    "    if periodic:\n",
    "        fes = Periodic(H1(mesh, order=order0, dirichlet=dir_A, complex=True), phase=[-1, -1])\n",
    "    else:\n",
    "        fes = H1(mesh, order=order0, dirichlet=dir_A, complex=True)\n",
    "    \n",
    "\n",
    "    u, v = fes.TnT()\n",
    "\n",
    "\n",
    "    sol = GridFunction(fes, \"A\")\n",
    "    gradsol = grad(sol)\n",
    "\n",
    "\n",
    "    # ------------------------------------------------------------------------------\n",
    "    # --- fields\n",
    "    # ------------------------------------------------------------------------------\n",
    "    B = CF((gradsol[1], -gradsol[0]))\n",
    "    H = nu * B\n",
    "    E = -1j * omega * sol\n",
    "    J = sigma * E\n",
    "\n",
    "\n",
    "    # ------------------------------------------------------------------------------\n",
    "    # --- formulation\n",
    "    # ------------------------------------------------------------------------------\n",
    "\n",
    "    ah = BilinearForm(fes, symmetric=True)\n",
    "    ah += nu * grad(u) * grad(v) * dx\n",
    "    ah += 1j * omega * sigma * u * v * dx(\"rotor|magnet.*\")\n",
    "\n",
    "\n",
    "    prec = Preconditioner(ah, type=\"direct\")\n",
    "\n",
    "    gradv = grad(v)\n",
    "    f = LinearForm(fes)\n",
    "    f  += HBS * CF((gradv[1], -gradv[0])) * dx\n",
    "\n",
    "\n",
    "    ah.Assemble()\n",
    "    f.Assemble()\n",
    "\n",
    "    # solve it\n",
    "    solvers.BVP(bf = ah, lf= f, pre=prec, gf=sol, maxsteps=10)\n",
    "\n",
    "\n",
    "    losses_magnet = .5 * Integrate(InnerProduct(E, J), mesh, definedon=mesh.Materials(\"magnet.*\")).real\n",
    "    losses_rotor = .5 * Integrate(InnerProduct(E, J), mesh, definedon=mesh.Materials(\"rotor\")).real\n",
    "\n",
    "    if periodic:\n",
    "        losses_magnet *= 2\n",
    "        losses_rotor *= 2\n",
    "\n",
    "    return sol, B, E, H, J, losses_magnet, losses_rotor\n",
    "\n",
    "A, B_A, E_A, H_A, J_A, losses_magnet_A, losses_rotor_A = solveFullWithA(mesh, order0, omega=omega, HBS=HBS)"
   ]
  },
  {
   "cell_type": "code",
   "execution_count": 6,
   "id": "885b992b",
   "metadata": {},
   "outputs": [
    {
     "data": {
      "application/vnd.jupyter.widget-view+json": {
       "model_id": "55056c138aeb4f8398ecde5cd3afd115",
       "version_major": 2,
       "version_minor": 0
      },
      "text/plain": [
       "WebGuiWidget(layout=Layout(height='500px', width='100%'), value={'gui_settings': {'Objects': {'Wireframe': Fal…"
      ]
     },
     "metadata": {},
     "output_type": "display_data"
    }
   ],
   "source": [
    "draw_settings = {\"Objects\":{\"Wireframe\":False}}\n",
    "sceneJ_A  = Draw(J_A, mesh, max = 500, min = -500, animate_complex=True, settings=draw_settings, objects=points)"
   ]
  },
  {
   "cell_type": "markdown",
   "id": "7716c69e",
   "metadata": {},
   "source": [
    "\n",
    "## $\\mathbf{T}$,$\\Phi$ - $\\Phi$ Formulation\n",
    "\n",
    "With the current vetor potential $\\mathbf{T}$ and the magnetic scalar potential $\\Phi$ the weak formulation of the boundary value problem \n",
    "\n",
    "\\begin{align}\n",
    "\\int_{\\Omega} \\rho\\nabla\\times\\mathbf{T}\\cdot\\nabla\\times\\mathbf{T}' + j\\omega\\mu(\\mathbf{T}-\\nabla\\Phi)\\cdot(\\mathbf{T}'-\\nabla\\Phi') \\;d\\Omega = -\\int_\\Omega j\\omega\\mu(\\mathbf{H}_{BS})\\cdot(\\mathbf{T}'-\\nabla\\Phi')\\;d\\Omega\n",
    "\\end{align}\n",
    "\n",
    "with homogeneous Dirichlet boundaries on the interface and the inner for $\\mathbf{T}$ and on the outer for $\\Phi$ can be derived.\n",
    "\n",
    "\n",
    "In the curl of the current vector potential is defiend as \n",
    "\\begin{align}\n",
    "\\mathbf{J} = \\nabla\\times\\mathbf{T} =\\nabla\\times(T_x\\mathbf{e}_x + T_y\\mathbf{e}_y) = (\\partial_x T_x + \\partial_y T_y)\\mathbf{e}_z.\n",
    "\\end{align}\n",
    "\n",
    "<!---\n",
    "and therefore \n",
    "\\begin{align}\n",
    "\\int_{\\Omega_{2D}} \\rho\\nabla \\times \\mathbf{T} \\cdot \\nabla \\times \\mathbf{T}' + j\\omega\\mu (\\mathbf{T} - \\nabla\\Phi)\\cdot (\\mathbf{T}' - \\nabla\\Phi') \\;d\\Omega = -\\int_\\Omega j\\omega\\mu(\\mathbf{H}_{BS})\\cdot(\\mathbf{T}'-\\nabla\\Phi')\\;d\\Omega\n",
    "\\end{align}\n",
    "--->\n"
   ]
  },
  {
   "cell_type": "code",
   "execution_count": 7,
   "id": "ed70f836",
   "metadata": {},
   "outputs": [
    {
     "name": "stdout",
     "output_type": "stream",
     "text": [
      "\u001b[2KCG iteration 1, residual = 0.006715525597458756     \n",
      "\u001b[2KCG iteration 2, residual = 3.082831786179662e-10     \n",
      "\u001b[2KCG iteration 3, residual = 1.8489689489690308e-13     \n"
     ]
    }
   ],
   "source": [
    "def solveFullWithTPhi(mesh, order0, omega, HBS, periodic = False):\n",
    "\n",
    "    # ------------------------------------------------------------------------------\n",
    "    # --- materials\n",
    "    # ------------------------------------------------------------------------------\n",
    "    mu = mesh.MaterialCF({\"air\": mu_air, \"rotor\": mu_Fe, \"magnet.*\": mu_magnet}, default=0.001)\n",
    "    nu = 1/mu\n",
    "    sigma = mesh.MaterialCF({\"air\": sigma_air, \"rotor\": sigma_Fe, \"magnet.*\": sigma_magnet}, default=0.001)\n",
    "    rho = 1/sigma\n",
    "    \n",
    "    # ------------------------------------------------------------------------------\n",
    "    # --- fem\n",
    "    # ------------------------------------------------------------------------------\n",
    "\n",
    "    dir_T  = \"interface|inner\"\n",
    "    dir_Phi  = \"outer\"\n",
    "\n",
    "\n",
    "    fesT = HCurl(mesh, order=order0, dirichlet=dir_T, complex=True, definedon=mesh.Materials(\"rotor|magnet.*\"))\n",
    "    fesPhi = H1(mesh, order=order0+1, dirichlet=dir_Phi, complex=True)\n",
    "\n",
    "    if periodic:\n",
    "        phase = [-1, -1]\n",
    "        fes = FESpace([Periodic(fesPhi,phase), Periodic(fesT, phase)])\n",
    "    else:\n",
    "        fes = FESpace([fesPhi, fesT])\n",
    "\n",
    "    trials = fes.TrialFunction()\n",
    "    tests = fes.TestFunction()\n",
    "\n",
    "\n",
    "    uPhi, vPhi = trials[0], tests[0]\n",
    "    uT, vT = trials[1], tests[1]\n",
    "\n",
    "    sol = GridFunction(fes, \"sol\")\n",
    "    Phi = sol.components[0]\n",
    "    T = sol.components[1]\n",
    "\n",
    "\n",
    "\n",
    "    # ------------------------------------------------------------------------------\n",
    "    # --- fields\n",
    "    # ------------------------------------------------------------------------------\n",
    "    H = HBS + T - grad(Phi)\n",
    "    B = mu * H \n",
    "    J = curl(T)\n",
    "    E = rho * J \n",
    "\n",
    "\n",
    "    # ------------------------------------------------------------------------------\n",
    "    # --- formulation\n",
    "    # ------------------------------------------------------------------------------\n",
    "\n",
    "    ah = BilinearForm(fes, symmetric=True)\n",
    "    ah += rho * curl(uT) * curl(vT) * dx(\"rotor|magnet.*\")\n",
    "    ah += 1j * omega * mu * (uT - grad(uPhi)) * (vT - grad(vPhi)) * dx(\"rotor|magnet.*\")\n",
    "    ah += 1j * omega * mu * (- grad(uPhi)) * (- grad(vPhi)) * dx(\"air\")\n",
    "\n",
    "    ah += 1e-3 * uPhi * vPhi * dx(\"rotor|magnet.*\")\n",
    "\n",
    "    prec = Preconditioner(ah, type=\"direct\")\n",
    "\n",
    "\n",
    "\n",
    "    f = LinearForm(fes)\n",
    "    f  += - 1j*omega * mu *  HBS * (vT - grad(vPhi)) * dx\n",
    "\n",
    "\n",
    "\n",
    "    ah.Assemble()\n",
    "    f.Assemble()\n",
    "\n",
    "\n",
    "    solvers.BVP(bf = ah, lf= f, pre=prec, gf=sol, maxsteps=10)\n",
    "    # sol.vec.data = ah.mat.Inverse(freedofs=fes.FreeDofs()) * f.vec\n",
    "\n",
    "\n",
    "    losses_magnet = .5 * Integrate(InnerProduct(E, J), mesh, definedon=mesh.Materials(\"magnet.*\")).real\n",
    "    losses_rotor = .5 * Integrate(InnerProduct(E, J), mesh, definedon=mesh.Materials(\"rotor\")).real\n",
    "\n",
    "    if periodic:\n",
    "        losses_magnet *= 2\n",
    "        losses_rotor *= 2\n",
    "\n",
    "    return T, Phi, B, E, H, J, losses_magnet, losses_rotor\n",
    "\n",
    "T, Phi, B_TPhi, E_TPhi, H_TPhi, J_TPhi, losses_magnet_TPhi, losses_rotor_TPhi = solveFullWithTPhi(mesh, order0, omega, HBS=HBS)"
   ]
  },
  {
   "cell_type": "code",
   "execution_count": 8,
   "id": "89262df1",
   "metadata": {},
   "outputs": [
    {
     "data": {
      "application/vnd.jupyter.widget-view+json": {
       "model_id": "6fe86d29f2a44eb4a786471774143304",
       "version_major": 2,
       "version_minor": 0
      },
      "text/plain": [
       "WebGuiWidget(layout=Layout(height='500px', width='100%'), value={'gui_settings': {'Objects': {'Wireframe': Fal…"
      ]
     },
     "metadata": {},
     "output_type": "display_data"
    }
   ],
   "source": [
    "#animate(J, mesh, ti= np.linspace(0, 4*np.pi, 150), pause=0.01 )\n",
    "sceneJ_TPhi  = Draw(J_TPhi, mesh, animate=True, max = 500, min = -500, animate_complex=True, settings=draw_settings, objects=points)"
   ]
  },
  {
   "cell_type": "markdown",
   "id": "4f161cfe",
   "metadata": {},
   "source": [
    "## Quasi Periodic Boundaries\n",
    "\n",
    "boundaries in mesh have to be _identified_ as well\n",
    "\n",
    "The phase shift from the left boundary to the right boundary is $e^{-j\\pi} = -1$"
   ]
  },
  {
   "cell_type": "code",
   "execution_count": 9,
   "id": "14a16e9a",
   "metadata": {},
   "outputs": [
    {
     "name": "stdout",
     "output_type": "stream",
     "text": [
      "domains ('air', 'rotor', 'magnet_top')\n",
      "boundaries {'periodic_rotor', 'interface', 'periodic_air', 'mag_rot', 'outer', 'inner'}\n"
     ]
    },
    {
     "data": {
      "application/vnd.jupyter.widget-view+json": {
       "model_id": "8399d6ed2b654f2a9c356265401d7ac2",
       "version_major": 2,
       "version_minor": 0
      },
      "text/plain": [
       "WebGuiWidget(layout=Layout(height='500px', width='100%'), value={'gui_settings': {}, 'ngsolve_version': '6.2.2…"
      ]
     },
     "metadata": {},
     "output_type": "display_data"
    },
    {
     "data": {
      "text/plain": [
       "BaseWebGuiScene"
      ]
     },
     "execution_count": 9,
     "metadata": {},
     "output_type": "execute_result"
    }
   ],
   "source": [
    "cMesh_periodic = fullGeoMagnet(r1, r2, r3, r4, phi_deg=45, maxh=maxh, maxhEdges=maxhEdges, periodic=True)\n",
    "mesh_periodic = cMesh_periodic.mesh\n",
    "\n",
    "print(\"domains\", mesh_periodic.GetMaterials())\n",
    "print(\"boundaries\", set(mesh_periodic.GetBoundaries()))\n",
    "\n",
    "Draw(mesh_periodic, objects=points)"
   ]
  },
  {
   "cell_type": "markdown",
   "id": "4832cb43",
   "metadata": {},
   "source": [
    "### $\\mathbf{A}$ Formulation"
   ]
  },
  {
   "cell_type": "code",
   "execution_count": 10,
   "id": "55bc38b2",
   "metadata": {},
   "outputs": [
    {
     "name": "stdout",
     "output_type": "stream",
     "text": [
      "\u001b[2KCG iteration 1, residual = 0.0004851190994347406     \n",
      "\u001b[2KCG iteration 2, residual = 6.26103975717427e-17     \n"
     ]
    }
   ],
   "source": [
    "\n",
    "A, B_A_per, E_A_per, H_A_per, J_A_per, \\\n",
    "    losses_magnet_A_per, losses_rotor_A_per \\\n",
    "    = solveFullWithA(mesh_periodic, order0, omega=omega, HBS=HBS, periodic=True)"
   ]
  },
  {
   "cell_type": "code",
   "execution_count": 11,
   "id": "33bf6c8e",
   "metadata": {},
   "outputs": [
    {
     "data": {
      "application/vnd.jupyter.widget-view+json": {
       "model_id": "ce6bc76821a6482aa8c3e16f3ad63993",
       "version_major": 2,
       "version_minor": 0
      },
      "text/plain": [
       "WebGuiWidget(layout=Layout(height='500px', width='100%'), value={'gui_settings': {'Objects': {'Wireframe': Fal…"
      ]
     },
     "metadata": {},
     "output_type": "display_data"
    }
   ],
   "source": [
    "sceneJ_APer = Draw(J_A_per, mesh_periodic, max = 500, min = -500, animate_complex=True,settings=draw_settings, objects=points) "
   ]
  },
  {
   "cell_type": "markdown",
   "id": "4b93a3b3",
   "metadata": {},
   "source": [
    "## $\\mathbf{T}$,$\\Phi$ - $\\Phi$ Formulation"
   ]
  },
  {
   "cell_type": "code",
   "execution_count": 12,
   "id": "58eef8ef",
   "metadata": {},
   "outputs": [
    {
     "name": "stdout",
     "output_type": "stream",
     "text": [
      "\u001b[2KCG iteration 1, residual = 0.0052822857252045625     \n",
      "\u001b[2KCG iteration 2, residual = 2.0750043036019185e-10     \n",
      "\u001b[2KCG iteration 3, residual = 6.079445473254431e-14     \n"
     ]
    }
   ],
   "source": [
    "T_per, Phi_per, B_TPhi_per, E_TPhi_per, \\\n",
    "    H_TPhi_per, J_TPhi_per, \\\n",
    "    losses_magnet_TPhi_per, losses_rotor_TPhi_per \\\n",
    "    = solveFullWithTPhi(mesh_periodic, order0, omega, HBS=HBS, periodic=True)"
   ]
  },
  {
   "cell_type": "code",
   "execution_count": 13,
   "id": "d304d944",
   "metadata": {},
   "outputs": [
    {
     "data": {
      "application/vnd.jupyter.widget-view+json": {
       "model_id": "dcfe60d09e4e4d2984753f3a77dda142",
       "version_major": 2,
       "version_minor": 0
      },
      "text/plain": [
       "WebGuiWidget(layout=Layout(height='500px', width='100%'), value={'gui_settings': {'Objects': {'Wireframe': Fal…"
      ]
     },
     "metadata": {},
     "output_type": "display_data"
    }
   ],
   "source": [
    "sceneJ_TPhi  = Draw(J_TPhi_per, mesh_periodic, animate=True, max = 500, min = -500, animate_complex=True, settings=draw_settings, objects=points)"
   ]
  },
  {
   "cell_type": "markdown",
   "id": "4fa05263",
   "metadata": {},
   "source": [
    "## Losses"
   ]
  },
  {
   "cell_type": "code",
   "execution_count": 14,
   "id": "d566bac6",
   "metadata": {},
   "outputs": [
    {
     "name": "stdout",
     "output_type": "stream",
     "text": [
      "Losses in the MAGNET\n",
      " \t\tA Formulation\t\t T Phi\n",
      "full \t\t34.704 \t\t\t 34.662\n",
      "periodic \t34.614 \t\t\t 34.638\n",
      "\n",
      "\n",
      "\n",
      "Losses in the Rotor\n",
      " \t\tA Formulation\t\t T Phi\n",
      "full \t\t14.590 \t\t\t 14.603\n",
      "periodic \t14.595 \t\t\t 14.603\n"
     ]
    }
   ],
   "source": [
    "print(f\"Losses in the MAGNET\")\n",
    "print(\" \\t\\tA Formulation\\t\\t T Phi\")\n",
    "\n",
    "print(f\"full \\t\\t{losses_magnet_A*1e6:0.3f} \\t\\t\\t {losses_magnet_TPhi*1e6:0.3f}\")\n",
    "print(f\"periodic \\t{losses_magnet_A_per*1e6:0.3f} \\t\\t\\t {losses_magnet_TPhi_per*1e6:0.3f}\")\n",
    "\n",
    "print(\"\\n\\n\")\n",
    "print(f\"Losses in the Rotor\")\n",
    "print(\" \\t\\tA Formulation\\t\\t T Phi\")\n",
    "\n",
    "print(f\"full \\t\\t{losses_rotor_A*1e6:0.3f} \\t\\t\\t {losses_rotor_TPhi*1e6:0.3f}\")\n",
    "print(f\"periodic \\t{losses_rotor_A_per*1e6:0.3f} \\t\\t\\t {losses_rotor_TPhi_per*1e6:0.3f}\")\n",
    "\n"
   ]
  },
  {
   "cell_type": "markdown",
   "id": "d2212ae2",
   "metadata": {},
   "source": [
    "## Frequency sweep"
   ]
  },
  {
   "cell_type": "markdown",
   "id": "fe53dfa7",
   "metadata": {},
   "source": []
  },
  {
   "cell_type": "code",
   "execution_count": 22,
   "id": "489b54b2",
   "metadata": {},
   "outputs": [],
   "source": [
    "omega_i = np.logspace(1, 8, 20) * 2 * np.pi\n",
    "\n",
    "\n",
    "cMesh_finer = fullGeoMagnet(r1, r2, r3, r4, phi_deg=45, maxh=maxh, maxhEdges=maxhEdges/3, periodic=True)\n",
    "mesh_finer = cMesh_finer.mesh"
   ]
  },
  {
   "cell_type": "code",
   "execution_count": 23,
   "id": "b3605d4a",
   "metadata": {},
   "outputs": [
    {
     "name": "stdout",
     "output_type": "stream",
     "text": [
      "\u001b[2KCG iteration 1, residual = 0.005535118393507313     \n",
      "\u001b[2KCG iteration 2, residual = 1.461677272785263e-06     \n",
      "\u001b[2KCG iteration 3, residual = 6.103390165634258e-07     \n",
      "\u001b[2KCG iteration 4, residual = 4.936031610655069e-07     \n",
      "\u001b[2KCG iteration 5, residual = 2.9386933591969873e-07     \n",
      "\u001b[2KCG iteration 6, residual = 1.99883507439568e-07     \n",
      "\u001b[2KCG iteration 7, residual = 2.0664898896874316e-07     \n",
      "\u001b[2KCG iteration 8, residual = 2.6952415594971386e-07     \n",
      "\u001b[2KCG iteration 9, residual = 3.1745162052915845e-07     \n",
      "\u001b[2KCG iteration 10, residual = 3.237910316431779e-07     \n",
      "\u001b[2KWARNING: CG did not converge to TOL\n",
      "\u001b[2KCG iteration 1, residual = 0.0016530182365077377     \n",
      "\u001b[2KCG iteration 2, residual = 1.8854511547860478e-10     \n",
      "\u001b[2KCG iteration 3, residual = 3.1931384081212517e-14     \n",
      "\u001b[2KCG iteration 1, residual = 0.0028881806316389067     \n",
      "\u001b[2KCG iteration 2, residual = 2.915392491156275e-10     \n",
      "\u001b[2KCG iteration 3, residual = 5.934603413600179e-14     \n",
      "\u001b[2KCG iteration 1, residual = 0.005691124330710273     \n",
      "\u001b[2KCG iteration 2, residual = 3.088735231343669e-10     \n",
      "\u001b[2KCG iteration 3, residual = 3.255559048785831e-14     \n",
      "\u001b[2KCG iteration 1, residual = 0.0120840069315413     \n",
      "\u001b[2KCG iteration 2, residual = 3.234768158883866e-10     \n",
      "\u001b[2KCG iteration 3, residual = 1.859042227578712e-14     \n",
      "\u001b[2KCG iteration 1, residual = 0.02515190640064579     \n",
      "\u001b[2KCG iteration 2, residual = 4.455957785630655e-10     \n",
      "\u001b[2KCG iteration 3, residual = 6.634866895311172e-14     \n",
      "\u001b[2KCG iteration 1, residual = 0.04552659373370347     \n",
      "\u001b[2KCG iteration 2, residual = 9.483136252989866e-10     \n",
      "\u001b[2KCG iteration 3, residual = 2.3959744923487313e-13     \n",
      "\u001b[2KCG iteration 1, residual = 0.06677985860741177     \n",
      "\u001b[2KCG iteration 2, residual = 1.191261315667302e-09     \n",
      "\u001b[2KCG iteration 3, residual = 7.788422917239606e-13     \n",
      "\u001b[2KCG iteration 1, residual = 0.08521725090294463     \n",
      "\u001b[2KCG iteration 2, residual = 1.5112267640858345e-07     \n",
      "\u001b[2KCG iteration 3, residual = 1.636075242727276e-08     \n",
      "\u001b[2KCG iteration 4, residual = 4.857996593745862e-09     \n",
      "\u001b[2KCG iteration 5, residual = 1.9748439252503394e-09     \n",
      "\u001b[2KCG iteration 6, residual = 9.165416956235271e-10     \n",
      "\u001b[2KCG iteration 7, residual = 5.964064167569446e-10     \n",
      "\u001b[2KCG iteration 1, residual = 0.11669668938496158     \n",
      "\u001b[2KCG iteration 2, residual = 6.054323890805775e-07     \n",
      "\u001b[2KCG iteration 3, residual = 2.1784696851760944e-07     \n",
      "\u001b[2KCG iteration 4, residual = 1.5246862588229975e-07     \n",
      "\u001b[2KCG iteration 5, residual = 1.0454278809626079e-07     \n",
      "\u001b[2KCG iteration 6, residual = 7.227726442006382e-08     \n",
      "\u001b[2KCG iteration 7, residual = 5.974084230555167e-08     \n",
      "\u001b[2KCG iteration 8, residual = 5.6695603888556404e-08     \n",
      "\u001b[2KCG iteration 9, residual = 5.576616010043256e-08     \n",
      "\u001b[2KCG iteration 10, residual = 5.3982486939929594e-08     \n",
      "\u001b[2KWARNING: CG did not converge to TOL\n",
      "\u001b[2KCG iteration 1, residual = 0.17958304136040198     \n",
      "\u001b[2KCG iteration 2, residual = 1.0583707955261442e-06     \n",
      "\u001b[2KCG iteration 3, residual = 6.152351127080283e-07     \n",
      "\u001b[2KCG iteration 4, residual = 4.114446988215049e-07     \n",
      "\u001b[2KCG iteration 5, residual = 3.2044330028665647e-07     \n",
      "\u001b[2KCG iteration 6, residual = 2.737387996553804e-07     \n",
      "\u001b[2KCG iteration 7, residual = 2.4464439996114906e-07     \n",
      "\u001b[2KCG iteration 8, residual = 2.2987907861518818e-07     \n",
      "\u001b[2KCG iteration 9, residual = 2.2679679320866514e-07     \n",
      "\u001b[2KCG iteration 10, residual = 2.3247266084447703e-07     \n",
      "\u001b[2KWARNING: CG did not converge to TOL\n",
      "\u001b[2KCG iteration 1, residual = 0.284800906831999     \n",
      "\u001b[2KCG iteration 2, residual = 1.3033006514600486e-06     \n",
      "\u001b[2KCG iteration 3, residual = 6.660786797160095e-07     \n",
      "\u001b[2KCG iteration 4, residual = 8.964096362261823e-07     \n",
      "\u001b[2KCG iteration 5, residual = 1.0189870758623167e-06     \n",
      "\u001b[2KCG iteration 6, residual = 9.787503409043927e-07     \n",
      "\u001b[2KCG iteration 7, residual = 8.608277925595377e-07     \n",
      "\u001b[2KCG iteration 8, residual = 7.42005709470953e-07     \n",
      "\u001b[2KCG iteration 9, residual = 6.512303811311311e-07     \n",
      "\u001b[2KCG iteration 10, residual = 5.901884631179948e-07     \n",
      "\u001b[2KWARNING: CG did not converge to TOL\n",
      "\u001b[2KCG iteration 1, residual = 0.44900520680857414     \n",
      "\u001b[2KCG iteration 2, residual = 3.5435227940884463e-06     \n",
      "\u001b[2KCG iteration 3, residual = 1.5516289662369375e-06     \n",
      "\u001b[2KCG iteration 4, residual = 1.089714118363072e-06     \n",
      "\u001b[2KCG iteration 5, residual = 8.455736782432038e-07     \n",
      "\u001b[2KCG iteration 6, residual = 5.914275453109562e-07     \n",
      "\u001b[2KCG iteration 7, residual = 4.6595493179292947e-07     \n",
      "\u001b[2KCG iteration 8, residual = 4.1488101100611794e-07     \n",
      "\u001b[2KCG iteration 9, residual = 4.003939967543927e-07     \n",
      "\u001b[2KCG iteration 10, residual = 4.033616280284123e-07     \n",
      "\u001b[2KWARNING: CG did not converge to TOL\n",
      "\u001b[2KCG iteration 1, residual = 0.700194998012576     \n",
      "\u001b[2KCG iteration 2, residual = 4.299728232079122e-06     \n",
      "\u001b[2KCG iteration 3, residual = 2.7671781584721253e-06     \n",
      "\u001b[2KCG iteration 4, residual = 2.922504871012426e-06     \n",
      "\u001b[2KCG iteration 5, residual = 3.061037742965863e-06     \n",
      "\u001b[2KCG iteration 6, residual = 2.9941810994164906e-06     \n",
      "\u001b[2KCG iteration 7, residual = 2.803321992348405e-06     \n",
      "\u001b[2KCG iteration 8, residual = 2.59188996267945e-06     \n",
      "\u001b[2KCG iteration 9, residual = 2.4031486225304513e-06     \n",
      "\u001b[2KCG iteration 10, residual = 2.25994207352659e-06     \n",
      "\u001b[2KWARNING: CG did not converge to TOL\n",
      "\u001b[2KCG iteration 1, residual = 1.0844908298517095     \n",
      "\u001b[2KCG iteration 2, residual = 5.061601610427425e-06     \n",
      "\u001b[2KCG iteration 3, residual = 3.601653168565006e-06     \n",
      "\u001b[2KCG iteration 4, residual = 2.4268357763701614e-06     \n",
      "\u001b[2KCG iteration 5, residual = 2.3429176663171507e-06     \n",
      "\u001b[2KCG iteration 6, residual = 2.300786856548483e-06     \n",
      "\u001b[2KCG iteration 7, residual = 2.3444530025045103e-06     \n",
      "\u001b[2KCG iteration 8, residual = 2.4098637552709543e-06     \n",
      "\u001b[2KCG iteration 9, residual = 2.3021595639029483e-06     \n",
      "\u001b[2KCG iteration 10, residual = 2.039254669944159e-06     \n",
      "\u001b[2KWARNING: CG did not converge to TOL\n",
      "\u001b[2KCG iteration 1, residual = 1.6724833905027394     \n",
      "\u001b[2KCG iteration 2, residual = 3.3849728896504383e-06     \n",
      "\u001b[2KCG iteration 3, residual = 3.3824263885243744e-06     \n",
      "\u001b[2KCG iteration 4, residual = 4.1807768787081645e-06     \n",
      "\u001b[2KCG iteration 5, residual = 4.5281314769824245e-06     \n",
      "\u001b[2KCG iteration 6, residual = 4.33678318463695e-06     \n",
      "\u001b[2KCG iteration 7, residual = 3.991085298876719e-06     \n",
      "\u001b[2KCG iteration 8, residual = 3.7481831590281892e-06     \n",
      "\u001b[2KCG iteration 9, residual = 3.6137956063040403e-06     \n",
      "\u001b[2KCG iteration 10, residual = 3.579810948103539e-06     \n",
      "\u001b[2KWARNING: CG did not converge to TOL\n",
      "\u001b[2KCG iteration 1, residual = 2.570616454396655     \n",
      "\u001b[2KCG iteration 2, residual = 2.7987356316177337e-06     \n",
      "\u001b[2KCG iteration 3, residual = 3.2310940532849213e-06     \n",
      "\u001b[2KCG iteration 4, residual = 1.8294357282157018e-06     \n",
      "\u001b[2KCG iteration 5, residual = 1.8932009334663605e-06     \n",
      "\u001b[2KCG iteration 6, residual = 3.1629324741060825e-06     \n",
      "\u001b[2KCG iteration 7, residual = 4.020910568649658e-06     \n",
      "\u001b[2KCG iteration 8, residual = 4.389103432563549e-06     \n",
      "\u001b[2KCG iteration 9, residual = 4.372409045993664e-06     \n",
      "\u001b[2KCG iteration 10, residual = 4.029829497582134e-06     \n",
      "\u001b[2KWARNING: CG did not converge to TOL\n",
      "\u001b[2KCG iteration 1, residual = 3.9409461311417626     \n",
      "\u001b[2KCG iteration 2, residual = 4.6305453516516595e-06     \n",
      "\u001b[2KCG iteration 3, residual = 1.9185448361283843e-06     \n",
      "\u001b[2KCG iteration 4, residual = 1.6193794101983139e-06     \n",
      "\u001b[2KCG iteration 5, residual = 2.0648134593799992e-06     \n",
      "\u001b[2KCG iteration 6, residual = 2.739742539830374e-06     \n",
      "\u001b[2KCG iteration 7, residual = 3.510783326567207e-06     \n",
      "\u001b[2KCG iteration 8, residual = 1.1153133178027735e-05     \n",
      "\u001b[2KCG iteration 9, residual = 1.0048585312850047e-05     \n",
      "\u001b[2KCG iteration 10, residual = 9.871466418662296e-06     \n",
      "\u001b[2KWARNING: CG did not converge to TOL\n",
      "\u001b[2KCG iteration 1, residual = 6.031447141750027     \n",
      "\u001b[2KCG iteration 2, residual = 4.988042154539108e-06     \n",
      "\u001b[2KCG iteration 3, residual = 2.202269724620315e-06     \n",
      "\u001b[2KCG iteration 4, residual = 1.9624083223052927e-06     \n",
      "\u001b[2KCG iteration 5, residual = 6.6049311773720634e-06     \n",
      "\u001b[2KCG iteration 6, residual = 2.674726512533165e-06     \n",
      "\u001b[2KCG iteration 7, residual = 2.9361416553508764e-06     \n",
      "\u001b[2KCG iteration 8, residual = 2.379656480621167e-06     \n",
      "\u001b[2KCG iteration 9, residual = 7.640706617757361e-07     \n",
      "\u001b[2KCG iteration 10, residual = 4.981512708144972e-07     \n",
      "\u001b[2KWARNING: CG did not converge to TOL\n",
      "\u001b[2KCG iteration 1, residual = 9.220399860106799     \n",
      "\u001b[2KCG iteration 2, residual = 1.288497474547134e-05     \n",
      "\u001b[2KCG iteration 3, residual = 6.973231951360359e-06     \n",
      "\u001b[2KCG iteration 4, residual = 4.319848517197697e-06     \n",
      "\u001b[2KCG iteration 5, residual = 2.7662683378461392e-06     \n",
      "\u001b[2KCG iteration 6, residual = 2.6635406960657465e-06     \n",
      "\u001b[2KCG iteration 7, residual = 1.4361590298227418e-06     \n",
      "\u001b[2KCG iteration 8, residual = 9.938240290854726e-07     \n",
      "\u001b[2KCG iteration 9, residual = 4.107812334638158e-07     \n",
      "\u001b[2KCG iteration 10, residual = 4.784386893795721e-07     \n",
      "\u001b[2KWARNING: CG did not converge to TOL\n",
      "\u001b[2KCG iteration 1, residual = 14.090151822916255     \n",
      "\u001b[2KCG iteration 2, residual = 5.6210329944709445e-05     \n",
      "\u001b[2KCG iteration 3, residual = 8.57627110389516e-06     \n",
      "\u001b[2KCG iteration 4, residual = 6.570271672979492e-06     \n",
      "\u001b[2KCG iteration 5, residual = 8.81929891942074e-06     \n",
      "\u001b[2KCG iteration 6, residual = 9.660645735825633e-06     \n",
      "\u001b[2KCG iteration 7, residual = 3.0096862117705307e-05     \n",
      "\u001b[2KCG iteration 8, residual = 2.5186042017715197e-05     \n",
      "\u001b[2KCG iteration 9, residual = 3.139692685285089e-05     \n",
      "\u001b[2KCG iteration 10, residual = 2.789282323234141e-05     \n",
      "\u001b[2KWARNING: CG did not converge to TOL\n"
     ]
    }
   ],
   "source": [
    "T_per, Phi_per, B_TPhi_per, E_TPhi_per, \\\n",
    "    H_TPhi_per, J_TPhi_per, \\\n",
    "    losses_magnet_TPhi_per, losses_rotor_TPhi_per \\\n",
    "    = solveFullWithTPhi(mesh_finer, order0, omega, HBS=HBS, periodic=True)\n",
    "\n",
    "\n",
    "results_TPhi_per_freq_sweep = [solveFullWithTPhi(mesh_periodic, order0, omega, HBS=HBS, periodic=True) for omega in omega_i]"
   ]
  },
  {
   "cell_type": "code",
   "execution_count": 25,
   "id": "94126bd6",
   "metadata": {},
   "outputs": [
    {
     "name": "stdout",
     "output_type": "stream",
     "text": [
      "1.4410865326009162e-06\n"
     ]
    },
    {
     "data": {
      "text/plain": [
       "Text(0.5, 0, 'losses in $\\\\mu$W')"
      ]
     },
     "execution_count": 25,
     "metadata": {},
     "output_type": "execute_result"
    },
    {
     "data": {
      "image/png": "[encoded data removed]",
      "text/plain": [
       "<Figure size 640x480 with 1 Axes>"
      ]
     },
     "metadata": {},
     "output_type": "display_data"
    }
   ],
   "source": [
    "import matplotlib.pyplot as plt\n",
    "\n",
    "\n",
    "print(results_TPhi_per_freq_sweep[0][6])\n",
    "\n",
    "losses_magnet_TPhi_per_freq_sweep = [results_TPhi_per_freq_sweep[i][6]* 1e6 for i in range(len(omega_i))]\n",
    "plt.plot(omega_i/2*np.pi, losses_magnet_TPhi_per_freq_sweep )\n",
    "plt.xlabel(\"freqency\")\n",
    "plt.xlabel(r\"losses in $\\mu$W\")"
   ]
  },
  {
   "cell_type": "code",
   "execution_count": null,
   "id": "688491fe",
   "metadata": {},
   "outputs": [],
   "source": []
  }
 ],
 "metadata": {
  "kernelspec": {
   "display_name": "Python 3 (ipykernel)",
   "language": "python",
   "name": "python3"
  },
  "language_info": {
   "codemirror_mode": {
    "name": "ipython",
    "version": 3
   },
   "file_extension": ".py",
   "mimetype": "text/x-python",
   "name": "python",
   "nbconvert_exporter": "python",
   "pygments_lexer": "ipython3",
   "version": "3.10.12"
  }
 },
 "nbformat": 4,
 "nbformat_minor": 5
}
