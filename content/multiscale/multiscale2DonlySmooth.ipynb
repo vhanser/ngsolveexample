{
 "cells": [
  {
   "cell_type": "code",
   "execution_count": 1,
   "metadata": {},
   "outputs": [],
   "source": [
    "from netgen.occ import *\n",
    "from ngsolve import *\n",
    "from netgen.meshing import IdentificationType\n",
    "from MS_helper_functions import *\n",
    "from netgen.webgui import Draw as DrawGeo\n",
    "from ngsolve.webgui import Draw\n",
    "\n",
    "from myPackage import cmdInput\n",
    "%matplotlib widget"
   ]
  },
  {
   "cell_type": "code",
   "execution_count": 2,
   "metadata": {},
   "outputs": [],
   "source": [
    "lambda1 = 1\n",
    "lambda2 = 1000\n",
    "\n",
    "order0 = 2"
   ]
  },
  {
   "cell_type": "code",
   "execution_count": 3,
   "metadata": {},
   "outputs": [],
   "source": [
    "D = 0.04\n",
    "d = 0.02\n",
    "\n",
    "ff = 0.5\n",
    "\n",
    "\n",
    "numSheets = 10\n",
    "\n",
    "maxh_edges = d/numSheets*1/2 * 0.5\n",
    "\n",
    "\n",
    "from meshGen import mesh2DLaminates\n",
    "\n",
    "onlySmooth = True\n"
   ]
  },
  {
   "cell_type": "markdown",
   "metadata": {},
   "source": [
    "## Reference Solution"
   ]
  },
  {
   "cell_type": "code",
   "execution_count": 4,
   "metadata": {},
   "outputs": [
    {
     "name": "stdout",
     "output_type": "stream",
     "text": [
      "Boundaries {'top', 'iright', 'right', 'bottom', 'left', 'ileft'}\n",
      "Materials {'outer', 'inner', 'insulation'}\n"
     ]
    },
    {
     "data": {
      "application/vnd.jupyter.widget-view+json": {
       "model_id": "a999273cbc884be9a90459444be90133",
       "version_major": 2,
       "version_minor": 0
      },
      "text/plain": [
       "WebGuiWidget(layout=Layout(height='500px', width='100%'), value={'gui_settings': {}, 'mesh_dim': 2, 'mesh_cent…"
      ]
     },
     "metadata": {},
     "output_type": "display_data"
    },
    {
     "data": {
      "text/plain": [
       "BaseWebGuiScene"
      ]
     },
     "execution_count": 4,
     "metadata": {},
     "output_type": "execute_result"
    }
   ],
   "source": [
    "cMeshRef = mesh2DLaminates(D, d, ff, numSheets, multiscale=False, onlySmooth=onlySmooth, maxh_edges=maxh_edges)\n",
    "meshRef = cMeshRef.mesh\n",
    "print(\"Boundaries\", set(meshRef.GetBoundaries()))\n",
    "print(\"Materials\", set(meshRef.GetMaterials()))\n",
    "Draw(meshRef.ngmesh)"
   ]
  },
  {
   "cell_type": "code",
   "execution_count": 5,
   "metadata": {},
   "outputs": [
    {
     "name": "stdout",
     "output_type": "stream",
     "text": [
      "\u001b[2KCG iteration 1, residual = 3.3002441086959995     \n",
      "\u001b[2KCG iteration 2, residual = 2.616190806437063e-12     \n"
     ]
    }
   ],
   "source": [
    "lam = meshRef.MaterialCF({\"inner\":lambda2, \"outer\":lambda1, \"gap\":lambda1, \"multiscale\":lambda2})\n",
    "def calcRef():\n",
    "    fes = H1(meshRef, order=order0, dirichlet=\"left|right\")\n",
    "\n",
    "    u,v = fes.TnT()\n",
    "    sol = GridFunction(fes)\n",
    "\n",
    "    a = BilinearForm(fes, symmetric=True)\n",
    "    f = LinearForm(fes)\n",
    "\n",
    "    a += lam * grad(u) * grad(v) * dx\n",
    "\n",
    "    prec = Preconditioner(a, \"direct\")\n",
    "\n",
    "\n",
    "    sol.Set(1 * x/Norm(x), BND)\n",
    "    solvers.BVP(bf = a, lf= f, pre=prec, gf=sol, maxsteps=10)\n",
    "    \n",
    "    \n",
    "    energy =  Integrate( InnerProduct(lam * grad(sol), grad(sol)), meshRef, definedon=meshRef.Materials(\"inner|gap\"))\n",
    "    \n",
    "    return sol, energy\n",
    "\n",
    "sol_ref, energy_ref = calcRef()\n"
   ]
  },
  {
   "cell_type": "code",
   "execution_count": 6,
   "metadata": {},
   "outputs": [
    {
     "name": "stdout",
     "output_type": "stream",
     "text": [
      "energy:\t7.053763277883365e-26\n"
     ]
    },
    {
     "data": {
      "application/vnd.jupyter.widget-view+json": {
       "model_id": "9f7131f1cb1d4e5c8835bc48ea0c8c88",
       "version_major": 2,
       "version_minor": 0
      },
      "text/plain": [
       "WebGuiWidget(layout=Layout(height='500px', width='100%'), value={'gui_settings': {'Objects': {'Wireframe': Tru…"
      ]
     },
     "metadata": {},
     "output_type": "display_data"
    },
    {
     "data": {
      "text/plain": [
       "BaseWebGuiScene"
      ]
     },
     "execution_count": 6,
     "metadata": {},
     "output_type": "execute_result"
    }
   ],
   "source": [
    "\n",
    "\n",
    "print(f\"energy:\\t{energy_ref}\")\n",
    "Draw(sol_ref, settings={\"Objects\":{\"Wireframe\":True}, \"deformation\": 0.01})\n"
   ]
  },
  {
   "cell_type": "markdown",
   "metadata": {},
   "source": [
    "## Multiscale"
   ]
  },
  {
   "cell_type": "code",
   "execution_count": 7,
   "metadata": {},
   "outputs": [
    {
     "name": "stdout",
     "output_type": "stream",
     "text": [
      "('outer', 'outer', 'multiscale')\n"
     ]
    },
    {
     "data": {
      "application/vnd.jupyter.widget-view+json": {
       "model_id": "47e98ebf692842d6b238665f6063d860",
       "version_major": 2,
       "version_minor": 0
      },
      "text/plain": [
       "WebGuiWidget(layout=Layout(height='500px', width='100%'), value={'gui_settings': {}, 'mesh_dim': 2, 'mesh_cent…"
      ]
     },
     "metadata": {},
     "output_type": "display_data"
    }
   ],
   "source": [
    "modelHalfAir=True\n",
    "\n",
    "\n",
    "\n",
    "cMeshMS = mesh2DLaminates(D, d, ff, numSheets, multiscale=True, modelHalfAir=modelHalfAir, domainNameHalfAir=\"multiscale\", onlySmooth=onlySmooth,  maxh_edges=maxh_edges)\n",
    "# cMeshMS = mesh2DLaminates(D, d, ff, numSheets, multiscale=True, modelHalfAir=modelHalfAir, domainNameHalfAir=\"smoothFrame\", onlySmooth=onlySmooth)\n",
    "meshMS = cMeshMS.mesh\n",
    "print(meshMS.GetMaterials())\n",
    "Draw(meshMS.ngmesh)\n",
    "\n",
    "\n",
    "from myPackage import drawBndAll\n",
    "\n",
    "# drawBndAll(meshMS, drawFunc=Draw, block=False)\n"
   ]
  },
  {
   "cell_type": "code",
   "execution_count": 8,
   "metadata": {},
   "outputs": [
    {
     "name": "stdout",
     "output_type": "stream",
     "text": [
      "\u001b[2KCG iteration 1, residual = 2.8182032169118325     \n",
      "\u001b[2KCG iteration 2, residual = 1.0210867859283268e-12     \n",
      "0.8891848890532127\n",
      "0.00022336884418807295\n"
     ]
    }
   ],
   "source": [
    "cl_Phi.numSheets = numSheets\n",
    "cl_Phi.dFe = cMeshMS.dFe\n",
    "cl_Phi.d0 = cMeshMS.d0\n",
    "cl_Phi.mesh = meshMS\n",
    "\n",
    "cl_Phi.modelHalfAir = modelHalfAir\n",
    "cl_Phi.orientation = 0\n",
    "\n",
    "\n",
    "def calcMultiscale(useGradients=True, drawPhis=True):\n",
    "\n",
    "    # microshape functions\n",
    "    orderPhi = [\n",
    "            cl_Phi(1, fes_order=order0, material=\"multiscale\", dirichlet=\"\", useGradients=useGradients), \n",
    "            # cl_Phi(2, fes_order=order0, material=\"multiscale\", dirichlet=\"iright_outer|ileft_outer|iright|ileft\", inAir=False, modelHalfAir=False), \n",
    "            # cl_Phi(2, fes_order=order0, material=\"multiscale\", dirichlet=\"iright_outer|ileft_outer|iright|ileft\", inIron=False, modelHalfAir=False), \n",
    "        ]\n",
    "\n",
    "    if drawPhis:\n",
    "        cl_Phi.plotEvaluated(orderPhi)\n",
    "\n",
    "    VSpace = []\n",
    "    # u0 \n",
    "    VSpace.append(H1(meshMS, order=order0, dirichlet=\"right|left\")) \n",
    "        \n",
    "    # ui * phi i\n",
    "    for phi_i in orderPhi: \n",
    "        VSpace.append(H1(meshMS, order=phi_i.fes_oder, definedon=meshMS.Materials(phi_i.material), dirichlet=phi_i.dirichlet))\n",
    "    VSpace = FESpace(VSpace)\n",
    "\n",
    "\n",
    "    # multiscale container\n",
    "    ansatz = \"\"\n",
    "    sol = GridFunction(VSpace, \"sol\")\n",
    "       \n",
    "\n",
    "    cl_gradgradMS = gradgradMS(orderPhi, sol, addPhi0Outer=True)\n",
    "\n",
    "    a = BilinearForm(VSpace, symmetric=True)\n",
    "    f = LinearForm(VSpace)\n",
    "\n",
    "    a += lambda1  * grad(cl_gradgradMS.trials[0]) * grad(cl_gradgradMS.tests[0]) * dx(\"outer\")\n",
    "    a += getIntegrand4BFI(cl_gradgradMS.gradu, cl_gradgradMS.gradv, lambda2, lambda1, force_full_Phi=True) * dx(\"multiscale|smoothFrame\")\n",
    "\n",
    "\n",
    "    # h = specialcf.mesh_size\n",
    "    # um = sum([cl_gradgradMS.u[i][0] * cl_gradgradMS.u[i][1] for i in range(len(cl_gradgradMS.u))])\n",
    "    # vm = sum([cl_gradgradMS.v[i][0] * cl_gradgradMS.v[i][1] for i in range(len(cl_gradgradMS.v))])\n",
    "    # if True:\n",
    "    #     # a += 4*order0**2/h * (um - cl_gradgradMS.trials[0])* (vm - cl_gradgradMS.tests[0]) * ds(\"ileft|iright\", skeleton=True)\n",
    "    #     a += 4*order0**2/h * (um - cl_gradgradMS.trials[0])* (vm - cl_gradgradMS.tests[0]) * ds(\"ileft_outer|iright_outer\")\n",
    "    \n",
    "\n",
    "\n",
    "    prec = Preconditioner(a,type=\"direct\")  \n",
    "\n",
    "\n",
    "    # dirichlet boundary values\n",
    "    sol.components[0].Set(1 * x/Norm(x), BND)\n",
    "    \n",
    "    solvers.BVP(bf = a, lf= f, pre=prec, gf=sol, maxsteps=10)\n",
    "\n",
    "    energy =  Integrate(getIntegrand4BFI(cl_gradgradMS.gradsol_pack, cl_gradgradMS.gradsol_pack, lambda2, lambda1), meshMS, \n",
    "                                                    definedon=meshMS.Materials(\"multiscale|smoothFrame\"))\n",
    "    \n",
    "    return sol, cl_gradgradMS.sol_pack, cl_gradgradMS.sol_comp, cl_gradgradMS.gradsol_comp, energy, cl_gradgradMS\n",
    "\n",
    "    \n",
    "\n",
    "sol_MS, sol_pack_MS, sol_comp_MS, H_comp,    energy_MS, cl_gradgradMS = calcMultiscale(False, drawPhis=False)\n",
    "print(energy_MS)\n",
    "print(Integrate(Norm(sum(sol_comp_MS) - sol_ref), meshRef))\n"
   ]
  },
  {
   "cell_type": "code",
   "execution_count": 9,
   "metadata": {},
   "outputs": [
    {
     "data": {
      "application/vnd.jupyter.widget-view+json": {
       "model_id": "5d4f98a4bfdf44189c29c97d8e93d91a",
       "version_major": 2,
       "version_minor": 0
      },
      "image/png": "[encoded data removed]",
      "text/html": [
       "\n",
       "            <div style=\"display: inline-block;\">\n",
       "                <div class=\"jupyter-widgets widget-label\" style=\"text-align: center;\">\n",
       "                    Figure\n",
       "                </div>\n",
       "                <img src='data:image/png;base64,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' width=640.0/>\n",
       "            </div>\n",
       "        "
      ],
      "text/plain": [
       "Canvas(toolbar=Toolbar(toolitems=[('Home', 'Reset original view', 'home', 'home'), ('Back', 'Back to previous …"
      ]
     },
     "metadata": {},
     "output_type": "display_data"
    }
   ],
   "source": [
    "from myPackage import evalOnLine\n",
    "import matplotlib.pyplot as plt\n",
    "start = -d/2*1.01\n",
    "end = -d/2*0.9\n",
    "\n",
    "# start = d/2*0.95\n",
    "# end = d/2*1.02\n",
    "\n",
    "\n",
    "\n",
    "start = -D/2\n",
    "end = D/2\n",
    "\n",
    "evalOnLine(sol_ref , meshRef, [start, 0, 0], [end, 0, 0], plot=True, ls='-', marker=\"x\", show=False, label=\"ref\", N = 3000);\n",
    "tmp, _, _ = evalOnLine(sum(sol_comp_MS) , meshRef, [start, 0, 0], [end, 0, 0], plot=True, ls='-', marker=\"x\", clear=False, label=\"MS\", show=False, N=3000);\n",
    "\n",
    "plt.legend()\n",
    "plt.show()"
   ]
  },
  {
   "cell_type": "code",
   "execution_count": 10,
   "metadata": {},
   "outputs": [
    {
     "name": "stdout",
     "output_type": "stream",
     "text": [
      "0.00022336884418807295\n",
      "<class 'ngsolve.comp.ComponentGridFunction'>\n"
     ]
    },
    {
     "data": {
      "application/vnd.jupyter.widget-view+json": {
       "model_id": "68da61c8f7af4aac993661b286f2483a",
       "version_major": 2,
       "version_minor": 0
      },
      "text/plain": [
       "WebGuiWidget(layout=Layout(height='500px', width='100%'), value={'gui_settings': {'Objects': {'Wireframe': Tru…"
      ]
     },
     "metadata": {},
     "output_type": "display_data"
    },
    {
     "data": {
      "text/plain": [
       "BaseWebGuiScene"
      ]
     },
     "execution_count": 10,
     "metadata": {},
     "output_type": "execute_result"
    }
   ],
   "source": [
    "print(Integrate(Norm(sum(sol_comp_MS) - sol_ref), meshRef))\n",
    "print(type(sol_pack_MS[0][0]))\n",
    "Draw(sol_pack_MS[1][0] , meshMS, settings={\"Objects\":{\"Wireframe\":True}, \"deformation\": 1})\n",
    "\n"
   ]
  },
  {
   "cell_type": "code",
   "execution_count": null,
   "metadata": {},
   "outputs": [],
   "source": []
  },
  {
   "cell_type": "code",
   "execution_count": 11,
   "metadata": {},
   "outputs": [
    {
     "data": {
      "application/vnd.jupyter.widget-view+json": {
       "model_id": "f067e6a5061e4aadbf64ea5bd94d03d1",
       "version_major": 2,
       "version_minor": 0
      },
      "text/plain": [
       "WebGuiWidget(layout=Layout(height='500px', width='100%'), value={'gui_settings': {'Objects': {'Wireframe': Fal…"
      ]
     },
     "metadata": {},
     "output_type": "display_data"
    },
    {
     "data": {
      "text/plain": [
       "BaseWebGuiScene"
      ]
     },
     "execution_count": 11,
     "metadata": {},
     "output_type": "execute_result"
    }
   ],
   "source": [
    "Draw(-lam * sum(H_comp)[0], meshRef, settings={\"Objects\":{\"Wireframe\":False}}, min = 0,  max = 150)"
   ]
  },
  {
   "cell_type": "code",
   "execution_count": 12,
   "metadata": {},
   "outputs": [
    {
     "data": {
      "application/vnd.jupyter.widget-view+json": {
       "model_id": "ff03dbe473b444ae9719bc553426f74c",
       "version_major": 2,
       "version_minor": 0
      },
      "text/plain": [
       "WebGuiWidget(layout=Layout(height='500px', width='100%'), value={'gui_settings': {'Objects': {'Wireframe': Fal…"
      ]
     },
     "metadata": {},
     "output_type": "display_data"
    },
    {
     "data": {
      "text/plain": [
       "BaseWebGuiScene"
      ]
     },
     "execution_count": 12,
     "metadata": {},
     "output_type": "execute_result"
    }
   ],
   "source": [
    "\n",
    "Draw(lam * grad(sol_ref)[0], meshRef, min = 0, max=150, settings={\"Objects\":{\"Wireframe\":False}})"
   ]
  },
  {
   "cell_type": "code",
   "execution_count": 13,
   "metadata": {},
   "outputs": [
    {
     "name": "stdout",
     "output_type": "stream",
     "text": [
      "energy multiscale 0.8891848890532127\n",
      "energy reference 7.053763277883365e-26\n"
     ]
    }
   ],
   "source": [
    "print(\"energy multiscale\", energy_MS)\n",
    "print(\"energy reference\", energy_ref)"
   ]
  },
  {
   "cell_type": "code",
   "execution_count": 14,
   "metadata": {},
   "outputs": [
    {
     "name": "stdout",
     "output_type": "stream",
     "text": [
      "iron\n",
      "gap\n",
      "air\n"
     ]
    }
   ],
   "source": [
    "myPhi = cl_Phi(0, fes_order=0).phi\n"
   ]
  },
  {
   "cell_type": "code",
   "execution_count": 15,
   "metadata": {},
   "outputs": [
    {
     "name": "stdout",
     "output_type": "stream",
     "text": [
      "Help on Lobatto in module cempy.phiFunctions object:\n",
      "\n",
      "class Lobatto(PhiFunction)\n",
      " |  Lobatto polynomials\n",
      " |  \n",
      " |  Method resolution order:\n",
      " |      Lobatto\n",
      " |      PhiFunction\n",
      " |      ngsolve.fem.CoefficientFunction\n",
      " |      pybind11_builtins.pybind11_object\n",
      " |      builtins.object\n",
      " |  \n",
      " |  Methods defined here:\n",
      " |  \n",
      " |  __eq__(...)\n",
      " |      __eq__(self: cempy.phiFunctions.Lobatto, arg0: cempy.phiFunctions.Lobatto) -> bool\n",
      " |  \n",
      " |  __init__(...)\n",
      " |      __init__(self: cempy.phiFunctions.Lobatto, xstart: float, d: float, iOrder: int, numSheets: int, ff: float, coordinate: int, inIron: bool = True, inAir: bool = True, inOuter: bool = True, douter: float = nan, fullPhi: bool = False, modelHalfAir: bool = True) -> None\n",
      " |  \n",
      " |  ----------------------------------------------------------------------\n",
      " |  Readonly properties defined here:\n",
      " |  \n",
      " |  order\n",
      " |  \n",
      " |  ----------------------------------------------------------------------\n",
      " |  Data descriptors defined here:\n",
      " |  \n",
      " |  __dict__\n",
      " |  \n",
      " |  ----------------------------------------------------------------------\n",
      " |  Data and other attributes defined here:\n",
      " |  \n",
      " |  __hash__ = None\n",
      " |  \n",
      " |  ----------------------------------------------------------------------\n",
      " |  Methods inherited from PhiFunction:\n",
      " |  \n",
      " |  DirectEvaluate(...)\n",
      " |      DirectEvaluate(self: cempy.phiFunctions.PhiFunction, arg0: float) -> float\n",
      " |  \n",
      " |  __str__(...)\n",
      " |      __str__(self: cempy.phiFunctions.PhiFunction) -> str\n",
      " |  \n",
      " |  centerValue(...)\n",
      " |      centerValue(self: cempy.phiFunctions.PhiFunction, inAir: bool = False) -> float\n",
      " |  \n",
      " |  getPlotData(...)\n",
      " |      getPlotData(self: cempy.phiFunctions.PhiFunction, numPoints: int = 30) -> List[Tuple[float, float]]\n",
      " |  \n",
      " |  isIron(...)\n",
      " |      isIron(self: cempy.phiFunctions.PhiFunction, arg0: float) -> bool\n",
      " |  \n",
      " |  ----------------------------------------------------------------------\n",
      " |  Readonly properties inherited from PhiFunction:\n",
      " |  \n",
      " |  coordinate\n",
      " |  \n",
      " |  d\n",
      " |  \n",
      " |  d0\n",
      " |  \n",
      " |  dFe\n",
      " |  \n",
      " |  douter\n",
      " |  \n",
      " |  ff\n",
      " |  \n",
      " |  fullPhi\n",
      " |  \n",
      " |  inAir\n",
      " |  \n",
      " |  inIron\n",
      " |  \n",
      " |  inOuter\n",
      " |  \n",
      " |  mean\n",
      " |  \n",
      " |  modelHalfAir\n",
      " |  \n",
      " |  name\n",
      " |  \n",
      " |  numSheets\n",
      " |  \n",
      " |  orientation\n",
      " |  \n",
      " |  xEnd\n",
      " |  \n",
      " |  xStart\n",
      " |  \n",
      " |  ----------------------------------------------------------------------\n",
      " |  Methods inherited from ngsolve.fem.CoefficientFunction:\n",
      " |  \n",
      " |  Compile(...)\n",
      " |      Compile(self: ngsolve.fem.CoefficientFunction, realcompile: bool = False, maxderiv: int = 2, wait: bool = False, keep_files: bool = False) -> ngsolve.fem.CoefficientFunction\n",
      " |      \n",
      " |      \n",
      " |      Compile list of individual steps, experimental improvement for deep trees\n",
      " |      \n",
      " |      Parameters:\n",
      " |      \n",
      " |      realcompile : bool\n",
      " |        True -> Compile to C++ code\n",
      " |      \n",
      " |      maxderiv : int\n",
      " |        input maximal derivative\n",
      " |      \n",
      " |      wait : bool\n",
      " |        True -> Waits until the previous Compile call is finished before start compiling\n",
      " |      \n",
      " |      keep_files : bool\n",
      " |        True -> Keep temporary files\n",
      " |  \n",
      " |  Derive(...)\n",
      " |      Derive(self: ngsolve.fem.CoefficientFunction, variable: ngsolve.fem.CoefficientFunction, direction: ngsolve.fem.CoefficientFunction = 1.0) -> ngsolve.fem.CoefficientFunction\n",
      " |      \n",
      " |      depricated: use 'Diff' instead\n",
      " |  \n",
      " |  Diff(...)\n",
      " |      Diff(self: ngsolve.fem.CoefficientFunction, variable: ngsolve.fem.CoefficientFunction, direction: ngsolve.fem.CoefficientFunction = None) -> ngsolve.fem.CoefficientFunction\n",
      " |      \n",
      " |      Compute directional derivative with respect to variable\n",
      " |  \n",
      " |  DiffShape(...)\n",
      " |      DiffShape(self: ngsolve.fem.CoefficientFunction, direction: ngsolve.fem.CoefficientFunction = 1.0, Eulerian: List[ngsolve.fem.CoefficientFunction] = []) -> ngsolve.fem.CoefficientFunction\n",
      " |      \n",
      " |      Compute shape derivative in direction\n",
      " |  \n",
      " |  Eig(...)\n",
      " |      Eig(self: ngsolve.fem.CoefficientFunction) -> ngsolve.fem.CoefficientFunction\n",
      " |      \n",
      " |      Returns eigenvectors and eigenvalues of matrix-valued CF\n",
      " |  \n",
      " |  ExtendDimension(...)\n",
      " |      ExtendDimension(self: ngsolve.fem.CoefficientFunction, dims: tuple, pos: Optional[tuple] = None, stride: Optional[tuple] = None) -> ngsolve.fem.CoefficientFunction\n",
      " |      \n",
      " |      Extend shape by 0-padding\n",
      " |  \n",
      " |  Freeze(...)\n",
      " |      Freeze(self: ngsolve.fem.CoefficientFunction) -> ngsolve.fem.CoefficientFunction\n",
      " |      \n",
      " |      don't differentiate this expression\n",
      " |  \n",
      " |  InnerProduct(...)\n",
      " |      InnerProduct(self: ngsolve.fem.CoefficientFunction, cf: ngsolve.fem.CoefficientFunction) -> ngsolve.fem.CoefficientFunction\n",
      " |      \n",
      " |       \n",
      " |      Returns InnerProduct with another CoefficientFunction.\n",
      " |      \n",
      " |      Parameters:\n",
      " |      \n",
      " |      cf : ngsolve.CoefficientFunction\n",
      " |        input CoefficientFunction\n",
      " |  \n",
      " |  MakeVariable(...)\n",
      " |      MakeVariable(self: ngsolve.fem.CoefficientFunction) -> ngsolve.fem.CoefficientFunction\n",
      " |      \n",
      " |      make node a variable, by which we can differentiate\n",
      " |  \n",
      " |  Norm(...)\n",
      " |      Norm(self: ngsolve.fem.CoefficientFunction) -> ngsolve.fem.CoefficientFunction\n",
      " |      \n",
      " |      Returns Norm of the CF\n",
      " |  \n",
      " |  Operator(...)\n",
      " |      Operator(self: ngsolve.fem.CoefficientFunction, arg0: str) -> ngsolve.fem.CoefficientFunction\n",
      " |  \n",
      " |  Other(...)\n",
      " |      Other(self: ngsolve.fem.CoefficientFunction) -> ngsolve.fem.CoefficientFunction\n",
      " |      \n",
      " |      Evaluate on other element, as needed for DG jumps\n",
      " |  \n",
      " |  Reshape(...)\n",
      " |      Reshape(self: ngsolve.fem.CoefficientFunction, arg0: tuple) -> ngsolve.fem.CoefficientFunction\n",
      " |      \n",
      " |      reshape CF:  (dim) for vector, (h,w) for matrix\n",
      " |  \n",
      " |  TensorTranspose(...)\n",
      " |      TensorTranspose(self: ngsolve.fem.CoefficientFunction, arg0: tuple) -> ngsolve.fem.CoefficientFunction\n",
      " |  \n",
      " |  __add__(...)\n",
      " |      __add__(*args, **kwargs)\n",
      " |      Overloaded function.\n",
      " |      \n",
      " |      1. __add__(self: ngsolve.fem.CoefficientFunction, cf: ngsolve.fem.CoefficientFunction) -> ngsolve.fem.CoefficientFunction\n",
      " |      \n",
      " |      2. __add__(self: ngsolve.fem.CoefficientFunction, value: float) -> ngsolve.fem.CoefficientFunction\n",
      " |      \n",
      " |      3. __add__(self: ngsolve.fem.CoefficientFunction, value: complex) -> ngsolve.fem.CoefficientFunction\n",
      " |  \n",
      " |  __call__(...)\n",
      " |      __call__(*args, **kwargs)\n",
      " |      Overloaded function.\n",
      " |      \n",
      " |      1. __call__(self: ngsolve.fem.CoefficientFunction, mip: ngsolve.fem.BaseMappedIntegrationPoint) -> object\n",
      " |      \n",
      " |      evaluate CF at a mapped integrationpoint mip. mip can be generated by calling mesh(x,y,z)\n",
      " |      \n",
      " |      2. __call__(self: ngsolve.fem.CoefficientFunction, x: float, y: Optional[float] = None, z: Optional[float] = None) -> ngcomp::PointEvaluationFunctional\n",
      " |      \n",
      " |      3. __call__(self: ngsolve.fem.CoefficientFunction, arg0: ngsolve.fem.CoordinateTrafo) -> ngsolve.fem.CoefficientFunction\n",
      " |      \n",
      " |      4. __call__(self: ngsolve.fem.CoefficientFunction, arg0: ngsolve.fem.MeshPoint) -> object\n",
      " |      \n",
      " |      5. __call__(self: ngsolve.fem.CoefficientFunction, arg0: numpy.ndarray[ngsolve.fem.MeshPoint]) -> numpy.ndarray\n",
      " |  \n",
      " |  __getitem__(...)\n",
      " |      __getitem__(*args, **kwargs)\n",
      " |      Overloaded function.\n",
      " |      \n",
      " |      1. __getitem__(self: ngsolve.fem.CoefficientFunction, comp: int) -> ngsolve.fem.CoefficientFunction\n",
      " |      \n",
      " |      returns component comp of vectorial CF\n",
      " |      \n",
      " |      2. __getitem__(self: ngsolve.fem.CoefficientFunction, components: slice) -> ngsolve.fem.CoefficientFunction\n",
      " |      \n",
      " |      3. __getitem__(self: ngsolve.fem.CoefficientFunction, arg0: tuple) -> ngsolve.fem.CoefficientFunction\n",
      " |  \n",
      " |  __getstate__(...)\n",
      " |      __getstate__(self: ngsolve.fem.CoefficientFunction) -> tuple\n",
      " |  \n",
      " |  __mul__(...)\n",
      " |      __mul__(*args, **kwargs)\n",
      " |      Overloaded function.\n",
      " |      \n",
      " |      1. __mul__(self: ngsolve.fem.CoefficientFunction, cf: ngsolve.fem.CoefficientFunction) -> ngsolve.fem.CoefficientFunction\n",
      " |      \n",
      " |      2. __mul__(self: ngsolve.fem.CoefficientFunction, value: float) -> ngsolve.fem.CoefficientFunction\n",
      " |      \n",
      " |      3. __mul__(self: ngsolve.fem.CoefficientFunction, value: complex) -> ngsolve.fem.CoefficientFunction\n",
      " |      \n",
      " |      4. __mul__(self: ngsolve.fem.CoefficientFunction, arg0: ngfem::DifferentialSymbol) -> ngfem::SumOfIntegrals\n",
      " |  \n",
      " |  __neg__(...)\n",
      " |      __neg__(self: ngsolve.fem.CoefficientFunction) -> ngsolve.fem.CoefficientFunction\n",
      " |  \n",
      " |  __pow__(...)\n",
      " |      __pow__(*args, **kwargs)\n",
      " |      Overloaded function.\n",
      " |      \n",
      " |      1. __pow__(self: ngsolve.fem.CoefficientFunction, exponent: int) -> ngsolve.fem.CoefficientFunction\n",
      " |      \n",
      " |      2. __pow__(self: ngsolve.fem.CoefficientFunction, arg0: float) -> object\n",
      " |      \n",
      " |      3. __pow__(self: ngsolve.fem.CoefficientFunction, arg0: ngsolve.fem.CoefficientFunction) -> object\n",
      " |  \n",
      " |  __radd__(...)\n",
      " |      __radd__(*args, **kwargs)\n",
      " |      Overloaded function.\n",
      " |      \n",
      " |      1. __radd__(self: ngsolve.fem.CoefficientFunction, value: float) -> ngsolve.fem.CoefficientFunction\n",
      " |      \n",
      " |      2. __radd__(self: ngsolve.fem.CoefficientFunction, value: complex) -> ngsolve.fem.CoefficientFunction\n",
      " |  \n",
      " |  __rmul__(...)\n",
      " |      __rmul__(*args, **kwargs)\n",
      " |      Overloaded function.\n",
      " |      \n",
      " |      1. __rmul__(self: ngsolve.fem.CoefficientFunction, value: float) -> ngsolve.fem.CoefficientFunction\n",
      " |      \n",
      " |      2. __rmul__(self: ngsolve.fem.CoefficientFunction, value: complex) -> ngsolve.fem.CoefficientFunction\n",
      " |  \n",
      " |  __rpow__(...)\n",
      " |      __rpow__(self: ngsolve.fem.CoefficientFunction, arg0: float) -> object\n",
      " |  \n",
      " |  __rsub__(...)\n",
      " |      __rsub__(self: ngsolve.fem.CoefficientFunction, value: float) -> ngsolve.fem.CoefficientFunction\n",
      " |  \n",
      " |  __rtruediv__(...)\n",
      " |      __rtruediv__(*args, **kwargs)\n",
      " |      Overloaded function.\n",
      " |      \n",
      " |      1. __rtruediv__(self: ngsolve.fem.CoefficientFunction, value: float) -> ngsolve.fem.CoefficientFunction\n",
      " |      \n",
      " |      2. __rtruediv__(self: ngsolve.fem.CoefficientFunction, value: complex) -> ngsolve.fem.CoefficientFunction\n",
      " |  \n",
      " |  __setstate__(...)\n",
      " |      __setstate__(self: ngsolve.fem.CoefficientFunction, arg0: tuple) -> None\n",
      " |  \n",
      " |  __sub__(...)\n",
      " |      __sub__(*args, **kwargs)\n",
      " |      Overloaded function.\n",
      " |      \n",
      " |      1. __sub__(self: ngsolve.fem.CoefficientFunction, cf: ngsolve.fem.CoefficientFunction) -> ngsolve.fem.CoefficientFunction\n",
      " |      \n",
      " |      2. __sub__(self: ngsolve.fem.CoefficientFunction, value: float) -> ngsolve.fem.CoefficientFunction\n",
      " |  \n",
      " |  __truediv__(...)\n",
      " |      __truediv__(*args, **kwargs)\n",
      " |      Overloaded function.\n",
      " |      \n",
      " |      1. __truediv__(self: ngsolve.fem.CoefficientFunction, cf: ngsolve.fem.CoefficientFunction) -> ngsolve.fem.CoefficientFunction\n",
      " |      \n",
      " |      2. __truediv__(self: ngsolve.fem.CoefficientFunction, value: float) -> ngsolve.fem.CoefficientFunction\n",
      " |      \n",
      " |      3. __truediv__(self: ngsolve.fem.CoefficientFunction, value: complex) -> ngsolve.fem.CoefficientFunction\n",
      " |  \n",
      " |  ----------------------------------------------------------------------\n",
      " |  Readonly properties inherited from ngsolve.fem.CoefficientFunction:\n",
      " |  \n",
      " |  data\n",
      " |  \n",
      " |  dim\n",
      " |      number of components of CF\n",
      " |  \n",
      " |  imag\n",
      " |      imaginary part of CF\n",
      " |  \n",
      " |  is_complex\n",
      " |      is CoefficientFunction complex-valued ?\n",
      " |  \n",
      " |  real\n",
      " |      real part of CF\n",
      " |  \n",
      " |  shape\n",
      " |      shape of CF\n",
      " |  \n",
      " |  trans\n",
      " |      transpose of matrix-valued CF\n",
      " |  \n",
      " |  ----------------------------------------------------------------------\n",
      " |  Data descriptors inherited from ngsolve.fem.CoefficientFunction:\n",
      " |  \n",
      " |  dims\n",
      " |      shape of CF:  (dim) for vector, (h,w) for matrix\n",
      " |  \n",
      " |  spacedim\n",
      " |  \n",
      " |  ----------------------------------------------------------------------\n",
      " |  Static methods inherited from pybind11_builtins.pybind11_object:\n",
      " |  \n",
      " |  __new__(*args, **kwargs) from pybind11_builtins.pybind11_type\n",
      " |      Create and return a new object.  See help(type) for accurate signature.\n",
      "\n"
     ]
    }
   ],
   "source": [
    "help(myPhi)"
   ]
  },
  {
   "cell_type": "code",
   "execution_count": 16,
   "metadata": {},
   "outputs": [],
   "source": [
    "def createPhiCF(x_CF, y_CF, size_all=[40, 40], size_core=[20, 20], num_sheets=10, ratio_medium2total=0.9):\n",
    "    # widthes of medium and air\n",
    "    width_core_medium = size_core[0]/num_sheets * ratio_medium2total\n",
    "    width_core_air = size_core[0]/(num_sheets-1) * (1-ratio_medium2total)\n",
    "    width_core_single = width_core_medium + width_core_air\n",
    "\n",
    "    # total mask\n",
    "    x_test_min = IfPos(x_CF + size_core[0]/2, 1, 0)\n",
    "    x_test_max = IfPos(x_CF - size_core[0]/2, 0, 1)\n",
    "\n",
    "    y_test_min = IfPos(y_CF + size_core[1]/2, 1, 0)\n",
    "    y_test_max = IfPos(y_CF - size_core[1]/2, 0, 1)\n",
    "\n",
    "    # dx\n",
    "    dx_medium = 2/width_core_medium\n",
    "    dx_air = -2/width_core_air\n",
    "\n",
    "    # start point\n",
    "    x_min_coordinate = -size_core[0]/2\n",
    "    \n",
    "\n",
    "    Phi_CF = 0\n",
    "    dxPhi_CF = 0\n",
    "    #   Medium_CF = 0\n",
    "    \n",
    "    for i in range(0, num_sheets):\n",
    "        # for air\n",
    "        x_max = IfPos(x_CF - x_min_coordinate - (i+1) * width_core_single , 0, 1)                      # air\n",
    "        x_mid_max = IfPos(x_CF - x_min_coordinate - i * width_core_single - width_core_medium, 1, 0)\n",
    "        # air =1 -> x_max*x_mid_max\n",
    "\n",
    "        # for medium\n",
    "        x_mid_min = IfPos(x_CF - x_min_coordinate - i * width_core_single - width_core_medium, 0, 1)    # medium\n",
    "        x_min = IfPos(x_CF - x_min_coordinate - i * width_core_single, 1, 0)\n",
    "\n",
    "        \n",
    "        # medium zick zack\n",
    "        Phi_CF += (dx_medium*(x_CF - x_min_coordinate - i * width_core_single) - 1)*(x_min*x_mid_min)       \n",
    "        dxPhi_CF += dx_medium * (x_min*x_mid_min)    \n",
    "        #   Medium_CF += x_min*x_mid_min \n",
    "        # air zickzack\n",
    "        if i != num_sheets -1:\n",
    "            Phi_CF += (dx_air*(x_CF - x_min_coordinate - i * width_core_single - width_core_medium) + 1)*(x_max*x_mid_max) \n",
    "            dxPhi_CF += dx_air * (x_max*x_mid_max)\n",
    "    # mask zick zack to medium\n",
    "    Phi_CF *= x_test_max * x_test_min * y_test_min * y_test_max\n",
    "    dxPhi_CF *= x_test_max * x_test_min * y_test_min * y_test_max\n",
    "    #    Medium_CF *= x_test_max * x_test_min * y_test_min * y_test_max\n",
    "\n",
    "    # Phi_CF... ZickZack function\n",
    "    # dxPhi_CF = derivation\n",
    "    return Phi_CF, dxPhi_CF#, Medium_CF\n"
   ]
  },
  {
   "cell_type": "code",
   "execution_count": 39,
   "metadata": {},
   "outputs": [],
   "source": [
    "class pydxLobatto(pyPhiFunction):\n",
    "    def __init__(self, zstart, d, order, numSheets, ff, orientation, inIron=True, inAir=True, inOuter=False, douter=None, modelHalfAir=True): \n",
    "        xs = (d0/2 + dFe/2)\n",
    "        self.dxFunDict = {\n",
    "            0: [lambda x : CF(0), lambda x : CF(0)],\n",
    "            1: [lambda x : 2.0/dFe , lambda x : -2.0/d0 ],\n",
    "            2: [lambda x : sqrt(3.0/8)*(8/(dFe**2) *x), lambda x : sqrt(3.0/8)*(8/(d0**2) *(x-dFe/2-d0/2))]\n",
    "        }   \n",
    "\n",
    "        super.__init__(self, zstart, d, self.dxFunDict[order], numSheets, ff, orientation, inIron=inIron, inAir=inAir, inOuter=inOuter, douter=dOuter, modelHalfAir=modelHalfAir, name=\"pydxLobatto\")\n",
    "\n",
    "class pyLobatto(pyPhiFunction):\n",
    "    def __init__(self, zstart, d, order, numSheets, ff, orientation, inIron=True, inAir=True, inOuter=False, douter=None, modelHalfAir=True): \n",
    "        xs = (d0/2 + dFe/2)\n",
    "        self.funDict = {\n",
    "            0: [lambda x : CF(1), lambda x : CF(1)],\n",
    "            1: [lambda x :  2.0/dFe * x, lambda x : -2.0/d0 * (x - xs)],\n",
    "            2: [lambda x : sqrt(3.0/8) * (4/(dFe**2) *(x**2)- 1), lambda x : sqrt(3.0/8) * (4/(d0**2)*((x-xs)**2)- 1)]\n",
    "        }\n",
    "\n",
    "        super.__init__(self, zstart, d, self.funDict[order], numSheets, ff, orientation, inIron=inIron, inAir=inAir, inOuter=inOuter, douter=dOuter, modelHalfAir=modelHalfAir, name=\"pyLobatto\")\n",
    "\n",
    "        \n",
    "\n",
    "class pyPhiFunction(CF):\n",
    "\n",
    "    def __init__(self, zstart, d, fun, numSheets, ff, orientation, inIron=True, inAir=True, inOuter=False, douter=None, modelHalfAir=True, name = \"pyPhiFunction\"):\n",
    "        self.zstart = zstart\n",
    "        self.d = d\n",
    "        self.fun = fun\n",
    "        self.numSheets = numSheets\n",
    "        self.ff = ff\n",
    "        self.orientation = orientation\n",
    "        self.inIron = inIron\n",
    "        self.inAir = inAir\n",
    "        self.inOuter = inOuter\n",
    "        self.douter = douter\n",
    "        self.modelHalfAir=modelHalfAir\n",
    "\n",
    "        self.dFe = d*ff\n",
    "        self.d0 = d*(1-ff)\n",
    "\n",
    "        self.name = name\n",
    "\n",
    "\n",
    "\n",
    "        self.createMask()\n",
    "        self.createLocX()\n",
    "        self.fun = fun\n",
    "            \n",
    "        super(self.createCFs())\n",
    "\n",
    "\n",
    "    def createMask(self):\n",
    "        x_CF = (x, y, z)[self.orientation]\n",
    "        if self.modelHalfAir:\n",
    "            self.mask = IfPos(x_CF - self.zstart, IfPos(x_CF + self.zstart, 0, 1), 0) \n",
    "        else:\n",
    "            self.mask = IfPos(x_CF - self.zstart - self.d0/2, IfPos(x_CF + self.zstart + self.d0/2, 0, 1), 0) \n",
    "    def createCFs(self):\n",
    "\n",
    "        funFe = self.fun[0] if self.inIron else lambda x : CF(0)\n",
    "        funAir = self.fun[1] if self.inAir else lambda x : CF(0)\n",
    "\n",
    "        # dxfunFe = self.dxfun[0] if self.inIron else lambda x : CF(0)\n",
    "        # dxfunAir = self.dxfun[1] if self.inAir else lambda x : CF(0)\n",
    "\n",
    "        self.phi = IfPos(self.localX - self.dFe/2, funAir(self.localX), funFe(self.localX)) * self.mask\n",
    "        # self.dzphi = IfPos(self.localX - self.dFe/2, dxfunAir(self.localX), dxfunFe(self.localX)) * self.mask\n",
    "        return self.phi #, self.dzphi\n",
    "\n",
    "\n",
    "    def createLocX(self):\n",
    "        # get coordinate\n",
    "        x_CF = (x, y, z)[self.orientation]\n",
    "        # start point\n",
    "\n",
    "        if self.modelHalfAir:\n",
    "            xPos = self.zstart - self.d0/2 - self.dFe\n",
    "            istart = -1\n",
    "        else:\n",
    "            xPos = self.zstart - self.d0/2\n",
    "            istart = 0\n",
    "\n",
    "        ret = CF(0)\n",
    "        for i in range(istart, self.numSheets):\n",
    "\n",
    "            sheetOrigin = x_CF - xPos - self.dFe/2\n",
    "            # ret += IfPos(tmp + self.dFe/2, IfPos(tmp - self.dFe/2 - self.d0, 0, 1), 0)\n",
    "            ret += IfPos(sheetOrigin  + self.dFe/2 , IfPos(sheetOrigin  - self.dFe/2 - self.d0, 0, sheetOrigin), 0)\n",
    "\n",
    "            xPos += self.d0 + self.dFe\n",
    "\n",
    "        ret *= self.mask\n",
    "\n",
    "        self.localX = ret\n",
    "\n",
    "        return self.localX\n",
    "\n",
    "\n",
    "\n",
    "    \n",
    "        \n",
    "\n",
    "cl_Phi.numSheets = numSheets\n",
    "cl_Phi.dFe = cMeshMS.dFe\n",
    "cl_Phi.d0 = cMeshMS.d0\n",
    "cl_Phi.mesh = meshMS\n",
    "\n",
    "cl_Phi.modelHalfAir = True\n",
    "cl_Phi.orientation = 0\n",
    "\n",
    "dSingleSheet = cMeshMS.dFe + cMeshMS.d0\n",
    "\n"
   ]
  },
  {
   "cell_type": "code",
   "execution_count": 40,
   "metadata": {},
   "outputs": [
    {
     "ename": "AttributeError",
     "evalue": "'pyLobatto' object has no attribute 'd0'",
     "output_type": "error",
     "traceback": [
      "\u001b[0;31m---------------------------------------------------------------------------\u001b[0m",
      "\u001b[0;31mAttributeError\u001b[0m                            Traceback (most recent call last)",
      "\u001b[1;32m/home/vhanser/Documents/ngsolveexample/content/multiscale/multiscale2DonlySmooth.ipynb Cell 21\u001b[0m line \u001b[0;36m1\n\u001b[0;32m----> <a href='vscode-notebook-cell:/home/vhanser/Documents/ngsolveexample/content/multiscale/multiscale2DonlySmooth.ipynb#X26sZmlsZQ%3D%3D?line=0'>1</a>\u001b[0m mypyLobatto \u001b[39m=\u001b[39m pyLobatto(\u001b[39m-\u001b[39;49mnumSheets\u001b[39m*\u001b[39;49mdSingleSheet\u001b[39m/\u001b[39;49m\u001b[39m2\u001b[39;49m, dSingleSheet, \u001b[39m2\u001b[39;49m, numSheets, ff, cl_Phi\u001b[39m.\u001b[39;49morientation, modelHalfAir\u001b[39m=\u001b[39;49m\u001b[39mFalse\u001b[39;49;00m, inAir \u001b[39m=\u001b[39;49m \u001b[39mTrue\u001b[39;49;00m)\n\u001b[1;32m      <a href='vscode-notebook-cell:/home/vhanser/Documents/ngsolveexample/content/multiscale/multiscale2DonlySmooth.ipynb#X26sZmlsZQ%3D%3D?line=1'>2</a>\u001b[0m \u001b[39mprint\u001b[39m(cl_Phi\u001b[39m.\u001b[39mdFe)\n\u001b[1;32m      <a href='vscode-notebook-cell:/home/vhanser/Documents/ngsolveexample/content/multiscale/multiscale2DonlySmooth.ipynb#X26sZmlsZQ%3D%3D?line=2'>3</a>\u001b[0m \u001b[39mprint\u001b[39m(myPyPhi(meshRef(\u001b[39m-\u001b[39mdSingleSheet\u001b[39m*\u001b[39mnumSheets\u001b[39m/\u001b[39m\u001b[39m2\u001b[39m \u001b[39m+\u001b[39m cMeshMS\u001b[39m.\u001b[39md0\u001b[39m/\u001b[39m\u001b[39m2\u001b[39m, \u001b[39m0\u001b[39m)), \u001b[39m1\u001b[39m)\n",
      "\u001b[1;32m/home/vhanser/Documents/ngsolveexample/content/multiscale/multiscale2DonlySmooth.ipynb Cell 21\u001b[0m line \u001b[0;36m1\n\u001b[1;32m     <a href='vscode-notebook-cell:/home/vhanser/Documents/ngsolveexample/content/multiscale/multiscale2DonlySmooth.ipynb#X26sZmlsZQ%3D%3D?line=12'>13</a>\u001b[0m \u001b[39mdef\u001b[39;00m \u001b[39m__init__\u001b[39m(\u001b[39mself\u001b[39m, zstart, d, order, numSheets, ff, orientation, inIron\u001b[39m=\u001b[39m\u001b[39mTrue\u001b[39;00m, inAir\u001b[39m=\u001b[39m\u001b[39mTrue\u001b[39;00m, inOuter\u001b[39m=\u001b[39m\u001b[39mFalse\u001b[39;00m, douter\u001b[39m=\u001b[39m\u001b[39mNone\u001b[39;00m, modelHalfAir\u001b[39m=\u001b[39m\u001b[39mTrue\u001b[39;00m): \n\u001b[0;32m---> <a href='vscode-notebook-cell:/home/vhanser/Documents/ngsolveexample/content/multiscale/multiscale2DonlySmooth.ipynb#X26sZmlsZQ%3D%3D?line=13'>14</a>\u001b[0m     xs \u001b[39m=\u001b[39m (\u001b[39mself\u001b[39;49m\u001b[39m.\u001b[39;49md0\u001b[39m/\u001b[39m\u001b[39m2\u001b[39m \u001b[39m+\u001b[39m \u001b[39mself\u001b[39m\u001b[39m.\u001b[39mdFe\u001b[39m/\u001b[39m\u001b[39m2\u001b[39m)\n\u001b[1;32m     <a href='vscode-notebook-cell:/home/vhanser/Documents/ngsolveexample/content/multiscale/multiscale2DonlySmooth.ipynb#X26sZmlsZQ%3D%3D?line=14'>15</a>\u001b[0m     \u001b[39mself\u001b[39m\u001b[39m.\u001b[39mfunDict \u001b[39m=\u001b[39m {\n\u001b[1;32m     <a href='vscode-notebook-cell:/home/vhanser/Documents/ngsolveexample/content/multiscale/multiscale2DonlySmooth.ipynb#X26sZmlsZQ%3D%3D?line=15'>16</a>\u001b[0m         \u001b[39m0\u001b[39m: [\u001b[39mlambda\u001b[39;00m x : CF(\u001b[39m1\u001b[39m), \u001b[39mlambda\u001b[39;00m x : CF(\u001b[39m1\u001b[39m)],\n\u001b[1;32m     <a href='vscode-notebook-cell:/home/vhanser/Documents/ngsolveexample/content/multiscale/multiscale2DonlySmooth.ipynb#X26sZmlsZQ%3D%3D?line=16'>17</a>\u001b[0m         \u001b[39m1\u001b[39m: [\u001b[39mlambda\u001b[39;00m x :  \u001b[39m2.0\u001b[39m\u001b[39m/\u001b[39m\u001b[39mself\u001b[39m\u001b[39m.\u001b[39mdFe \u001b[39m*\u001b[39m x, \u001b[39mlambda\u001b[39;00m x : \u001b[39m-\u001b[39m\u001b[39m2.0\u001b[39m\u001b[39m/\u001b[39m\u001b[39mself\u001b[39m\u001b[39m.\u001b[39md0 \u001b[39m*\u001b[39m (x \u001b[39m-\u001b[39m xs)],\n\u001b[1;32m     <a href='vscode-notebook-cell:/home/vhanser/Documents/ngsolveexample/content/multiscale/multiscale2DonlySmooth.ipynb#X26sZmlsZQ%3D%3D?line=17'>18</a>\u001b[0m         \u001b[39m2\u001b[39m: [\u001b[39mlambda\u001b[39;00m x : sqrt(\u001b[39m3.0\u001b[39m\u001b[39m/\u001b[39m\u001b[39m8\u001b[39m) \u001b[39m*\u001b[39m (\u001b[39m4\u001b[39m\u001b[39m/\u001b[39m(\u001b[39mself\u001b[39m\u001b[39m.\u001b[39mdFe\u001b[39m*\u001b[39m\u001b[39m*\u001b[39m\u001b[39m2\u001b[39m) \u001b[39m*\u001b[39m(x\u001b[39m*\u001b[39m\u001b[39m*\u001b[39m\u001b[39m2\u001b[39m)\u001b[39m-\u001b[39m \u001b[39m1\u001b[39m), \u001b[39mlambda\u001b[39;00m x : sqrt(\u001b[39m3.0\u001b[39m\u001b[39m/\u001b[39m\u001b[39m8\u001b[39m) \u001b[39m*\u001b[39m (\u001b[39m4\u001b[39m\u001b[39m/\u001b[39m(\u001b[39mself\u001b[39m\u001b[39m.\u001b[39md0\u001b[39m*\u001b[39m\u001b[39m*\u001b[39m\u001b[39m2\u001b[39m)\u001b[39m*\u001b[39m((x\u001b[39m-\u001b[39mxs)\u001b[39m*\u001b[39m\u001b[39m*\u001b[39m\u001b[39m2\u001b[39m)\u001b[39m-\u001b[39m \u001b[39m1\u001b[39m)]\n\u001b[1;32m     <a href='vscode-notebook-cell:/home/vhanser/Documents/ngsolveexample/content/multiscale/multiscale2DonlySmooth.ipynb#X26sZmlsZQ%3D%3D?line=18'>19</a>\u001b[0m     }\n\u001b[1;32m     <a href='vscode-notebook-cell:/home/vhanser/Documents/ngsolveexample/content/multiscale/multiscale2DonlySmooth.ipynb#X26sZmlsZQ%3D%3D?line=20'>21</a>\u001b[0m     \u001b[39msuper\u001b[39m\u001b[39m.\u001b[39m\u001b[39m__init__\u001b[39m(\u001b[39mself\u001b[39m, zstart, d, \u001b[39mself\u001b[39m\u001b[39m.\u001b[39mfunDict[order], numSheets, ff, orientation, inIron\u001b[39m=\u001b[39minIron, inAir\u001b[39m=\u001b[39minAir, inOuter\u001b[39m=\u001b[39minOuter, douter\u001b[39m=\u001b[39mdOuter, modelHalfAir\u001b[39m=\u001b[39mmodelHalfAir, name\u001b[39m=\u001b[39m\u001b[39m\"\u001b[39m\u001b[39mpyLobatto\u001b[39m\u001b[39m\"\u001b[39m)\n",
      "\u001b[0;31mAttributeError\u001b[0m: 'pyLobatto' object has no attribute 'd0'"
     ]
    }
   ],
   "source": [
    "mypyLobatto = pyLobatto(-numSheets*dSingleSheet/2, dSingleSheet, 2, numSheets, ff, cl_Phi.orientation, modelHalfAir=False, inAir = True)\n",
    "print(cl_Phi.dFe)\n",
    "print(myPyPhi(meshRef(-dSingleSheet*numSheets/2 + cMeshMS.d0/2, 0)), 1)\n",
    "print(myPyPhi(meshRef(-dSingleSheet*numSheets/2 + cMeshMS.d0/2 + cMeshMS.dFe, 0)), 0)\n",
    "Draw(myPyPhi.phi, meshRef, deformation = True)"
   ]
  },
  {
   "cell_type": "code",
   "execution_count": null,
   "metadata": {},
   "outputs": [],
   "source": []
  }
 ],
 "metadata": {
  "kernelspec": {
   "display_name": "Python 3",
   "language": "python",
   "name": "python3"
  },
  "language_info": {
   "codemirror_mode": {
    "name": "ipython",
    "version": 3
   },
   "file_extension": ".py",
   "mimetype": "text/x-python",
   "name": "python",
   "nbconvert_exporter": "python",
   "pygments_lexer": "ipython3",
   "version": "3.10.12"
  },
  "orig_nbformat": 4
 },
 "nbformat": 4,
 "nbformat_minor": 2
}
