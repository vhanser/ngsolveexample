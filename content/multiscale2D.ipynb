{
 "cells": [
  {
   "cell_type": "code",
   "execution_count": 1,
   "metadata": {},
   "outputs": [],
   "source": [
    "from netgen.occ import *\n",
    "from ngsolve import *\n",
    "from netgen.meshing import IdentificationType\n",
    "from MS_helper_functions import *\n",
    "from netgen.webgui import Draw as DrawGeo\n",
    "from ngsolve.webgui import Draw"
   ]
  },
  {
   "cell_type": "code",
   "execution_count": 2,
   "metadata": {},
   "outputs": [],
   "source": [
    "lambda1 = 1\n",
    "lambda2 = 1000\n",
    "\n",
    "order0 = 2"
   ]
  },
  {
   "cell_type": "code",
   "execution_count": 3,
   "metadata": {},
   "outputs": [],
   "source": [
    "D = 0.04\n",
    "d = 0.02\n",
    "\n",
    "ff = 0.9 \n",
    "maxh = 0.01\n",
    "\n",
    "numSheets = 10\n",
    "\n",
    "dFe = d/numSheets * ff\n",
    "d0 = d/numSheets * (1-ff)\n",
    "\n",
    "maxh_edges = d0 * 2\n",
    "\n",
    "\n",
    "def makeMesh(D, d, ff, numSheets, multiscale=False, modelHalfAir=False):\n",
    "\n",
    "    \n",
    "\n",
    "\n",
    "    wp = WorkPlane()\n",
    "    outer = wp.RectangleC(D, D).Face()\n",
    "    outer.name=\"outer\"\n",
    "    outer.edges.Min(X).name = \"left\"\n",
    "    outer.edges.Max(X).name = \"right\"\n",
    "    outer.edges.Min(Y).name = \"bottom\"\n",
    "    outer.edges.Max(Y).name = \"top\"\n",
    "\n",
    "\n",
    "    xstart = -d/2 + d0/2\n",
    "    rect_sheets = []\n",
    "    if not multiscale:\n",
    "\n",
    "        for i in range(numSheets):\n",
    "            wp.MoveTo(xstart, -d/2)\n",
    "            rect_sheets.append(wp.Rectangle(dFe, d).Face())\n",
    "            rect_sheets[-1].edges.maxh = maxh_edges\n",
    "            rect_sheets[-1].name = \"inner\"\n",
    "            rect_sheets[-1].col = (1, 0, 0, 1)\n",
    "\n",
    "            xstart += dFe \n",
    "            wp.MoveTo(xstart, -d/2)\n",
    "            rect_sheets.append(wp.Rectangle(d0, d).Face())\n",
    "            rect_sheets[-1].name = \"gap\"\n",
    "            rect_sheets[-1].col = (1, 0, 1, 1)\n",
    "            xstart += d0\n",
    "\n",
    "\n",
    "    else: \n",
    "        if modelHalfAir:\n",
    "            wp.MoveTo(xstart-d0/2, -d/2)\n",
    "            rect_sheets.append(wp.Rectangle(d, d).Face())\n",
    "        else:\n",
    "            wp.MoveTo(xstart, -d/2)\n",
    "            rect_sheets.append(wp.Rectangle(d - d0/2, d).Face())\n",
    "        rect_sheets[-1].edges.maxh = maxh_edges\n",
    "        rect_sheets[-1].name = \"multiscale\"\n",
    "        rect_sheets[-1].col = (1, 1, 0, 1)\n",
    "\n",
    "\n",
    "    geo = Glue([outer - sum(rect_sheets)] + rect_sheets)\n",
    "    mesh = Mesh(OCCGeometry(geo, dim=2).GenerateMesh(maxh=maxh))\n",
    "\n",
    "    return mesh\n",
    "\n"
   ]
  },
  {
   "cell_type": "markdown",
   "metadata": {},
   "source": [
    "## Reference Solution"
   ]
  },
  {
   "cell_type": "code",
   "execution_count": 4,
   "metadata": {},
   "outputs": [
    {
     "data": {
      "application/vnd.jupyter.widget-view+json": {
       "model_id": "b59e29682d844e73a60e9c7e14d81f84",
       "version_major": 2,
       "version_minor": 0
      },
      "text/plain": [
       "WebGuiWidget(layout=Layout(height='500px', width='100%'), value={'gui_settings': {}, 'mesh_dim': 2, 'mesh_cent…"
      ]
     },
     "metadata": {},
     "output_type": "display_data"
    },
    {
     "data": {
      "text/plain": [
       "BaseWebGuiScene"
      ]
     },
     "execution_count": 4,
     "metadata": {},
     "output_type": "execute_result"
    }
   ],
   "source": [
    "meshRef = makeMesh(D, d, ff, numSheets, multiscale=False)\n",
    "Draw(meshRef.ngmesh)"
   ]
  },
  {
   "cell_type": "code",
   "execution_count": 5,
   "metadata": {},
   "outputs": [
    {
     "name": "stdout",
     "output_type": "stream",
     "text": [
      "\u001b[2KCG iteration 1, residual = 3.8556143100601443     \n",
      "\u001b[2KCG iteration 2, residual = 1.580645315117216e-12     \n"
     ]
    }
   ],
   "source": [
    "lam = meshRef.MaterialCF({\"inner\":lambda2, \"outer\":lambda1, \"gap\":lambda1, \"multiscale\":lambda2})\n",
    "def calcRef():\n",
    "    fes = H1(meshRef, order=order0, dirichlet=\"left|right\")\n",
    "\n",
    "    u,v = fes.TnT()\n",
    "    sol = GridFunction(fes)\n",
    "\n",
    "    a = BilinearForm(fes, symmetric=True)\n",
    "    f = LinearForm(fes)\n",
    "\n",
    "    a += lam * grad(u) * grad(v) * dx\n",
    "\n",
    "    prec = Preconditioner(a, \"direct\")\n",
    "\n",
    "\n",
    "    sol.Set(1 * x/Norm(x), BND)\n",
    "    solvers.BVP(bf = a, lf= f, pre=prec, gf=sol, maxsteps=10)\n",
    "    \n",
    "    \n",
    "    energy =  Integrate( InnerProduct(lam * grad(sol), grad(sol)), meshRef, definedon=meshRef.Materials(\"inner|gap\"))\n",
    "    \n",
    "    return sol, energy\n",
    "\n",
    "sol_ref, energy_ref = calcRef()\n"
   ]
  },
  {
   "cell_type": "code",
   "execution_count": 6,
   "metadata": {},
   "outputs": [
    {
     "name": "stdout",
     "output_type": "stream",
     "text": [
      "energy:\t0.5913785030403171\n"
     ]
    },
    {
     "data": {
      "application/vnd.jupyter.widget-view+json": {
       "model_id": "b53f6340ee1f42eb9ae5dcd493f29e16",
       "version_major": 2,
       "version_minor": 0
      },
      "text/plain": [
       "WebGuiWidget(layout=Layout(height='500px', width='100%'), value={'gui_settings': {'Objects': {'Wireframe': Tru…"
      ]
     },
     "metadata": {},
     "output_type": "display_data"
    },
    {
     "data": {
      "application/vnd.jupyter.widget-view+json": {
       "model_id": "153d44b2c3144c0bac5677b398daff8a",
       "version_major": 2,
       "version_minor": 0
      },
      "text/plain": [
       "WebGuiWidget(layout=Layout(height='500px', width='100%'), value={'gui_settings': {}, 'ngsolve_version': '6.2.2…"
      ]
     },
     "metadata": {},
     "output_type": "display_data"
    },
    {
     "data": {
      "text/plain": [
       "BaseWebGuiScene"
      ]
     },
     "execution_count": 6,
     "metadata": {},
     "output_type": "execute_result"
    }
   ],
   "source": [
    "\n",
    "\n",
    "print(f\"energy:\\t{energy_ref}\")\n",
    "Draw(sol_ref, settings={\"Objects\":{\"Wireframe\":True}, \"deformation\": 0.01})\n",
    "Draw(lam * grad(sol_ref)[0], meshRef, max = 150, min = 0)"
   ]
  },
  {
   "cell_type": "markdown",
   "metadata": {},
   "source": [
    "## Multiscale"
   ]
  },
  {
   "cell_type": "code",
   "execution_count": 7,
   "metadata": {},
   "outputs": [
    {
     "data": {
      "application/vnd.jupyter.widget-view+json": {
       "model_id": "f87ebe374f994dc89c8ea03b8e176824",
       "version_major": 2,
       "version_minor": 0
      },
      "text/plain": [
       "WebGuiWidget(layout=Layout(height='500px', width='100%'), value={'gui_settings': {}, 'mesh_dim': 2, 'mesh_cent…"
      ]
     },
     "metadata": {},
     "output_type": "display_data"
    },
    {
     "name": "stdout",
     "output_type": "stream",
     "text": [
      "('outer', 'multiscale')\n"
     ]
    }
   ],
   "source": [
    "modelHalfAir=True\n",
    "\n",
    "meshMS = makeMesh(D, d, ff, numSheets, multiscale=True, modelHalfAir=modelHalfAir)\n",
    "Draw(meshMS.ngmesh)\n",
    "\n",
    "print(meshMS.GetMaterials())"
   ]
  },
  {
   "cell_type": "code",
   "execution_count": 8,
   "metadata": {},
   "outputs": [
    {
     "data": {
      "image/png": "[encoded data removed]",
      "text/plain": [
       "<Figure size 640x480 with 2 Axes>"
      ]
     },
     "metadata": {},
     "output_type": "display_data"
    },
    {
     "name": "stdout",
     "output_type": "stream",
     "text": [
      "\u001b[2KCG iteration 1, residual = 3.676635856473944     \n",
      "\u001b[2KCG iteration 2, residual = 5.045539473592277e-13     \n",
      "-0.01\n"
     ]
    }
   ],
   "source": [
    "\n",
    "cl_Phi.numSheets = numSheets\n",
    "cl_Phi.dFe = dFe\n",
    "cl_Phi.d0 = d0\n",
    "cl_Phi.mesh = meshMS\n",
    "\n",
    "cl_Phi.modelHalfAir = modelHalfAir\n",
    "cl_Phi.orientation = 0\n",
    "\n",
    "clPhi0 = cl_Phi(0, 0, material=\"outer|multiscale\") #numSheets=1, d0=y_total/2, dFe=y_total/2, zstart=-y_total/2)\n",
    "phi0 = clPhi0.phi\n",
    "\n",
    "\n",
    "\n",
    "def calcMultiscale(useGradients=True):\n",
    "\n",
    "\n",
    "    ex = CF((1, 0))\n",
    "\n",
    "\n",
    "\n",
    "    # microshape functions\n",
    "    orderPhi = [\n",
    "        cl_Phi(1, fes_order=order0, material=\"multiscale\"), \n",
    "        ]\n",
    "\n",
    "    cl_Phi.plotEvaluated(orderPhi)\n",
    "\n",
    "    VSpace = []\n",
    "    # u0 \n",
    "    VSpace.append(H1(meshMS, order=order0, dirichlet=\"right|left\")) \n",
    "        \n",
    "    # ui * phi i\n",
    "    for phi_i in orderPhi: \n",
    "        VSpace.append(H1(meshMS, order=phi_i.fes_oder, definedon=meshMS.Materials(phi_i.material)))\n",
    "    VSpace = FESpace(VSpace)\n",
    "\n",
    "\n",
    "    # multiscale container\n",
    "    ansatz = \"\"\n",
    "    sol = GridFunction(VSpace, \"sol\")\n",
    "    sol_c = sol.components\n",
    "    trial = VSpace.TrialFunction()\n",
    "    test = VSpace.TestFunction()\n",
    "\n",
    "    H_comp = []\n",
    "    \n",
    "    sol_pack = []\n",
    "    sol_comp = []\n",
    "\n",
    "    Energy_comp = []\n",
    "                \n",
    "\n",
    "    bfi_u = []\n",
    "    bfi_v = []\n",
    "\n",
    "    # phi 0 outer\n",
    "    i = 0\n",
    "    bfi_u += [[-grad(trial[i]), phi0]] # ok\n",
    "    bfi_v += [[-grad(test[i]), phi0]]\n",
    "\n",
    "    H_comp.append(-grad(sol_c[i]))\n",
    "    sol_pack.append(sol_c[i] )\n",
    "    sol_comp += [[sol_c[i], phi0]]\n",
    "    Energy_comp += [[-grad(sol_c[i]), phi0]]\n",
    "\n",
    "    ansatz += \"-grad(Phi0_outer)\"\n",
    "\n",
    "    i += 1\n",
    "    # Phi: grad(Phi*phi) = grad(Phi) * phi + Phi * dy phi ey\n",
    "    for phi_i  in orderPhi:\n",
    "        phi = phi_i.phi\n",
    "        dxphi = phi_i.dzphi\n",
    "\n",
    "\n",
    "        if useGradients:\n",
    "            bfi_u += [[-grad(trial[i]), phi], [-trial[i]*ex,  dxphi]] # ok\n",
    "            bfi_v += [[-grad(test[i]), phi], [-test[i]*ex,  dxphi]]\n",
    "            H_comp.append(-(phi *grad(sol_c[i]) + dxphi*ex*sol_c[i]))\n",
    "            Energy_comp += [[-grad(sol_c[i]), phi], [-sol_c[i]*ex, dxphi]]\n",
    "        else:\n",
    "            bfi_u += [[-trial[i]*ex,  dxphi]] # ok\n",
    "            bfi_v += [[-test[i]*ex,  dxphi]]\n",
    "            H_comp.append(-(dxphi*ex*sol_c[i]))\n",
    "            Energy_comp += [[-sol_c[i]*ex, dxphi]]\n",
    "\n",
    "        sol_pack.append(phi *sol_c[i])\n",
    "        sol_comp += [[sol_c[i], phi]]\n",
    "        \n",
    "        ansatz += \" - grad(Phi\" + str(i) + \" * \"+ phi.name + \")\"\n",
    "    \n",
    "        i +=1\n",
    "\n",
    "\n",
    "    a = BilinearForm(VSpace, symmetric=True)\n",
    "    f = LinearForm(VSpace)\n",
    "\n",
    "    a +=  lambda1  * grad(trial[0]) * grad(test[0]) * dx(\"outer\")\n",
    "    a +=  getIntegrand4BFI(bfi_u, bfi_v, lambda2, lambda1, dFe, d0, conductivity=True, force_num_int=True) * dx(\"multiscale\")\n",
    "\n",
    "    prec = Preconditioner(a,type=\"direct\")  \n",
    "\n",
    "\n",
    "    # dirichlet boundary values\n",
    "    sol_c[0].Set(1 * x/Norm(x), BND)\n",
    "    \n",
    "    solvers.BVP(bf = a, lf= f, pre=prec, gf=sol, maxsteps=10)\n",
    "\n",
    "\n",
    "    energy =  Integrate(getIntegrand4BFI(Energy_comp, Energy_comp, lambda2, lambda1, dFe, d0, conductivity=True), meshMS, definedon=meshMS.Materials(\"multiscale\"))\n",
    "    \n",
    "    return sol, sol_pack, sol_comp, H_comp, energy, orderPhi\n",
    "\n",
    "    \n",
    "\n",
    "sol_MS, sol_pack_MS, sol_comp_MS, H_comp, energy_MS, orderPhi = calcMultiscale(False)\n",
    "print(orderPhi[0].zstart)"
   ]
  },
  {
   "cell_type": "code",
   "execution_count": 9,
   "metadata": {},
   "outputs": [
    {
     "data": {
      "application/vnd.jupyter.widget-view+json": {
       "model_id": "a55c105c375c4f498af0b951f069ad88",
       "version_major": 2,
       "version_minor": 0
      },
      "text/plain": [
       "WebGuiWidget(layout=Layout(height='500px', width='100%'), value={'gui_settings': {'Objects': {'Wireframe': Tru…"
      ]
     },
     "metadata": {},
     "output_type": "display_data"
    },
    {
     "data": {
      "text/plain": [
       "BaseWebGuiScene"
      ]
     },
     "execution_count": 9,
     "metadata": {},
     "output_type": "execute_result"
    }
   ],
   "source": [
    "Draw(sum(sol_pack_MS) , meshRef, settings={\"Objects\":{\"Wireframe\":True}, \"deformation\": 0.01})\n"
   ]
  },
  {
   "cell_type": "code",
   "execution_count": 10,
   "metadata": {},
   "outputs": [
    {
     "data": {
      "application/vnd.jupyter.widget-view+json": {
       "model_id": "8b42d00b1344435a9eb9554b74154215",
       "version_major": 2,
       "version_minor": 0
      },
      "text/plain": [
       "WebGuiWidget(layout=Layout(height='500px', width='100%'), value={'gui_settings': {'Objects': {'Wireframe': Fal…"
      ]
     },
     "metadata": {},
     "output_type": "display_data"
    },
    {
     "data": {
      "text/plain": [
       "BaseWebGuiScene"
      ]
     },
     "execution_count": 10,
     "metadata": {},
     "output_type": "execute_result"
    }
   ],
   "source": [
    "Draw(-lam * sum(H_comp)[0], meshRef, min = 0, max=150, settings={\"Objects\":{\"Wireframe\":False}})"
   ]
  },
  {
   "cell_type": "code",
   "execution_count": 11,
   "metadata": {},
   "outputs": [
    {
     "data": {
      "application/vnd.jupyter.widget-view+json": {
       "model_id": "f6328e03f1bd4225b58192bec5c0f65a",
       "version_major": 2,
       "version_minor": 0
      },
      "text/plain": [
       "WebGuiWidget(layout=Layout(height='500px', width='100%'), value={'gui_settings': {'Objects': {'Wireframe': Fal…"
      ]
     },
     "metadata": {},
     "output_type": "display_data"
    },
    {
     "data": {
      "text/plain": [
       "BaseWebGuiScene"
      ]
     },
     "execution_count": 11,
     "metadata": {},
     "output_type": "execute_result"
    }
   ],
   "source": [
    "Draw(lam * grad(sol_ref)[0], meshRef, min = 0, max=150, settings={\"Objects\":{\"Wireframe\":False}})"
   ]
  },
  {
   "cell_type": "code",
   "execution_count": 12,
   "metadata": {},
   "outputs": [
    {
     "name": "stdout",
     "output_type": "stream",
     "text": [
      "0.6083219796193374\n",
      "0.5913785030403171\n"
     ]
    }
   ],
   "source": [
    "print(\"energy multiscale\", energy_MS)\n",
    "print(\"energy reference\", energy_ref)"
   ]
  }
 ],
 "metadata": {
  "kernelspec": {
   "display_name": "Python 3",
   "language": "python",
   "name": "python3"
  },
  "language_info": {
   "codemirror_mode": {
    "name": "ipython",
    "version": 3
   },
   "file_extension": ".py",
   "mimetype": "text/x-python",
   "name": "python",
   "nbconvert_exporter": "python",
   "pygments_lexer": "ipython3",
   "version": "3.10.12"
  },
  "orig_nbformat": 4
 },
 "nbformat": 4,
 "nbformat_minor": 2
}
