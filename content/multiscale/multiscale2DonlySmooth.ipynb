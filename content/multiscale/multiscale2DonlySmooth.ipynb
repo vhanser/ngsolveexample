{
 "cells": [
  {
   "cell_type": "code",
   "execution_count": 3,
   "metadata": {},
   "outputs": [],
   "source": [
    "from netgen.occ import *\n",
    "from ngsolve import *\n",
    "from netgen.meshing import IdentificationType\n",
    "from MS_helper_functions import *\n",
    "from netgen.webgui import Draw as DrawGeo\n",
    "from ngsolve.webgui import Draw\n",
    "\n",
    "from myPackage import cmdInput\n",
    "%matplotlib widget\n",
    "from myPackage import evalOnLine\n",
    "import matplotlib.pyplot as plt\n",
    "\n",
    "from meshGen import mesh2DLaminates"
   ]
  },
  {
   "cell_type": "code",
   "execution_count": 4,
   "metadata": {},
   "outputs": [],
   "source": [
    "lambda1 = 1\n",
    "lambda2 = 1000\n",
    "\n",
    "order0 = 2"
   ]
  },
  {
   "cell_type": "code",
   "execution_count": 5,
   "metadata": {},
   "outputs": [],
   "source": [
    "D = 0.04\n",
    "d = 0.02\n",
    "\n",
    "ff = 0.5\n",
    "\n",
    "\n",
    "numSheets = 4\n",
    "\n",
    "maxh_edges = d/numSheets*1/2 * 0.5\n",
    "\n",
    "\n",
    "from meshGen import mesh2DLaminates\n",
    "\n",
    "onlySmooth = True\n",
    "rotated = True\n",
    "modelHalfAir=True\n"
   ]
  },
  {
   "cell_type": "markdown",
   "metadata": {},
   "source": [
    "## Reference Solution"
   ]
  },
  {
   "cell_type": "code",
   "execution_count": 6,
   "metadata": {},
   "outputs": [
    {
     "name": "stdout",
     "output_type": "stream",
     "text": [
      "maxh_edges [0.00125, 0.00125]\n",
      "Boundaries {'itop', 'left', 'default', 'top', 'ibottom', 'right', 'bottom'}\n",
      "Materials {'inner', 'outer', 'insulation'}\n"
     ]
    },
    {
     "data": {
      "application/vnd.jupyter.widget-view+json": {
       "model_id": "ce8484f1d0924bfca01344300a83a65d",
       "version_major": 2,
       "version_minor": 0
      },
      "text/plain": [
       "WebGuiWidget(layout=Layout(height='500px', width='100%'), value={'gui_settings': {}, 'mesh_dim': 2, 'mesh_cent…"
      ]
     },
     "metadata": {},
     "output_type": "display_data"
    },
    {
     "data": {
      "text/plain": [
       "BaseWebGuiScene"
      ]
     },
     "execution_count": 6,
     "metadata": {},
     "output_type": "execute_result"
    }
   ],
   "source": [
    "cMeshRef = mesh2DLaminates(D, d, ff, numSheets, multiscale=False, onlySmooth=onlySmooth, maxh_edges=maxh_edges, rotated=rotated, modelHalfAir=modelHalfAir)\n",
    "meshRef = cMeshRef.mesh\n",
    "print(\"Boundaries\", set(meshRef.GetBoundaries()))\n",
    "print(\"Materials\", set(meshRef.GetMaterials()))\n",
    "Draw(meshRef.ngmesh)"
   ]
  },
  {
   "cell_type": "code",
   "execution_count": 7,
   "metadata": {},
   "outputs": [
    {
     "name": "stdout",
     "output_type": "stream",
     "text": [
      "\u001b[2KCG iteration 1, residual = 2.640297420269722     \n",
      "\u001b[2KCG iteration 2, residual = 7.774602556053821e-13     \n"
     ]
    }
   ],
   "source": [
    "lam = meshRef.MaterialCF({\"inner\":lambda2, \"outer\":lambda1, \"gap\":lambda1, \"multiscale\":lambda2, \"insulation\":lambda1})\n",
    "def calcRef():\n",
    "    fes = H1(meshRef, order=order0, dirichlet=\"top|bottom\")\n",
    "\n",
    "    u,v = fes.TnT()\n",
    "    sol = GridFunction(fes)\n",
    "\n",
    "    a = BilinearForm(fes, symmetric=True)\n",
    "    f = LinearForm(fes)\n",
    "\n",
    "    a += lam * grad(u) * grad(v) * dx\n",
    "\n",
    "    prec = Preconditioner(a, \"direct\")\n",
    "\n",
    "\n",
    "    sol.Set(1 * y/Norm(y), BND)\n",
    "    solvers.BVP(bf = a, lf= f, pre=prec, gf=sol, maxsteps=10)\n",
    "    \n",
    "    \n",
    "    energy =  Integrate( InnerProduct(lam * grad(sol), grad(sol)), meshRef, definedon=meshRef.Materials(\"inner|gap\"))\n",
    "    \n",
    "    return sol, energy\n",
    "\n",
    "sol_ref, energy_ref = calcRef()\n"
   ]
  },
  {
   "cell_type": "code",
   "execution_count": 8,
   "metadata": {},
   "outputs": [
    {
     "name": "stdout",
     "output_type": "stream",
     "text": [
      "energy:\t0.0008882965924608234\n"
     ]
    },
    {
     "data": {
      "application/vnd.jupyter.widget-view+json": {
       "model_id": "9f38332e8c4447b6b0040ba2b6938dc6",
       "version_major": 2,
       "version_minor": 0
      },
      "text/plain": [
       "WebGuiWidget(layout=Layout(height='500px', width='100%'), value={'gui_settings': {'Objects': {'Wireframe': Tru…"
      ]
     },
     "metadata": {},
     "output_type": "display_data"
    },
    {
     "data": {
      "text/plain": [
       "BaseWebGuiScene"
      ]
     },
     "execution_count": 8,
     "metadata": {},
     "output_type": "execute_result"
    }
   ],
   "source": [
    "\n",
    "\n",
    "print(f\"energy:\\t{energy_ref}\")\n",
    "Draw(sol_ref, settings={\"Objects\":{\"Wireframe\":True}, \"deformation\": 0.01})\n"
   ]
  },
  {
   "cell_type": "markdown",
   "metadata": {},
   "source": [
    "## Multiscale"
   ]
  },
  {
   "cell_type": "code",
   "execution_count": 9,
   "metadata": {},
   "outputs": [
    {
     "name": "stdout",
     "output_type": "stream",
     "text": [
      "maxh_edges [0.00125, 0.00125]\n",
      "('outer', 'outer', 'multiscale')\n",
      "{'itop', 'left', 'top', 'ibottom', 'right', 'bottom'}\n"
     ]
    },
    {
     "data": {
      "application/vnd.jupyter.widget-view+json": {
       "model_id": "8ff8376e4f9c4bea8aee6401aa3deb6a",
       "version_major": 2,
       "version_minor": 0
      },
      "text/plain": [
       "WebGuiWidget(layout=Layout(height='500px', width='100%'), value={'gui_settings': {}, 'mesh_dim': 2, 'mesh_cent…"
      ]
     },
     "metadata": {},
     "output_type": "display_data"
    }
   ],
   "source": [
    "modelHalfAir=True\n",
    "\n",
    "\n",
    "\n",
    "cMeshMS = mesh2DLaminates(D, d, ff, numSheets, multiscale=True, modelHalfAir=modelHalfAir, domainNameHalfAir=\"multiscale\", onlySmooth=onlySmooth,  maxh_edges=maxh_edges, rotated=rotated)\n",
    "# cMeshMS = mesh2DLaminates(D, d, ff, numSheets, multiscale=True, modelHalfAir=modelHalfAir, domainNameHalfAir=\"smoothFrame\", onlySmooth=onlySmooth)\n",
    "meshMS = cMeshMS.mesh\n",
    "print(meshMS.GetMaterials())\n",
    "print(set(meshMS.GetBoundaries()))\n",
    "Draw(meshMS.ngmesh)\n",
    "\n",
    "\n",
    "from myPackage import drawBndAll\n",
    "\n",
    "# drawBndAll(meshMS, drawFunc=Draw, block=False)\n"
   ]
  },
  {
   "cell_type": "code",
   "execution_count": 15,
   "metadata": {},
   "outputs": [
    {
     "name": "stdout",
     "output_type": "stream",
     "text": [
      "modelHalfAir True\n"
     ]
    },
    {
     "data": {
      "application/vnd.jupyter.widget-view+json": {
       "model_id": "e298d9276d3f4078be82a0b84b77a383",
       "version_major": 2,
       "version_minor": 0
      },
      "image/png": "[encoded data removed]",
      "text/html": [
       "\n",
       "            <div style=\"display: inline-block;\">\n",
       "                <div class=\"jupyter-widgets widget-label\" style=\"text-align: center;\">\n",
       "                    Figure 1\n",
       "                </div>\n",
       "                <img src='data:image/png;base64,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' width=640.0/>\n",
       "            </div>\n",
       "        "
      ],
      "text/plain": [
       "Canvas(toolbar=Toolbar(toolitems=[('Home', 'Reset original view', 'home', 'home'), ('Back', 'Back to previous …"
      ]
     },
     "metadata": {},
     "output_type": "display_data"
    },
    {
     "name": "stdout",
     "output_type": "stream",
     "text": [
      "\u001b[2KCG iteration 1, residual = 2.461978776764376     \n",
      "\u001b[2KCG iteration 2, residual = 4.1336096464875883e-13     \n",
      "energy 0.889184889053256 0.0008882965924608234\n",
      "1.9309068946154265e-17\n"
     ]
    }
   ],
   "source": [
    "cl_Phi.numSheets = numSheets\n",
    "cl_Phi.dFe = cMeshMS.dFe\n",
    "cl_Phi.d0 = cMeshMS.d0\n",
    "cl_Phi.mesh = meshMS\n",
    "\n",
    "cl_Phi.modelHalfAir = modelHalfAir\n",
    "cl_Phi.orientation = 1 if rotated else 0\n",
    "\n",
    "\n",
    "def calcMultiscale(useGradients=True, drawPhis=True):\n",
    "    print(\"modelHalfAir\", modelHalfAir)\n",
    "    # microshape functions\n",
    "    orderPhi = [\n",
    "            cl_Phi(1, fes_order=order0, material=\"multiscale\", dirichlet=\"\", useGradients=useGradients), \n",
    "            # cl_Phi(2, fes_order=order0, material=\"multiscale\", dirichlet=\"\", inAir=False, modelHalfAir=modelHalfAir), \n",
    "            # cl_Phi(2, fes_order=order0, material=\"multiscale\", dirichlet=\"\", inIron=False, modelHalfAir=modelHalfAir), \n",
    "        ]\n",
    "\n",
    "    if drawPhis:\n",
    "        cl_Phi.plotEvaluated(orderPhi)\n",
    "        # cl_Phi.plotDirectEvaluated(orderPhi)\n",
    "\n",
    "    VSpace = []\n",
    "    # u0 \n",
    "    VSpace.append(H1(meshMS, order=order0, dirichlet=\"top|bottom\")) \n",
    "        \n",
    "    # ui * phi i\n",
    "    for phi_i in orderPhi: \n",
    "        VSpace.append(H1(meshMS, order=phi_i.fes_oder, definedon=meshMS.Materials(phi_i.material), dirichlet=phi_i.dirichlet))\n",
    "    VSpace = FESpace(VSpace)\n",
    "\n",
    "\n",
    "    # multiscale container\n",
    "    ansatz = \"\"\n",
    "    sol = GridFunction(VSpace, \"sol\")\n",
    "       \n",
    "\n",
    "    cl_gradgradMS = gradgradMS(orderPhi, sol, addPhi0Outer=True)\n",
    "\n",
    "    a = BilinearForm(VSpace, symmetric=True)\n",
    "    f = LinearForm(VSpace)\n",
    "\n",
    "    a += lambda1  * grad(cl_gradgradMS.trials[0]) * grad(cl_gradgradMS.tests[0]) * dx(\"outer\")\n",
    "    a += getIntegrand4BFI(cl_gradgradMS.gradu, cl_gradgradMS.gradv, lambda2, lambda1, force_full_Phi=True) * dx(\"multiscale|smoothFrame\")\n",
    "\n",
    "\n",
    "    # h = specialcf.mesh_size\n",
    "    # um = sum([cl_gradgradMS.u[i][0] * cl_gradgradMS.u[i][1] for i in range(len(cl_gradgradMS.u))])\n",
    "    # vm = sum([cl_gradgradMS.v[i][0] * cl_gradgradMS.v[i][1] for i in range(len(cl_gradgradMS.v))])\n",
    "    # if True:\n",
    "    #     # a += 4*order0**2/h * (um - cl_gradgradMS.trials[0])* (vm - cl_gradgradMS.tests[0]) * ds(\"ileft|iright\", skeleton=True)\n",
    "    #     a += 4*order0**2/h * (um - cl_gradgradMS.trials[0])* (vm - cl_gradgradMS.tests[0]) * ds(\"ileft_outer|iright_outer\")\n",
    "    \n",
    "\n",
    "\n",
    "    prec = Preconditioner(a,type=\"direct\")  \n",
    "\n",
    "\n",
    "    # dirichlet boundary values\n",
    "    sol.components[0].Set(1 * y/Norm(y), BND)\n",
    "    \n",
    "    solvers.BVP(bf = a, lf= f, pre=prec, gf=sol, maxsteps=10)\n",
    "\n",
    "    energy =  Integrate(getIntegrand4BFI(cl_gradgradMS.gradsol_pack, cl_gradgradMS.gradsol_pack, lambda2, lambda1), meshMS, \n",
    "                                                    definedon=meshMS.Materials(\"multiscale|smoothFrame\"))\n",
    "    \n",
    "    return sol, cl_gradgradMS.sol_pack, cl_gradgradMS.sol_comp, cl_gradgradMS.gradsol_comp, energy, cl_gradgradMS\n",
    "\n",
    "    \n",
    "\n",
    "sol_MS, sol_pack_MS, sol_comp_MS, H_comp,    energy_MS, cl_gradgradMS = calcMultiscale(False, drawPhis=True)\n",
    "print(\"energy\", energy_MS, energy_ref)\n",
    "print(Integrate(Norm(sum(sol_comp_MS) - sol_ref), meshRef))\n"
   ]
  },
  {
   "cell_type": "code",
   "execution_count": 16,
   "metadata": {},
   "outputs": [
    {
     "data": {
      "application/vnd.jupyter.widget-view+json": {
       "model_id": "c01043371fc046e38dbe01ac1ec67465",
       "version_major": 2,
       "version_minor": 0
      },
      "text/plain": [
       "WebGuiWidget(layout=Layout(height='500px', width='100%'), value={'gui_settings': {'Objects': {'Wireframe': Tru…"
      ]
     },
     "metadata": {},
     "output_type": "display_data"
    },
    {
     "data": {
      "text/plain": [
       "BaseWebGuiScene"
      ]
     },
     "execution_count": 16,
     "metadata": {},
     "output_type": "execute_result"
    }
   ],
   "source": [
    "Draw(sum(sol_comp_MS), meshRef, settings={\"Objects\":{\"Wireframe\":True}, \"deformation\": 0.01})"
   ]
  },
  {
   "cell_type": "code",
   "execution_count": 17,
   "metadata": {},
   "outputs": [
    {
     "data": {
      "application/vnd.jupyter.widget-view+json": {
       "model_id": "e298d9276d3f4078be82a0b84b77a383",
       "version_major": 2,
       "version_minor": 0
      },
      "image/png": "[encoded data removed]",
      "text/html": [
       "\n",
       "            <div style=\"display: inline-block;\">\n",
       "                <div class=\"jupyter-widgets widget-label\" style=\"text-align: center;\">\n",
       "                    Figure 1\n",
       "                </div>\n",
       "                <img src='data:image/png;base64,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' width=640.0/>\n",
       "            </div>\n",
       "        "
      ],
      "text/plain": [
       "Canvas(toolbar=Toolbar(toolitems=[('Home', 'Reset original view', 'home', 'home'), ('Back', 'Back to previous …"
      ]
     },
     "metadata": {},
     "output_type": "display_data"
    }
   ],
   "source": [
    "from myPackage import evalOnLine\n",
    "start = -d/2*1.01\n",
    "end = -d/2*0.9\n",
    "\n",
    "# start = d/2*0.95\n",
    "# end = d/2*1.02\n",
    "\n",
    "\n",
    "\n",
    "start = -D/2\n",
    "end = D/2\n",
    "\n",
    "evalOnLine(sol_ref , meshRef, [0, start, 0], [0, end, 0], plot=True, ls='-', marker=\"x\", show=False, label=\"ref\", N = 300);\n",
    "tmp, _, _ = evalOnLine(sum(sol_comp_MS) , meshRef, [0, start, 0], [0, end, 0], plot=True, ls='-', marker=\"x\", clear=False, label=\"MS\", show=False, N=300);\n",
    "\n",
    "plt.legend()\n",
    "plt.show()"
   ]
  },
  {
   "cell_type": "code",
   "execution_count": 19,
   "metadata": {},
   "outputs": [
    {
     "name": "stdout",
     "output_type": "stream",
     "text": [
      "1.6662206227655104e-17\n",
      "<class 'ngsolve.comp.ComponentGridFunction'>\n"
     ]
    },
    {
     "data": {
      "application/vnd.jupyter.widget-view+json": {
       "model_id": "1e7d2b182d134418bbbf5d022464386e",
       "version_major": 2,
       "version_minor": 0
      },
      "text/plain": [
       "WebGuiWidget(layout=Layout(height='500px', width='100%'), value={'gui_settings': {'Objects': {'Wireframe': Tru…"
      ]
     },
     "metadata": {},
     "output_type": "display_data"
    },
    {
     "data": {
      "text/plain": [
       "BaseWebGuiScene"
      ]
     },
     "execution_count": 19,
     "metadata": {},
     "output_type": "execute_result"
    }
   ],
   "source": [
    "print(Integrate(Norm(sum(sol_comp_MS) - sol_ref), meshRef))\n",
    "print(type(sol_pack_MS[0][0]))\n",
    "Draw(sol_pack_MS[1][0] , meshMS, settings={\"Objects\":{\"Wireframe\":True}, \"deformation\": 1})\n",
    "\n"
   ]
  },
  {
   "cell_type": "code",
   "execution_count": null,
   "metadata": {},
   "outputs": [],
   "source": []
  },
  {
   "cell_type": "code",
   "execution_count": 11,
   "metadata": {},
   "outputs": [
    {
     "data": {
      "application/vnd.jupyter.widget-view+json": {
       "model_id": "f067e6a5061e4aadbf64ea5bd94d03d1",
       "version_major": 2,
       "version_minor": 0
      },
      "text/plain": [
       "WebGuiWidget(layout=Layout(height='500px', width='100%'), value={'gui_settings': {'Objects': {'Wireframe': Fal…"
      ]
     },
     "metadata": {},
     "output_type": "display_data"
    },
    {
     "data": {
      "text/plain": [
       "BaseWebGuiScene"
      ]
     },
     "execution_count": 11,
     "metadata": {},
     "output_type": "execute_result"
    }
   ],
   "source": [
    "Draw(-lam * sum(H_comp)[0], meshRef, settings={\"Objects\":{\"Wireframe\":False}}, min = 0,  max = 150)"
   ]
  },
  {
   "cell_type": "code",
   "execution_count": 12,
   "metadata": {},
   "outputs": [
    {
     "data": {
      "application/vnd.jupyter.widget-view+json": {
       "model_id": "ff03dbe473b444ae9719bc553426f74c",
       "version_major": 2,
       "version_minor": 0
      },
      "text/plain": [
       "WebGuiWidget(layout=Layout(height='500px', width='100%'), value={'gui_settings': {'Objects': {'Wireframe': Fal…"
      ]
     },
     "metadata": {},
     "output_type": "display_data"
    },
    {
     "data": {
      "text/plain": [
       "BaseWebGuiScene"
      ]
     },
     "execution_count": 12,
     "metadata": {},
     "output_type": "execute_result"
    }
   ],
   "source": [
    "\n",
    "Draw(lam * grad(sol_ref)[0], meshRef, min = 0, max=150, settings={\"Objects\":{\"Wireframe\":False}})"
   ]
  },
  {
   "cell_type": "code",
   "execution_count": 13,
   "metadata": {},
   "outputs": [
    {
     "name": "stdout",
     "output_type": "stream",
     "text": [
      "energy multiscale 0.8891848890532127\n",
      "energy reference 7.053763277883365e-26\n"
     ]
    }
   ],
   "source": [
    "print(\"energy multiscale\", energy_MS)\n",
    "print(\"energy reference\", energy_ref)"
   ]
  },
  {
   "cell_type": "code",
   "execution_count": 14,
   "metadata": {},
   "outputs": [
    {
     "name": "stdout",
     "output_type": "stream",
     "text": [
      "iron\n",
      "gap\n",
      "air\n"
     ]
    }
   ],
   "source": [
    "myPhi = cl_Phi(0, fes_order=0).phi\n"
   ]
  },
  {
   "cell_type": "code",
   "execution_count": 15,
   "metadata": {},
   "outputs": [
    {
     "name": "stdout",
     "output_type": "stream",
     "text": [
      "Help on Lobatto in module cempy.phiFunctions object:\n",
      "\n",
      "class Lobatto(PhiFunction)\n",
      " |  Lobatto polynomials\n",
      " |  \n",
      " |  Method resolution order:\n",
      " |      Lobatto\n",
      " |      PhiFunction\n",
      " |      ngsolve.fem.CoefficientFunction\n",
      " |      pybind11_builtins.pybind11_object\n",
      " |      builtins.object\n",
      " |  \n",
      " |  Methods defined here:\n",
      " |  \n",
      " |  __eq__(...)\n",
      " |      __eq__(self: cempy.phiFunctions.Lobatto, arg0: cempy.phiFunctions.Lobatto) -> bool\n",
      " |  \n",
      " |  __init__(...)\n",
      " |      __init__(self: cempy.phiFunctions.Lobatto, xstart: float, d: float, iOrder: int, numSheets: int, ff: float, coordinate: int, inIron: bool = True, inAir: bool = True, inOuter: bool = True, douter: float = nan, fullPhi: bool = False, modelHalfAir: bool = True) -> None\n",
      " |  \n",
      " |  ----------------------------------------------------------------------\n",
      " |  Readonly properties defined here:\n",
      " |  \n",
      " |  order\n",
      " |  \n",
      " |  ----------------------------------------------------------------------\n",
      " |  Data descriptors defined here:\n",
      " |  \n",
      " |  __dict__\n",
      " |  \n",
      " |  ----------------------------------------------------------------------\n",
      " |  Data and other attributes defined here:\n",
      " |  \n",
      " |  __hash__ = None\n",
      " |  \n",
      " |  ----------------------------------------------------------------------\n",
      " |  Methods inherited from PhiFunction:\n",
      " |  \n",
      " |  DirectEvaluate(...)\n",
      " |      DirectEvaluate(self: cempy.phiFunctions.PhiFunction, arg0: float) -> float\n",
      " |  \n",
      " |  __str__(...)\n",
      " |      __str__(self: cempy.phiFunctions.PhiFunction) -> str\n",
      " |  \n",
      " |  centerValue(...)\n",
      " |      centerValue(self: cempy.phiFunctions.PhiFunction, inAir: bool = False) -> float\n",
      " |  \n",
      " |  getPlotData(...)\n",
      " |      getPlotData(self: cempy.phiFunctions.PhiFunction, numPoints: int = 30) -> List[Tuple[float, float]]\n",
      " |  \n",
      " |  isIron(...)\n",
      " |      isIron(self: cempy.phiFunctions.PhiFunction, arg0: float) -> bool\n",
      " |  \n",
      " |  ----------------------------------------------------------------------\n",
      " |  Readonly properties inherited from PhiFunction:\n",
      " |  \n",
      " |  coordinate\n",
      " |  \n",
      " |  d\n",
      " |  \n",
      " |  d0\n",
      " |  \n",
      " |  dFe\n",
      " |  \n",
      " |  douter\n",
      " |  \n",
      " |  ff\n",
      " |  \n",
      " |  fullPhi\n",
      " |  \n",
      " |  inAir\n",
      " |  \n",
      " |  inIron\n",
      " |  \n",
      " |  inOuter\n",
      " |  \n",
      " |  mean\n",
      " |  \n",
      " |  modelHalfAir\n",
      " |  \n",
      " |  name\n",
      " |  \n",
      " |  numSheets\n",
      " |  \n",
      " |  orientation\n",
      " |  \n",
      " |  xEnd\n",
      " |  \n",
      " |  xStart\n",
      " |  \n",
      " |  ----------------------------------------------------------------------\n",
      " |  Methods inherited from ngsolve.fem.CoefficientFunction:\n",
      " |  \n",
      " |  Compile(...)\n",
      " |      Compile(self: ngsolve.fem.CoefficientFunction, realcompile: bool = False, maxderiv: int = 2, wait: bool = False, keep_files: bool = False) -> ngsolve.fem.CoefficientFunction\n",
      " |      \n",
      " |      \n",
      " |      Compile list of individual steps, experimental improvement for deep trees\n",
      " |      \n",
      " |      Parameters:\n",
      " |      \n",
      " |      realcompile : bool\n",
      " |        True -> Compile to C++ code\n",
      " |      \n",
      " |      maxderiv : int\n",
      " |        input maximal derivative\n",
      " |      \n",
      " |      wait : bool\n",
      " |        True -> Waits until the previous Compile call is finished before start compiling\n",
      " |      \n",
      " |      keep_files : bool\n",
      " |        True -> Keep temporary files\n",
      " |  \n",
      " |  Derive(...)\n",
      " |      Derive(self: ngsolve.fem.CoefficientFunction, variable: ngsolve.fem.CoefficientFunction, direction: ngsolve.fem.CoefficientFunction = 1.0) -> ngsolve.fem.CoefficientFunction\n",
      " |      \n",
      " |      depricated: use 'Diff' instead\n",
      " |  \n",
      " |  Diff(...)\n",
      " |      Diff(self: ngsolve.fem.CoefficientFunction, variable: ngsolve.fem.CoefficientFunction, direction: ngsolve.fem.CoefficientFunction = None) -> ngsolve.fem.CoefficientFunction\n",
      " |      \n",
      " |      Compute directional derivative with respect to variable\n",
      " |  \n",
      " |  DiffShape(...)\n",
      " |      DiffShape(self: ngsolve.fem.CoefficientFunction, direction: ngsolve.fem.CoefficientFunction = 1.0, Eulerian: List[ngsolve.fem.CoefficientFunction] = []) -> ngsolve.fem.CoefficientFunction\n",
      " |      \n",
      " |      Compute shape derivative in direction\n",
      " |  \n",
      " |  Eig(...)\n",
      " |      Eig(self: ngsolve.fem.CoefficientFunction) -> ngsolve.fem.CoefficientFunction\n",
      " |      \n",
      " |      Returns eigenvectors and eigenvalues of matrix-valued CF\n",
      " |  \n",
      " |  ExtendDimension(...)\n",
      " |      ExtendDimension(self: ngsolve.fem.CoefficientFunction, dims: tuple, pos: Optional[tuple] = None, stride: Optional[tuple] = None) -> ngsolve.fem.CoefficientFunction\n",
      " |      \n",
      " |      Extend shape by 0-padding\n",
      " |  \n",
      " |  Freeze(...)\n",
      " |      Freeze(self: ngsolve.fem.CoefficientFunction) -> ngsolve.fem.CoefficientFunction\n",
      " |      \n",
      " |      don't differentiate this expression\n",
      " |  \n",
      " |  InnerProduct(...)\n",
      " |      InnerProduct(self: ngsolve.fem.CoefficientFunction, cf: ngsolve.fem.CoefficientFunction) -> ngsolve.fem.CoefficientFunction\n",
      " |      \n",
      " |       \n",
      " |      Returns InnerProduct with another CoefficientFunction.\n",
      " |      \n",
      " |      Parameters:\n",
      " |      \n",
      " |      cf : ngsolve.CoefficientFunction\n",
      " |        input CoefficientFunction\n",
      " |  \n",
      " |  MakeVariable(...)\n",
      " |      MakeVariable(self: ngsolve.fem.CoefficientFunction) -> ngsolve.fem.CoefficientFunction\n",
      " |      \n",
      " |      make node a variable, by which we can differentiate\n",
      " |  \n",
      " |  Norm(...)\n",
      " |      Norm(self: ngsolve.fem.CoefficientFunction) -> ngsolve.fem.CoefficientFunction\n",
      " |      \n",
      " |      Returns Norm of the CF\n",
      " |  \n",
      " |  Operator(...)\n",
      " |      Operator(self: ngsolve.fem.CoefficientFunction, arg0: str) -> ngsolve.fem.CoefficientFunction\n",
      " |  \n",
      " |  Other(...)\n",
      " |      Other(self: ngsolve.fem.CoefficientFunction) -> ngsolve.fem.CoefficientFunction\n",
      " |      \n",
      " |      Evaluate on other element, as needed for DG jumps\n",
      " |  \n",
      " |  Reshape(...)\n",
      " |      Reshape(self: ngsolve.fem.CoefficientFunction, arg0: tuple) -> ngsolve.fem.CoefficientFunction\n",
      " |      \n",
      " |      reshape CF:  (dim) for vector, (h,w) for matrix\n",
      " |  \n",
      " |  TensorTranspose(...)\n",
      " |      TensorTranspose(self: ngsolve.fem.CoefficientFunction, arg0: tuple) -> ngsolve.fem.CoefficientFunction\n",
      " |  \n",
      " |  __add__(...)\n",
      " |      __add__(*args, **kwargs)\n",
      " |      Overloaded function.\n",
      " |      \n",
      " |      1. __add__(self: ngsolve.fem.CoefficientFunction, cf: ngsolve.fem.CoefficientFunction) -> ngsolve.fem.CoefficientFunction\n",
      " |      \n",
      " |      2. __add__(self: ngsolve.fem.CoefficientFunction, value: float) -> ngsolve.fem.CoefficientFunction\n",
      " |      \n",
      " |      3. __add__(self: ngsolve.fem.CoefficientFunction, value: complex) -> ngsolve.fem.CoefficientFunction\n",
      " |  \n",
      " |  __call__(...)\n",
      " |      __call__(*args, **kwargs)\n",
      " |      Overloaded function.\n",
      " |      \n",
      " |      1. __call__(self: ngsolve.fem.CoefficientFunction, mip: ngsolve.fem.BaseMappedIntegrationPoint) -> object\n",
      " |      \n",
      " |      evaluate CF at a mapped integrationpoint mip. mip can be generated by calling mesh(x,y,z)\n",
      " |      \n",
      " |      2. __call__(self: ngsolve.fem.CoefficientFunction, x: float, y: Optional[float] = None, z: Optional[float] = None) -> ngcomp::PointEvaluationFunctional\n",
      " |      \n",
      " |      3. __call__(self: ngsolve.fem.CoefficientFunction, arg0: ngsolve.fem.CoordinateTrafo) -> ngsolve.fem.CoefficientFunction\n",
      " |      \n",
      " |      4. __call__(self: ngsolve.fem.CoefficientFunction, arg0: ngsolve.fem.MeshPoint) -> object\n",
      " |      \n",
      " |      5. __call__(self: ngsolve.fem.CoefficientFunction, arg0: numpy.ndarray[ngsolve.fem.MeshPoint]) -> numpy.ndarray\n",
      " |  \n",
      " |  __getitem__(...)\n",
      " |      __getitem__(*args, **kwargs)\n",
      " |      Overloaded function.\n",
      " |      \n",
      " |      1. __getitem__(self: ngsolve.fem.CoefficientFunction, comp: int) -> ngsolve.fem.CoefficientFunction\n",
      " |      \n",
      " |      returns component comp of vectorial CF\n",
      " |      \n",
      " |      2. __getitem__(self: ngsolve.fem.CoefficientFunction, components: slice) -> ngsolve.fem.CoefficientFunction\n",
      " |      \n",
      " |      3. __getitem__(self: ngsolve.fem.CoefficientFunction, arg0: tuple) -> ngsolve.fem.CoefficientFunction\n",
      " |  \n",
      " |  __getstate__(...)\n",
      " |      __getstate__(self: ngsolve.fem.CoefficientFunction) -> tuple\n",
      " |  \n",
      " |  __mul__(...)\n",
      " |      __mul__(*args, **kwargs)\n",
      " |      Overloaded function.\n",
      " |      \n",
      " |      1. __mul__(self: ngsolve.fem.CoefficientFunction, cf: ngsolve.fem.CoefficientFunction) -> ngsolve.fem.CoefficientFunction\n",
      " |      \n",
      " |      2. __mul__(self: ngsolve.fem.CoefficientFunction, value: float) -> ngsolve.fem.CoefficientFunction\n",
      " |      \n",
      " |      3. __mul__(self: ngsolve.fem.CoefficientFunction, value: complex) -> ngsolve.fem.CoefficientFunction\n",
      " |      \n",
      " |      4. __mul__(self: ngsolve.fem.CoefficientFunction, arg0: ngfem::DifferentialSymbol) -> ngfem::SumOfIntegrals\n",
      " |  \n",
      " |  __neg__(...)\n",
      " |      __neg__(self: ngsolve.fem.CoefficientFunction) -> ngsolve.fem.CoefficientFunction\n",
      " |  \n",
      " |  __pow__(...)\n",
      " |      __pow__(*args, **kwargs)\n",
      " |      Overloaded function.\n",
      " |      \n",
      " |      1. __pow__(self: ngsolve.fem.CoefficientFunction, exponent: int) -> ngsolve.fem.CoefficientFunction\n",
      " |      \n",
      " |      2. __pow__(self: ngsolve.fem.CoefficientFunction, arg0: float) -> object\n",
      " |      \n",
      " |      3. __pow__(self: ngsolve.fem.CoefficientFunction, arg0: ngsolve.fem.CoefficientFunction) -> object\n",
      " |  \n",
      " |  __radd__(...)\n",
      " |      __radd__(*args, **kwargs)\n",
      " |      Overloaded function.\n",
      " |      \n",
      " |      1. __radd__(self: ngsolve.fem.CoefficientFunction, value: float) -> ngsolve.fem.CoefficientFunction\n",
      " |      \n",
      " |      2. __radd__(self: ngsolve.fem.CoefficientFunction, value: complex) -> ngsolve.fem.CoefficientFunction\n",
      " |  \n",
      " |  __rmul__(...)\n",
      " |      __rmul__(*args, **kwargs)\n",
      " |      Overloaded function.\n",
      " |      \n",
      " |      1. __rmul__(self: ngsolve.fem.CoefficientFunction, value: float) -> ngsolve.fem.CoefficientFunction\n",
      " |      \n",
      " |      2. __rmul__(self: ngsolve.fem.CoefficientFunction, value: complex) -> ngsolve.fem.CoefficientFunction\n",
      " |  \n",
      " |  __rpow__(...)\n",
      " |      __rpow__(self: ngsolve.fem.CoefficientFunction, arg0: float) -> object\n",
      " |  \n",
      " |  __rsub__(...)\n",
      " |      __rsub__(self: ngsolve.fem.CoefficientFunction, value: float) -> ngsolve.fem.CoefficientFunction\n",
      " |  \n",
      " |  __rtruediv__(...)\n",
      " |      __rtruediv__(*args, **kwargs)\n",
      " |      Overloaded function.\n",
      " |      \n",
      " |      1. __rtruediv__(self: ngsolve.fem.CoefficientFunction, value: float) -> ngsolve.fem.CoefficientFunction\n",
      " |      \n",
      " |      2. __rtruediv__(self: ngsolve.fem.CoefficientFunction, value: complex) -> ngsolve.fem.CoefficientFunction\n",
      " |  \n",
      " |  __setstate__(...)\n",
      " |      __setstate__(self: ngsolve.fem.CoefficientFunction, arg0: tuple) -> None\n",
      " |  \n",
      " |  __sub__(...)\n",
      " |      __sub__(*args, **kwargs)\n",
      " |      Overloaded function.\n",
      " |      \n",
      " |      1. __sub__(self: ngsolve.fem.CoefficientFunction, cf: ngsolve.fem.CoefficientFunction) -> ngsolve.fem.CoefficientFunction\n",
      " |      \n",
      " |      2. __sub__(self: ngsolve.fem.CoefficientFunction, value: float) -> ngsolve.fem.CoefficientFunction\n",
      " |  \n",
      " |  __truediv__(...)\n",
      " |      __truediv__(*args, **kwargs)\n",
      " |      Overloaded function.\n",
      " |      \n",
      " |      1. __truediv__(self: ngsolve.fem.CoefficientFunction, cf: ngsolve.fem.CoefficientFunction) -> ngsolve.fem.CoefficientFunction\n",
      " |      \n",
      " |      2. __truediv__(self: ngsolve.fem.CoefficientFunction, value: float) -> ngsolve.fem.CoefficientFunction\n",
      " |      \n",
      " |      3. __truediv__(self: ngsolve.fem.CoefficientFunction, value: complex) -> ngsolve.fem.CoefficientFunction\n",
      " |  \n",
      " |  ----------------------------------------------------------------------\n",
      " |  Readonly properties inherited from ngsolve.fem.CoefficientFunction:\n",
      " |  \n",
      " |  data\n",
      " |  \n",
      " |  dim\n",
      " |      number of components of CF\n",
      " |  \n",
      " |  imag\n",
      " |      imaginary part of CF\n",
      " |  \n",
      " |  is_complex\n",
      " |      is CoefficientFunction complex-valued ?\n",
      " |  \n",
      " |  real\n",
      " |      real part of CF\n",
      " |  \n",
      " |  shape\n",
      " |      shape of CF\n",
      " |  \n",
      " |  trans\n",
      " |      transpose of matrix-valued CF\n",
      " |  \n",
      " |  ----------------------------------------------------------------------\n",
      " |  Data descriptors inherited from ngsolve.fem.CoefficientFunction:\n",
      " |  \n",
      " |  dims\n",
      " |      shape of CF:  (dim) for vector, (h,w) for matrix\n",
      " |  \n",
      " |  spacedim\n",
      " |  \n",
      " |  ----------------------------------------------------------------------\n",
      " |  Static methods inherited from pybind11_builtins.pybind11_object:\n",
      " |  \n",
      " |  __new__(*args, **kwargs) from pybind11_builtins.pybind11_type\n",
      " |      Create and return a new object.  See help(type) for accurate signature.\n",
      "\n"
     ]
    }
   ],
   "source": [
    "help(myPhi)"
   ]
  },
  {
   "cell_type": "code",
   "execution_count": 16,
   "metadata": {},
   "outputs": [],
   "source": [
    "def createPhiCF(x_CF, y_CF, size_all=[40, 40], size_core=[20, 20], num_sheets=10, ratio_medium2total=0.9):\n",
    "    # widthes of medium and air\n",
    "    width_core_medium = size_core[0]/num_sheets * ratio_medium2total\n",
    "    width_core_air = size_core[0]/(num_sheets-1) * (1-ratio_medium2total)\n",
    "    width_core_single = width_core_medium + width_core_air\n",
    "\n",
    "    # total mask\n",
    "    x_test_min = IfPos(x_CF + size_core[0]/2, 1, 0)\n",
    "    x_test_max = IfPos(x_CF - size_core[0]/2, 0, 1)\n",
    "\n",
    "    y_test_min = IfPos(y_CF + size_core[1]/2, 1, 0)\n",
    "    y_test_max = IfPos(y_CF - size_core[1]/2, 0, 1)\n",
    "\n",
    "    # dx\n",
    "    dx_medium = 2/width_core_medium\n",
    "    dx_air = -2/width_core_air\n",
    "\n",
    "    # start point\n",
    "    x_min_coordinate = -size_core[0]/2\n",
    "    \n",
    "\n",
    "    Phi_CF = 0\n",
    "    dxPhi_CF = 0\n",
    "    #   Medium_CF = 0\n",
    "    \n",
    "    for i in range(0, num_sheets):\n",
    "        # for air\n",
    "        x_max = IfPos(x_CF - x_min_coordinate - (i+1) * width_core_single , 0, 1)                      # air\n",
    "        x_mid_max = IfPos(x_CF - x_min_coordinate - i * width_core_single - width_core_medium, 1, 0)\n",
    "        # air =1 -> x_max*x_mid_max\n",
    "\n",
    "        # for medium\n",
    "        x_mid_min = IfPos(x_CF - x_min_coordinate - i * width_core_single - width_core_medium, 0, 1)    # medium\n",
    "        x_min = IfPos(x_CF - x_min_coordinate - i * width_core_single, 1, 0)\n",
    "\n",
    "        \n",
    "        # medium zick zack\n",
    "        Phi_CF += (dx_medium*(x_CF - x_min_coordinate - i * width_core_single) - 1)*(x_min*x_mid_min)       \n",
    "        dxPhi_CF += dx_medium * (x_min*x_mid_min)    \n",
    "        #   Medium_CF += x_min*x_mid_min \n",
    "        # air zickzack\n",
    "        if i != num_sheets -1:\n",
    "            Phi_CF += (dx_air*(x_CF - x_min_coordinate - i * width_core_single - width_core_medium) + 1)*(x_max*x_mid_max) \n",
    "            dxPhi_CF += dx_air * (x_max*x_mid_max)\n",
    "    # mask zick zack to medium\n",
    "    Phi_CF *= x_test_max * x_test_min * y_test_min * y_test_max\n",
    "    dxPhi_CF *= x_test_max * x_test_min * y_test_min * y_test_max\n",
    "    #    Medium_CF *= x_test_max * x_test_min * y_test_min * y_test_max\n",
    "\n",
    "    # Phi_CF... ZickZack function\n",
    "    # dxPhi_CF = derivation\n",
    "    return Phi_CF, dxPhi_CF#, Medium_CF\n"
   ]
  },
  {
   "cell_type": "code",
   "execution_count": 39,
   "metadata": {},
   "outputs": [],
   "source": [
    "class pydxLobatto(pyPhiFunction):\n",
    "    def __init__(self, zstart, d, order, numSheets, ff, orientation, inIron=True, inAir=True, inOuter=False, douter=None, modelHalfAir=True): \n",
    "        xs = (d0/2 + dFe/2)\n",
    "        self.dxFunDict = {\n",
    "            0: [lambda x : CF(0), lambda x : CF(0)],\n",
    "            1: [lambda x : 2.0/dFe , lambda x : -2.0/d0 ],\n",
    "            2: [lambda x : sqrt(3.0/8)*(8/(dFe**2) *x), lambda x : sqrt(3.0/8)*(8/(d0**2) *(x-dFe/2-d0/2))]\n",
    "        }   \n",
    "\n",
    "        super.__init__(self, zstart, d, self.dxFunDict[order], numSheets, ff, orientation, inIron=inIron, inAir=inAir, inOuter=inOuter, douter=dOuter, modelHalfAir=modelHalfAir, name=\"pydxLobatto\")\n",
    "\n",
    "class pyLobatto(pyPhiFunction):\n",
    "    def __init__(self, zstart, d, order, numSheets, ff, orientation, inIron=True, inAir=True, inOuter=False, douter=None, modelHalfAir=True): \n",
    "        xs = (d0/2 + dFe/2)\n",
    "        self.funDict = {\n",
    "            0: [lambda x : CF(1), lambda x : CF(1)],\n",
    "            1: [lambda x :  2.0/dFe * x, lambda x : -2.0/d0 * (x - xs)],\n",
    "            2: [lambda x : sqrt(3.0/8) * (4/(dFe**2) *(x**2)- 1), lambda x : sqrt(3.0/8) * (4/(d0**2)*((x-xs)**2)- 1)]\n",
    "        }\n",
    "\n",
    "        super.__init__(self, zstart, d, self.funDict[order], numSheets, ff, orientation, inIron=inIron, inAir=inAir, inOuter=inOuter, douter=dOuter, modelHalfAir=modelHalfAir, name=\"pyLobatto\")\n",
    "\n",
    "        \n",
    "\n",
    "class pyPhiFunction(CF):\n",
    "\n",
    "    def __init__(self, zstart, d, fun, numSheets, ff, orientation, inIron=True, inAir=True, inOuter=False, douter=None, modelHalfAir=True, name = \"pyPhiFunction\"):\n",
    "        self.zstart = zstart\n",
    "        self.d = d\n",
    "        self.fun = fun\n",
    "        self.numSheets = numSheets\n",
    "        self.ff = ff\n",
    "        self.orientation = orientation\n",
    "        self.inIron = inIron\n",
    "        self.inAir = inAir\n",
    "        self.inOuter = inOuter\n",
    "        self.douter = douter\n",
    "        self.modelHalfAir=modelHalfAir\n",
    "\n",
    "        self.dFe = d*ff\n",
    "        self.d0 = d*(1-ff)\n",
    "\n",
    "        self.name = name\n",
    "\n",
    "\n",
    "\n",
    "        self.createMask()\n",
    "        self.createLocX()\n",
    "        self.fun = fun\n",
    "            \n",
    "        super(self.createCFs())\n",
    "\n",
    "\n",
    "    def createMask(self):\n",
    "        x_CF = (x, y, z)[self.orientation]\n",
    "        if self.modelHalfAir:\n",
    "            self.mask = IfPos(x_CF - self.zstart, IfPos(x_CF + self.zstart, 0, 1), 0) \n",
    "        else:\n",
    "            self.mask = IfPos(x_CF - self.zstart - self.d0/2, IfPos(x_CF + self.zstart + self.d0/2, 0, 1), 0) \n",
    "    def createCFs(self):\n",
    "\n",
    "        funFe = self.fun[0] if self.inIron else lambda x : CF(0)\n",
    "        funAir = self.fun[1] if self.inAir else lambda x : CF(0)\n",
    "\n",
    "        # dxfunFe = self.dxfun[0] if self.inIron else lambda x : CF(0)\n",
    "        # dxfunAir = self.dxfun[1] if self.inAir else lambda x : CF(0)\n",
    "\n",
    "        self.phi = IfPos(self.localX - self.dFe/2, funAir(self.localX), funFe(self.localX)) * self.mask\n",
    "        # self.dzphi = IfPos(self.localX - self.dFe/2, dxfunAir(self.localX), dxfunFe(self.localX)) * self.mask\n",
    "        return self.phi #, self.dzphi\n",
    "\n",
    "\n",
    "    def createLocX(self):\n",
    "        # get coordinate\n",
    "        x_CF = (x, y, z)[self.orientation]\n",
    "        # start point\n",
    "\n",
    "        if self.modelHalfAir:\n",
    "            xPos = self.zstart - self.d0/2 - self.dFe\n",
    "            istart = -1\n",
    "        else:\n",
    "            xPos = self.zstart - self.d0/2\n",
    "            istart = 0\n",
    "\n",
    "        ret = CF(0)\n",
    "        for i in range(istart, self.numSheets):\n",
    "\n",
    "            sheetOrigin = x_CF - xPos - self.dFe/2\n",
    "            # ret += IfPos(tmp + self.dFe/2, IfPos(tmp - self.dFe/2 - self.d0, 0, 1), 0)\n",
    "            ret += IfPos(sheetOrigin  + self.dFe/2 , IfPos(sheetOrigin  - self.dFe/2 - self.d0, 0, sheetOrigin), 0)\n",
    "\n",
    "            xPos += self.d0 + self.dFe\n",
    "\n",
    "        ret *= self.mask\n",
    "\n",
    "        self.localX = ret\n",
    "\n",
    "        return self.localX\n",
    "\n",
    "\n",
    "\n",
    "    \n",
    "        \n",
    "\n",
    "cl_Phi.numSheets = numSheets\n",
    "cl_Phi.dFe = cMeshMS.dFe\n",
    "cl_Phi.d0 = cMeshMS.d0\n",
    "cl_Phi.mesh = meshMS\n",
    "\n",
    "cl_Phi.modelHalfAir = True\n",
    "cl_Phi.orientation = 0\n",
    "\n",
    "dSingleSheet = cMeshMS.dFe + cMeshMS.d0\n",
    "\n"
   ]
  },
  {
   "cell_type": "code",
   "execution_count": 40,
   "metadata": {},
   "outputs": [
    {
     "ename": "AttributeError",
     "evalue": "'pyLobatto' object has no attribute 'd0'",
     "output_type": "error",
     "traceback": [
      "\u001b[0;31m---------------------------------------------------------------------------\u001b[0m",
      "\u001b[0;31mAttributeError\u001b[0m                            Traceback (most recent call last)",
      "\u001b[1;32m/home/vhanser/Documents/ngsolveexample/content/multiscale/multiscale2DonlySmooth.ipynb Cell 21\u001b[0m line \u001b[0;36m1\n\u001b[0;32m----> <a href='vscode-notebook-cell:/home/vhanser/Documents/ngsolveexample/content/multiscale/multiscale2DonlySmooth.ipynb#X26sZmlsZQ%3D%3D?line=0'>1</a>\u001b[0m mypyLobatto \u001b[39m=\u001b[39m pyLobatto(\u001b[39m-\u001b[39;49mnumSheets\u001b[39m*\u001b[39;49mdSingleSheet\u001b[39m/\u001b[39;49m\u001b[39m2\u001b[39;49m, dSingleSheet, \u001b[39m2\u001b[39;49m, numSheets, ff, cl_Phi\u001b[39m.\u001b[39;49morientation, modelHalfAir\u001b[39m=\u001b[39;49m\u001b[39mFalse\u001b[39;49;00m, inAir \u001b[39m=\u001b[39;49m \u001b[39mTrue\u001b[39;49;00m)\n\u001b[1;32m      <a href='vscode-notebook-cell:/home/vhanser/Documents/ngsolveexample/content/multiscale/multiscale2DonlySmooth.ipynb#X26sZmlsZQ%3D%3D?line=1'>2</a>\u001b[0m \u001b[39mprint\u001b[39m(cl_Phi\u001b[39m.\u001b[39mdFe)\n\u001b[1;32m      <a href='vscode-notebook-cell:/home/vhanser/Documents/ngsolveexample/content/multiscale/multiscale2DonlySmooth.ipynb#X26sZmlsZQ%3D%3D?line=2'>3</a>\u001b[0m \u001b[39mprint\u001b[39m(myPyPhi(meshRef(\u001b[39m-\u001b[39mdSingleSheet\u001b[39m*\u001b[39mnumSheets\u001b[39m/\u001b[39m\u001b[39m2\u001b[39m \u001b[39m+\u001b[39m cMeshMS\u001b[39m.\u001b[39md0\u001b[39m/\u001b[39m\u001b[39m2\u001b[39m, \u001b[39m0\u001b[39m)), \u001b[39m1\u001b[39m)\n",
      "\u001b[1;32m/home/vhanser/Documents/ngsolveexample/content/multiscale/multiscale2DonlySmooth.ipynb Cell 21\u001b[0m line \u001b[0;36m1\n\u001b[1;32m     <a href='vscode-notebook-cell:/home/vhanser/Documents/ngsolveexample/content/multiscale/multiscale2DonlySmooth.ipynb#X26sZmlsZQ%3D%3D?line=12'>13</a>\u001b[0m \u001b[39mdef\u001b[39;00m \u001b[39m__init__\u001b[39m(\u001b[39mself\u001b[39m, zstart, d, order, numSheets, ff, orientation, inIron\u001b[39m=\u001b[39m\u001b[39mTrue\u001b[39;00m, inAir\u001b[39m=\u001b[39m\u001b[39mTrue\u001b[39;00m, inOuter\u001b[39m=\u001b[39m\u001b[39mFalse\u001b[39;00m, douter\u001b[39m=\u001b[39m\u001b[39mNone\u001b[39;00m, modelHalfAir\u001b[39m=\u001b[39m\u001b[39mTrue\u001b[39;00m): \n\u001b[0;32m---> <a href='vscode-notebook-cell:/home/vhanser/Documents/ngsolveexample/content/multiscale/multiscale2DonlySmooth.ipynb#X26sZmlsZQ%3D%3D?line=13'>14</a>\u001b[0m     xs \u001b[39m=\u001b[39m (\u001b[39mself\u001b[39;49m\u001b[39m.\u001b[39;49md0\u001b[39m/\u001b[39m\u001b[39m2\u001b[39m \u001b[39m+\u001b[39m \u001b[39mself\u001b[39m\u001b[39m.\u001b[39mdFe\u001b[39m/\u001b[39m\u001b[39m2\u001b[39m)\n\u001b[1;32m     <a href='vscode-notebook-cell:/home/vhanser/Documents/ngsolveexample/content/multiscale/multiscale2DonlySmooth.ipynb#X26sZmlsZQ%3D%3D?line=14'>15</a>\u001b[0m     \u001b[39mself\u001b[39m\u001b[39m.\u001b[39mfunDict \u001b[39m=\u001b[39m {\n\u001b[1;32m     <a href='vscode-notebook-cell:/home/vhanser/Documents/ngsolveexample/content/multiscale/multiscale2DonlySmooth.ipynb#X26sZmlsZQ%3D%3D?line=15'>16</a>\u001b[0m         \u001b[39m0\u001b[39m: [\u001b[39mlambda\u001b[39;00m x : CF(\u001b[39m1\u001b[39m), \u001b[39mlambda\u001b[39;00m x : CF(\u001b[39m1\u001b[39m)],\n\u001b[1;32m     <a href='vscode-notebook-cell:/home/vhanser/Documents/ngsolveexample/content/multiscale/multiscale2DonlySmooth.ipynb#X26sZmlsZQ%3D%3D?line=16'>17</a>\u001b[0m         \u001b[39m1\u001b[39m: [\u001b[39mlambda\u001b[39;00m x :  \u001b[39m2.0\u001b[39m\u001b[39m/\u001b[39m\u001b[39mself\u001b[39m\u001b[39m.\u001b[39mdFe \u001b[39m*\u001b[39m x, \u001b[39mlambda\u001b[39;00m x : \u001b[39m-\u001b[39m\u001b[39m2.0\u001b[39m\u001b[39m/\u001b[39m\u001b[39mself\u001b[39m\u001b[39m.\u001b[39md0 \u001b[39m*\u001b[39m (x \u001b[39m-\u001b[39m xs)],\n\u001b[1;32m     <a href='vscode-notebook-cell:/home/vhanser/Documents/ngsolveexample/content/multiscale/multiscale2DonlySmooth.ipynb#X26sZmlsZQ%3D%3D?line=17'>18</a>\u001b[0m         \u001b[39m2\u001b[39m: [\u001b[39mlambda\u001b[39;00m x : sqrt(\u001b[39m3.0\u001b[39m\u001b[39m/\u001b[39m\u001b[39m8\u001b[39m) \u001b[39m*\u001b[39m (\u001b[39m4\u001b[39m\u001b[39m/\u001b[39m(\u001b[39mself\u001b[39m\u001b[39m.\u001b[39mdFe\u001b[39m*\u001b[39m\u001b[39m*\u001b[39m\u001b[39m2\u001b[39m) \u001b[39m*\u001b[39m(x\u001b[39m*\u001b[39m\u001b[39m*\u001b[39m\u001b[39m2\u001b[39m)\u001b[39m-\u001b[39m \u001b[39m1\u001b[39m), \u001b[39mlambda\u001b[39;00m x : sqrt(\u001b[39m3.0\u001b[39m\u001b[39m/\u001b[39m\u001b[39m8\u001b[39m) \u001b[39m*\u001b[39m (\u001b[39m4\u001b[39m\u001b[39m/\u001b[39m(\u001b[39mself\u001b[39m\u001b[39m.\u001b[39md0\u001b[39m*\u001b[39m\u001b[39m*\u001b[39m\u001b[39m2\u001b[39m)\u001b[39m*\u001b[39m((x\u001b[39m-\u001b[39mxs)\u001b[39m*\u001b[39m\u001b[39m*\u001b[39m\u001b[39m2\u001b[39m)\u001b[39m-\u001b[39m \u001b[39m1\u001b[39m)]\n\u001b[1;32m     <a href='vscode-notebook-cell:/home/vhanser/Documents/ngsolveexample/content/multiscale/multiscale2DonlySmooth.ipynb#X26sZmlsZQ%3D%3D?line=18'>19</a>\u001b[0m     }\n\u001b[1;32m     <a href='vscode-notebook-cell:/home/vhanser/Documents/ngsolveexample/content/multiscale/multiscale2DonlySmooth.ipynb#X26sZmlsZQ%3D%3D?line=20'>21</a>\u001b[0m     \u001b[39msuper\u001b[39m\u001b[39m.\u001b[39m\u001b[39m__init__\u001b[39m(\u001b[39mself\u001b[39m, zstart, d, \u001b[39mself\u001b[39m\u001b[39m.\u001b[39mfunDict[order], numSheets, ff, orientation, inIron\u001b[39m=\u001b[39minIron, inAir\u001b[39m=\u001b[39minAir, inOuter\u001b[39m=\u001b[39minOuter, douter\u001b[39m=\u001b[39mdOuter, modelHalfAir\u001b[39m=\u001b[39mmodelHalfAir, name\u001b[39m=\u001b[39m\u001b[39m\"\u001b[39m\u001b[39mpyLobatto\u001b[39m\u001b[39m\"\u001b[39m)\n",
      "\u001b[0;31mAttributeError\u001b[0m: 'pyLobatto' object has no attribute 'd0'"
     ]
    }
   ],
   "source": [
    "mypyLobatto = pyLobatto(-numSheets*dSingleSheet/2, dSingleSheet, 2, numSheets, ff, cl_Phi.orientation, modelHalfAir=False, inAir = True)\n",
    "print(cl_Phi.dFe)\n",
    "print(myPyPhi(meshRef(-dSingleSheet*numSheets/2 + cMeshMS.d0/2, 0)), 1)\n",
    "print(myPyPhi(meshRef(-dSingleSheet*numSheets/2 + cMeshMS.d0/2 + cMeshMS.dFe, 0)), 0)\n",
    "Draw(myPyPhi.phi, meshRef, deformation = True)"
   ]
  },
  {
   "cell_type": "code",
   "execution_count": null,
   "metadata": {},
   "outputs": [],
   "source": []
  }
 ],
 "metadata": {
  "kernelspec": {
   "display_name": "Python 3",
   "language": "python",
   "name": "python3"
  },
  "language_info": {
   "codemirror_mode": {
    "name": "ipython",
    "version": 3
   },
   "file_extension": ".py",
   "mimetype": "text/x-python",
   "name": "python",
   "nbconvert_exporter": "python",
   "pygments_lexer": "ipython3",
   "version": "3.10.12"
  },
  "orig_nbformat": 4
 },
 "nbformat": 4,
 "nbformat_minor": 2
}
