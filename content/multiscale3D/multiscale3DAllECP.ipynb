{
 "cells": [
  {
   "cell_type": "code",
   "execution_count": 1,
   "metadata": {},
   "outputs": [],
   "source": [
    "from netgen.occ import *\n",
    "from ngsolve import *\n",
    "from netgen.meshing import IdentificationType\n",
    "#from MS_helper_functions import *\n",
    "from netgen.webgui import Draw as DrawGeo\n",
    "from ngsolve.webgui import Draw\n",
    "Draw = lambda *args, **kwargs : None\n",
    "\n",
    "import matplotlib.pyplot as plt\n",
    "%matplotlib widget\n",
    "plt.ioff()\n",
    "\n",
    "from myPackage import evalOnLine, __sep__\n",
    "from stepLapMeshGenerator import sheetsMeshCenter\n",
    "\n",
    "import numpy as np\n",
    "\n",
    "\n",
    "\n",
    "d = 0.5e-2\n",
    "ff = 0.7\n",
    "\n",
    "dFe = d*ff\n",
    "d0 = d*(1-ff)\n",
    "\n",
    "numSheets = 3\n",
    "numPeriods = 1\n",
    "\n",
    "    \n",
    "\n",
    "specialTB1 = [1, 1, 1,1]\n",
    "specialTB1 = False\n",
    "specialTB2 = [1, 1, 1,1]\n",
    "specialTB2 = False\n",
    "domainName_insulation = \"air\"\n",
    "halfAir =True\n",
    "fullProblemX = True\n",
    "fullProblemY = True\n",
    "fullProblemZ = True\n",
    "\n",
    "\n",
    "x0 = __sep__(10e-3, [4, 3, 2, 1, 0.1])\n",
    "\n",
    "x1 = __sep__(20e-3, [0.1, 0.5, 1, 1, 0.5, 0.1])\n",
    "\n",
    "x1_i = __sep__(2.5*d, 3)\n",
    "x2 = np.flipud(x0)\n",
    "\n",
    "\n",
    "y0 = __sep__(3*d, [6, 4, 2, 1.5, 0.5, 0.25])\n",
    "y1 = __sep__(3*d, [0.25, 0.5, 2, 0.5, 0.25])\n",
    "y2 = list(np.flipud(y0))\n",
    "\n",
    "z0=__sep__(3*d, [10, 10, 10])\n",
    "z1_iron = __sep__(dFe, [1, 3, 5, 3, 1])\n",
    "z1_air=[d0]\n",
    "z2 = list(np.flipud(z0))\n",
    "\n",
    "z1_iron_MS_sep = 5\n",
    "\n",
    "\n",
    "# class myDraw:\n",
    "#     scenes = {}\n",
    "#     def __init__(self, *args, **kwargs):\n",
    "#         if id(args[0]) not in myDraw.scenes.keys():\n",
    "#             myDraw.scenes.update({id(args[0]):Draw(*args, **kwargs)})\n",
    "#         else:\n",
    "#             myDraw.scenes[id(args[0])].Draw()\n",
    "#     def updateAll():\n",
    "#         for s in myDraw.scenes.values():\n",
    "#             s.Redraw()"
   ]
  },
  {
   "cell_type": "code",
   "execution_count": 2,
   "metadata": {},
   "outputs": [],
   "source": [
    "mu0 = 4e-7*np.pi\n",
    "\n",
    "muAir = 1 * mu0\n",
    "muFe = 10 * mu0\n",
    "\n",
    "sigmaFe = 2e6\n",
    "\n",
    "omega = 50 * 2*np.pi\n",
    "\n",
    "\n",
    "\n",
    "\n",
    "order0 = 2"
   ]
  },
  {
   "cell_type": "markdown",
   "metadata": {},
   "source": [
    "## 4. All together with Eddy currents\n",
    "### 4.1. Reference Solution "
   ]
  },
  {
   "cell_type": "code",
   "execution_count": 29,
   "metadata": {},
   "outputs": [
    {
     "name": "stdout",
     "output_type": "stream",
     "text": [
      "dFe 0.0034999999999999996\n",
      "penetration depth =  0.015915494309189534\n",
      "('air', 'gap', 'iron')\n",
      "('natural', 'bottom', 'top', 'front', 'back', 'right', 'left', 'ibot', 'itop', 'interface_y', 'interface_x')\n"
     ]
    }
   ],
   "source": [
    "    cMeshRef = sheetsMeshCenter(\"test.vol\", x0, x1, x2, y0, y1, y2, z0, z1_iron, z1_air, z2, \n",
    "        x1_i=x1_i,\n",
    "        numSheets=numSheets, numPeriods=1,\n",
    "        multiScale=False, \n",
    "        z1_iron_MS_sep=False, \n",
    "        specialTB1=False, specialTB2=False, # speTB1 for seperated first sheet, speTB2 for spec domain in first sheet\n",
    "        domainName_Gap = \"gap\",\n",
    "        domainName_insulation=\"insulation\", \n",
    "        halfAir=True, \n",
    "        specialBoundariesForGapDomain=False, \n",
    "        specialBoundariesForInnerOuter=False,\n",
    "        fullProblemX=True,\n",
    "        fullProblemY=True, \n",
    "        fullProblemZ=True, seperateIronDomains=False)\n",
    "\n",
    "meshRef=cMeshRef.Mesh\n",
    "\n",
    "print(\"dFe\", sum(cMeshRef.z1_iron))\n",
    "print(\"penetration depth = \", sqrt(2/(muFe*omega*sigmaFe)))\n",
    "\n",
    "print(meshRef.GetMaterials())\n",
    "print(meshRef.GetBoundaries())\n"
   ]
  },
  {
   "cell_type": "code",
   "execution_count": 30,
   "metadata": {},
   "outputs": [],
   "source": [
    "# from myPackage import drawBndAll\n",
    "# drawBndAll(meshRef, drawFunc=Draw, block=False)"
   ]
  },
  {
   "cell_type": "code",
   "execution_count": 31,
   "metadata": {},
   "outputs": [
    {
     "name": "stderr",
     "output_type": "stream",
     "text": [
      "used dof inconsistency\n",
      "(silence this warning by setting BilinearForm(...check_unused=False) )\n"
     ]
    },
    {
     "name": "stdout",
     "output_type": "stream",
     "text": [
      "\u001b[2KCG iteration 1, residual = 0.010218618784817658     \n",
      "\u001b[2KCG iteration 2, residual = 4.652180682410503e-13     \n"
     ]
    }
   ],
   "source": [
    "rotate_excitation = False\n",
    "mu = meshRef.MaterialCF({\"iron\":muFe, \"air\":muAir, \"insulation\":muAir, \"gap\":muAir, \"multiscale\":muFe}, default=muAir)\n",
    "\n",
    "def calcRef():\n",
    "    fesPhi = H1(meshRef, order=order0, dirichlet=\"top|bottom\" if rotate_excitation else \"left|right\" , complex=True)\n",
    "    fesT = HCurl(meshRef, order=order0, dirichlet=\"itop|ibot|interface.*|left|right\", complex=True, definedon=meshRef.Materials(\"iron\"), nograds=True)\n",
    "    fes = FESpace([fesPhi, fesT])\n",
    "\n",
    "    trials, tests = fes.TnT()\n",
    "    sol = GridFunction(fes)\n",
    "\n",
    "    a = BilinearForm(fes, symmetric=True)\n",
    "    f = LinearForm(fes)\n",
    "\n",
    "    a += 1j * omega * mu * (trials[1]-grad(trials[0])) * (tests[1]-grad(tests[0])) * dx\n",
    "    a += 1/sigmaFe * curl(trials[1]) * curl(tests[1]) * dx(\"iron\")\n",
    "    # a += 1e-1 * trials[0] * tests[0] * dx(\"iron\")\n",
    "\n",
    "\n",
    "    prec = Preconditioner(a, \"direct\")\n",
    "\n",
    "    Phi = sol.components[0]\n",
    "    T = sol.components[1]\n",
    "\n",
    "    Phi.Set((1 * y/Norm(y)) if rotate_excitation else (1 * x/Norm(x)), BND)\n",
    "    solvers.BVP(bf = a, lf= f, pre=prec, gf=sol, maxsteps=10)\n",
    "    \n",
    "    \n",
    "    energy =  Integrate( InnerProduct(mu * grad(Phi), grad(Phi)), meshRef, definedon=meshRef.Materials(\"iron|insulation\")).real\n",
    "    eddyLosses =  Integrate( InnerProduct(1/sigmaFe * curl(T), curl(T)), meshRef, definedon=meshRef.Materials(\"iron\")).real\n",
    "    \n",
    "    return sol, energy, eddyLosses\n",
    "\n",
    "sol_ref, energy_ref, eddyLosses_ref = calcRef()\n",
    "\n",
    "Phi = sol_ref.components[0]\n",
    "T = sol_ref.components[1]\n",
    "H_ref = T-grad(Phi)\n",
    "J_ref = curl(T)\n",
    "B_ref = mu  * H_ref\n"
   ]
  },
  {
   "cell_type": "code",
   "execution_count": 24,
   "metadata": {},
   "outputs": [
    {
     "name": "stdout",
     "output_type": "stream",
     "text": [
      "energy:\t2.6273374036555536e-09\n",
      "eddy current losses:\t5.204691160032835e-09\n"
     ]
    },
    {
     "data": {
      "application/vnd.jupyter.widget-view+json": {
       "model_id": "aaf4d860b6f143dfb2c5e9248addc6fc",
       "version_major": 2,
       "version_minor": 0
      },
      "text/plain": [
       "WebGuiWidget(layout=Layout(height='500px', width='100%'), value={'gui_settings': {'Objects': {'Wireframe': Fal…"
      ]
     },
     "metadata": {},
     "output_type": "display_data"
    }
   ],
   "source": [
    "\n",
    "from ngsolve.webgui import Draw\n",
    "\n",
    "print(f\"energy:\\t{energy_ref}\")\n",
    "print(f\"eddy current losses:\\t{eddyLosses_ref}\")\n",
    "\n",
    "draw_settings = {\"Objects\":{\"Wireframe\":False, \"Clipping Plane\":True}, \"camera\":{\"transformations\":[{\"type\":\"rotateX\", \"angle\":-45}, {\"type\":\"move\", \"dir\":(0, 0.0, 1), \"dist\":1} ]}}\n",
    "clipping = {\"x\":0, \"y\":1, \"z\":0, \"dist\":0}\n",
    "scene = Draw(J_ref.imag, meshRef, settings=draw_settings, clipping=clipping)\n",
    "\n",
    "\n"
   ]
  },
  {
   "cell_type": "code",
   "execution_count": 32,
   "metadata": {},
   "outputs": [],
   "source": [
    "Draw( H_ref[0].real, meshRef, settings={\"Objects\":{\"Wireframe\":False}, \"deformation\": False}, max = 200)\n",
    "Draw( H_ref[1].real, meshRef, settings={\"Objects\":{\"Wireframe\":False}, \"deformation\": False}, max = 200)"
   ]
  },
  {
   "cell_type": "code",
   "execution_count": 33,
   "metadata": {},
   "outputs": [],
   "source": [
    "Draw(B_ref.real[0], meshRef, settings={\"Objects\":{\"Wireframe\":False}, \"deformation\": False})\n",
    "Draw(B_ref.real[1], meshRef, settings={\"Objects\":{\"Wireframe\":False}, \"deformation\": False})"
   ]
  },
  {
   "cell_type": "markdown",
   "metadata": {},
   "source": [
    "### 4.2 Multiscale "
   ]
  },
  {
   "cell_type": "code",
   "execution_count": 3,
   "metadata": {},
   "outputs": [
    {
     "name": "stdout",
     "output_type": "stream",
     "text": [
      "here\n",
      "[0.003, 0.003, 0.003, 0.003, 0.003]\n",
      "('air', 'gap', 'iron')\n",
      "('natural', 'bottom', 'top', 'front', 'back', 'right', 'left', 'ibot', 'itop', 'interface_y', 'interface_x')\n"
     ]
    }
   ],
   "source": [
    "cMeshMS = sheetsMeshCenter(\"test.vol\", x0, x1, x2, y0, y1, y2, z0, z1_iron, z1_air, z2, \n",
    "        x1_i=x1_i,\n",
    "        numSheets=numSheets, numPeriods=1,\n",
    "        multiScale=True, \n",
    "        z1_iron_MS_sep=z1_iron_MS_sep, \n",
    "        specialTB1=False, specialTB2=False, # speTB1 for seperated first sheet, speTB2 for spec domain in first sheet\n",
    "        domainName_Gap = \"gap\",\n",
    "        domainName_insulation=\"insulation\", \n",
    "        halfAir=True, \n",
    "        specialBoundariesForGapDomain=False, \n",
    "        specialBoundariesForInnerOuter=False,\n",
    "        fullProblemX=True,\n",
    "        fullProblemY=True, \n",
    "        fullProblemZ=True, seperateIronDomains=False)\n",
    "\n",
    "meshMS=cMeshMS.Mesh\n",
    "print(meshMS.GetMaterials())\n",
    "print(meshMS.GetBoundaries())\n",
    "\n"
   ]
  },
  {
   "cell_type": "code",
   "execution_count": 5,
   "metadata": {},
   "outputs": [
    {
     "data": {
      "application/vnd.jupyter.widget-view+json": {
       "model_id": "f8959cf8e5fa41df8e33bf1c6b8caabf",
       "version_major": 2,
       "version_minor": 0
      },
      "text/plain": [
       "WebGuiWidget(layout=Layout(height='500px', width='100%'), value={'gui_settings': {}, 'ngsolve_version': '6.2.2…"
      ]
     },
     "metadata": {},
     "output_type": "display_data"
    }
   ],
   "source": [
    "from ngsolve.webgui import Draw\n",
    "Draw(CF([1, 2, 3, 4, 5, 6]), meshMS)\n",
    "from myPackage import drawBndAll\n",
    "from ngsolve.webgui import Draw\n",
    "# drawBndAll(meshMS, drawFunc=Draw, block=False)"
   ]
  },
  {
   "cell_type": "code",
   "execution_count": 6,
   "metadata": {},
   "outputs": [],
   "source": [
    "import importlib\n",
    "import MS_helper_functions as ms\n",
    "ms = importlib.reload(ms)\n",
    "cl_Phi = ms.cl_Phi\n",
    "\n",
    "getIntegrand4BFI = ms.getIntegrand4BFI\n",
    "cl_gradgradMS = ms.cl_gradgradMS\n",
    "cl_curlcurlMS = ms.cl_curlcurlMS\n",
    "pyLobatto = ms.pyLobatto\n",
    "pydxLobatto = ms.pydxLobatto\n",
    "getPhiPhiValue = ms.getPhiPhiValue\n",
    "pyPhiFunction = ms.pyPhiFunction\n",
    "pyPhiZero = ms.pyPhiZero\n",
    "pyPhiConst = ms.pyPhiConst\n",
    "\n",
    "\n",
    "cl_Phi.numSheets = numSheets\n",
    "cl_Phi.dFe = dFe\n",
    "cl_Phi.d0 = d0\n",
    "cl_Phi.mesh = meshMS\n",
    "\n",
    "cl_Phi.modelHalfAir = True\n",
    "cl_Phi.orientation = 2 \n",
    "\n",
    "if False:\n",
    "    import cempy as cp\n",
    "    importlib.reload(cp)\n",
    "    \n",
    "    \n",
    "    cl_Phi.phiFunction = cp.phiFunctions.Lobatto\n",
    "    cl_Phi.dzPhiFunction = cp.phiFunctions.dxLobatto\n",
    "else:\n",
    "    cl_Phi.phiFunction = pyLobatto\n",
    "    cl_Phi.dzPhiFunction = pydxLobatto\n",
    "\n"
   ]
  },
  {
   "cell_type": "markdown",
   "metadata": {},
   "source": [
    "Eddy currents\n",
    "\\begin{align*}\n",
    "\\mathbf{J} &= \\nabla\\times\\mathbf{H} \\\\ \n",
    " &= \\nabla\\times\\Big(\\sum_i\\big(\\nabla(\\phi_i u_i)\\big) + \\sum_j \\phi_jT_j\\Big)\\\\\n",
    " &= \\nabla\\times\\Big(\\sum_i \\phi_iT_i\\Big)\n",
    "\\end{align*}\n"
   ]
  },
  {
   "cell_type": "markdown",
   "metadata": {},
   "source": [
    "\\begin{align*}\n",
    "    \\mathbf{J} = \\nabla\\times(\\phi_i\\mathbf{T}_i) &= \\phi_i\\nabla\\times\\mathbf{T}_i + \\nabla\\phi_i\\times\\mathbf{T}_i\\\\\n",
    "    &=\\phi_i\\begin{pmatrix}\\partial_y T_z-\\partial_z T_y\\\\\\partial_z T_x-\\partial_x T_z \\\\ \\partial_x T_y-\\partial_y T_x\\end{pmatrix} + \\begin{pmatrix}\\partial_x \\phi_i\\\\\\partial_y \\phi_i \\\\ \\partial_z \\phi_i\\end{pmatrix} \\times \\begin{pmatrix} T_x\\\\ T_y \\\\  T_z\\end{pmatrix}\\\\\n",
    "    &= \\phi_i\\begin{pmatrix}\\partial_y T_z-\\partial_z T_y\\\\\\partial_z T_x-\\partial_x T_z \\\\ \\partial_x T_y-\\partial_y T_x\\end{pmatrix} + \n",
    "    \\begin{pmatrix}\\partial_y\\phi_i T_z - \\partial_z\\phi_iT_y\\\\\\partial_z\\phi_i T_x - \\partial_x\\phi_iT_z \\\\\\partial_x\\phi_i T_y - \\partial_y\\phi_iT_x \\end{pmatrix}\n",
    "\\end{align*}"
   ]
  },
  {
   "cell_type": "markdown",
   "metadata": {},
   "source": [
    "for $\\mathbf{T} = T_x\\mathbf{e}_x + T_y\\mathbf{e}_y $ and $\\phi_i(\\mathbf{x}) = \\phi_i(x)$\n",
    "$\\rightarrow \\mathbf{J} = J\\mathbf{e}_z$ \n",
    "\n",
    "\\begin{align*}\n",
    "J &= \\phi_i ( \\partial_x T_y - \\partial_y T_x) + \\partial_x\\phi_i T_y \\\\\n",
    "&= \\phi_i \\textup{curl}_{\\textup{2D}}(\\mathbf{T}) + \\partial_x\\phi_i T_y \n",
    "\\end{align*}"
   ]
  },
  {
   "cell_type": "code",
   "execution_count": null,
   "metadata": {},
   "outputs": [],
   "source": [
    "# Draw(cl_Phi(1).phi, meshMS)\n",
    "# cl_Phi.numSheets\n",
    "# cl_Phi.getZStart()\n",
    "# import netgen.gui\n",
    "# from ngsolve import Draw\n",
    "# Draw(IfPos(z-cl_Phi.getZStart(), 1, 0)*IfPos(z+cl_Phi.getZStart(), 0, 1), meshMS, \"test\")"
   ]
  },
  {
   "cell_type": "code",
   "execution_count": null,
   "metadata": {},
   "outputs": [],
   "source": [
    "force_full_Phi = True\n",
    "\n",
    "\n",
    "smoothB_fun_Fe = lambda x: 1e3 * muFe/muAir * (x**2/cl_Phi.dFe * 1 - (cl_Phi.dFe/4 * 1))\n",
    "smoothB_fun_0 = lambda x: 1e3 * (-(x - (cl_Phi.d0/2+cl_Phi.dFe/2))**2/ cl_Phi.d0 * 1 + cl_Phi.d0/4 * 1)\n",
    "\n",
    "\n",
    "\n",
    "smoothH_fun_Fe = lambda x: 1e3 * (x**2/cl_Phi.dFe * 1 - (cl_Phi.dFe/4 * 1))\n",
    "smoothH_fun_0 = lambda x: 1e3*(-(x - (cl_Phi.d0/2+cl_Phi.dFe/2))**2/ cl_Phi.d0 * 1 + cl_Phi.d0/4 * 1)\n",
    "\n",
    "smoothBPhi2 = pyPhiFunction(cl_Phi.getZStart(), cl_Phi.getD(), \n",
    "    [smoothB_fun_Fe, smoothB_fun_0], numSheets, ff, cl_Phi.orientation, name = \"smoothBPhi2\", order=\"smB2\", modelHalfAir=False)\n",
    "\n",
    "smoothHPhi2 = pyPhiFunction(cl_Phi.getZStart(), cl_Phi.getD(), \n",
    "    [smoothH_fun_Fe, smoothH_fun_0], numSheets, ff, cl_Phi.orientation, name = \"smoothHPhi2\", order=\"smH2\", modelHalfAir=False)\n",
    "\n",
    "smoothPhi2_Fe = pyPhiFunction(cl_Phi.getZStart(), cl_Phi.getD(), \n",
    "    [smoothB_fun_Fe, smoothB_fun_0], numSheets, ff, cl_Phi.orientation, name = \"smoothPhi2\", order=\"sm2\", modelHalfAir=False, inAir=False)\n",
    "    \n",
    "def calcMultiscale(useGradients=True, drawPhis=True):\n",
    "    domains = \"iron|gap\"\n",
    "\n",
    "    roughbnd = \"left|right|interface_y\" \n",
    "    roughbnd_inner = \"interface_x\" \n",
    "    smoothbnd = \"itop|ibot\" \n",
    "\n",
    "\n",
    "\n",
    "    print(\"domains\", domains)\n",
    "    print(\"roughbnd\", roughbnd)\n",
    "    print(\"smoothbnd\", smoothbnd)\n",
    "\n",
    "    # microshape functions\n",
    "\n",
    "    \n",
    "    \"\"\"\n",
    "    only roguh\n",
    "\n",
    "    orderPhi = [\n",
    "        # do not remove!\n",
    "        cl_Phi([pyPhiConst(), pyPhiZero()], fes_order=1, material=domains, dirichlet=roughbnd, useGradients=True, useAbsolutes=False), \n",
    "\n",
    "        cl_Phi(1, fes_order=1, material=domains, dirichlet=roughbnd, useGradients=True, useAbsolutes=True, modelHalfAir=True), \n",
    "     \n",
    "        cl_Phi([smoothBPhi2, smoothBPhi2.getDiff()], fes_order=1, material=domains, dirichlet=roughbnd, useGradients=True, modelHalfAir=False),\n",
    "        cl_Phi(2, fes_order=1, material=domains, dirichlet=roughbnd, inIron=False, modelHalfAir=False), \n",
    "    ]\n",
    "\n",
    "    orderT = [\n",
    "        # cl_Phi([pyPhiConst(val = 1, inAir=False), pyPhiZero()], fes_order=2, material=\"multiscale\", dirichlet=roughbnd_inner+ \"|\" + smoothbnd, inAir=False), \n",
    "\n",
    "        # cl_Phi(1, fes_order=1, material=\"multiscale\", dirichlet=roughbnd_inner, inAir=False, modelHalfAir=False),  \n",
    "        cl_Phi(2, fes_order=2, material=\"multiscale\", dirichlet=roughbnd_inner, inAir=False, modelHalfAir=False), \n",
    "    ]\n",
    "    \"\"\"\n",
    "    orderPhi = [\n",
    "\n",
    "            cl_Phi(1, fes_order=1, material=domains, dirichlet=roughbnd, useGradients=True, useAbsolutes=True, modelHalfAir=True), \n",
    "# \n",
    "            # cl_Phi([smoothBPhi2, smoothBPhi2.getDiff()], fes_order=1, material=domains, dirichlet=roughbnd, useGradients=True, modelHalfAir=False),\n",
    "            cl_Phi(2, fes_order=1, material=domains, dirichlet=roughbnd+ \"|\" + smoothbnd, inAir=False, modelHalfAir=False), \n",
    "            cl_Phi(2, fes_order=1, material=domains, dirichlet=roughbnd+ \"|\" + smoothbnd, inIron=False, modelHalfAir=False), \n",
    "        ]\n",
    "\n",
    "    orderT = [\n",
    "        # cl_Phi([pyPhiConst(val = 1, inAir=False), pyPhiZero()], fes_order=2, material=\"multiscale\", dirichlet=roughbnd_inner+ \"|\" + smoothbnd, inAir=False, nograds=False), \n",
    "        # cl_Phi(1, fes_order=2, material=\"multiscale\", dirichlet=roughbnd_inner, inAir=False, modelHalfAir=True, nograds=True),  \n",
    "        cl_Phi(2, fes_order=2, material=\"air\", dirichlet=roughbnd_inner , inAir=False, modelHalfAir=False, nograds=True), \n",
    "    ]\n",
    "\n",
    "\n",
    "\n",
    "    static = True\n",
    "\n",
    "    \n",
    "\n",
    "    if drawPhis:\n",
    "        # cl_Phi.plotEvaluated(orderPhi, nFig=1)\n",
    "        cl_Phi.plotEvaluated(orderT, nFig=1)\n",
    "        cl_Phi.plotDirectEvaluated(orderT, nFig=1)\n",
    "\n",
    "    VSpace = []\n",
    "    # # u0 \n",
    "    domains_outer = \"air\"\n",
    "    domains_outer += \"|\" + domains\n",
    "    VSpace.append(H1(meshMS, order=order0+1, dirichlet=\"top|bottom\" if rotate_excitation else \"left|right\", definedon=meshMS.Materials(domains_outer), complex=not static)) \n",
    "        \n",
    "    # ui * phi i\n",
    "    for phi_i in orderPhi: \n",
    "        VSpace.append(H1(meshMS, order=phi_i.fes_oder+1, definedon=meshMS.Materials(phi_i.material), dirichlet=phi_i.dirichlet, complex=not static))\n",
    "\n",
    "    for phi_i in orderT: \n",
    "        VSpace.append(HCurl(meshMS, order=phi_i.fes_oder, definedon=meshMS.Materials(phi_i.material), dirichlet=phi_i.dirichlet, complex=not static, nograds=phi_i.nograds))\n",
    "\n",
    "    VSpace = FESpace(VSpace)\n",
    "\n",
    "\n",
    "    # multiscale container\n",
    "    ansatz = \"\"\n",
    "    sol = GridFunction(VSpace, \"sol\")\n",
    "       \n",
    "\n",
    "    gradgradMS = cl_gradgradMS(orderPhi, sol, addPhi0Outer=True, secondOrder=False)\n",
    "    if not static:\n",
    "        curlcurlMS = cl_curlcurlMS(orderT, sol, eddy_inplane=False, istart = len(gradgradMS.orderPhi) + 1)\n",
    "        gradgradMS.addCurlCurlMS(curlcurlMS)\n",
    "\n",
    "\n",
    "\n",
    "    slice_inner = slice(0, len(gradgradMS.gradu_pack))\n",
    "\n",
    "\n",
    "    a = BilinearForm(VSpace, symmetric=True)\n",
    "    f = LinearForm(VSpace)\n",
    "\n",
    "    if static:\n",
    "        a += muAir  * grad(gradgradMS.trials[0]) * grad(gradgradMS.tests[0]) * dx(\"air\")\n",
    "        # a += 1j * 1e-1  * gradgradMS.trials[0] * gradgradMS.tests[0] * dx(\"multiscale\")\n",
    "        a += gradgradMS.getIntegrand4BFI(gradgradMS.gradu_pack[slice_inner], gradgradMS.gradv_pack[slice_inner], muAir, muAir, force_full_Phi=force_full_Phi) * dx(\"gap\")\n",
    "        a += gradgradMS.getIntegrand4BFI(gradgradMS.gradu_pack[slice_inner], gradgradMS.gradv_pack[slice_inner], muFe, muAir, force_full_Phi=force_full_Phi) * dx(\"iron\")\n",
    "\n",
    "    else:\n",
    "        a += 1j * omega * muAir  * grad(gradgradMS.trials[0]) * grad(gradgradMS.tests[0]) * dx(\"air\")\n",
    "        # a += 1j * 1e-1  * gradgradMS.trials[0] * gradgradMS.tests[0] * dx(\"multiscale\")\n",
    "        a += 1j * omega * gradgradMS.getIntegrand4BFI(gradgradMS.gradu_pack[slice_inner], gradgradMS.gradv_pack[slice_inner], muAir, muAir, force_full_Phi=force_full_Phi) * dx(\"gap\")\n",
    "        a += 1j * omega * gradgradMS.getIntegrand4BFI(gradgradMS.gradu_pack[slice_inner], gradgradMS.gradv_pack[slice_inner], muFe, muAir, force_full_Phi=force_full_Phi) * dx(\"iron\")\n",
    "\n",
    "        a += curlcurlMS.getIntegrand4BFI(curlcurlMS.curlu_pack, curlcurlMS.curlv_pack, 1/sigmaFe, 0, force_full_Phi=force_full_Phi) * dx(\"iron\")\n",
    "    \n",
    "\n",
    "\n",
    "    # couple u\n",
    "    if False:\n",
    "        alpha = 3.5\n",
    "        h = specialcf.mesh_size\n",
    "\n",
    "        u_start = 0\n",
    "        # alpha = 1e6\n",
    "        d_coupling = -d/2 \n",
    "\n",
    "\n",
    "        # absolutes\n",
    "        u_range = range(u_start, len(gradgradMS.u_pack))\n",
    "        # u_range = list(range(2, len(gradgradMS.u)))\n",
    "        # u_range = [0] + u_range\n",
    "\n",
    "        # u_range = [u_start]\n",
    "        um_bottom = sum(gradgradMS.u_pack[i][0] * gradgradMS.u_pack[i][1].DirectEvaluate(-d_coupling) for i in u_range)\n",
    "        vm_bottom = sum(gradgradMS.v_pack[i][0] * gradgradMS.v_pack[i][1].DirectEvaluate(-d_coupling) for i in u_range)\n",
    "\n",
    "        um_top = sum(gradgradMS.u_pack[i][0] * gradgradMS.u_pack[i][1].DirectEvaluate(d_coupling) for i in u_range)\n",
    "        vm_top = sum(gradgradMS.v_pack[i][0] * gradgradMS.v_pack[i][1].DirectEvaluate(d_coupling) for i in u_range)\n",
    "\n",
    "        jump_u_top = gradgradMS.u_pack[0][0] - um_top\n",
    "        jump_u_bottom = gradgradMS.u_pack[0][0] - um_bottom\n",
    "\n",
    "        jump_v_top = gradgradMS.v_pack[0][0] - vm_top\n",
    "        jump_v_bottom = gradgradMS.v_pack[0][0] - vm_bottom\n",
    "\n",
    "\n",
    "        #[u][v]\n",
    "        # a += alpha*order0**2/h  * gradgradMS.getIntegrand4BFI(gradgradMS.u_pack[u_start:], gradgradMS.v_pack[u_start:],  1, 1, force_full_Phi=force_full_Phi)  *ds(smoothbnd)\n",
    "        # a += -alpha*order0**2/h  * gradgradMS.getIntegrand4BFI(gradgradMS.u_pack[u_start:], gradgradMS.v_pack[:1],  1, 1, force_full_Phi=force_full_Phi)  *ds(smoothbnd)\n",
    "        # a += alpha*order0**2/h  * gradgradMS.getIntegrand4BFI(gradgradMS.u_pack[:1], gradgradMS.v_pack[:1],  1, 1, force_full_Phi=force_full_Phi)  *ds(smoothbnd)\n",
    "        # a += -alpha*order0**2/h  * gradgradMS.getIntegrand4BFI(gradgradMS.u_pack[:1], gradgradMS.v_pack[u_start:],  1, 1, force_full_Phi=force_full_Phi)  *ds(smoothbnd)\n",
    "\n",
    "        a += alpha*order0**2/h  * (jump_u_top)  * (jump_v_top)  *ds(\"itop\")\n",
    "        a += alpha*order0**2/h  * (jump_u_bottom)  * (jump_v_bottom)  *ds(\"ibottom\")\n",
    "        \n",
    "\n",
    "\n",
    "\n",
    "    # couple fluxes\n",
    "    if False:\n",
    "        # [dn u] [ dn v]\n",
    "\n",
    "        alpha = 2000\n",
    "        a += alpha*order0**2/h  * gradgradMS.getIntegrand4BFI(gradgradMS.gradu_trace_n_pack[u_start:], gradgradMS.gradv_trace_n_pack[u_start:],  muFe, muAir, force_full_Phi=force_full_Phi)  *ds(smoothbnd)\n",
    "        a += -alpha*order0**2/h  * gradgradMS.getIntegrand4BFI(gradgradMS.gradu_trace_n_pack[u_start:], gradgradMS.gradv_trace_n_pack[:1],  muFe, muAir, force_full_Phi=force_full_Phi)  *ds(smoothbnd)\n",
    "        a += alpha*order0**2/h  * gradgradMS.getIntegrand4BFI(gradgradMS.gradu_trace_n_pack[:1], gradgradMS.gradv_trace_n_pack[:1],  muFe, muAir, force_full_Phi=force_full_Phi)  *ds(smoothbnd)\n",
    "        a += -alpha*order0**2/h  * gradgradMS.getIntegrand4BFI(gradgradMS.gradu_trace_n_pack[:1], gradgradMS.gradv_trace_n_pack[u_start:],  muFe, muAir, force_full_Phi=force_full_Phi)  *ds(smoothbnd)\n",
    "\n",
    "        # alpha = 2\n",
    "        # a += alpha*order0**2/h  * (jump_Bu_top)  * (jump_Bv_top)  *ds(\"itop\")\n",
    "        # a += alpha*order0**2/h  * (jump_Bu_bottom)  * (jump_Bv_bottom)  *ds(\"ibottom\")\n",
    "\n",
    "\n",
    "    prec = Preconditioner(a,type=\"direct\", inverse=\"pardiso\")  \n",
    "\n",
    "    print(VSpace.ndof)\n",
    "\n",
    "\n",
    "    # dirichlet boundary values\n",
    "    sol.components[0].Set((1 * y/Norm(y)) if rotate_excitation else (x/Norm(x)), BND)\n",
    "\n",
    "    \n",
    "    solvers.BVP(bf = a, lf= f, pre=prec, gf=sol, maxsteps=30, tol = 1e-20, )\n",
    "\n",
    "\n",
    "    print(\"done\")\n",
    "\n",
    "    H_MS = sum(gradgradMS.gradsol_comp)\n",
    "    if static:\n",
    "        J_MS = CF((0, 0, 0))\n",
    "    else:\n",
    "        J_MS = sum(curlcurlMS.curlsol_comp)\n",
    "\n",
    "\n",
    "\n",
    "    energy =  Integrate(gradgradMS.getIntegrand4BFI(gradgradMS.gradsol_pack, gradgradMS.gradsol_pack, muFe, muAir), meshMS, \n",
    "                                                    definedon=meshMS.Materials(\"multiscale\"))\n",
    "\n",
    "    if static:\n",
    "        losses = 0\n",
    "        curlcurlMS = 0\n",
    "    else:\n",
    "        losses =  Integrate(curlcurlMS.getIntegrand4BFI(curlcurlMS.curlsol_pack, curlcurlMS.curlsol_pack, 1/sigmaFe, 0), meshMS, \n",
    "                                                    definedon=meshMS.Materials(\"multiscale\"))\n",
    "    \n",
    "    \n",
    "    print(\"a norm\", a.mat.AsVector().Norm())\n",
    "\n",
    "    print(\"ansatz\", gradgradMS.ansatz)\n",
    "    return sol, energy, losses, gradgradMS, curlcurlMS, H_MS, J_MS\n",
    "\n",
    "    \n",
    "\n",
    "\n",
    "\n",
    "\n"
   ]
  },
  {
   "cell_type": "code",
   "execution_count": null,
   "metadata": {},
   "outputs": [
    {
     "name": "stdout",
     "output_type": "stream",
     "text": [
      "domains iron|gap\n",
      "roughbnd left|right|interface_y\n",
      "smoothbnd itop|ibot\n",
      "1612590\n"
     ]
    },
    {
     "ename": "",
     "evalue": "",
     "output_type": "error",
     "traceback": [
      "\u001b[1;31mThe Kernel crashed while executing code in the the current cell or a previous cell. Please review the code in the cell(s) to identify a possible cause of the failure. Click <a href='https://aka.ms/vscodeJupyterKernelCrash'>here</a> for more info. View Jupyter <a href='command:jupyter.viewOutput'>log</a> for further details."
     ]
    }
   ],
   "source": [
    "\n",
    "if \"curlcurlMS\" in locals():\n",
    "    del curlcurlMS\n",
    "sol_MS, energy_MS, eddyLosses_MS, gradgradMS, curlcurlMS, H_MS, J_MS = calcMultiscale(False, drawPhis=False)\n",
    "\n",
    "#H_MS.Compile()\n",
    "# print(\"Norm soll diff\", Integrate((sum(sol_comp_MS) - sol_ref)* (sum(sol_comp_MS) - sol_ref)/( (sol_ref)**2) , meshRef)*100,  \"%\")\n",
    "# print(\"diff energy\", energy_MS, energy_ref, energy_MS - energy_ref, (energy_MS - energy_ref)/energy_ref * 100, \"%\")\n",
    "\n",
    "# print(Integrate(Norm(sum(sol_comp_MS) - sol_ref), meshRef))\n",
    "\n",
    "\n",
    "u_MS = sum(gradgradMS.sol_comp[:len(gradgradMS.orderPhi)])\n",
    "\n",
    "print(\"energy_ref, energy_MS\", energy_ref, energy_MS)\n",
    "print(\"eddy_ref, eddy_MS\", eddyLosses_ref, eddyLosses_MS)"
   ]
  },
  {
   "cell_type": "code",
   "execution_count": null,
   "metadata": {},
   "outputs": [
    {
     "ename": "NameError",
     "evalue": "name 'curlcurlMS' is not defined",
     "output_type": "error",
     "traceback": [
      "\u001b[0;31m---------------------------------------------------------------------------\u001b[0m",
      "\u001b[0;31mNameError\u001b[0m                                 Traceback (most recent call last)",
      "\u001b[1;32m/home/vhanser/Documents/ngsolveexample/content/multiscale3D/multiscale3DAllECP.ipynb Cell 19\u001b[0m line \u001b[0;36m3\n\u001b[1;32m      <a href='vscode-notebook-cell:/home/vhanser/Documents/ngsolveexample/content/multiscale3D/multiscale3DAllECP.ipynb#X26sZmlsZQ%3D%3D?line=0'>1</a>\u001b[0m \u001b[39mfrom\u001b[39;00m \u001b[39mngsolve\u001b[39;00m\u001b[39m.\u001b[39;00m\u001b[39mwebgui\u001b[39;00m \u001b[39mimport\u001b[39;00m Draw\n\u001b[0;32m----> <a href='vscode-notebook-cell:/home/vhanser/Documents/ngsolveexample/content/multiscale3D/multiscale3DAllECP.ipynb#X26sZmlsZQ%3D%3D?line=2'>3</a>\u001b[0m \u001b[39mprint\u001b[39m(curlcurlMS\u001b[39m.\u001b[39morderPhi[\u001b[39m0\u001b[39m]\u001b[39m.\u001b[39mdirichlet)\n\u001b[1;32m      <a href='vscode-notebook-cell:/home/vhanser/Documents/ngsolveexample/content/multiscale3D/multiscale3DAllECP.ipynb#X26sZmlsZQ%3D%3D?line=3'>4</a>\u001b[0m \u001b[39mprint\u001b[39m(\u001b[39mset\u001b[39m(meshMS\u001b[39m.\u001b[39mGetBoundaries()))\n\u001b[1;32m      <a href='vscode-notebook-cell:/home/vhanser/Documents/ngsolveexample/content/multiscale3D/multiscale3DAllECP.ipynb#X26sZmlsZQ%3D%3D?line=4'>5</a>\u001b[0m \u001b[39mfrom\u001b[39;00m \u001b[39mmyPackage\u001b[39;00m \u001b[39mimport\u001b[39;00m drawBnd\n",
      "\u001b[0;31mNameError\u001b[0m: name 'curlcurlMS' is not defined"
     ]
    }
   ],
   "source": [
    "from ngsolve.webgui import Draw\n",
    "\n",
    "print(curlcurlMS.orderPhi[0].dirichlet)\n",
    "print(set(meshMS.GetBoundaries()))\n",
    "from myPackage import drawBnd\n",
    "\n",
    "# drawBnd(meshMS, \"ibottom\", drawFunc=Draw)\n",
    "Draw(sum(curlcurlMS.curlsol_comp).imag, meshRef, settings = {\"Objects\":{\"Wireframe\":False}}, min = -200, max=200)\n",
    "\n"
   ]
  },
  {
   "cell_type": "code",
   "execution_count": null,
   "metadata": {},
   "outputs": [],
   "source": [
    "\n",
    "curlcurlMS.printCouplingMatrix(sparsity=True);\n"
   ]
  },
  {
   "cell_type": "code",
   "execution_count": null,
   "metadata": {},
   "outputs": [],
   "source": [
    "#gradgradMS.generateCouplingMatrix(muFe, muAir, force_full_Phi=force_full_Phi)\n",
    "gradgradMS.printCouplingMatrix(sparsity=True);\n",
    "#assert gradgradMS.checkCouplingMatrxiSymmetric(1e-3) == True"
   ]
  },
  {
   "cell_type": "code",
   "execution_count": null,
   "metadata": {},
   "outputs": [],
   "source": [
    "curlcurlMS.generateCouplingMatrix(1/sigmaFe, 0, force_full_Phi=force_full_Phi)\n",
    "curlcurlMS.printCouplingMatrix(sparsity=1);\n",
    "# assert curlcurlMS.checkCouplingMatrxiSymmetric(1e-3) == True\n",
    "\n"
   ]
  },
  {
   "cell_type": "code",
   "execution_count": null,
   "metadata": {},
   "outputs": [],
   "source": [
    "print(f\"energy MS :\\t{energy_MS}, energy ref \\t{energy_ref}\")\n",
    "print(f\"eddyLosses MS :\\t{eddyLosses_MS}, eddyLosses ref \\t{eddyLosses_ref}\")\n",
    "print(meshMS.GetBoundaries())\n",
    "#Draw(u_MS, meshRef, settings={\"Objects\":{\"Wireframe\":True}, \"deformation\": 0.01}, deformation=False)\n",
    "# Draw( Norm(H_MS), meshRef, settings={\"Objects\":{\"Wireframe\":False}, \"deformation\": False}, max = 200)\n",
    "# Draw( lam * Norm(H_MS), meshRef, settings={\"Objects\":{\"Wireframe\":False}, \"deformation\": False}, max=400)"
   ]
  },
  {
   "cell_type": "markdown",
   "metadata": {},
   "source": [
    "### 1.3 Comparison "
   ]
  },
  {
   "cell_type": "code",
   "execution_count": null,
   "metadata": {},
   "outputs": [],
   "source": [
    "\n",
    "start = -D/2*1.01\n",
    "end = -D/2*0.9\n",
    "\n",
    "start = -d/2\n",
    "end = d/2\n",
    "\n",
    "\n",
    "plt.figure(2)\n",
    "start = -d/2\n",
    "end = d/2\n",
    "\n",
    "pnt1 = [-d/2*0.99, start, 0] if rotated else [start, -d/2*0.99, 0]\n",
    "pnt2 = [-d/2*0.99, end, 0] if rotated else [end, -d/2*0.99, 0]\n",
    "\n",
    "\n"
   ]
  },
  {
   "cell_type": "code",
   "execution_count": null,
   "metadata": {},
   "outputs": [],
   "source": [
    "from ngsolve.webgui import Draw\n",
    "scene1 = Draw(IfPos(x if rotated else y, J_ref.imag, J_MS.imag) ,meshRef, settings={\"Objects\":{\"Wireframe\":False}}, min = -200, max=200)\n"
   ]
  },
  {
   "cell_type": "code",
   "execution_count": null,
   "metadata": {},
   "outputs": [],
   "source": [
    "\n",
    "Draw = lambda *args, **kwargs : None"
   ]
  },
  {
   "cell_type": "code",
   "execution_count": null,
   "metadata": {},
   "outputs": [],
   "source": [
    "curlcurlMS.curlsol_comp"
   ]
  },
  {
   "cell_type": "code",
   "execution_count": null,
   "metadata": {},
   "outputs": [],
   "source": [
    "print([gradgradMS.gradsol_comp[i].is_complex for i in range(len(curlcurlMS.curlsol_comp))])\n",
    "print([curlcurlMS.curlsol_comp[i].is_complex for i in range(len(curlcurlMS.curlsol_comp))])"
   ]
  },
  {
   "cell_type": "code",
   "execution_count": null,
   "metadata": {},
   "outputs": [],
   "source": [
    "scene1 = Draw( curlcurlMS.curlsol_comp[0].imag ,meshRef, settings={\"Objects\":{\"Wireframe\":False}})"
   ]
  },
  {
   "cell_type": "code",
   "execution_count": null,
   "metadata": {},
   "outputs": [],
   "source": [
    "start = -d/2\n",
    "end = d/2\n",
    "\n",
    "\n",
    "i = 0\n",
    "plt.figure(3)\n",
    "evalOnLine(J_MS.imag , meshRef, pnt1, pnt2, plot=True, ls='-', marker=\"x\", clear=True, label=\"MS\", show=False, N=1000);\n",
    "# evalOnLine(curlcurlMS.curlsol_comp[i].imag , meshRef, pnt1, pnt2, plot=True, ls='-', marker=\"\", show=False, clear=False, label=\"ref\", N = 1000, title=r\"$J$\");\n",
    "evalOnLine(J_ref.imag , meshRef, pnt1, pnt2, plot=True, ls='-', marker=\"\", show=False, clear=False, label=\"ref\", N = 1000, title=r\"$J$\");\n",
    "\n",
    "\n",
    "\n",
    "plt.legend()\n",
    "plt.show()"
   ]
  },
  {
   "cell_type": "code",
   "execution_count": null,
   "metadata": {},
   "outputs": [],
   "source": [
    "i = 1\n",
    "print(len(curlcurlMS.curlsol_pack))\n",
    "Draw(curlcurlMS.curlsol_pack[i][0].imag * curlcurlMS.curlsol_pack[i][1], meshRef, max=300, min = -300, settings={\"Objects\":{\"Wireframe\":False}})\n",
    "\n",
    "Integrate(curlcurlMS.curlsol_pack[i][0].imag, meshRef, definedon=meshRef.Materials(\"inner\"))\n",
    "Integrate(J_MS, meshRef, definedon=meshRef.Materials(\"inner\"))"
   ]
  },
  {
   "cell_type": "code",
   "execution_count": null,
   "metadata": {},
   "outputs": [],
   "source": [
    "start = -d/2\n",
    "end = d/2\n",
    "\n",
    "plt.figure(3)\n",
    "evalOnLine(H_MS[0] , meshRef, pnt1, pnt2, plot=True, ls='-', marker=\"x\", clear=True, label=\"MS\", show=False, N=1000);\n",
    "evalOnLine(H_ref[0] , meshRef, pnt1, pnt2, plot=True, ls='-', marker=\"\", show=False, clear=False, label=\"ref\", N = 1000, title=r\"$H_x$\");\n",
    "\n",
    "\n",
    "\n",
    "plt.legend()\n",
    "plt.show()"
   ]
  },
  {
   "cell_type": "code",
   "execution_count": null,
   "metadata": {},
   "outputs": [],
   "source": [
    "start = -d/2\n",
    "end = d/2\n",
    "\n",
    "\n",
    "plt.figure(4)\n",
    "\n",
    "evalOnLine(H_MS[1] , meshRef, pnt1, pnt2, plot=True, ls='-', marker=\"x\", clear=True, label=\"MS\", show=False, N=1000);\n",
    "# [evalOnLine((H_comp[i])[1] , meshRef, pnt1, pnt2, plot=True, ls='-', marker=\"x\", clear=False, label=\"MS_\" + gradgradMS.gradsol_pack[i][1].name, show=False, N=1000) for i in range(len(H_comp))];\n",
    "\n",
    "evalOnLine(H_ref[1] , meshRef, pnt1, pnt2, plot=True, ls='-', marker=\"\", show=False, clear=False, label=\"ref\", N = 1000, title=r\"$H_y$\");\n",
    "plt.legend()\n",
    "plt.show()"
   ]
  },
  {
   "cell_type": "code",
   "execution_count": null,
   "metadata": {},
   "outputs": [],
   "source": [
    "start = -d/2\n",
    "end = d/2\n",
    "\n",
    "\n",
    "plt.figure(5)\n",
    "evalOnLine(mu * H_MS[0] , meshRef, pnt1, pnt2, plot=True, ls='-', marker=\"x\", clear=True, label=\"MS\", show=False, N=1000);\n",
    "# evalOnLine(lam * (H_comp[0])[0] , meshRef, pnt1, pnt2, plot=True, ls='-', marker=\"x\", clear=False, label=\"MS\", show=False, N=1000);\n",
    "evalOnLine(mu * H_ref[0] , meshRef, pnt1, pnt2, plot=True, ls='-', marker=\"\", show=False, clear=False, label=\"ref\", N = 1000, title=r\"$B_x$\");\n",
    "\n",
    "plt.legend()\n",
    "plt.show()"
   ]
  },
  {
   "cell_type": "code",
   "execution_count": null,
   "metadata": {},
   "outputs": [],
   "source": [
    "start = -d/2\n",
    "end = d/2\n",
    "\n",
    "[print(o[1].name) for o in gradgradMS.gradsol_pack]\n",
    "\n",
    "plt.figure(6)\n",
    "H_MS = sum(gradgradMS.gradsol_comp) \n",
    "evalOnLine(mu * H_MS[1] , meshRef, pnt1, pnt2, plot=True, ls='-', marker=\"x\", clear=True, label=\"MS\", show=False, N=1000);\n",
    "\n",
    "# [evalOnLine(mu * (gradgradMS.gradsol_comp[i])[1] , meshRef, pnt1, pnt2, plot=True, ls='-', marker=\"x\", clear=False, label=\"MS_\" + gradgradMS.gradsol_pack[i][1].name, show=False, N=1000) for i in range(len(gradgradMS.gradsol_comp))];\n",
    "\n",
    "evalOnLine(mu * H_ref[1] , meshRef, pnt1, pnt2, plot=True, ls='-', marker=\"\", show=False, clear=False, label=\"ref\", N = 1000, title=r\"$B_y$\");\n",
    "\n",
    "plt.legend()\n",
    "plt.show()"
   ]
  },
  {
   "cell_type": "markdown",
   "metadata": {},
   "source": [
    "### Drawings"
   ]
  },
  {
   "cell_type": "code",
   "execution_count": null,
   "metadata": {},
   "outputs": [],
   "source": [
    "from ngsolve.webgui import Draw\n",
    "\n",
    "print(Integrate(InnerProduct(J_MS* 1/sigmaFe, J_MS), meshRef))\n",
    "print(Integrate(InnerProduct(J_ref * 1/sigmaFe, J_ref), meshRef))\n",
    "\n",
    "InnerProduct(1/sigmaFe * curl(T), curl(T))"
   ]
  },
  {
   "cell_type": "code",
   "execution_count": null,
   "metadata": {},
   "outputs": [],
   "source": [
    "from ngsolve.webgui import Draw\n",
    "scene1 = Draw(IfPos(x if rotated else y, J_ref.imag, J_MS.imag) ,meshRef, settings={\"Objects\":{\"Wireframe\":False}}, min = -200, max=200)"
   ]
  },
  {
   "cell_type": "code",
   "execution_count": null,
   "metadata": {},
   "outputs": [],
   "source": [
    "print(f\"energy:\\t{energy_MS}\", energy_ref)\n",
    "print(f\"losses:\\t{eddyLosses_MS}\", eddyLosses_ref)\n",
    "Draw(IfPos(y, sol_ref.components[0], sum(gradgradMS.sol_comp)), meshRef, settings={\"Objects\":{\"Wireframe\":False}, \"deformation\": False})\n"
   ]
  },
  {
   "cell_type": "code",
   "execution_count": null,
   "metadata": {},
   "outputs": [],
   "source": [
    "Draw(IfPos(y, H_ref, H_MS)[1], meshRef, settings={\"Objects\":{\"Wireframe\":False}, \"deformation\": False}, max=50, min = -50)\n",
    "Draw(IfPos(y, H_ref, H_MS)[0], meshRef, settings={\"Objects\":{\"Wireframe\":False}, \"deformation\": False}, max=50, min = -50)"
   ]
  },
  {
   "cell_type": "code",
   "execution_count": null,
   "metadata": {},
   "outputs": [],
   "source": [
    "Draw(mu * IfPos(y, H_ref, H_MS)[0], meshRef, settings={\"Objects\":{\"Wireframe\":False}, \"deformation\": False})\n",
    "Draw(mu * IfPos(y, H_ref, H_MS )[1], meshRef, settings={\"Objects\":{\"Wireframe\":False}, \"deformation\": False})\n",
    "# lamMS = IfPos(cl_Phi(0, 0, inIron=False, material=\"multiscale\").phi, lambda1, lambda2)\n",
    "\n",
    "# Draw(lamMS * IfPos(y, -grad(sol_ref), H_MS)[0], meshMS, settings={\"Objects\":{\"Wireframe\":False}, \"deformation\": False},min = -200, max=200)\n",
    "# Draw(lamMS * IfPos(y, -grad(sol_ref), H_MS)[1], meshMS, settings={\"Objects\":{\"Wireframe\":False}, \"deformation\": False},min = -20, max=20)"
   ]
  },
  {
   "cell_type": "code",
   "execution_count": null,
   "metadata": {},
   "outputs": [],
   "source": [
    "# print(\"Norm soll diff\", Integrate((sum(sol_comp_MS) - sol_ref)* (sum(sol_comp_MS) - sol_ref)/( (sol_ref)**2) , meshRef)*100,  \"%\")\n",
    "print(\"diff energy\", energy_MS, energy_ref, energy_MS - energy_ref, (energy_MS - energy_ref)/energy_ref * 100, \"%\")\n",
    "print(\"diff eddylosses\", eddyLosses_MS, eddyLosses_ref, eddyLosses_MS - eddyLosses_ref, (eddyLosses_MS - eddyLosses_ref)/eddyLosses_ref * 100, \"%\")\n",
    "\n",
    "print((1.3888 - 1.407)/1.407*100)"
   ]
  }
 ],
 "metadata": {
  "kernelspec": {
   "display_name": "Python 3",
   "language": "python",
   "name": "python3"
  },
  "language_info": {
   "codemirror_mode": {
    "name": "ipython",
    "version": 3
   },
   "file_extension": ".py",
   "mimetype": "text/x-python",
   "name": "python",
   "nbconvert_exporter": "python",
   "pygments_lexer": "ipython3",
   "version": "3.10.12"
  },
  "orig_nbformat": 4
 },
 "nbformat": 4,
 "nbformat_minor": 2
}
