{
 "cells": [
  {
   "cell_type": "code",
   "execution_count": 105,
   "metadata": {},
   "outputs": [],
   "source": [
    "from netgen.occ import *\n",
    "import numpy as np\n",
    "from ngsolve import *\n",
    "from ngsolve.webgui import Draw\n",
    "maxh = 1/10\n",
    "\n",
    "\n",
    "\n",
    "freq = 50\n",
    "mu0 = 4e-7*np.pi\n",
    "mu_Fe = mu0 *1000\n",
    "mu_Air = mu0\n",
    "\n",
    "sigma_Fe =2e6\n",
    "\n",
    "\n",
    "omega = freq*2*np.pi\n",
    "\n",
    "delta = np.sqrt(2/(sigma_Fe*omega*mu_Fe))\n"
   ]
  },
  {
   "cell_type": "code",
   "execution_count": 106,
   "metadata": {},
   "outputs": [],
   "source": [
    "Nsheets = 2\n",
    "ff = 0.9\n",
    "d = delta/2\n",
    "\n",
    "\n",
    "\n",
    "order0 = 2\n",
    "\n",
    "B0 = 1"
   ]
  },
  {
   "cell_type": "code",
   "execution_count": 107,
   "metadata": {},
   "outputs": [
    {
     "name": "stdout",
     "output_type": "stream",
     "text": [
      "0.0008355634512324505 0.0007559859796865029\n"
     ]
    },
    {
     "data": {
      "application/vnd.jupyter.widget-view+json": {
       "model_id": "3abd752817d34d1d8aab7d6e71de6f76",
       "version_major": 2,
       "version_minor": 0
      },
      "text/plain": [
       "WebGuiWidget(layout=Layout(height='500px', width='100%'), value={'gui_settings': {}, 'ngsolve_version': '6.2.2…"
      ]
     },
     "metadata": {},
     "output_type": "display_data"
    },
    {
     "name": "stdout",
     "output_type": "stream",
     "text": [
      "domains {'iron0', 'air', 'iron1'}\n",
      "bnds {'default', 'bottom', 'top', 'left', 'right'}\n",
      "penetration depth 0.0015915494309189533\n"
     ]
    }
   ],
   "source": [
    "dFe = d*ff\n",
    "d0 = d*(1-ff)\n",
    "\n",
    "H_core = Nsheets*dFe + (Nsheets-1)*d0\n",
    "W_core = H_core\n",
    "\n",
    "W = 2*W_core\n",
    "H = 2*H_core\n",
    "\n",
    "wp = WorkPlane()\n",
    "outer = wp.RectangleC(W, H).Face()\n",
    "outer.name = \"air\"\n",
    "outer.edges.Max(X).name = \"right\"\n",
    "outer.edges.Min(X).name = \"left\"\n",
    "outer.edges.Max(Y).name = \"top\"\n",
    "outer.edges.Min(Y).name = \"bottom\"\n",
    "\n",
    "\n",
    "rec_sheets =[]\n",
    "x_pos = - W_core/2\n",
    "\n",
    "\n",
    "for i in range(Nsheets):\n",
    "    wp.MoveTo(x_pos, -H_core/2)\n",
    "\n",
    "    rec_sheets.append(wp.Rectangle(dFe, H_core).Face())\n",
    "    rec_sheets[-1].name = f\"iron{i}\"\n",
    "\n",
    "\n",
    "    x_pos += d\n",
    "\n",
    "print(x_pos, W_core/2)\n",
    "\n",
    "rec_sheets = Glue(rec_sheets)\n",
    "rec_sheets.edges.maxh = delta/10\n",
    "\n",
    "geo = Glue([outer - rec_sheets, rec_sheets])\n",
    "\n",
    "\n",
    "\n",
    "meshRef = Mesh(OCCGeometry(geo, dim=2).GenerateMesh(maxh=delta))\n",
    "#Draw(meshRef.MaterialCF({\"iron\":1, \"air\":2}, default=0), meshRef)\n",
    "Draw(x, meshRef)\n",
    "\n",
    "\n",
    "print(\"domains\", set(meshRef.GetMaterials()))\n",
    "print(\"bnds\", set(meshRef.GetBoundaries()))\n",
    "\n",
    "print(\"penetration depth\", delta)"
   ]
  },
  {
   "cell_type": "code",
   "execution_count": 108,
   "metadata": {},
   "outputs": [],
   "source": [
    "mu = meshRef.MaterialCF({\"iron.*\":mu_Fe, \"air\":mu_Air}, default=0)\n",
    "sigma = meshRef.MaterialCF({\"iron.*\":sigma_Fe}, default=0)\n",
    "\n",
    "\n",
    "nu = 1/mu\n",
    "rho = 1/sigma"
   ]
  },
  {
   "cell_type": "code",
   "execution_count": 134,
   "metadata": {},
   "outputs": [
    {
     "name": "stdout",
     "output_type": "stream",
     "text": [
      "order0 2\n",
      "numSheets 2\n",
      "VA  :720\n",
      "ndof  :722\n",
      "30952050.846712947\n",
      "\u001b[2KCG iteration 1, residual = 4.830434646696971     \n",
      "\u001b[2KCG iteration 2, residual = 4.020734897712075e-15     \n"
     ]
    },
    {
     "data": {
      "application/vnd.jupyter.widget-view+json": {
       "model_id": "d55671311c194f7f833ebabcbf5904d8",
       "version_major": 2,
       "version_minor": 0
      },
      "text/plain": [
       "WebGuiWidget(layout=Layout(height='500px', width='100%'), value={'gui_settings': {}, 'ngsolve_version': '6.2.2…"
      ]
     },
     "metadata": {},
     "output_type": "display_data"
    },
    {
     "data": {
      "text/plain": [
       "<ngsolve.comp.ComponentGridFunction at 0x7f63e0132b60>"
      ]
     },
     "execution_count": 134,
     "metadata": {},
     "output_type": "execute_result"
    }
   ],
   "source": [
    "excitation_orientation = \"y\"\n",
    "\n",
    "# ------------------------------------------------------------------------------\n",
    "# --- Excitation\n",
    "# ------------------------------------------------------------------------------\n",
    "H0_amp = 1\n",
    "\n",
    "# ++++++++++++++++++++++++++++++++++++++++++++++++++++++++++++++++++++++++++++++\n",
    "# +++ reference solution\n",
    "# ++++++++++++++++++++++++++++++++++++++++++++++++++++++++++++++++++++++++++++++\n",
    "print(\"order0\", order0)\n",
    "print(\"numSheets\", Nsheets)\n",
    "\n",
    "if excitation_orientation == \"x\":\n",
    "    dir_A = \"top|bottom\"\n",
    "else:\n",
    "    dir_A = \"left|right\"\n",
    "VA = H1(meshRef,order=order0, complex=True, dirichlet=dir_A)\n",
    "VNum = []\n",
    "for i in range(Nsheets):\n",
    "    VNum.append(NumberSpace(meshRef, complex=True, definedon=meshRef.Materials(f\"iron{i}\")))\n",
    "\n",
    "V = FESpace([VA] + VNum)\n",
    "ndof = V.ndof\t\n",
    "print(f\"VA  :{VA.ndof}\")    \n",
    "print(f\"ndof  :{ndof}\")    \n",
    "\n",
    "# Gridfunctions\n",
    "sol_ref = GridFunction(V, \"sol\") \n",
    "A_ref = sol_ref.components[0] \n",
    "\n",
    "trials = V.TrialFunction()\n",
    "tests  = V.TestFunction()\n",
    "\n",
    "uA = trials[0]\n",
    "vA = tests[0]\n",
    "\n",
    "\n",
    "# ------------------------------------------------------------------------------\n",
    "# Matrix\n",
    "# ------------------------------------------------------------------------------\n",
    "with TaskManager():\n",
    "    # Bilinear form with \n",
    "    ah_ref = BilinearForm(V, symmetric=True)\n",
    "\n",
    "    # A:\n",
    "    ah_ref += nu*grad(uA) * grad(vA) * dx\n",
    "    ah_ref += 1j*omega * sigma * uA * vA * dx(\"iron.*\") #ok\n",
    "\n",
    "\n",
    "    # for i in range(Nsheets):\n",
    "    #     ah_ref += 1j *  sigma * omega *  uA * vA * trials[i+1] * dx(f\"iron{i}\")\n",
    "    ah_ref +=  1e6 * uA * vA * trials[1] * tests[1] * dx(f\"iron0\")\n",
    "    ah_ref +=  1e6 * uA * vA * trials[2] * tests[2] * dx(f\"iron1\")\n",
    "\n",
    "    prec = Preconditioner(ah_ref, type = \"direct\")  \n",
    "    ah_ref.Assemble()\n",
    "\n",
    "    # excitation on the right side\n",
    "    f_ref = LinearForm(V) \n",
    "    #    f_ref += H0_amp * ex * curl(v_ref) * dx(\"air|iron\")\n",
    "\n",
    "    f_ref.Assemble()\n",
    "\n",
    "    print(ah_ref.mat.AsVector().Norm())\n",
    "# ------------------------------------------------------------------------------\n",
    "# ------ Solve It\n",
    "# ------------------------------------------------------------------------------\n",
    "with TaskManager():\n",
    "    \n",
    "    if excitation_orientation == \"x\":\n",
    "        A_ref.Set(B0*y, BND)\n",
    "    else:\n",
    "        A_ref.Set(B0*x, BND)\n",
    "    # solve it\n",
    "    solvers.BVP(bf=ah_ref, lf=f_ref, gf=sol_ref, pre=prec, maxsteps=5)\n",
    "            \n",
    "    gradA = grad(A_ref)\n",
    "    B = CF((gradA[1], -gradA[0])) \n",
    "    H = 1/mu * B_ref\n",
    "    E = -1j*omega*(A_ref )\n",
    "    J = sigma * E_ref\n",
    "\n",
    "    hb = 1/2 * InnerProduct(H,  B) / 2\n",
    "    p =  1/2 * InnerProduct(E,  J) \n",
    "\n",
    "#Draw(B.real, meshRef, vectors=True)\n",
    "#Draw(J.imag, meshRef)\n",
    "Draw(sol_ref.components[1], meshRef)\n",
    "\n",
    "\n",
    "sol_ref.components[1]"
   ]
  }
 ],
 "metadata": {
  "kernelspec": {
   "display_name": "Python 3",
   "language": "python",
   "name": "python3"
  },
  "language_info": {
   "codemirror_mode": {
    "name": "ipython",
    "version": 3
   },
   "file_extension": ".py",
   "mimetype": "text/x-python",
   "name": "python",
   "nbconvert_exporter": "python",
   "pygments_lexer": "ipython3",
   "version": "3.10.12"
  },
  "orig_nbformat": 4
 },
 "nbformat": 4,
 "nbformat_minor": 2
}
