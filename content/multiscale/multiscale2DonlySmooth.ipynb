{
 "cells": [
  {
   "cell_type": "code",
   "execution_count": 1,
   "metadata": {},
   "outputs": [],
   "source": [
    "from netgen.occ import *\n",
    "from ngsolve import *\n",
    "from netgen.meshing import IdentificationType\n",
    "from MS_helper_functions import *\n",
    "from netgen.webgui import Draw as DrawGeo\n",
    "from ngsolve.webgui import Draw\n",
    "\n",
    "from myPackage import cmdInput\n",
    "%matplotlib widget"
   ]
  },
  {
   "cell_type": "code",
   "execution_count": 2,
   "metadata": {},
   "outputs": [],
   "source": [
    "lambda1 = 1\n",
    "lambda2 = 1000\n",
    "\n",
    "order0 = 2"
   ]
  },
  {
   "cell_type": "code",
   "execution_count": 3,
   "metadata": {},
   "outputs": [],
   "source": [
    "D = 0.04\n",
    "d = 0.02\n",
    "\n",
    "ff = 0.5\n",
    "\n",
    "\n",
    "numSheets = 10\n",
    "\n",
    "maxh_edges = d/numSheets*1/2 * 0.5\n",
    "\n",
    "\n",
    "from meshGen import mesh2DLaminates\n",
    "\n",
    "onlySmooth = True\n"
   ]
  },
  {
   "cell_type": "markdown",
   "metadata": {},
   "source": [
    "## Reference Solution"
   ]
  },
  {
   "cell_type": "code",
   "execution_count": 4,
   "metadata": {},
   "outputs": [
    {
     "name": "stdout",
     "output_type": "stream",
     "text": [
      "Boundaries {'iright', 'top', 'left', 'ileft', 'bottom', 'default', 'right'}\n",
      "Materials {'inner', 'gap', 'outer'}\n"
     ]
    },
    {
     "data": {
      "application/vnd.jupyter.widget-view+json": {
       "model_id": "3f33c2f9b9194352a192c86acb7be4c0",
       "version_major": 2,
       "version_minor": 0
      },
      "text/plain": [
       "WebGuiWidget(layout=Layout(height='500px', width='100%'), value={'gui_settings': {}, 'mesh_dim': 2, 'mesh_cent…"
      ]
     },
     "metadata": {},
     "output_type": "display_data"
    },
    {
     "data": {
      "text/plain": [
       "BaseWebGuiScene"
      ]
     },
     "execution_count": 4,
     "metadata": {},
     "output_type": "execute_result"
    }
   ],
   "source": [
    "cMeshRef = mesh2DLaminates(D, d, ff, numSheets, multiscale=False, onlySmooth=onlySmooth, maxh_edges=maxh_edges)\n",
    "meshRef = cMeshRef.mesh\n",
    "print(\"Boundaries\", set(meshRef.GetBoundaries()))\n",
    "print(\"Materials\", set(meshRef.GetMaterials()))\n",
    "Draw(meshRef.ngmesh)"
   ]
  },
  {
   "cell_type": "code",
   "execution_count": 5,
   "metadata": {},
   "outputs": [
    {
     "name": "stdout",
     "output_type": "stream",
     "text": [
      "\u001b[2KCG iteration 1, residual = 2.7576182532639884     \n",
      "\u001b[2KCG iteration 2, residual = 4.583276874688887e-12     \n"
     ]
    }
   ],
   "source": [
    "lam = meshRef.MaterialCF({\"inner\":lambda2, \"outer\":lambda1, \"gap\":lambda1, \"multiscale\":lambda2})\n",
    "def calcRef():\n",
    "    fes = H1(meshRef, order=order0, dirichlet=\"left|right\")\n",
    "\n",
    "    u,v = fes.TnT()\n",
    "    sol = GridFunction(fes)\n",
    "\n",
    "    a = BilinearForm(fes, symmetric=True)\n",
    "    f = LinearForm(fes)\n",
    "\n",
    "    a += lam * grad(u) * grad(v) * dx\n",
    "\n",
    "    prec = Preconditioner(a, \"direct\")\n",
    "\n",
    "\n",
    "    sol.Set(1 * x/Norm(x), BND)\n",
    "    solvers.BVP(bf = a, lf= f, pre=prec, gf=sol, maxsteps=10)\n",
    "    \n",
    "    \n",
    "    energy =  Integrate( InnerProduct(lam * grad(sol), grad(sol)), meshRef, definedon=meshRef.Materials(\"inner|gap\"))\n",
    "    \n",
    "    return sol, energy\n",
    "\n",
    "sol_ref, energy_ref = calcRef()\n"
   ]
  },
  {
   "cell_type": "code",
   "execution_count": 6,
   "metadata": {},
   "outputs": [
    {
     "name": "stdout",
     "output_type": "stream",
     "text": [
      "energy:\t0.8891848890532273\n"
     ]
    },
    {
     "data": {
      "application/vnd.jupyter.widget-view+json": {
       "model_id": "f1998f951a0f446a802135f8bb57ada9",
       "version_major": 2,
       "version_minor": 0
      },
      "text/plain": [
       "WebGuiWidget(layout=Layout(height='500px', width='100%'), value={'gui_settings': {'Objects': {'Wireframe': Tru…"
      ]
     },
     "metadata": {},
     "output_type": "display_data"
    },
    {
     "data": {
      "text/plain": [
       "BaseWebGuiScene"
      ]
     },
     "execution_count": 6,
     "metadata": {},
     "output_type": "execute_result"
    }
   ],
   "source": [
    "\n",
    "\n",
    "print(f\"energy:\\t{energy_ref}\")\n",
    "Draw(sol_ref, settings={\"Objects\":{\"Wireframe\":True}, \"deformation\": 0.01})\n"
   ]
  },
  {
   "cell_type": "markdown",
   "metadata": {},
   "source": [
    "## Multiscale"
   ]
  },
  {
   "cell_type": "code",
   "execution_count": 7,
   "metadata": {},
   "outputs": [
    {
     "name": "stdout",
     "output_type": "stream",
     "text": [
      "('outer', 'outer', 'multiscale')\n"
     ]
    },
    {
     "data": {
      "application/vnd.jupyter.widget-view+json": {
       "model_id": "ea324dd5b7bc494b838a3755866749b7",
       "version_major": 2,
       "version_minor": 0
      },
      "text/plain": [
       "WebGuiWidget(layout=Layout(height='500px', width='100%'), value={'gui_settings': {}, 'mesh_dim': 2, 'mesh_cent…"
      ]
     },
     "metadata": {},
     "output_type": "display_data"
    }
   ],
   "source": [
    "modelHalfAir=True\n",
    "\n",
    "\n",
    "\n",
    "cMeshMS = mesh2DLaminates(D, d, ff, numSheets, multiscale=True, modelHalfAir=modelHalfAir, domainNameHalfAir=\"multiscale\", onlySmooth=onlySmooth,  maxh_edges=maxh_edges)\n",
    "# cMeshMS = mesh2DLaminates(D, d, ff, numSheets, multiscale=True, modelHalfAir=modelHalfAir, domainNameHalfAir=\"smoothFrame\", onlySmooth=onlySmooth)\n",
    "meshMS = cMeshMS.mesh\n",
    "print(meshMS.GetMaterials())\n",
    "Draw(meshMS.ngmesh)\n",
    "\n",
    "\n",
    "from myPackage import drawBndAll\n",
    "\n",
    "# drawBndAll(meshMS, drawFunc=Draw, block=False)\n"
   ]
  },
  {
   "cell_type": "code",
   "execution_count": 8,
   "metadata": {},
   "outputs": [
    {
     "name": "stdout",
     "output_type": "stream",
     "text": [
      "\u001b[2KCG iteration 1, residual = 2.8182032169118325     \n",
      "\u001b[2KCG iteration 2, residual = 1.0210867859283268e-12     \n",
      "0.8891848890532127\n",
      "5.158573445216574e-16\n"
     ]
    }
   ],
   "source": [
    "cl_Phi.numSheets = numSheets\n",
    "cl_Phi.dFe = cMeshMS.dFe\n",
    "cl_Phi.d0 = cMeshMS.d0\n",
    "cl_Phi.mesh = meshMS\n",
    "\n",
    "cl_Phi.modelHalfAir = modelHalfAir\n",
    "cl_Phi.orientation = 0\n",
    "\n",
    "\n",
    "def calcMultiscale(useGradients=True, drawPhis=True):\n",
    "\n",
    "    # microshape functions\n",
    "    orderPhi = [\n",
    "            cl_Phi(1, fes_order=order0, material=\"multiscale\", dirichlet=\"\", useGradients=useGradients), \n",
    "            # cl_Phi(2, fes_order=order0, material=\"multiscale\", dirichlet=\"iright_outer|ileft_outer|iright|ileft\", inAir=False, modelHalfAir=False), \n",
    "            # cl_Phi(2, fes_order=order0, material=\"multiscale\", dirichlet=\"iright_outer|ileft_outer|iright|ileft\", inIron=False, modelHalfAir=False), \n",
    "        ]\n",
    "\n",
    "    if drawPhis:\n",
    "        cl_Phi.plotEvaluated(orderPhi)\n",
    "\n",
    "    VSpace = []\n",
    "    # u0 \n",
    "    VSpace.append(H1(meshMS, order=order0, dirichlet=\"right|left\")) \n",
    "        \n",
    "    # ui * phi i\n",
    "    for phi_i in orderPhi: \n",
    "        VSpace.append(H1(meshMS, order=phi_i.fes_oder, definedon=meshMS.Materials(phi_i.material), dirichlet=phi_i.dirichlet))\n",
    "    VSpace = FESpace(VSpace)\n",
    "\n",
    "\n",
    "    # multiscale container\n",
    "    ansatz = \"\"\n",
    "    sol = GridFunction(VSpace, \"sol\")\n",
    "       \n",
    "\n",
    "    cl_gradgradMS = gradgradMS(orderPhi, sol, addPhi0Outer=True)\n",
    "\n",
    "    a = BilinearForm(VSpace, symmetric=True)\n",
    "    f = LinearForm(VSpace)\n",
    "\n",
    "    a += lambda1  * grad(cl_gradgradMS.trials[0]) * grad(cl_gradgradMS.tests[0]) * dx(\"outer\")\n",
    "    a += getIntegrand4BFI(cl_gradgradMS.gradu, cl_gradgradMS.gradv, lambda2, lambda1, force_full_Phi=True) * dx(\"multiscale|smoothFrame\")\n",
    "\n",
    "\n",
    "    # h = specialcf.mesh_size\n",
    "    # um = sum([cl_gradgradMS.u[i][0] * cl_gradgradMS.u[i][1] for i in range(len(cl_gradgradMS.u))])\n",
    "    # vm = sum([cl_gradgradMS.v[i][0] * cl_gradgradMS.v[i][1] for i in range(len(cl_gradgradMS.v))])\n",
    "    # if True:\n",
    "    #     # a += 4*order0**2/h * (um - cl_gradgradMS.trials[0])* (vm - cl_gradgradMS.tests[0]) * ds(\"ileft|iright\", skeleton=True)\n",
    "    #     a += 4*order0**2/h * (um - cl_gradgradMS.trials[0])* (vm - cl_gradgradMS.tests[0]) * ds(\"ileft_outer|iright_outer\")\n",
    "    \n",
    "\n",
    "\n",
    "    prec = Preconditioner(a,type=\"direct\")  \n",
    "\n",
    "\n",
    "    # dirichlet boundary values\n",
    "    sol.components[0].Set(1 * x/Norm(x), BND)\n",
    "    \n",
    "    solvers.BVP(bf = a, lf= f, pre=prec, gf=sol, maxsteps=10)\n",
    "\n",
    "    energy =  Integrate(getIntegrand4BFI(cl_gradgradMS.gradsol_pack, cl_gradgradMS.gradsol_pack, lambda2, lambda1), meshMS, \n",
    "                                                    definedon=meshMS.Materials(\"multiscale|smoothFrame\"))\n",
    "    \n",
    "    return sol, cl_gradgradMS.sol_pack, cl_gradgradMS.sol_comp, cl_gradgradMS.gradsol_comp, energy, cl_gradgradMS\n",
    "\n",
    "    \n",
    "\n",
    "sol_MS, sol_pack_MS, sol_comp_MS, H_comp,    energy_MS, cl_gradgradMS = calcMultiscale(False, drawPhis=False)\n",
    "print(energy_MS)\n",
    "print(Integrate(Norm(sum(sol_comp_MS) - sol_ref), meshRef))\n"
   ]
  },
  {
   "cell_type": "code",
   "execution_count": 9,
   "metadata": {},
   "outputs": [
    {
     "data": {
      "application/vnd.jupyter.widget-view+json": {
       "model_id": "3f08c2d4afd54c8fbfe41f8f18a398f0",
       "version_major": 2,
       "version_minor": 0
      },
      "image/png": "[encoded data removed]",
      "text/html": [
       "\n",
       "            <div style=\"display: inline-block;\">\n",
       "                <div class=\"jupyter-widgets widget-label\" style=\"text-align: center;\">\n",
       "                    Figure\n",
       "                </div>\n",
       "                <img src='data:image/png;base64,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' width=640.0/>\n",
       "            </div>\n",
       "        "
      ],
      "text/plain": [
       "Canvas(toolbar=Toolbar(toolitems=[('Home', 'Reset original view', 'home', 'home'), ('Back', 'Back to previous …"
      ]
     },
     "metadata": {},
     "output_type": "display_data"
    }
   ],
   "source": [
    "from myPackage import evalOnLine\n",
    "import matplotlib.pyplot as plt\n",
    "start = -d/2*1.01\n",
    "end = -d/2*0.9\n",
    "\n",
    "# start = d/2*0.95\n",
    "# end = d/2*1.02\n",
    "\n",
    "\n",
    "\n",
    "start = -D/2\n",
    "end = D/2\n",
    "\n",
    "evalOnLine(sol_ref , meshRef, [start, 0, 0], [end, 0, 0], plot=True, ls='-', marker=\"x\", show=False, label=\"ref\", N = 3000);\n",
    "tmp, _, _ = evalOnLine(sum(sol_comp_MS) , meshRef, [start, 0, 0], [end, 0, 0], plot=True, ls='-', marker=\"x\", clear=False, label=\"MS\", show=False, N=3000);\n",
    "\n",
    "plt.legend()\n",
    "plt.show()"
   ]
  },
  {
   "cell_type": "code",
   "execution_count": 10,
   "metadata": {},
   "outputs": [
    {
     "name": "stdout",
     "output_type": "stream",
     "text": [
      "5.158573445216574e-16\n",
      "<class 'ngsolve.comp.ComponentGridFunction'>\n"
     ]
    },
    {
     "data": {
      "application/vnd.jupyter.widget-view+json": {
       "model_id": "fc189e43b1224e7eaa07fed68fb8bd19",
       "version_major": 2,
       "version_minor": 0
      },
      "text/plain": [
       "WebGuiWidget(layout=Layout(height='500px', width='100%'), value={'gui_settings': {'Objects': {'Wireframe': Tru…"
      ]
     },
     "metadata": {},
     "output_type": "display_data"
    },
    {
     "data": {
      "text/plain": [
       "BaseWebGuiScene"
      ]
     },
     "execution_count": 10,
     "metadata": {},
     "output_type": "execute_result"
    }
   ],
   "source": [
    "print(Integrate(Norm(sum(sol_comp_MS) - sol_ref), meshRef))\n",
    "print(type(sol_pack_MS[0][0]))\n",
    "Draw(sol_pack_MS[1][0] , meshMS, settings={\"Objects\":{\"Wireframe\":True}, \"deformation\": 1})\n",
    "\n"
   ]
  },
  {
   "cell_type": "code",
   "execution_count": null,
   "metadata": {},
   "outputs": [],
   "source": []
  },
  {
   "cell_type": "code",
   "execution_count": 11,
   "metadata": {},
   "outputs": [
    {
     "data": {
      "application/vnd.jupyter.widget-view+json": {
       "model_id": "ef70d85e4c24445bb371335ccd0c8b70",
       "version_major": 2,
       "version_minor": 0
      },
      "text/plain": [
       "WebGuiWidget(layout=Layout(height='500px', width='100%'), value={'gui_settings': {'Objects': {'Wireframe': Fal…"
      ]
     },
     "metadata": {},
     "output_type": "display_data"
    },
    {
     "data": {
      "text/plain": [
       "BaseWebGuiScene"
      ]
     },
     "execution_count": 11,
     "metadata": {},
     "output_type": "execute_result"
    }
   ],
   "source": [
    "Draw(-lam * sum(H_comp)[0], meshRef, settings={\"Objects\":{\"Wireframe\":False}}, min = 0,  max = 150)"
   ]
  },
  {
   "cell_type": "code",
   "execution_count": 12,
   "metadata": {},
   "outputs": [
    {
     "data": {
      "application/vnd.jupyter.widget-view+json": {
       "model_id": "c7ee25d95a604302b865aa1c49067b3f",
       "version_major": 2,
       "version_minor": 0
      },
      "text/plain": [
       "WebGuiWidget(layout=Layout(height='500px', width='100%'), value={'gui_settings': {'Objects': {'Wireframe': Fal…"
      ]
     },
     "metadata": {},
     "output_type": "display_data"
    },
    {
     "data": {
      "text/plain": [
       "BaseWebGuiScene"
      ]
     },
     "execution_count": 12,
     "metadata": {},
     "output_type": "execute_result"
    }
   ],
   "source": [
    "\n",
    "Draw(lam * grad(sol_ref)[0], meshRef, min = 0, max=150, settings={\"Objects\":{\"Wireframe\":False}})"
   ]
  },
  {
   "cell_type": "code",
   "execution_count": 13,
   "metadata": {},
   "outputs": [
    {
     "name": "stdout",
     "output_type": "stream",
     "text": [
      "energy multiscale 0.8891848890532127\n",
      "energy reference 0.8891848890532273\n"
     ]
    }
   ],
   "source": [
    "print(\"energy multiscale\", energy_MS)\n",
    "print(\"energy reference\", energy_ref)"
   ]
  },
  {
   "cell_type": "code",
   "execution_count": 14,
   "metadata": {},
   "outputs": [
    {
     "name": "stdout",
     "output_type": "stream",
     "text": [
      "iron\n",
      "gap\n",
      "air\n"
     ]
    }
   ],
   "source": [
    "myPhi = cl_Phi(0, fes_order=0).phi\n"
   ]
  },
  {
   "cell_type": "code",
   "execution_count": 15,
   "metadata": {},
   "outputs": [
    {
     "name": "stdout",
     "output_type": "stream",
     "text": [
      "Help on Lobatto in module cempy.phiFunctions object:\n",
      "\n",
      "class Lobatto(PhiFunction)\n",
      " |  Lobatto polynomials\n",
      " |  \n",
      " |  Method resolution order:\n",
      " |      Lobatto\n",
      " |      PhiFunction\n",
      " |      ngsolve.fem.CoefficientFunction\n",
      " |      pybind11_builtins.pybind11_object\n",
      " |      builtins.object\n",
      " |  \n",
      " |  Methods defined here:\n",
      " |  \n",
      " |  __eq__(...)\n",
      " |      __eq__(self: cempy.phiFunctions.Lobatto, arg0: cempy.phiFunctions.Lobatto) -> bool\n",
      " |  \n",
      " |  __init__(...)\n",
      " |      __init__(self: cempy.phiFunctions.Lobatto, xstart: float, d: float, iOrder: int, numSheets: int, ff: float, coordinate: int, inIron: bool = True, inAir: bool = True, inOuter: bool = True, douter: float = nan, fullPhi: bool = False, modelHalfAir: bool = True) -> None\n",
      " |  \n",
      " |  ----------------------------------------------------------------------\n",
      " |  Readonly properties defined here:\n",
      " |  \n",
      " |  order\n",
      " |  \n",
      " |  ----------------------------------------------------------------------\n",
      " |  Data descriptors defined here:\n",
      " |  \n",
      " |  __dict__\n",
      " |  \n",
      " |  ----------------------------------------------------------------------\n",
      " |  Data and other attributes defined here:\n",
      " |  \n",
      " |  __hash__ = None\n",
      " |  \n",
      " |  ----------------------------------------------------------------------\n",
      " |  Methods inherited from PhiFunction:\n",
      " |  \n",
      " |  DirectEvaluate(...)\n",
      " |      DirectEvaluate(self: cempy.phiFunctions.PhiFunction, arg0: float) -> float\n",
      " |  \n",
      " |  __str__(...)\n",
      " |      __str__(self: cempy.phiFunctions.PhiFunction) -> str\n",
      " |  \n",
      " |  centerValue(...)\n",
      " |      centerValue(self: cempy.phiFunctions.PhiFunction, inAir: bool = False) -> float\n",
      " |  \n",
      " |  getPlotData(...)\n",
      " |      getPlotData(self: cempy.phiFunctions.PhiFunction, numPoints: int = 30) -> List[Tuple[float, float]]\n",
      " |  \n",
      " |  isIron(...)\n",
      " |      isIron(self: cempy.phiFunctions.PhiFunction, arg0: float) -> bool\n",
      " |  \n",
      " |  ----------------------------------------------------------------------\n",
      " |  Readonly properties inherited from PhiFunction:\n",
      " |  \n",
      " |  coordinate\n",
      " |  \n",
      " |  d\n",
      " |  \n",
      " |  d0\n",
      " |  \n",
      " |  dFe\n",
      " |  \n",
      " |  douter\n",
      " |  \n",
      " |  ff\n",
      " |  \n",
      " |  fullPhi\n",
      " |  \n",
      " |  inAir\n",
      " |  \n",
      " |  inIron\n",
      " |  \n",
      " |  inOuter\n",
      " |  \n",
      " |  mean\n",
      " |  \n",
      " |  modelHalfAir\n",
      " |  \n",
      " |  name\n",
      " |  \n",
      " |  numSheets\n",
      " |  \n",
      " |  orientation\n",
      " |  \n",
      " |  xEnd\n",
      " |  \n",
      " |  xStart\n",
      " |  \n",
      " |  ----------------------------------------------------------------------\n",
      " |  Methods inherited from ngsolve.fem.CoefficientFunction:\n",
      " |  \n",
      " |  Compile(...)\n",
      " |      Compile(self: ngsolve.fem.CoefficientFunction, realcompile: bool = False, maxderiv: int = 2, wait: bool = False, keep_files: bool = False) -> ngsolve.fem.CoefficientFunction\n",
      " |      \n",
      " |      \n",
      " |      Compile list of individual steps, experimental improvement for deep trees\n",
      " |      \n",
      " |      Parameters:\n",
      " |      \n",
      " |      realcompile : bool\n",
      " |        True -> Compile to C++ code\n",
      " |      \n",
      " |      maxderiv : int\n",
      " |        input maximal derivative\n",
      " |      \n",
      " |      wait : bool\n",
      " |        True -> Waits until the previous Compile call is finished before start compiling\n",
      " |      \n",
      " |      keep_files : bool\n",
      " |        True -> Keep temporary files\n",
      " |  \n",
      " |  Derive(...)\n",
      " |      Derive(self: ngsolve.fem.CoefficientFunction, variable: ngsolve.fem.CoefficientFunction, direction: ngsolve.fem.CoefficientFunction = 1.0) -> ngsolve.fem.CoefficientFunction\n",
      " |      \n",
      " |      depricated: use 'Diff' instead\n",
      " |  \n",
      " |  Diff(...)\n",
      " |      Diff(self: ngsolve.fem.CoefficientFunction, variable: ngsolve.fem.CoefficientFunction, direction: ngsolve.fem.CoefficientFunction = None) -> ngsolve.fem.CoefficientFunction\n",
      " |      \n",
      " |      Compute directional derivative with respect to variable\n",
      " |  \n",
      " |  DiffShape(...)\n",
      " |      DiffShape(self: ngsolve.fem.CoefficientFunction, direction: ngsolve.fem.CoefficientFunction = 1.0, Eulerian: List[ngsolve.fem.CoefficientFunction] = []) -> ngsolve.fem.CoefficientFunction\n",
      " |      \n",
      " |      Compute shape derivative in direction\n",
      " |  \n",
      " |  Eig(...)\n",
      " |      Eig(self: ngsolve.fem.CoefficientFunction) -> ngsolve.fem.CoefficientFunction\n",
      " |      \n",
      " |      Returns eigenvectors and eigenvalues of matrix-valued CF\n",
      " |  \n",
      " |  ExtendDimension(...)\n",
      " |      ExtendDimension(self: ngsolve.fem.CoefficientFunction, dims: tuple, pos: Optional[tuple] = None, stride: Optional[tuple] = None) -> ngsolve.fem.CoefficientFunction\n",
      " |      \n",
      " |      Extend shape by 0-padding\n",
      " |  \n",
      " |  Freeze(...)\n",
      " |      Freeze(self: ngsolve.fem.CoefficientFunction) -> ngsolve.fem.CoefficientFunction\n",
      " |      \n",
      " |      don't differentiate this expression\n",
      " |  \n",
      " |  InnerProduct(...)\n",
      " |      InnerProduct(self: ngsolve.fem.CoefficientFunction, cf: ngsolve.fem.CoefficientFunction) -> ngsolve.fem.CoefficientFunction\n",
      " |      \n",
      " |       \n",
      " |      Returns InnerProduct with another CoefficientFunction.\n",
      " |      \n",
      " |      Parameters:\n",
      " |      \n",
      " |      cf : ngsolve.CoefficientFunction\n",
      " |        input CoefficientFunction\n",
      " |  \n",
      " |  MakeVariable(...)\n",
      " |      MakeVariable(self: ngsolve.fem.CoefficientFunction) -> ngsolve.fem.CoefficientFunction\n",
      " |      \n",
      " |      make node a variable, by which we can differentiate\n",
      " |  \n",
      " |  Norm(...)\n",
      " |      Norm(self: ngsolve.fem.CoefficientFunction) -> ngsolve.fem.CoefficientFunction\n",
      " |      \n",
      " |      Returns Norm of the CF\n",
      " |  \n",
      " |  Operator(...)\n",
      " |      Operator(self: ngsolve.fem.CoefficientFunction, arg0: str) -> ngsolve.fem.CoefficientFunction\n",
      " |  \n",
      " |  Other(...)\n",
      " |      Other(self: ngsolve.fem.CoefficientFunction) -> ngsolve.fem.CoefficientFunction\n",
      " |      \n",
      " |      Evaluate on other element, as needed for DG jumps\n",
      " |  \n",
      " |  Reshape(...)\n",
      " |      Reshape(self: ngsolve.fem.CoefficientFunction, arg0: tuple) -> ngsolve.fem.CoefficientFunction\n",
      " |      \n",
      " |      reshape CF:  (dim) for vector, (h,w) for matrix\n",
      " |  \n",
      " |  TensorTranspose(...)\n",
      " |      TensorTranspose(self: ngsolve.fem.CoefficientFunction, arg0: tuple) -> ngsolve.fem.CoefficientFunction\n",
      " |  \n",
      " |  __add__(...)\n",
      " |      __add__(*args, **kwargs)\n",
      " |      Overloaded function.\n",
      " |      \n",
      " |      1. __add__(self: ngsolve.fem.CoefficientFunction, cf: ngsolve.fem.CoefficientFunction) -> ngsolve.fem.CoefficientFunction\n",
      " |      \n",
      " |      2. __add__(self: ngsolve.fem.CoefficientFunction, value: float) -> ngsolve.fem.CoefficientFunction\n",
      " |      \n",
      " |      3. __add__(self: ngsolve.fem.CoefficientFunction, value: complex) -> ngsolve.fem.CoefficientFunction\n",
      " |  \n",
      " |  __call__(...)\n",
      " |      __call__(*args, **kwargs)\n",
      " |      Overloaded function.\n",
      " |      \n",
      " |      1. __call__(self: ngsolve.fem.CoefficientFunction, mip: ngsolve.fem.BaseMappedIntegrationPoint) -> object\n",
      " |      \n",
      " |      evaluate CF at a mapped integrationpoint mip. mip can be generated by calling mesh(x,y,z)\n",
      " |      \n",
      " |      2. __call__(self: ngsolve.fem.CoefficientFunction, x: float, y: Optional[float] = None, z: Optional[float] = None) -> ngcomp::PointEvaluationFunctional\n",
      " |      \n",
      " |      3. __call__(self: ngsolve.fem.CoefficientFunction, arg0: ngsolve.fem.CoordinateTrafo) -> ngsolve.fem.CoefficientFunction\n",
      " |      \n",
      " |      4. __call__(self: ngsolve.fem.CoefficientFunction, arg0: ngsolve.fem.MeshPoint) -> object\n",
      " |      \n",
      " |      5. __call__(self: ngsolve.fem.CoefficientFunction, arg0: numpy.ndarray[ngsolve.fem.MeshPoint]) -> numpy.ndarray\n",
      " |  \n",
      " |  __getitem__(...)\n",
      " |      __getitem__(*args, **kwargs)\n",
      " |      Overloaded function.\n",
      " |      \n",
      " |      1. __getitem__(self: ngsolve.fem.CoefficientFunction, comp: int) -> ngsolve.fem.CoefficientFunction\n",
      " |      \n",
      " |      returns component comp of vectorial CF\n",
      " |      \n",
      " |      2. __getitem__(self: ngsolve.fem.CoefficientFunction, components: slice) -> ngsolve.fem.CoefficientFunction\n",
      " |      \n",
      " |      3. __getitem__(self: ngsolve.fem.CoefficientFunction, arg0: tuple) -> ngsolve.fem.CoefficientFunction\n",
      " |  \n",
      " |  __getstate__(...)\n",
      " |      __getstate__(self: ngsolve.fem.CoefficientFunction) -> tuple\n",
      " |  \n",
      " |  __mul__(...)\n",
      " |      __mul__(*args, **kwargs)\n",
      " |      Overloaded function.\n",
      " |      \n",
      " |      1. __mul__(self: ngsolve.fem.CoefficientFunction, cf: ngsolve.fem.CoefficientFunction) -> ngsolve.fem.CoefficientFunction\n",
      " |      \n",
      " |      2. __mul__(self: ngsolve.fem.CoefficientFunction, value: float) -> ngsolve.fem.CoefficientFunction\n",
      " |      \n",
      " |      3. __mul__(self: ngsolve.fem.CoefficientFunction, value: complex) -> ngsolve.fem.CoefficientFunction\n",
      " |      \n",
      " |      4. __mul__(self: ngsolve.fem.CoefficientFunction, arg0: ngfem::DifferentialSymbol) -> ngfem::SumOfIntegrals\n",
      " |  \n",
      " |  __neg__(...)\n",
      " |      __neg__(self: ngsolve.fem.CoefficientFunction) -> ngsolve.fem.CoefficientFunction\n",
      " |  \n",
      " |  __pow__(...)\n",
      " |      __pow__(*args, **kwargs)\n",
      " |      Overloaded function.\n",
      " |      \n",
      " |      1. __pow__(self: ngsolve.fem.CoefficientFunction, exponent: int) -> ngsolve.fem.CoefficientFunction\n",
      " |      \n",
      " |      2. __pow__(self: ngsolve.fem.CoefficientFunction, arg0: float) -> object\n",
      " |      \n",
      " |      3. __pow__(self: ngsolve.fem.CoefficientFunction, arg0: ngsolve.fem.CoefficientFunction) -> object\n",
      " |  \n",
      " |  __radd__(...)\n",
      " |      __radd__(*args, **kwargs)\n",
      " |      Overloaded function.\n",
      " |      \n",
      " |      1. __radd__(self: ngsolve.fem.CoefficientFunction, value: float) -> ngsolve.fem.CoefficientFunction\n",
      " |      \n",
      " |      2. __radd__(self: ngsolve.fem.CoefficientFunction, value: complex) -> ngsolve.fem.CoefficientFunction\n",
      " |  \n",
      " |  __rmul__(...)\n",
      " |      __rmul__(*args, **kwargs)\n",
      " |      Overloaded function.\n",
      " |      \n",
      " |      1. __rmul__(self: ngsolve.fem.CoefficientFunction, value: float) -> ngsolve.fem.CoefficientFunction\n",
      " |      \n",
      " |      2. __rmul__(self: ngsolve.fem.CoefficientFunction, value: complex) -> ngsolve.fem.CoefficientFunction\n",
      " |  \n",
      " |  __rpow__(...)\n",
      " |      __rpow__(self: ngsolve.fem.CoefficientFunction, arg0: float) -> object\n",
      " |  \n",
      " |  __rsub__(...)\n",
      " |      __rsub__(self: ngsolve.fem.CoefficientFunction, value: float) -> ngsolve.fem.CoefficientFunction\n",
      " |  \n",
      " |  __rtruediv__(...)\n",
      " |      __rtruediv__(*args, **kwargs)\n",
      " |      Overloaded function.\n",
      " |      \n",
      " |      1. __rtruediv__(self: ngsolve.fem.CoefficientFunction, value: float) -> ngsolve.fem.CoefficientFunction\n",
      " |      \n",
      " |      2. __rtruediv__(self: ngsolve.fem.CoefficientFunction, value: complex) -> ngsolve.fem.CoefficientFunction\n",
      " |  \n",
      " |  __setstate__(...)\n",
      " |      __setstate__(self: ngsolve.fem.CoefficientFunction, arg0: tuple) -> None\n",
      " |  \n",
      " |  __sub__(...)\n",
      " |      __sub__(*args, **kwargs)\n",
      " |      Overloaded function.\n",
      " |      \n",
      " |      1. __sub__(self: ngsolve.fem.CoefficientFunction, cf: ngsolve.fem.CoefficientFunction) -> ngsolve.fem.CoefficientFunction\n",
      " |      \n",
      " |      2. __sub__(self: ngsolve.fem.CoefficientFunction, value: float) -> ngsolve.fem.CoefficientFunction\n",
      " |  \n",
      " |  __truediv__(...)\n",
      " |      __truediv__(*args, **kwargs)\n",
      " |      Overloaded function.\n",
      " |      \n",
      " |      1. __truediv__(self: ngsolve.fem.CoefficientFunction, cf: ngsolve.fem.CoefficientFunction) -> ngsolve.fem.CoefficientFunction\n",
      " |      \n",
      " |      2. __truediv__(self: ngsolve.fem.CoefficientFunction, value: float) -> ngsolve.fem.CoefficientFunction\n",
      " |      \n",
      " |      3. __truediv__(self: ngsolve.fem.CoefficientFunction, value: complex) -> ngsolve.fem.CoefficientFunction\n",
      " |  \n",
      " |  ----------------------------------------------------------------------\n",
      " |  Readonly properties inherited from ngsolve.fem.CoefficientFunction:\n",
      " |  \n",
      " |  data\n",
      " |  \n",
      " |  dim\n",
      " |      number of components of CF\n",
      " |  \n",
      " |  imag\n",
      " |      imaginary part of CF\n",
      " |  \n",
      " |  is_complex\n",
      " |      is CoefficientFunction complex-valued ?\n",
      " |  \n",
      " |  real\n",
      " |      real part of CF\n",
      " |  \n",
      " |  shape\n",
      " |      shape of CF\n",
      " |  \n",
      " |  trans\n",
      " |      transpose of matrix-valued CF\n",
      " |  \n",
      " |  ----------------------------------------------------------------------\n",
      " |  Data descriptors inherited from ngsolve.fem.CoefficientFunction:\n",
      " |  \n",
      " |  dims\n",
      " |      shape of CF:  (dim) for vector, (h,w) for matrix\n",
      " |  \n",
      " |  spacedim\n",
      " |  \n",
      " |  ----------------------------------------------------------------------\n",
      " |  Static methods inherited from pybind11_builtins.pybind11_object:\n",
      " |  \n",
      " |  __new__(*args, **kwargs) from pybind11_builtins.pybind11_type\n",
      " |      Create and return a new object.  See help(type) for accurate signature.\n",
      "\n"
     ]
    }
   ],
   "source": [
    "help(myPhi)"
   ]
  },
  {
   "cell_type": "code",
   "execution_count": 16,
   "metadata": {},
   "outputs": [],
   "source": [
    "def createPhiCF(x_CF, y_CF, size_all=[40, 40], size_core=[20, 20], num_sheets=10, ratio_medium2total=0.9):\n",
    "    # widthes of medium and air\n",
    "    width_core_medium = size_core[0]/num_sheets * ratio_medium2total\n",
    "    width_core_air = size_core[0]/(num_sheets-1) * (1-ratio_medium2total)\n",
    "    width_core_single = width_core_medium + width_core_air\n",
    "\n",
    "    # total mask\n",
    "    x_test_min = IfPos(x_CF + size_core[0]/2, 1, 0)\n",
    "    x_test_max = IfPos(x_CF - size_core[0]/2, 0, 1)\n",
    "\n",
    "    y_test_min = IfPos(y_CF + size_core[1]/2, 1, 0)\n",
    "    y_test_max = IfPos(y_CF - size_core[1]/2, 0, 1)\n",
    "\n",
    "    # dx\n",
    "    dx_medium = 2/width_core_medium\n",
    "    dx_air = -2/width_core_air\n",
    "\n",
    "    # start point\n",
    "    x_min_coordinate = -size_core[0]/2\n",
    "    \n",
    "\n",
    "    Phi_CF = 0\n",
    "    dxPhi_CF = 0\n",
    "    #   Medium_CF = 0\n",
    "    \n",
    "    for i in range(0, num_sheets):\n",
    "        # for air\n",
    "        x_max = IfPos(x_CF - x_min_coordinate - (i+1) * width_core_single , 0, 1)                      # air\n",
    "        x_mid_max = IfPos(x_CF - x_min_coordinate - i * width_core_single - width_core_medium, 1, 0)\n",
    "        # air =1 -> x_max*x_mid_max\n",
    "\n",
    "        # for medium\n",
    "        x_mid_min = IfPos(x_CF - x_min_coordinate - i * width_core_single - width_core_medium, 0, 1)    # medium\n",
    "        x_min = IfPos(x_CF - x_min_coordinate - i * width_core_single, 1, 0)\n",
    "\n",
    "        \n",
    "        # medium zick zack\n",
    "        Phi_CF += (dx_medium*(x_CF - x_min_coordinate - i * width_core_single) - 1)*(x_min*x_mid_min)       \n",
    "        dxPhi_CF += dx_medium * (x_min*x_mid_min)    \n",
    "        #   Medium_CF += x_min*x_mid_min \n",
    "        # air zickzack\n",
    "        if i != num_sheets -1:\n",
    "            Phi_CF += (dx_air*(x_CF - x_min_coordinate - i * width_core_single - width_core_medium) + 1)*(x_max*x_mid_max) \n",
    "            dxPhi_CF += dx_air * (x_max*x_mid_max)\n",
    "    # mask zick zack to medium\n",
    "    Phi_CF *= x_test_max * x_test_min * y_test_min * y_test_max\n",
    "    dxPhi_CF *= x_test_max * x_test_min * y_test_min * y_test_max\n",
    "    #    Medium_CF *= x_test_max * x_test_min * y_test_min * y_test_max\n",
    "\n",
    "    # Phi_CF... ZickZack function\n",
    "    # dxPhi_CF = derivation\n",
    "    return Phi_CF, dxPhi_CF#, Medium_CF\n"
   ]
  },
  {
   "cell_type": "code",
   "execution_count": 17,
   "metadata": {},
   "outputs": [],
   "source": [
    "class pyPhiFunction:\n",
    "\n",
    "    \n",
    "\n",
    "\n",
    "    def __init__(self, zstart, d, phi_order_or_fun, numSheets, ff, orientation, inIron=True, inAir=True, inOuter=False, douter=None, modelHalfAir=True):\n",
    "        self.zstart = zstart\n",
    "        self.d = d\n",
    "        self.fun_or_order = phi_order_or_fun\n",
    "        self.numSheets = numSheets\n",
    "        self.ff = ff\n",
    "        self.orientation = orientation\n",
    "        self.inIron = inIron\n",
    "        self.inAir = inAir\n",
    "        self.inOuter = inOuter\n",
    "        self.douter = douter\n",
    "        self.modelHalfAir=modelHalfAir\n",
    "\n",
    "        self.dFe = d*ff\n",
    "        self.d0 = d*(1-ff)\n",
    "\n",
    "\n",
    "\n",
    "\n",
    "\n",
    "        self.funDict = {\n",
    "            0: [lambda x : CF(1), lambda x : CF(1)]\n",
    "        }\n",
    "        self.dxFunDict = {\n",
    "            0: [lambda x : CF(0), lambda x : CF(0)]\n",
    "        }\n",
    "\n",
    "        if type(self.fun_or_order) == int:\n",
    "            self.fun = self.funDict[self.fun_or_order]\n",
    "            self.dxfun = self.dxFunDict[self.fun_or_order]\n",
    "        else:\n",
    "            self.fun = self.fun_or_order[0]\n",
    "            self.dxfun = self.fun_or_order[1]\n",
    "\n",
    "\n",
    "        self.phi, self.dzphi = self.createCFs()\n",
    "\n",
    "\n",
    "    def createCFs(self):\n",
    "\n",
    "        # get coordinate\n",
    "        x_CF = (x, y, z)[self.orientation]\n",
    "        # start point\n",
    "        xPos = self.zstart\n",
    "        \n",
    "        \n",
    "\n",
    "        Phi_CF = 0\n",
    "        dxPhi_CF = 0\n",
    "\n",
    "                \n",
    "        for i in range(0, self.numSheets):\n",
    "\n",
    "            if self.inAir:\n",
    "                Phi_CF += IfPos(x - xPos - self.dFe - self.d0/2 , 0, IfPos(x - xPos, self.fun[0](x), 0))\n",
    "\n",
    "\n",
    "            if self.inIron:\n",
    "                Phi_CF += IfPos(x - xPos - self.dFe - self.d0/2 , 0, IfPos(x - xPos, self.fun[0](x), 0))\n",
    "\n",
    "            xPos += self.d0 + self.dFe\n",
    "\n",
    "        return Phi_CF, dxPhi_CF\n",
    "\n",
    "\n",
    "\n",
    "    def createCFs2(self):\n",
    "\n",
    "        # get coordinate\n",
    "        x_CF = (x, y, z)[self.orientation]\n",
    "        # start point\n",
    "        xPos = self.zstart\n",
    "        \n",
    "\n",
    "        Phi_CF = 0\n",
    "        dxPhi_CF = 0\n",
    "\n",
    "\n",
    "        dx_medium = 2/self.dFe\n",
    "        dx_air = -2/self.d0\n",
    "        #   Medium_CF = 0\n",
    "        \n",
    "        for i in range(0, self.numSheets):\n",
    "            # for air\n",
    "            x_max = IfPos(x_CF - xPos - (i+1) * self.d , 0, 1)                      # air\n",
    "            x_mid_max = IfPos(x_CF - xPos - i * self.d - self.dFe, 1, 0)\n",
    "            # air =1 -> x_max*x_mid_max\n",
    "\n",
    "            # for medium\n",
    "            x_mid_min = IfPos(x_CF - xPos - i * self.d - self.dFe, 0, 1)    # medium\n",
    "            x_min = IfPos(x_CF - xPos - i * self.d, 1, 0)\n",
    "\n",
    "            \n",
    "            # medium zick zack\n",
    "            Phi_CF += (dx_medium*(x_CF - xPos - i * self.d) - 1)*(x_min*x_mid_min)       \n",
    "            dxPhi_CF += dx_medium * (x_min*x_mid_min)    \n",
    "            #   Medium_CF += x_min*x_mid_min \n",
    "            # air zickzack\n",
    "            if i != self.numSheets -1:\n",
    "                Phi_CF += (dx_air*(x_CF - xPos - i * self.d - self.dFe) + 1)*(x_max*x_mid_max) \n",
    "                dxPhi_CF += dx_air * (x_max*x_mid_max)\n",
    "        # mask zick zack to medium\n",
    "        # Phi_CF *= x_test_max * x_test_min * y_test_min * y_test_max\n",
    "        # dxPhi_CF *= x_test_max * x_test_min * y_test_min * y_test_max\n",
    "        \n",
    "        return Phi_CF, dxPhi_CF\n",
    "        \n",
    "\n",
    "cl_Phi.numSheets = numSheets\n",
    "cl_Phi.dFe = cMeshMS.dFe\n",
    "cl_Phi.d0 = cMeshMS.d0\n",
    "cl_Phi.mesh = meshMS\n",
    "\n",
    "cl_Phi.modelHalfAir = modelHalfAir\n",
    "cl_Phi.orientation = 0\n",
    "\n",
    "dSingleSheet = cMeshMS.dFe + cMeshMS.d0\n",
    "\n"
   ]
  },
  {
   "cell_type": "code",
   "execution_count": 18,
   "metadata": {},
   "outputs": [
    {
     "data": {
      "application/vnd.jupyter.widget-view+json": {
       "model_id": "f2ae6fb8a1cb4622bef93ff4cab7218a",
       "version_major": 2,
       "version_minor": 0
      },
      "text/plain": [
       "WebGuiWidget(layout=Layout(height='500px', width='100%'), value={'gui_settings': {}, 'ngsolve_version': '6.2.2…"
      ]
     },
     "metadata": {},
     "output_type": "display_data"
    },
    {
     "data": {
      "text/plain": [
       "BaseWebGuiScene"
      ]
     },
     "execution_count": 18,
     "metadata": {},
     "output_type": "execute_result"
    }
   ],
   "source": [
    "myPyPhi = pyPhiFunction(-numSheets*dSingleSheet/2, dSingleSheet, 0, numSheets, ff, 0)\n",
    "\n",
    "Draw(myPyPhi.phi, meshRef)"
   ]
  }
 ],
 "metadata": {
  "kernelspec": {
   "display_name": "Python 3",
   "language": "python",
   "name": "python3"
  },
  "language_info": {
   "codemirror_mode": {
    "name": "ipython",
    "version": 3
   },
   "file_extension": ".py",
   "mimetype": "text/x-python",
   "name": "python",
   "nbconvert_exporter": "python",
   "pygments_lexer": "ipython3",
   "version": "3.10.12"
  },
  "orig_nbformat": 4
 },
 "nbformat": 4,
 "nbformat_minor": 2
}
