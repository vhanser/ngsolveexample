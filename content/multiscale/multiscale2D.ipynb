{
 "cells": [
  {
   "cell_type": "code",
   "execution_count": 1,
   "metadata": {},
   "outputs": [
    {
     "data": {
      "text/plain": [
       "<matplotlib.pyplot._IoffContext at 0x7f86820e52a0>"
      ]
     },
     "execution_count": 1,
     "metadata": {},
     "output_type": "execute_result"
    }
   ],
   "source": [
    "from netgen.occ import *\n",
    "from ngsolve import *\n",
    "from netgen.meshing import IdentificationType\n",
    "from MS_helper_functions import *\n",
    "from netgen.webgui import Draw as DrawGeo\n",
    "from ngsolve.webgui import Draw\n",
    "\n",
    "import matplotlib.pyplot as plt\n",
    "%matplotlib widget\n",
    "plt.ioff()"
   ]
  },
  {
   "cell_type": "code",
   "execution_count": 2,
   "metadata": {},
   "outputs": [],
   "source": [
    "lambda1 = 1\n",
    "lambda2 = 1000\n",
    "\n",
    "order0 = 2"
   ]
  },
  {
   "cell_type": "code",
   "execution_count": 3,
   "metadata": {},
   "outputs": [],
   "source": [
    "D = 0.04\n",
    "d = 0.02\n",
    "\n",
    "ff = 0.9\n",
    "maxh = 0.01\n",
    "\n",
    "numSheets = 10\n",
    "\n"
   ]
  },
  {
   "cell_type": "markdown",
   "metadata": {},
   "source": [
    "## Reference Solution"
   ]
  },
  {
   "cell_type": "code",
   "execution_count": 4,
   "metadata": {},
   "outputs": [
    {
     "data": {
      "application/vnd.jupyter.widget-view+json": {
       "model_id": "1fc66eec75cf40fc9c5c7b0cc1f0d879",
       "version_major": 2,
       "version_minor": 0
      },
      "text/plain": [
       "WebGuiWidget(layout=Layout(height='500px', width='100%'), value={'gui_settings': {}, 'mesh_dim': 2, 'mesh_cent…"
      ]
     },
     "metadata": {},
     "output_type": "display_data"
    },
    {
     "name": "stdout",
     "output_type": "stream",
     "text": [
      "{'inner', 'insulation', 'outer'}\n"
     ]
    }
   ],
   "source": [
    "from meshGen import mesh2DLaminates\n",
    "meshRef = mesh2DLaminates(D, d, ff, numSheets, multiscale=False, modelHalfAir=True).mesh\n",
    "Draw(meshRef.ngmesh)\n",
    "print(set(meshRef.GetMaterials()))"
   ]
  },
  {
   "cell_type": "code",
   "execution_count": 5,
   "metadata": {},
   "outputs": [
    {
     "name": "stdout",
     "output_type": "stream",
     "text": [
      "\u001b[2KCG iteration 1, residual = 3.825855781256528     \n",
      "\u001b[2KCG iteration 2, residual = 1.0588168112043437e-12     \n"
     ]
    }
   ],
   "source": [
    "lam = meshRef.MaterialCF({\"inner\":lambda2, \"multiscale\":lambda2}, default=lambda1)\n",
    "def calcRef():\n",
    "    fes = H1(meshRef, order=order0, dirichlet=\"left|right\")\n",
    "\n",
    "    u,v = fes.TnT()\n",
    "    sol = GridFunction(fes)\n",
    "\n",
    "    a = BilinearForm(fes, symmetric=True)\n",
    "    f = LinearForm(fes)\n",
    "\n",
    "    a += lam * grad(u) * grad(v) * dx\n",
    "\n",
    "    prec = Preconditioner(a, \"direct\")\n",
    "\n",
    "\n",
    "    sol.Set(1 * x/Norm(x), BND)\n",
    "    solvers.BVP(bf = a, lf= f, pre=prec, gf=sol, maxsteps=10)\n",
    "    \n",
    "    \n",
    "    energy =  Integrate( InnerProduct(lam * grad(sol), grad(sol)), meshRef, definedon=meshRef.Materials(\"inner|insulation\"))\n",
    "    \n",
    "    return sol, energy\n",
    "\n",
    "sol_ref, energy_ref = calcRef()\n"
   ]
  },
  {
   "cell_type": "code",
   "execution_count": 6,
   "metadata": {},
   "outputs": [
    {
     "name": "stdout",
     "output_type": "stream",
     "text": [
      "energy:\t0.5919583931698202\n"
     ]
    },
    {
     "data": {
      "application/vnd.jupyter.widget-view+json": {
       "model_id": "89f621b487e84fa39d1aad32db69c295",
       "version_major": 2,
       "version_minor": 0
      },
      "text/plain": [
       "WebGuiWidget(layout=Layout(height='500px', width='100%'), value={'gui_settings': {'Objects': {'Wireframe': Tru…"
      ]
     },
     "metadata": {},
     "output_type": "display_data"
    },
    {
     "data": {
      "application/vnd.jupyter.widget-view+json": {
       "model_id": "8419070e93cd459fba3c9e4564314fa4",
       "version_major": 2,
       "version_minor": 0
      },
      "text/plain": [
       "WebGuiWidget(layout=Layout(height='500px', width='100%'), value={'gui_settings': {}, 'ngsolve_version': '6.2.2…"
      ]
     },
     "metadata": {},
     "output_type": "display_data"
    },
    {
     "data": {
      "text/plain": [
       "BaseWebGuiScene"
      ]
     },
     "execution_count": 6,
     "metadata": {},
     "output_type": "execute_result"
    }
   ],
   "source": [
    "\n",
    "\n",
    "print(f\"energy:\\t{energy_ref}\")\n",
    "Draw(sol_ref, settings={\"Objects\":{\"Wireframe\":True}, \"deformation\": 0.01})\n",
    "Draw(lam * grad(sol_ref)[0], meshRef, max = 150, min = 0)"
   ]
  },
  {
   "cell_type": "markdown",
   "metadata": {},
   "source": [
    "## Multiscale"
   ]
  },
  {
   "cell_type": "code",
   "execution_count": 7,
   "metadata": {},
   "outputs": [
    {
     "data": {
      "application/vnd.jupyter.widget-view+json": {
       "model_id": "2ef3f8c48f254552a78194f090cccb0b",
       "version_major": 2,
       "version_minor": 0
      },
      "text/plain": [
       "WebGuiWidget(layout=Layout(height='500px', width='100%'), value={'gui_settings': {}, 'mesh_dim': 2, 'mesh_cent…"
      ]
     },
     "metadata": {},
     "output_type": "display_data"
    },
    {
     "name": "stdout",
     "output_type": "stream",
     "text": [
      "('outer', 'multiscale')\n"
     ]
    }
   ],
   "source": [
    "modelHalfAir=True\n",
    "\n",
    "cMeshMS = mesh2DLaminates(D, d, ff, numSheets, multiscale=True, modelHalfAir=modelHalfAir)\n",
    "meshMS = cMeshMS.mesh\n",
    "Draw(meshMS.ngmesh)\n",
    "\n",
    "print(meshMS.GetMaterials())"
   ]
  },
  {
   "cell_type": "code",
   "execution_count": 8,
   "metadata": {},
   "outputs": [
    {
     "name": "stdout",
     "output_type": "stream",
     "text": [
      "\u001b[2KCG iteration 1, residual = 3.6763636575457435     \n",
      "\u001b[2KCG iteration 2, residual = 3.996750835716484e-13     \n",
      "113614.98545290789\n",
      "9.7216396208047e-07\n",
      "0.6074688112347917\n"
     ]
    }
   ],
   "source": [
    "\n",
    "cl_Phi.numSheets = numSheets\n",
    "cl_Phi.dFe = cMeshMS.dFe\n",
    "cl_Phi.d0 = cMeshMS.d0\n",
    "cl_Phi.mesh = meshMS\n",
    "\n",
    "cl_Phi.modelHalfAir = modelHalfAir\n",
    "cl_Phi.orientation = 0\n",
    "\n",
    "from cempy.phiFunctions import Lobatto, dxLobatto\n",
    "cl_Phi.phiFunction = Lobatto\n",
    "cl_Phi.dzPhiFunction = dxLobatto\n",
    "\n",
    "\n",
    "def calcMultiscale(useGradients=True, darwPhis=True):\n",
    "\n",
    "\n",
    "    # microshape functions\n",
    "    orderPhi = [\n",
    "            cl_Phi(1, fes_order=0, material=\"multiscale\", useGradients=useGradients), \n",
    "        ]\n",
    "\n",
    "    if darwPhis:\n",
    "        cl_Phi.plotEvaluated(orderPhi)\n",
    "\n",
    "    VSpace = []\n",
    "    # u0 \n",
    "    VSpace.append(H1(meshMS, order=order0, dirichlet=\"right|left\")) \n",
    "        \n",
    "    # ui * phi i\n",
    "    for phi_i in orderPhi: \n",
    "        VSpace.append(H1(meshMS, order=phi_i.fes_oder, definedon=meshMS.Materials(phi_i.material)))\n",
    "    VSpace = FESpace(VSpace)\n",
    "\n",
    "\n",
    "    # multiscale container\n",
    "    ansatz = \"\"\n",
    "    sol = GridFunction(VSpace, \"sol\")\n",
    "       \n",
    "\n",
    "    cl_gradgradMS = gradgradMS(orderPhi, sol, addPhi0Outer=True)\n",
    "\n",
    "    a = BilinearForm(VSpace, symmetric=True)\n",
    "    f = LinearForm(VSpace)\n",
    "\n",
    "    a += lambda1  * grad(cl_gradgradMS.trials[0]) * grad(cl_gradgradMS.tests[0]) * dx(\"outer\")\n",
    "    a += getIntegrand4BFI(cl_gradgradMS.gradu, cl_gradgradMS.gradv, lambda2, lambda1) * dx(\"multiscale\")\n",
    "\n",
    "\n",
    "    prec = Preconditioner(a,type=\"direct\")  \n",
    "\n",
    "\n",
    "\n",
    "\n",
    "    # dirichlet boundary values\n",
    "    sol.components[0].Set(1 * x/Norm(x), BND)\n",
    "    \n",
    "    solvers.BVP(bf = a, lf= f, pre=prec, gf=sol, maxsteps=10)\n",
    "    print(a.mat.AsVector().Norm())\n",
    "\n",
    "    energy =  Integrate(getIntegrand4BFI(cl_gradgradMS.gradsol_pack, cl_gradgradMS.gradsol_pack, lambda2, lambda1), meshMS, definedon=meshMS.Materials(\"multiscale\"))\n",
    "    \n",
    "    return sol, cl_gradgradMS.gradsol_pack, cl_gradgradMS.sol_comp, cl_gradgradMS.gradsol_comp, energy, cl_gradgradMS\n",
    "\n",
    "\n",
    "    \n",
    "\n",
    "sol_MS, sol_pack_MS, sol_comp_MS, H_comp,    energy_MS, cl_gradgradMS = calcMultiscale(useGradients=False, darwPhis=False)\n",
    "\n",
    "print(Integrate(Norm(sum(sol_comp_MS) - sol_ref), meshRef))\n",
    "print(energy_MS)\n"
   ]
  },
  {
   "cell_type": "code",
   "execution_count": 9,
   "metadata": {},
   "outputs": [],
   "source": [
    "if False:\n",
    "    from cempy.phiFunctions import Lobatto, dxLobatto\n",
    "    cl_Phi.phiFunction = Lobatto\n",
    "    cl_Phi.dzPhiFunction = dxLobatto\n",
    "\n",
    "\n",
    "    a = cl_Phi(2, 1, phiFunction=Lobatto, dxPhiFunction=dxLobatto, inAir=False)\n",
    "    b = cl_Phi(2, 1, phiFunction=pyLobatto, dxPhiFunction=pydxLobatto, inAir=False)\n",
    "\n",
    "    print(a.phi.xStart, b.phi.xStart)\n",
    "\n",
    "\n",
    "    print(getPhiPhiValue(a.phi, a.phi, 1, 1, force_num_int=True))\n",
    "    print(getPhiPhiValue(b.phi, b.phi, 1, 1, force_num_int=True))\n",
    "\n",
    "    print(a.phi.DirectEvaluate(0))\n",
    "    print(b.phi.DirectEvaluate(0))\n",
    "\n",
    "    xi= np.linspace(-d/2*1.1, d/2*1.1, 200000)\n",
    "    yi_a = [a.phi.DirectEvaluate(x) for x in xi]\n",
    "    yi_b = [b.phi.DirectEvaluate(x) for x in xi]\n",
    "\n",
    "    print(\"test\", cl_Phi.dFe/2, b.phi.map2sheet(b.phi.xStart + cl_Phi.dFe/2 ))\n",
    "\n",
    "    print(a.phi.d)\n",
    "    plt.figure(10)\n",
    "    plt.clf()\n",
    "    plt.plot(xi, yi_a, label=\"c++\")\n",
    "    plt.plot(xi, yi_b, label=\"python\")\n",
    "    plt.legend()\n",
    "    plt.pause(0.1)\n",
    "\n"
   ]
  },
  {
   "cell_type": "code",
   "execution_count": 10,
   "metadata": {},
   "outputs": [
    {
     "data": {
      "application/vnd.jupyter.widget-view+json": {
       "model_id": "916893c1ca5e457092dae5c26caf3f6f",
       "version_major": 2,
       "version_minor": 0
      },
      "image/png": "[encoded data removed]",
      "text/html": [
       "\n",
       "            <div style=\"display: inline-block;\">\n",
       "                <div class=\"jupyter-widgets widget-label\" style=\"text-align: center;\">\n",
       "                    Figure\n",
       "                </div>\n",
       "                <img src='data:image/png;base64,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' width=640.0/>\n",
       "            </div>\n",
       "        "
      ],
      "text/plain": [
       "Canvas(toolbar=Toolbar(toolitems=[('Home', 'Reset original view', 'home', 'home'), ('Back', 'Back to previous …"
      ]
     },
     "metadata": {},
     "output_type": "display_data"
    }
   ],
   "source": [
    "from myPackage import evalOnLine\n",
    "\n",
    "start = -d/2*1.05\n",
    "end =-d/2*0.8\n",
    "\n",
    "# start = -D/2\n",
    "# end = D/2\n",
    "evalOnLine(sol_ref , meshRef, [start, 0, 0], [end, 0, 0], plot=True, ls='-', marker=\"x\", show=False, label=\"ref\");\n",
    "evalOnLine(sum(sol_comp_MS) , meshRef, [start, 0, 0], [end, 0, 0], plot=True, ls='-', marker=\"x\", clear=False, label=\"MS\", show=False);\n",
    "plt.legend()\n",
    "plt.show()\n"
   ]
  },
  {
   "cell_type": "code",
   "execution_count": 11,
   "metadata": {},
   "outputs": [
    {
     "data": {
      "application/vnd.jupyter.widget-view+json": {
       "model_id": "74a6585a4d0d4e42872572f34fe5ac0f",
       "version_major": 2,
       "version_minor": 0
      },
      "text/plain": [
       "WebGuiWidget(layout=Layout(height='500px', width='100%'), value={'gui_settings': {'Objects': {'Wireframe': Tru…"
      ]
     },
     "metadata": {},
     "output_type": "display_data"
    },
    {
     "data": {
      "text/plain": [
       "BaseWebGuiScene"
      ]
     },
     "execution_count": 11,
     "metadata": {},
     "output_type": "execute_result"
    }
   ],
   "source": [
    "Draw(sum(sol_comp_MS) , meshRef, settings={\"Objects\":{\"Wireframe\":True}, \"deformation\": 0.01})\n"
   ]
  },
  {
   "cell_type": "code",
   "execution_count": 12,
   "metadata": {},
   "outputs": [
    {
     "data": {
      "application/vnd.jupyter.widget-view+json": {
       "model_id": "36eb91e298d14581b46aade4b3d6faa2",
       "version_major": 2,
       "version_minor": 0
      },
      "text/plain": [
       "WebGuiWidget(layout=Layout(height='500px', width='100%'), value={'gui_settings': {'Objects': {'Wireframe': Fal…"
      ]
     },
     "metadata": {},
     "output_type": "display_data"
    },
    {
     "data": {
      "text/plain": [
       "BaseWebGuiScene"
      ]
     },
     "execution_count": 12,
     "metadata": {},
     "output_type": "execute_result"
    }
   ],
   "source": [
    "Draw(-lam * sum(H_comp)[0], meshRef, min = 0, max=150, settings={\"Objects\":{\"Wireframe\":False}})"
   ]
  },
  {
   "cell_type": "code",
   "execution_count": 13,
   "metadata": {},
   "outputs": [
    {
     "data": {
      "application/vnd.jupyter.widget-view+json": {
       "model_id": "4b747d460a6f4e75adfcb026ffa8e12b",
       "version_major": 2,
       "version_minor": 0
      },
      "text/plain": [
       "WebGuiWidget(layout=Layout(height='500px', width='100%'), value={'gui_settings': {'Objects': {'Wireframe': Fal…"
      ]
     },
     "metadata": {},
     "output_type": "display_data"
    },
    {
     "data": {
      "text/plain": [
       "BaseWebGuiScene"
      ]
     },
     "execution_count": 13,
     "metadata": {},
     "output_type": "execute_result"
    }
   ],
   "source": [
    "Draw(lam * grad(sol_ref)[0], meshRef, min = 0, max=150, settings={\"Objects\":{\"Wireframe\":False}})"
   ]
  },
  {
   "cell_type": "code",
   "execution_count": 14,
   "metadata": {},
   "outputs": [
    {
     "name": "stdout",
     "output_type": "stream",
     "text": [
      "energy multiscale 0.6074688112347917\n",
      "energy reference 0.5919583931698202\n"
     ]
    }
   ],
   "source": [
    "print(\"energy multiscale\", energy_MS)\n",
    "print(\"energy reference\", energy_ref)"
   ]
  }
 ],
 "metadata": {
  "kernelspec": {
   "display_name": "Python 3",
   "language": "python",
   "name": "python3"
  },
  "language_info": {
   "codemirror_mode": {
    "name": "ipython",
    "version": 3
   },
   "file_extension": ".py",
   "mimetype": "text/x-python",
   "name": "python",
   "nbconvert_exporter": "python",
   "pygments_lexer": "ipython3",
   "version": "3.10.12"
  },
  "orig_nbformat": 4
 },
 "nbformat": 4,
 "nbformat_minor": 2
}
