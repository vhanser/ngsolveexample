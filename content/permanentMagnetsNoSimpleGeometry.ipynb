{
 "cells": [
  {
   "cell_type": "markdown",
   "id": "9b11e874",
   "metadata": {},
   "source": [
    "# ngSolve Example for the Calculation of Eddy Current Losses in Permanet Magnets"
   ]
  },
  {
   "cell_type": "code",
   "execution_count": 1,
   "id": "90300cec",
   "metadata": {},
   "outputs": [],
   "source": [
    "from ngsolve import *\n",
    "from ngsolve.webgui import Draw\n",
    "\n",
    "import numpy as np\n",
    "    "
   ]
  },
  {
   "cell_type": "markdown",
   "id": "dafa24a8",
   "metadata": {},
   "source": [
    "## Introduction\n",
    "\n",
    "1. full problem\n",
    "1. quasi-periodic boundaries\n",
    "1. linear problem \n",
    "1. linear problem with curved coordinates\n",
    "\n",
    "\n",
    "\n",
    "\n"
   ]
  },
  {
   "cell_type": "markdown",
   "id": "f744e703",
   "metadata": {},
   "source": [
    "## Geometry"
   ]
  },
  {
   "cell_type": "code",
   "execution_count": 2,
   "id": "8ff1fbcf",
   "metadata": {},
   "outputs": [
    {
     "name": "stdout",
     "output_type": "stream",
     "text": [
      "domains ('air', 'rotor', 'magnet_top', 'magnet_bottom')\n",
      "boundaries {'mag_rot', 'outer', 'inner', 'interface'}\n"
     ]
    },
    {
     "data": {
      "application/vnd.jupyter.widget-view+json": {
       "model_id": "8b3834d3bb4446c58a06de458566d1e1",
       "version_major": 2,
       "version_minor": 0
      },
      "text/plain": [
       "WebGuiWidget(layout=Layout(height='500px', width='100%'), value={'gui_settings': {}, 'ngsolve_version': '6.2.2…"
      ]
     },
     "metadata": {},
     "output_type": "display_data"
    }
   ],
   "source": [
    "## mesh\n",
    "from permanentMagnetGeometry import  fullGeoMagnet\n",
    "from ngsolve.webgui import Draw\n",
    "\n",
    "\n",
    "r1, r2, r3, r4, phi_deg, maxh = 0.01, 0.02, 0.03, 0.032, 45, 0.001\n",
    "maxh = 0.1\n",
    "maxhEdges = 0.001\n",
    "\n",
    "order0 = 2\n",
    "\n",
    "cMesh = fullGeoMagnet(r1, r2, r3, r4, phi_deg=45, maxh=maxh, maxhEdges=maxhEdges, periodic=False)\n",
    "mesh = cMesh.mesh\n",
    "\n",
    "\n",
    "print(\"domains\", mesh.GetMaterials())\n",
    "print(\"boundaries\", set(mesh.GetBoundaries()))\n",
    "\n",
    "Draw(mesh)\n",
    "\n",
    "\n",
    "draw_settings = {\"Objects\":{\"Wireframe\":False}}\n"
   ]
  },
  {
   "cell_type": "markdown",
   "id": "bb9a6205",
   "metadata": {},
   "source": [
    "## Biot Savart Field $H_{BS}$ of a Single Conductor\n",
    "\n",
    "\\begin{align}\n",
    "    \\mathbf{H}_{BS} = \\frac{I_0}{2\\pi||\\mathbf{r}||}\\mathbf{e}_{\\varphi}\n",
    "\\end{align}"
   ]
  },
  {
   "cell_type": "code",
   "execution_count": 3,
   "id": "7c284f50",
   "metadata": {},
   "outputs": [],
   "source": [
    "\n",
    "# ------------------------------------------------------------------------------\n",
    "# --- excitation\n",
    "# ------------------------------------------------------------------------------\n",
    "f = 50\n",
    "omega = 2*np.pi * f\n",
    "\n",
    "\n",
    "def HBS_singleConductor(I0, xy_center, dim=2):\n",
    "\n",
    "    # shifted coordninates\n",
    "    x_s = x - xy_center[0]\n",
    "    y_s = y - xy_center[1]\n",
    "\n",
    "    r = sqrt(x_s ** 2 + y_s **2)\n",
    "\n",
    "    if dim == 2:\n",
    "        e_phi = CF((y_s, -x_s))/(r+1e-15)\n",
    "    else:\n",
    "        e_phi = e_phi = CF((y_s, -x_s, 0))/(r+1e-15)\n",
    "\n",
    "    return I0/(2*np.pi*r + 1e-15) * e_phi\n",
    "\n",
    "\n",
    "phi_i = (0, 2*np.pi/3, 2*np.pi*2/3)\n",
    "#phi_i = [0]\n",
    "\n",
    "points = [(r4 * cos(phi), r4*sin(phi)) for phi in phi_i]\n",
    "H_BS_i = [HBS_singleConductor(1 * np.exp(1j * phi), xy) for xy, phi in zip(points, phi_i)]\n",
    "\n",
    "points = [(r4 * cos(phi + np.pi), r4*sin(phi+ np.pi)) for phi in phi_i]\n",
    "H_BS_i += [HBS_singleConductor(-1 * np.exp(1j * phi), xy) for xy, phi in zip(points, phi_i)]\n",
    "\n",
    "HBS = sum(H_BS_i)\n",
    "\n"
   ]
  },
  {
   "cell_type": "code",
   "execution_count": 4,
   "id": "9b3cf37a",
   "metadata": {},
   "outputs": [],
   "source": [
    "\n",
    "# ------------------------------------------------------------------------------\n",
    "# --- materials\n",
    "# ------------------------------------------------------------------------------\n",
    "sigma_Fe = 2e6\n",
    "sigma_air = 0\n",
    "sigma_magnet = 556e3\n",
    "\n",
    "mu_air = 4e-7*np.pi\n",
    "mu_Fe = 1000 * mu_air\n",
    "mu_magnet = 1.05 * mu_air\n"
   ]
  },
  {
   "cell_type": "markdown",
   "id": "3f153cac",
   "metadata": {},
   "source": [
    "\n",
    "## $\\mathbf{A}$ Formulation\n",
    "\n",
    "\\begin{align*}\n",
    "\\int_\\Omega \\nu\\nabla\\times\\mathbf{A}\\cdot\\nabla\\times\\mathbf{A}' + j\\omega\\sigma\\mathbf{A}\\cdot\\mathbf{A}' \\;d\\Omega = \\int_\\Omega\\mathbf{H}_{BS}\\cdot\\nabla\\times\\mathbf{A}'\\;d\\Omega\n",
    "\\end{align*}\n",
    "\n",
    "with homogeneous Dirichlet boundaries on the inner and the outer\n",
    "\n",
    "\n",
    "In two dimensions -> single component magnetic vector potential\n",
    "\\begin{align*}\n",
    "\\mathbf{A} = u \\mathbf{e}_z \\text{ and } \\mathbf{B} = \\nabla\\times\\mathbf{A} = \\partial_y u\\mathbf{e}_x - \\partial_x u\\mathbf{e}_x\n",
    "\\end{align*}\n",
    "and therefore \n",
    "\n",
    "\\begin{align*}\n",
    "\\int_{\\Omega_{2D}} \\nu\\nabla u\\cdot \\nabla u' + j\\omega\\sigma A\\cdot A' \\;d\\Omega = \\int_{\\Omega_{2D}}\\mathbf{H}_{BS}\\cdot (\\partial_y u'\\mathbf{e}_x - \\partial_x u'\\mathbf{e}_x)\\;d\\Omega\n",
    "\\end{align*}\n"
   ]
  },
  {
   "cell_type": "code",
   "execution_count": 5,
   "id": "5b113188",
   "metadata": {},
   "outputs": [
    {
     "name": "stdout",
     "output_type": "stream",
     "text": [
      "\u001b[2KCG iteration 1, residual = 0.0002300283900072151     \n",
      "\u001b[2KCG iteration 2, residual = 1.3481703219722107e-16     \n"
     ]
    }
   ],
   "source": [
    "\n",
    "\n",
    "def solveFullWithA(mesh, order0, omega, HBS, periodic=False):\n",
    "\n",
    "    # ------------------------------------------------------------------------------\n",
    "    # --- materials\n",
    "    # ------------------------------------------------------------------------------\n",
    "    mu = mesh.MaterialCF({\"air\": mu_air, \"rotor\": mu_Fe, \"magnet.*\": mu_magnet}, default=0.001)\n",
    "    nu = 1/mu\n",
    "    sigma = mesh.MaterialCF({\"air\": sigma_air, \"rotor\": sigma_Fe, \"magnet.*\": sigma_magnet}, default=0.001)\n",
    "    rho = 1/sigma\n",
    "    \n",
    "    # ------------------------------------------------------------------------------\n",
    "    # --- fem\n",
    "    # ------------------------------------------------------------------------------\n",
    "    dir_A = \"inner\"\n",
    "\n",
    "    if periodic:\n",
    "        fes = Periodic(H1(mesh, order=order0, dirichlet=dir_A, complex=True), phase=[-1, -1])\n",
    "    else:\n",
    "        fes = H1(mesh, order=order0, dirichlet=dir_A, complex=True)\n",
    "    \n",
    "\n",
    "    u, v = fes.TnT()\n",
    "\n",
    "\n",
    "    sol = GridFunction(fes, \"A\")\n",
    "    gradsol = grad(sol)\n",
    "\n",
    "\n",
    "    # ------------------------------------------------------------------------------\n",
    "    # --- fields\n",
    "    # ------------------------------------------------------------------------------\n",
    "    B = CF((gradsol[1], -gradsol[0]))\n",
    "    H = nu * B\n",
    "    E = -1j * omega * sol\n",
    "    J = sigma * E\n",
    "\n",
    "\n",
    "    # ------------------------------------------------------------------------------\n",
    "    # --- formulation\n",
    "    # ------------------------------------------------------------------------------\n",
    "\n",
    "    ah = BilinearForm(fes, symmetric=True)\n",
    "    ah += nu * grad(u) * grad(v) * dx\n",
    "    ah += 1j * omega * sigma * u * v * dx(\"rotor|magnet.*\")\n",
    "\n",
    "\n",
    "    prec = Preconditioner(ah, type=\"direct\")\n",
    "\n",
    "    gradv = grad(v)\n",
    "    f = LinearForm(fes)\n",
    "    f  += HBS * CF((gradv[1], -gradv[0])) * dx\n",
    "\n",
    "\n",
    "    ah.Assemble()\n",
    "    f.Assemble()\n",
    "\n",
    "\n",
    "    solvers.BVP(bf = ah, lf= f, pre=prec, gf=sol, maxsteps=10)\n",
    "    # sol.vec.data = ah.mat.Inverse(freedofs=fes.FreeDofs()) * f.vec\n",
    "\n",
    "\n",
    "    losses_magnet = .5 * Integrate(InnerProduct(E, J), mesh, definedon=mesh.Materials(\"magnet.*\")).real\n",
    "    losses_rotor = .5 * Integrate(InnerProduct(E, J), mesh, definedon=mesh.Materials(\"rotor\")).real\n",
    "\n",
    "    if periodic:\n",
    "        losses_magnet *= 2\n",
    "        losses_rotor *= 2\n",
    "\n",
    "    return sol, B, E, H, J, losses_magnet, losses_rotor\n",
    "\n",
    "A, B_A, E_A, H_A, J_A, losses_magnet_A, losses_rotor_A = solveFullWithA(mesh, order0, omega=omega, HBS=HBS)"
   ]
  },
  {
   "cell_type": "code",
   "execution_count": 8,
   "id": "885b992b",
   "metadata": {},
   "outputs": [
    {
     "data": {
      "application/vnd.jupyter.widget-view+json": {
       "model_id": "d1d6a3eb7b9748f1b0a6ea245eb6e824",
       "version_major": 2,
       "version_minor": 0
      },
      "text/plain": [
       "WebGuiWidget(layout=Layout(height='500px', width='100%'), value={'gui_settings': {'Objects': {'Wireframe': Fal…"
      ]
     },
     "metadata": {},
     "output_type": "display_data"
    },
    {
     "name": "stdout",
     "output_type": "stream",
     "text": [
      "Help on function Draw in module netgen.webgui:\n",
      "\n",
      "Draw(obj, *args, **kwargs)\n",
      "\n"
     ]
    }
   ],
   "source": [
    "#animate(J, mesh, ti= np.linspace(0, 4*np.pi, 150), pause=0.01 )\n",
    "sceneJ_A  = Draw(J_A, mesh, max = 500, min = -500, animate_complex=True, settings=draw_settings)\n",
    "help(Draw)"
   ]
  },
  {
   "cell_type": "markdown",
   "id": "7716c69e",
   "metadata": {},
   "source": [
    "\n",
    "## $\\mathbf{T}$,$\\Phi$ - $\\Phi$ Formulation\n",
    "\n",
    "\\begin{align}\n",
    "\\int_{\\Omega_c} \\rho\\nabla\\times\\mathbf{T}\\cdot\\nabla\\times\\mathbf{T}' + j\\omega\\mu(\\mathbf{T}-\\nabla\\Phi)\\cdot(\\mathbf{T}'-\\nabla\\Phi') \\;d\\Omega = -\\int_\\Omega j\\omega\\mu(\\mathbf{H}_{BS})\\cdot(\\mathbf{T}'-\\nabla\\Phi')\\;d\\Omega\n",
    "\\end{align}\n",
    "\n",
    "with homogeneous Dirichlet boundaries on the inner and the outer\n",
    "\n",
    "\n",
    "In two dimensions ->  current vector potential\n",
    "\\begin{align}\n",
    "\\mathbf{J} = \\nabla\\times\\mathbf{T} =\\nabla\\times(T_x\\mathbf{e}_x + T_y\\mathbf{e}_y) = (\\partial_x T_x + \\partial_y T_y)\\mathbf{e}_z\n",
    "\\end{align}\n",
    "and therefore \n",
    "\n",
    "\\begin{align}\n",
    "\\int_{\\Omega_{2D}} \\rho\\nabla \\times \\mathbf{T} \\cdot \\nabla \\times \\mathbf{T}' + j\\omega\\mu (\\mathbf{T} - \\nabla\\Phi)\\cdot (\\mathbf{T}' - \\nabla\\Phi') \\;d\\Omega = -\\int_\\Omega j\\omega\\mu(\\mathbf{H}_{BS})\\cdot(\\mathbf{T}'-\\nabla\\Phi')\\;d\\Omega\n",
    "\n",
    "\\end{align}\n"
   ]
  },
  {
   "cell_type": "code",
   "execution_count": 9,
   "id": "ed70f836",
   "metadata": {},
   "outputs": [
    {
     "name": "stdout",
     "output_type": "stream",
     "text": [
      "\u001b[2KCG iteration 1, residual = 0.006715525597458756     \n",
      "\u001b[2KCG iteration 2, residual = 3.082831786179662e-10     \n",
      "\u001b[2KCG iteration 3, residual = 1.8489689489690308e-13     \n"
     ]
    }
   ],
   "source": [
    "def solveFullWithTPhi(mesh, order0, omega, HBS, periodic = False):\n",
    "\n",
    "    # ------------------------------------------------------------------------------\n",
    "    # --- materials\n",
    "    # ------------------------------------------------------------------------------\n",
    "    mu = mesh.MaterialCF({\"air\": mu_air, \"rotor\": mu_Fe, \"magnet.*\": mu_magnet}, default=0.001)\n",
    "    nu = 1/mu\n",
    "    sigma = mesh.MaterialCF({\"air\": sigma_air, \"rotor\": sigma_Fe, \"magnet.*\": sigma_magnet}, default=0.001)\n",
    "    rho = 1/sigma\n",
    "    \n",
    "    # ------------------------------------------------------------------------------\n",
    "    # --- fem\n",
    "    # ------------------------------------------------------------------------------\n",
    "\n",
    "    dir_T  = \"interface|inner\"\n",
    "    dir_Phi  = \"outer\"\n",
    "\n",
    "\n",
    "    fesT = HCurl(mesh, order=order0, dirichlet=dir_T, complex=True, definedon=mesh.Materials(\"rotor|magnet.*\"))\n",
    "    fesPhi = H1(mesh, order=order0+1, dirichlet=dir_Phi, complex=True)\n",
    "\n",
    "    if periodic:\n",
    "        phase = [-1, -1]\n",
    "        fes = FESpace([Periodic(fesPhi,phase), Periodic(fesT, phase)])\n",
    "    else:\n",
    "        fes = FESpace([fesPhi, fesT])\n",
    "\n",
    "    trials = fes.TrialFunction()\n",
    "    tests = fes.TestFunction()\n",
    "\n",
    "\n",
    "    uPhi, vPhi = trials[0], tests[0]\n",
    "    uT, vT = trials[1], tests[1]\n",
    "\n",
    "    sol = GridFunction(fes, \"sol\")\n",
    "    Phi = sol.components[0]\n",
    "    T = sol.components[1]\n",
    "\n",
    "\n",
    "\n",
    "    # ------------------------------------------------------------------------------\n",
    "    # --- fields\n",
    "    # ------------------------------------------------------------------------------\n",
    "    H = HBS + T - grad(Phi)\n",
    "    B = mu * H \n",
    "    J = curl(T)\n",
    "    E = rho * J \n",
    "\n",
    "\n",
    "    # ------------------------------------------------------------------------------\n",
    "    # --- formulation\n",
    "    # ------------------------------------------------------------------------------\n",
    "\n",
    "    ah = BilinearForm(fes, symmetric=True)\n",
    "    ah += rho * curl(uT) * curl(vT) * dx(\"rotor|magnet.*\")\n",
    "    ah += 1j * omega * mu * (uT - grad(uPhi)) * (vT - grad(vPhi)) * dx(\"rotor|magnet.*\")\n",
    "    ah += 1j * omega * mu * (- grad(uPhi)) * (- grad(vPhi)) * dx(\"air\")\n",
    "\n",
    "    ah += 1e-3 * uPhi * vPhi * dx(\"rotor|magnet.*\")\n",
    "\n",
    "    prec = Preconditioner(ah, type=\"direct\")\n",
    "\n",
    "\n",
    "\n",
    "    f = LinearForm(fes)\n",
    "    f  += - 1j*omega * mu *  HBS * (vT - grad(vPhi)) * dx\n",
    "\n",
    "\n",
    "\n",
    "    ah.Assemble()\n",
    "    f.Assemble()\n",
    "\n",
    "\n",
    "    solvers.BVP(bf = ah, lf= f, pre=prec, gf=sol, maxsteps=10)\n",
    "    # sol.vec.data = ah.mat.Inverse(freedofs=fes.FreeDofs()) * f.vec\n",
    "\n",
    "\n",
    "    losses_magnet = .5 * Integrate(InnerProduct(E, J), mesh, definedon=mesh.Materials(\"magnet.*\")).real\n",
    "    losses_rotor = .5 * Integrate(InnerProduct(E, J), mesh, definedon=mesh.Materials(\"rotor\")).real\n",
    "\n",
    "    if periodic:\n",
    "        losses_magnet *= 2\n",
    "        losses_rotor *= 2\n",
    "\n",
    "    return T, Phi, B, E, H, J, losses_magnet, losses_rotor\n",
    "\n",
    "T, Phi, B_TPhi, E_TPhi, H_TPhi, J_TPhi, losses_magnet_TPhi, losses_rotor_TPhi = solveFullWithTPhi(mesh, order0, omega, HBS=HBS)"
   ]
  },
  {
   "cell_type": "code",
   "execution_count": 10,
   "id": "89262df1",
   "metadata": {},
   "outputs": [
    {
     "data": {
      "application/vnd.jupyter.widget-view+json": {
       "model_id": "3986ef2bb3cd45698c65724435cfee6f",
       "version_major": 2,
       "version_minor": 0
      },
      "text/plain": [
       "WebGuiWidget(layout=Layout(height='500px', width='100%'), value={'gui_settings': {'Objects': {'Wireframe': Fal…"
      ]
     },
     "metadata": {},
     "output_type": "display_data"
    }
   ],
   "source": [
    "#animate(J, mesh, ti= np.linspace(0, 4*np.pi, 150), pause=0.01 )\n",
    "sceneJ_TPhi  = Draw(J_TPhi, mesh, animate=True, max = 500, min = -500, animate_complex=True, settings=draw_settings)"
   ]
  },
  {
   "cell_type": "markdown",
   "id": "4f161cfe",
   "metadata": {},
   "source": [
    "## Quasi Periodic Boundaries\n",
    "\n",
    "boundaries in mesh have to be \\textit{identified} as well"
   ]
  },
  {
   "cell_type": "code",
   "execution_count": 11,
   "id": "14a16e9a",
   "metadata": {},
   "outputs": [
    {
     "name": "stdout",
     "output_type": "stream",
     "text": [
      "domains ('air', 'rotor', 'magnet_top')\n",
      "boundaries {'inner', 'outer', 'interface', 'mag_rot', 'periodic_air', 'periodic_rotor'}\n"
     ]
    },
    {
     "data": {
      "application/vnd.jupyter.widget-view+json": {
       "model_id": "209fefd1a46147f4bb43f0c43f260cbe",
       "version_major": 2,
       "version_minor": 0
      },
      "text/plain": [
       "WebGuiWidget(layout=Layout(height='500px', width='100%'), value={'gui_settings': {}, 'ngsolve_version': '6.2.2…"
      ]
     },
     "metadata": {},
     "output_type": "display_data"
    },
    {
     "data": {
      "text/plain": [
       "BaseWebGuiScene"
      ]
     },
     "execution_count": 11,
     "metadata": {},
     "output_type": "execute_result"
    }
   ],
   "source": [
    "cMesh_periodic = fullGeoMagnet(r1, r2, r3, r4, phi_deg=45, maxh=maxh, maxhEdges=maxhEdges, periodic=True)\n",
    "mesh_periodic = cMesh_periodic.mesh\n",
    "\n",
    "\n",
    "\n",
    "print(\"domains\", mesh_periodic.GetMaterials())\n",
    "print(\"boundaries\", set(mesh_periodic.GetBoundaries()))\n",
    "\n",
    "Draw(mesh_periodic)"
   ]
  },
  {
   "cell_type": "markdown",
   "id": "4832cb43",
   "metadata": {},
   "source": [
    "### $\\mathbf{A}$ Formulation"
   ]
  },
  {
   "cell_type": "code",
   "execution_count": 12,
   "id": "55bc38b2",
   "metadata": {},
   "outputs": [
    {
     "name": "stdout",
     "output_type": "stream",
     "text": [
      "\u001b[2KCG iteration 1, residual = 0.0004851190994347406     \n",
      "\u001b[2KCG iteration 2, residual = 6.26103975717427e-17     \n"
     ]
    }
   ],
   "source": [
    "\n",
    "A, B_A_per, E_A_per, H_A_per, J_A_per, \\\n",
    "    losses_magnet_A_per, losses_rotor_A_per \\\n",
    "    = solveFullWithA(mesh_periodic, order0, omega=omega, HBS=HBS, periodic=True)"
   ]
  },
  {
   "cell_type": "code",
   "execution_count": 13,
   "id": "33bf6c8e",
   "metadata": {},
   "outputs": [
    {
     "data": {
      "application/vnd.jupyter.widget-view+json": {
       "model_id": "ff842f40d2a043bbbf3d3bbddee586bb",
       "version_major": 2,
       "version_minor": 0
      },
      "text/plain": [
       "WebGuiWidget(layout=Layout(height='500px', width='100%'), value={'gui_settings': {'Objects': {'Wireframe': Fal…"
      ]
     },
     "metadata": {},
     "output_type": "display_data"
    }
   ],
   "source": [
    "sceneJ_APer = Draw(J_A_per, mesh_periodic, max = 500, min = -500, animate_complex=True, settings = draw_settings)"
   ]
  },
  {
   "cell_type": "markdown",
   "id": "4b93a3b3",
   "metadata": {},
   "source": [
    "## $\\mathbf{T}$,$\\Phi$ - $\\Phi$ Formulation"
   ]
  },
  {
   "cell_type": "code",
   "execution_count": 14,
   "id": "58eef8ef",
   "metadata": {},
   "outputs": [
    {
     "name": "stdout",
     "output_type": "stream",
     "text": [
      "\u001b[2KCG iteration 1, residual = 0.0052822857252045625     \n",
      "\u001b[2KCG iteration 2, residual = 2.0750043036019185e-10     \n",
      "\u001b[2KCG iteration 3, residual = 6.079445473254431e-14     \n"
     ]
    }
   ],
   "source": [
    "T_per, Phi_per, B_TPhi_per, E_TPhi_per, \\\n",
    "    H_TPhi_per, J_TPhi_per, \\\n",
    "    losses_magnet_TPhi_per, losses_rotor_TPhi_per \\\n",
    "    = solveFullWithTPhi(mesh_periodic, order0, omega, HBS=HBS, periodic=True)"
   ]
  },
  {
   "cell_type": "code",
   "execution_count": 15,
   "id": "d304d944",
   "metadata": {},
   "outputs": [
    {
     "data": {
      "application/vnd.jupyter.widget-view+json": {
       "model_id": "f5826282d2194217a67c7ffac9f68b78",
       "version_major": 2,
       "version_minor": 0
      },
      "text/plain": [
       "WebGuiWidget(layout=Layout(height='500px', width='100%'), value={'gui_settings': {'Objects': {'Wireframe': Fal…"
      ]
     },
     "metadata": {},
     "output_type": "display_data"
    }
   ],
   "source": [
    "sceneJ_TPhi  = Draw(J_TPhi_per, mesh_periodic, animate=True, max = 500, min = -500, animate_complex=True, settings=draw_settings)"
   ]
  },
  {
   "cell_type": "markdown",
   "id": "4fa05263",
   "metadata": {},
   "source": [
    "## Losses"
   ]
  },
  {
   "cell_type": "code",
   "execution_count": 16,
   "id": "d566bac6",
   "metadata": {},
   "outputs": [
    {
     "name": "stdout",
     "output_type": "stream",
     "text": [
      "Losses in the MAGNET\n",
      " \t\tA Formulation\t\t T Phi\n",
      "full \t\t34.704 \t\t\t 34.662\n",
      "periodic \t34.614 \t\t\t 34.638\n",
      "\n",
      "\n",
      "\n",
      "Losses in the Rotor\n",
      " \t\tA Formulation\t\t T Phi\n",
      "full \t\t14.590 \t\t\t 14.603\n",
      "periodic \t14.595 \t\t\t 14.603\n"
     ]
    }
   ],
   "source": [
    "print(f\"Losses in the MAGNET\")\n",
    "print(\" \\t\\tA Formulation\\t\\t T Phi\")\n",
    "\n",
    "print(f\"full \\t\\t{losses_magnet_A*1e6:0.3f} \\t\\t\\t {losses_magnet_TPhi*1e6:0.3f}\")\n",
    "print(f\"periodic \\t{losses_magnet_A_per*1e6:0.3f} \\t\\t\\t {losses_magnet_TPhi_per*1e6:0.3f}\")\n",
    "\n",
    "print(\"\\n\\n\")\n",
    "print(f\"Losses in the Rotor\")\n",
    "print(\" \\t\\tA Formulation\\t\\t T Phi\")\n",
    "\n",
    "print(f\"full \\t\\t{losses_rotor_A*1e6:0.3f} \\t\\t\\t {losses_rotor_TPhi*1e6:0.3f}\")\n",
    "print(f\"periodic \\t{losses_rotor_A_per*1e6:0.3f} \\t\\t\\t {losses_rotor_TPhi_per*1e6:0.3f}\")\n",
    "\n"
   ]
  }
 ],
 "metadata": {
  "kernelspec": {
   "display_name": "Python 3 (ipykernel)",
   "language": "python",
   "name": "python3"
  },
  "language_info": {
   "codemirror_mode": {
    "name": "ipython",
    "version": 3
   },
   "file_extension": ".py",
   "mimetype": "text/x-python",
   "name": "python",
   "nbconvert_exporter": "python",
   "pygments_lexer": "ipython3",
   "version": "3.10.12"
  }
 },
 "nbformat": 4,
 "nbformat_minor": 5
}
