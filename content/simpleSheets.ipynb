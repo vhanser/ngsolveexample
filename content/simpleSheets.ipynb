{
 "cells": [
  {
   "cell_type": "markdown",
   "metadata": {},
   "source": [
    "# Constrained Eddy Current Problem in 2D with the Magnetic Vector Potential\n",
    "\n",
    "\n",
    "\\begin{align*}\n",
    "\\int_\\Omega \\nu \\nabla u \\cdot \\nabla u'  + j\\omega\\sigma u u' \\;d\\Omega = 0\n",
    "\\end{align*}\n",
    "with $u = B_0 x$ or $u = B_0 y$ on the boundary $\\Gamma_D = \\Gamma_{left}\\cup\\Gamma_{right}$ or $\\Gamma_D = \\Gamma_{top}\\cup\\Gamma_{bottom}$\n",
    "\n",
    "and the constraint for each sheet:\n",
    "\\begin{align*}\n",
    "\\int_{\\Omega_{c, i} } J \\;d\\Omega = 0\n",
    "\\end{align*}\n",
    "\n",
    "\n",
    "results in an extension of the base with lagrange multipliers\n",
    "\n",
    "\\begin{align*}\n",
    "\\int_\\Omega \\nu \\nabla u \\cdot \\nabla u'  + j\\omega\\sigma (u+\\lambda_i)(u'+\\lambda_i') \\;d\\Omega = 0\n",
    "\\end{align*}"
   ]
  },
  {
   "cell_type": "code",
   "execution_count": 1,
   "metadata": {},
   "outputs": [],
   "source": [
    "from netgen.occ import *\n",
    "import numpy as np\n",
    "from ngsolve import *\n",
    "from ngsolve.webgui import Draw\n",
    "maxh = 1/10\n",
    "\n",
    "\n",
    "\n",
    "freq = 50\n",
    "mu0 = 4e-7*np.pi\n",
    "mu_Fe = mu0 *1000\n",
    "mu_Air = mu0\n",
    "\n",
    "sigma_Fe =2e6\n",
    "sigma_Air = 1e-3\n",
    "\n",
    "\n",
    "omega = freq*2*np.pi\n",
    "\n",
    "delta = np.sqrt(2/(sigma_Fe*omega*mu_Fe))\n"
   ]
  },
  {
   "cell_type": "code",
   "execution_count": 2,
   "metadata": {},
   "outputs": [],
   "source": [
    "Nsheets = 6\n",
    "ff = 0.5\n",
    "d = delta/2\n",
    "\n",
    "\n",
    "\n",
    "order0 = 2\n",
    "\n",
    "B0 = 1\n",
    "\n",
    "use_symmetry = True\n",
    "use_insulation=False"
   ]
  },
  {
   "cell_type": "code",
   "execution_count": 3,
   "metadata": {},
   "outputs": [
    {
     "data": {
      "application/vnd.jupyter.widget-view+json": {
       "model_id": "23f2bde078a54e48853a5982e030ad2b",
       "version_major": 2,
       "version_minor": 0
      },
      "text/plain": [
       "WebGuiWidget(layout=Layout(height='500px', width='100%'), value={'gui_settings': {}, 'ngsolve_version': '6.2.2…"
      ]
     },
     "metadata": {},
     "output_type": "display_data"
    },
    {
     "name": "stdout",
     "output_type": "stream",
     "text": [
      "domains {'iron5', 'air', 'iron3', 'iron4'}\n",
      "bnds {'symmetry_bottom', 'interface', 'right', 'symmetry_left', 'top'}\n",
      "penetration depth 0.0015915494309189533\n"
     ]
    }
   ],
   "source": [
    "dFe = d*ff\n",
    "d0 = d*(1-ff)\n",
    "\n",
    "H_core = Nsheets*dFe + (Nsheets-1)*d0\n",
    "W_core = H_core\n",
    "\n",
    "W = 10*W_core\n",
    "H = 10*H_core\n",
    "\n",
    "wp = WorkPlane()\n",
    "outer = wp.RectangleC(W, H).Face()\n",
    "outer.name = \"air\"\n",
    "outer.edges.Max(X).name = \"right\"\n",
    "outer.edges.Min(X).name = \"left\"\n",
    "outer.edges.Max(Y).name = \"top\"\n",
    "outer.edges.Min(Y).name = \"bottom\"\n",
    "\n",
    "\n",
    "\n",
    "\n",
    "if use_insulation:\n",
    "    insulation = wp.RectangleC(W_core, H_core).Face()\n",
    "    insulation.name = \"insulation\"\n",
    "    insulation.edges.Max(X).name = \"insulation_right\"\n",
    "    insulation.edges.Min(X).name = \"insulation_left\"\n",
    "    insulation.edges.Max(Y).name = \"insulation_top\"\n",
    "    insulation.edges.Min(Y).name = \"insulation_bottom\"\n",
    "\n",
    "\n",
    "\n",
    "\n",
    "x_pos = - W_core/2\n",
    "rec_sheets =[]\n",
    "for i in range(Nsheets):\n",
    "    wp.MoveTo(x_pos, -H_core/2)\n",
    "\n",
    "    rec_sheets.append(wp.Rectangle(dFe, H_core).Face())\n",
    "    rec_sheets[-1].name = f\"iron{i}\"\n",
    "    rec_sheets[-1].edges.name = \"interface\"\n",
    "    rec_sheets[-1].edges.maxh = delta/10\n",
    "\n",
    "\n",
    "    x_pos += d\n",
    "\n",
    "\n",
    "\n",
    "if use_symmetry:\n",
    "    wp.MoveTo(0, 0)\n",
    "    cutting = wp.Rectangle(W, H).Face()\n",
    "    cutting.edges.Min(X).name = \"symmetry_left\"\n",
    "    cutting.edges.Min(Y).name = \"symmetry_bottom\"\n",
    "    all_sheets = Glue(rec_sheets)\n",
    "    if use_insulation:\n",
    "        geo = Glue([cutting * (outer - insulation), cutting * (insulation - all_sheets), cutting * all_sheets])\n",
    "    else:\n",
    "        geo = Glue([cutting * (outer - all_sheets), cutting * all_sheets])\n",
    "    \n",
    "else:\n",
    "    geo = Glue([outer - Glue(rec_sheets), Glue(rec_sheets)])\n",
    "\n",
    "\n",
    "meshRef = Mesh(OCCGeometry(geo, dim=2).GenerateMesh(maxh=delta))\n",
    "\n",
    "settings = {\"Objects\":{\"Wireframe\":False}}\n",
    "Draw(meshRef.MaterialCF({\"iron.*\":1, \"air\":2}, default=0), meshRef)\n",
    "#Draw(x, meshRef)\n",
    "\n",
    "\n",
    "print(\"domains\", set(meshRef.GetMaterials()))\n",
    "print(\"bnds\", set(meshRef.GetBoundaries()))\n",
    "\n",
    "print(\"penetration depth\", delta)"
   ]
  },
  {
   "cell_type": "code",
   "execution_count": 4,
   "metadata": {},
   "outputs": [
    {
     "data": {
      "application/vnd.jupyter.widget-view+json": {
       "model_id": "ab4129b5365449b6aa415a6ea72a5dcf",
       "version_major": 2,
       "version_minor": 0
      },
      "text/plain": [
       "WebGuiWidget(layout=Layout(height='500px', width='100%'), value={'gui_settings': {}, 'ngsolve_version': '6.2.2…"
      ]
     },
     "metadata": {},
     "output_type": "display_data"
    },
    {
     "name": "stdout",
     "output_type": "stream",
     "text": [
      "----- symmetry_bottom 29.0\n"
     ]
    },
    {
     "data": {
      "application/vnd.jupyter.widget-view+json": {
       "model_id": "2eb52b353ddc423997c71aaf10a07cd2",
       "version_major": 2,
       "version_minor": 0
      },
      "text/plain": [
       "WebGuiWidget(layout=Layout(height='500px', width='100%'), value={'gui_settings': {}, 'ngsolve_version': '6.2.2…"
      ]
     },
     "metadata": {},
     "output_type": "display_data"
    },
    {
     "name": "stdout",
     "output_type": "stream",
     "text": [
      "----- interface 96.0\n"
     ]
    },
    {
     "data": {
      "application/vnd.jupyter.widget-view+json": {
       "model_id": "9e91c9043b8c431bbe4112b2744d04aa",
       "version_major": 2,
       "version_minor": 0
      },
      "text/plain": [
       "WebGuiWidget(layout=Layout(height='500px', width='100%'), value={'gui_settings': {}, 'ngsolve_version': '6.2.2…"
      ]
     },
     "metadata": {},
     "output_type": "display_data"
    },
    {
     "name": "stdout",
     "output_type": "stream",
     "text": [
      "----- right 15.0\n"
     ]
    },
    {
     "data": {
      "application/vnd.jupyter.widget-view+json": {
       "model_id": "23d135e9418446a6a9c46d819689ee44",
       "version_major": 2,
       "version_minor": 0
      },
      "text/plain": [
       "WebGuiWidget(layout=Layout(height='500px', width='100%'), value={'gui_settings': {}, 'ngsolve_version': '6.2.2…"
      ]
     },
     "metadata": {},
     "output_type": "display_data"
    },
    {
     "name": "stdout",
     "output_type": "stream",
     "text": [
      "----- symmetry_left 27.0\n"
     ]
    },
    {
     "data": {
      "application/vnd.jupyter.widget-view+json": {
       "model_id": "c095c568bedd4afa94734476dd71dd8b",
       "version_major": 2,
       "version_minor": 0
      },
      "text/plain": [
       "WebGuiWidget(layout=Layout(height='500px', width='100%'), value={'gui_settings': {}, 'ngsolve_version': '6.2.2…"
      ]
     },
     "metadata": {},
     "output_type": "display_data"
    },
    {
     "name": "stdout",
     "output_type": "stream",
     "text": [
      "----- top 15.0\n"
     ]
    }
   ],
   "source": [
    "mu = meshRef.MaterialCF({\"iron.*\":mu_Fe, \"air\":mu_Air, \"insulation\":mu_Air}, default=0)\n",
    "sigma = meshRef.MaterialCF({\"iron.*\":sigma_Fe}, default=0)\n",
    "\n",
    "\n",
    "nu = 1/mu\n",
    "rho = 1/sigma\n",
    "\n",
    "from myPackage import drawBndAll\n",
    "\n",
    "drawBndAll(meshRef, drawFunc=Draw, block=False)"
   ]
  },
  {
   "cell_type": "code",
   "execution_count": 5,
   "metadata": {},
   "outputs": [],
   "source": [
    "excitation_orientation = \"y\"\n",
    "\n",
    "# ------------------------------------------------------------------------------\n",
    "# --- Excitation\n",
    "# ------------------------------------------------------------------------------\n",
    "def solveWithA(mesh, order0, omega):\n",
    "\n",
    "    # ++++++++++++++++++++++++++++++++++++++++++++++++++++++++++++++++++++++++++++++\n",
    "    # +++ reference solution\n",
    "    # ++++++++++++++++++++++++++++++++++++++++++++++++++++++++++++++++++++++++++++++\n",
    "    print(\"order0\", order0)\n",
    "    print(\"numSheets\", Nsheets)\n",
    "\n",
    "    dir_A_sym = \"\"\n",
    "    if excitation_orientation == \"x\":\n",
    "        dir_A = \"top|bottom\"\n",
    "        if use_symmetry:\n",
    "            dir_A_sym = \"|symmetry_bottom\"\n",
    "    else:\n",
    "        dir_A = \"left|right\"\n",
    "        if use_symmetry:\n",
    "            dir_A_sym = \"|symmetry_left\"\n",
    "    VA = H1(mesh,order=order0, complex=True, dirichlet=dir_A + dir_A_sym)\n",
    "    VNum = []\n",
    "\n",
    "    for i in range(0 if not use_symmetry else int(Nsheets/2), Nsheets):\n",
    "        VNum.append(NumberSpace(mesh, complex=True, definedon=mesh.Materials(f\"iron{i}\")))\n",
    "\n",
    "\n",
    "    V = FESpace([VA] + VNum)\n",
    "    ndof = V.ndof\t\n",
    "    print(f\"VA  :{VA.ndof}\")    \n",
    "    print(f\"ndof  :{ndof}\")    \n",
    "\n",
    "    # Gridfunctions\n",
    "    sol_ref = GridFunction(V, \"sol\") \n",
    "    A_ref = sol_ref.components[0] \n",
    "\n",
    "    trials = V.TrialFunction()\n",
    "    tests  = V.TestFunction()\n",
    "\n",
    "    uA = trials[0]\n",
    "    vA = tests[0]\n",
    "\n",
    "\n",
    "    # ------------------------------------------------------------------------------\n",
    "    # Matrix\n",
    "    # ------------------------------------------------------------------------------\n",
    "    with TaskManager():\n",
    "        # Bilinear form with \n",
    "        ah_ref = BilinearForm(V, symmetric=True)\n",
    "\n",
    "        # A:\n",
    "        ah_ref += nu*grad(uA) * grad(vA) * dx\n",
    "\n",
    "        # lagrange multipliers\n",
    "        for i in range(0 , Nsheets if not use_symmetry else int(Nsheets/2)):\n",
    "            domain_name = f\"iron{i + (0 if not use_symmetry else int(Nsheets/2))}\"\n",
    "            ah_ref += 1j*omega * sigma_Fe * (uA + trials[1+i]) * (vA + tests[1+i]) * dx(domain_name)\n",
    "\n",
    "        prec = Preconditioner(ah_ref, type=\"direct\")\n",
    "        ah_ref.Assemble()\n",
    "\n",
    "    print(ah_ref.mat.AsVector().Norm())\n",
    "\n",
    "    f_ref = LinearForm(V) \n",
    "\n",
    "\n",
    "    f_ref.Assemble()\n",
    "\n",
    "    # ------------------------------------------------------------------------------\n",
    "    # ------ Solve It\n",
    "    # ------------------------------------------------------------------------------\n",
    "    with TaskManager():\n",
    "        \n",
    "        if excitation_orientation == \"x\":\n",
    "            A_ref.Set(B0*y, BND, definedon=mesh.Boundaries(dir_A))\n",
    "        else:\n",
    "            A_ref.Set(B0*x, BND, definedon=mesh.Boundaries(dir_A))\n",
    "        # solve it\n",
    "        solvers.BVP(bf=ah_ref, lf=f_ref, gf=sol_ref, pre=prec, maxsteps=5)\n",
    "                \n",
    "        gradA = grad(A_ref)\n",
    "        B = CF((gradA[1], -gradA[0])) \n",
    "        H = 1/mu * B\n",
    "        E = -1j*omega*(sum(sol_ref.components))\n",
    "        J = sigma * E\n",
    "\n",
    "        Q = Integrate(1/2 * InnerProduct(H,  B), mesh).real\n",
    "        P =  Integrate(1/2 * InnerProduct(E,  J), mesh).real\n",
    "\n",
    "        if use_symmetry:\n",
    "            Q, P = Q*4, P*4\n",
    "    \n",
    "    return A_ref, B, E, H, J, P, Q, sol_ref\n"
   ]
  },
  {
   "cell_type": "code",
   "execution_count": 6,
   "metadata": {},
   "outputs": [
    {
     "name": "stdout",
     "output_type": "stream",
     "text": [
      "order0 2\n",
      "numSheets 6\n",
      "VA  :2039\n",
      "ndof  :2042\n",
      "59228946.2195035\n",
      "\u001b[2KCG iteration 1, residual = 76.81714315739801     \n",
      "\u001b[2KCG iteration 2, residual = 2.499647126602958e-13     \n",
      "eddy current losses\t     0.251\n",
      "reactive energy\t\t   746.039\n"
     ]
    }
   ],
   "source": [
    "A, B_A, E_A, H_A, J_A, P_A, Q_A, sol_A = solveWithA(meshRef, order0, omega)\n",
    "\n",
    "print(f\"eddy current losses\\t{P_A:10.3f}\")\n",
    "print(f\"reactive energy\\t\\t{Q_A:10.3f}\")"
   ]
  },
  {
   "cell_type": "code",
   "execution_count": 7,
   "metadata": {},
   "outputs": [
    {
     "data": {
      "application/vnd.jupyter.widget-view+json": {
       "model_id": "b6b6863d90ca4e76a7ffc7d89f49a3a0",
       "version_major": 2,
       "version_minor": 0
      },
      "text/plain": [
       "WebGuiWidget(layout=Layout(height='500px', width='100%'), value={'gui_settings': {'Objects': {'Wireframe': Fal…"
      ]
     },
     "metadata": {},
     "output_type": "display_data"
    },
    {
     "data": {
      "application/vnd.jupyter.widget-view+json": {
       "model_id": "e5d59e070080492088f14d0e0e8ac2ee",
       "version_major": 2,
       "version_minor": 0
      },
      "text/plain": [
       "WebGuiWidget(layout=Layout(height='500px', width='100%'), value={'gui_settings': {'Objects': {'Wireframe': Fal…"
      ]
     },
     "metadata": {},
     "output_type": "display_data"
    },
    {
     "data": {
      "text/plain": [
       "BaseWebGuiScene"
      ]
     },
     "execution_count": 7,
     "metadata": {},
     "output_type": "execute_result"
    }
   ],
   "source": [
    "settings.update({\"camera\":{\"transformations\":[{\"type\":\"move\", \"dir\":(0.3, 0.3, 1.000), \"dist\":1}]}})\n",
    "\n",
    "scene = Draw(J_A.imag, meshRef, settings=settings)\n",
    "\n",
    "Draw(B_A.real, meshRef, vectors=True, settings=settings, min = 0, max=4, autoscale=False )"
   ]
  },
  {
   "cell_type": "markdown",
   "metadata": {},
   "source": [
    "# T Formulation\n",
    "\n",
    "\n"
   ]
  },
  {
   "cell_type": "code",
   "execution_count": 8,
   "metadata": {},
   "outputs": [
    {
     "name": "stdout",
     "output_type": "stream",
     "text": [
      "\u001b[2KCG iteration 1, residual = 1308.3639121271974     \n",
      "\u001b[2KCG iteration 2, residual = 8.48257468237515e-08     \n"
     ]
    }
   ],
   "source": [
    "def solveWithTPhi(mesh, order0, omega, nograds=False):\n",
    "\n",
    "    # ------------------------------------------------------------------------------\n",
    "    # --- materials\n",
    "    # ------------------------------------------------------------------------------\n",
    "    mu = mesh.MaterialCF({\"air\": mu_Air, \"iron.*\": mu_Fe}, default=0.001)\n",
    "    nu = 1/mu\n",
    "    sigma = mesh.MaterialCF({\"air\": sigma_Air, \"iron.*\": sigma_Fe}, default=0.001)\n",
    "    rho = 1/sigma\n",
    "    \n",
    "    # ------------------------------------------------------------------------------\n",
    "    # --- fem\n",
    "    # ------------------------------------------------------------------------------\n",
    "\n",
    "    dir_T  = \"interface\"\n",
    "\n",
    "    dir_Phi_sym = \"\"\n",
    "    \n",
    "    if excitation_orientation == \"x\":\n",
    "        dir_Phi  = \"left|right\"\n",
    "        if use_symmetry:\n",
    "            dir_Phi_sym = \"|symmetry_left\"\n",
    "            dir_T += \"|symmetry.*\"\n",
    "    else:\n",
    "        dir_Phi  = \"top|bottom\"\n",
    "        if use_symmetry:\n",
    "            dir_Phi_sym = \"|symmetry_bottom\"\n",
    "            dir_T += \"|symmetry.*\"\n",
    "\n",
    "    \n",
    "\n",
    "    fesT = HCurl(mesh, order=order0, dirichlet=dir_T, complex=True, definedon=mesh.Materials(\"iron.*\"), nograds=nograds)\n",
    "    fesPhi = H1(mesh, order=order0+1, dirichlet=dir_Phi+dir_Phi_sym, complex=True)\n",
    "\n",
    "\n",
    "    fes = FESpace([fesPhi, fesT])\n",
    "\n",
    "    trials = fes.TrialFunction()\n",
    "    tests = fes.TestFunction()\n",
    "\n",
    "\n",
    "    uPhi, vPhi = trials[0], tests[0]\n",
    "    uT, vT = trials[1], tests[1]\n",
    "\n",
    "    sol = GridFunction(fes, \"sol\")\n",
    "    Phi = sol.components[0]\n",
    "    T = sol.components[1]\n",
    "\n",
    "\n",
    "\n",
    "    # ------------------------------------------------------------------------------\n",
    "    # --- fields\n",
    "    # ------------------------------------------------------------------------------\n",
    "    H = T - grad(Phi)\n",
    "    B = mu * H \n",
    "    J = curl(T)\n",
    "    E = rho * J \n",
    "\n",
    "\n",
    "    # ------------------------------------------------------------------------------\n",
    "    # --- formulation\n",
    "    # ------------------------------------------------------------------------------\n",
    "\n",
    "    ah = BilinearForm(fes, symmetric=True)\n",
    "    ah += rho * curl(uT) * curl(vT) * dx(\"iron.*\")\n",
    "    ah += 1j * omega * mu * (uT - grad(uPhi)) * (vT - grad(vPhi)) * dx\n",
    "\n",
    "\n",
    "    ah += 1e-1 * uPhi * vPhi * dx(\"iron.*\")\n",
    "\n",
    "    prec = Preconditioner(ah, type=\"direct\")\n",
    "\n",
    "\n",
    "\n",
    "    f = LinearForm(fes)\n",
    "\n",
    "    ah.Assemble()\n",
    "    f.Assemble()\n",
    "\n",
    "    if excitation_orientation == \"x\":\n",
    "        Phi.Set( x * B0 * 1/mu0, BND, definedon=mesh.Boundaries(dir_Phi))\n",
    "    else:\n",
    "        \n",
    "        Phi.Set( y * B0 * 1/mu0, BND, definedon=mesh.Boundaries(dir_Phi))\n",
    "\n",
    "    solvers.BVP(bf = ah, lf= f, pre=prec, gf=sol, maxsteps=10)\n",
    "    # sol.vec.data = ah.mat.Inverse(freedofs=fes.FreeDofs()) * f.vec\n",
    "\n",
    "\n",
    "    Q = Integrate(1/2 * InnerProduct(H,  B), mesh).real\n",
    "    P =  Integrate(1/2 * InnerProduct(E,  J), mesh).real\n",
    "\n",
    "    if use_symmetry:\n",
    "        Q, P = 4*Q, 4*P\n",
    "\n",
    "\n",
    "    return T, Phi, B, E, H, J, P, Q, sol\n",
    "\n",
    "\n",
    "T, Phi, B_T, E_T, H_T, J_T, P_T, Q_T, sol_T = solveWithTPhi(meshRef, order0, omega)\n",
    "\n",
    "\n"
   ]
  },
  {
   "cell_type": "code",
   "execution_count": 9,
   "metadata": {},
   "outputs": [
    {
     "data": {
      "application/vnd.jupyter.widget-view+json": {
       "model_id": "1819f5f6bea24edc9d58209266dd2173",
       "version_major": 2,
       "version_minor": 0
      },
      "text/plain": [
       "WebGuiWidget(layout=Layout(height='500px', width='100%'), value={'gui_settings': {'Objects': {'Wireframe': Fal…"
      ]
     },
     "metadata": {},
     "output_type": "display_data"
    },
    {
     "data": {
      "application/vnd.jupyter.widget-view+json": {
       "model_id": "91aec39fbc374b909a6869da833df881",
       "version_major": 2,
       "version_minor": 0
      },
      "text/plain": [
       "WebGuiWidget(layout=Layout(height='500px', width='100%'), value={'gui_settings': {'Objects': {'Wireframe': Fal…"
      ]
     },
     "metadata": {},
     "output_type": "display_data"
    },
    {
     "data": {
      "text/plain": [
       "BaseWebGuiScene"
      ]
     },
     "execution_count": 9,
     "metadata": {},
     "output_type": "execute_result"
    }
   ],
   "source": [
    "\n",
    "\n",
    "\n",
    "Draw(J_T.imag, meshRef, settings=settings)\n",
    "Draw(B_T.real, meshRef, vectors=True, settings=settings, min = 0, max=4, autoscale=False )"
   ]
  },
  {
   "cell_type": "code",
   "execution_count": 10,
   "metadata": {},
   "outputs": [
    {
     "name": "stdout",
     "output_type": "stream",
     "text": [
      "A-formulation eddy current losses\t     0.251\n",
      "reactive energy\t\t   746.039\n",
      "ndof\t\t2042\n",
      "ndof A\t\t2039\n",
      "\n",
      "TPhi-formulation  eddy current losses\t     0.263\n",
      "reactive energy\t\t   778.748\n",
      "ndof\t\t7194\n",
      "T ndof\t\t2669\n",
      "Phi ndof\t\t4525\n"
     ]
    }
   ],
   "source": [
    "print(f\"A-formulation eddy current losses\\t{P_A:10.3f}\")\n",
    "print(f\"reactive energy\\t\\t{Q_A:10.3f}\")\n",
    "print(f\"ndof\\t\\t{sol_A.space.ndof}\")\n",
    "print(f\"ndof A\\t\\t{A.space.ndof}\")\n",
    "print(\"\")\n",
    "print(f\"TPhi-formulation  eddy current losses\\t{P_T:10.3f}\")\n",
    "print(f\"reactive energy\\t\\t{Q_T:10.3f}\")\n",
    "print(f\"ndof\\t\\t{sol_T.space.ndof}\")\n",
    "print(f\"T ndof\\t\\t{T.space.ndof}\")\n",
    "print(f\"Phi ndof\\t\\t{Phi.space.ndof}\")\n"
   ]
  },
  {
   "cell_type": "code",
   "execution_count": null,
   "metadata": {},
   "outputs": [],
   "source": []
  },
  {
   "cell_type": "code",
   "execution_count": null,
   "metadata": {},
   "outputs": [],
   "source": []
  }
 ],
 "metadata": {
  "kernelspec": {
   "display_name": "Python 3 (ipykernel)",
   "language": "python",
   "name": "python3"
  },
  "language_info": {
   "codemirror_mode": {
    "name": "ipython",
    "version": 3
   },
   "file_extension": ".py",
   "mimetype": "text/x-python",
   "name": "python",
   "nbconvert_exporter": "python",
   "pygments_lexer": "ipython3",
   "version": "3.10.12"
  }
 },
 "nbformat": 4,
 "nbformat_minor": 2
}
