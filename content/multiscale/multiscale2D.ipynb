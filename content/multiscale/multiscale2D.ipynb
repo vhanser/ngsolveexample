{
 "cells": [
  {
   "cell_type": "code",
   "execution_count": 1,
   "metadata": {},
   "outputs": [
    {
     "data": {
      "text/plain": [
       "<matplotlib.pyplot._IoffContext at 0x7f43ea688df0>"
      ]
     },
     "execution_count": 1,
     "metadata": {},
     "output_type": "execute_result"
    }
   ],
   "source": [
    "from netgen.occ import *\n",
    "from ngsolve import *\n",
    "from netgen.meshing import IdentificationType\n",
    "from MS_helper_functions import *\n",
    "from netgen.webgui import Draw as DrawGeo\n",
    "from ngsolve.webgui import Draw\n",
    "\n",
    "import matplotlib.pyplot as plt\n",
    "%matplotlib widget\n",
    "plt.ioff()"
   ]
  },
  {
   "cell_type": "code",
   "execution_count": 2,
   "metadata": {},
   "outputs": [],
   "source": [
    "lambda1 = 1\n",
    "lambda2 = 1000\n",
    "\n",
    "order0 = 2"
   ]
  },
  {
   "cell_type": "code",
   "execution_count": 3,
   "metadata": {},
   "outputs": [],
   "source": [
    "D = 0.04\n",
    "d = 0.02\n",
    "\n",
    "ff = 0.5\n",
    "maxh = 0.01\n",
    "\n",
    "numSheets = 10\n",
    "\n"
   ]
  },
  {
   "cell_type": "markdown",
   "metadata": {},
   "source": [
    "## Reference Solution"
   ]
  },
  {
   "cell_type": "code",
   "execution_count": 4,
   "metadata": {},
   "outputs": [
    {
     "data": {
      "application/vnd.jupyter.widget-view+json": {
       "model_id": "51f1d964faf6456fa613344359c56b05",
       "version_major": 2,
       "version_minor": 0
      },
      "text/plain": [
       "WebGuiWidget(layout=Layout(height='500px', width='100%'), value={'gui_settings': {}, 'mesh_dim': 2, 'mesh_cent…"
      ]
     },
     "metadata": {},
     "output_type": "display_data"
    },
    {
     "name": "stdout",
     "output_type": "stream",
     "text": [
      "{'insulation', 'inner', 'outer'}\n"
     ]
    }
   ],
   "source": [
    "from meshGen import mesh2DLaminates\n",
    "meshRef = mesh2DLaminates(D, d, ff, numSheets, multiscale=False, modelHalfAir=True).mesh\n",
    "Draw(meshRef.ngmesh)\n",
    "print(set(meshRef.GetMaterials()))"
   ]
  },
  {
   "cell_type": "code",
   "execution_count": 5,
   "metadata": {},
   "outputs": [
    {
     "name": "stdout",
     "output_type": "stream",
     "text": [
      "\u001b[2KCG iteration 1, residual = 3.4477063342833407     \n",
      "\u001b[2KCG iteration 2, residual = 6.895966001654481e-13     \n"
     ]
    }
   ],
   "source": [
    "lam = meshRef.MaterialCF({\"inner\":lambda2, \"multiscale\":lambda2}, default=lambda1)\n",
    "def calcRef():\n",
    "    fes = H1(meshRef, order=order0, dirichlet=\"left|right\")\n",
    "\n",
    "    u,v = fes.TnT()\n",
    "    sol = GridFunction(fes)\n",
    "\n",
    "    a = BilinearForm(fes, symmetric=True)\n",
    "    f = LinearForm(fes)\n",
    "\n",
    "    a += lam * grad(u) * grad(v) * dx\n",
    "\n",
    "    prec = Preconditioner(a, \"direct\")\n",
    "\n",
    "\n",
    "    sol.Set(1 * x/Norm(x), BND)\n",
    "    solvers.BVP(bf = a, lf= f, pre=prec, gf=sol, maxsteps=10)\n",
    "    \n",
    "    \n",
    "    energy =  Integrate( InnerProduct(lam * grad(sol), grad(sol)), meshRef, definedon=meshRef.Materials(\"inner|insulation\"))\n",
    "    \n",
    "    return sol, energy\n",
    "\n",
    "sol_ref, energy_ref = calcRef()\n"
   ]
  },
  {
   "cell_type": "code",
   "execution_count": 6,
   "metadata": {},
   "outputs": [
    {
     "name": "stdout",
     "output_type": "stream",
     "text": [
      "energy:\t0.996255426755937\n"
     ]
    },
    {
     "data": {
      "application/vnd.jupyter.widget-view+json": {
       "model_id": "58ab12f8f2eb48a589bf4c6824dfbba5",
       "version_major": 2,
       "version_minor": 0
      },
      "text/plain": [
       "WebGuiWidget(layout=Layout(height='500px', width='100%'), value={'gui_settings': {'Objects': {'Wireframe': Tru…"
      ]
     },
     "metadata": {},
     "output_type": "display_data"
    },
    {
     "data": {
      "application/vnd.jupyter.widget-view+json": {
       "model_id": "c45c3791ac9f4026b1e68f4ec38e6b8a",
       "version_major": 2,
       "version_minor": 0
      },
      "text/plain": [
       "WebGuiWidget(layout=Layout(height='500px', width='100%'), value={'gui_settings': {}, 'ngsolve_version': '6.2.2…"
      ]
     },
     "metadata": {},
     "output_type": "display_data"
    },
    {
     "data": {
      "text/plain": [
       "BaseWebGuiScene"
      ]
     },
     "execution_count": 6,
     "metadata": {},
     "output_type": "execute_result"
    }
   ],
   "source": [
    "\n",
    "\n",
    "print(f\"energy:\\t{energy_ref}\")\n",
    "Draw(sol_ref, settings={\"Objects\":{\"Wireframe\":True}, \"deformation\": 0.01})\n",
    "Draw(lam * grad(sol_ref)[0], meshRef, max = 150, min = 0)"
   ]
  },
  {
   "cell_type": "markdown",
   "metadata": {},
   "source": [
    "## Multiscale"
   ]
  },
  {
   "cell_type": "code",
   "execution_count": 7,
   "metadata": {},
   "outputs": [
    {
     "data": {
      "application/vnd.jupyter.widget-view+json": {
       "model_id": "451e485f5a1b40d881e736e570cd703a",
       "version_major": 2,
       "version_minor": 0
      },
      "text/plain": [
       "WebGuiWidget(layout=Layout(height='500px', width='100%'), value={'gui_settings': {}, 'mesh_dim': 2, 'mesh_cent…"
      ]
     },
     "metadata": {},
     "output_type": "display_data"
    },
    {
     "name": "stdout",
     "output_type": "stream",
     "text": [
      "('outer', 'multiscale')\n"
     ]
    }
   ],
   "source": [
    "modelHalfAir=True\n",
    "\n",
    "cMeshMS = mesh2DLaminates(D, d, ff, numSheets, multiscale=True, modelHalfAir=modelHalfAir)\n",
    "meshMS = cMeshMS.mesh\n",
    "Draw(meshMS.ngmesh)\n",
    "\n",
    "print(meshMS.GetMaterials())"
   ]
  },
  {
   "cell_type": "code",
   "execution_count": 8,
   "metadata": {},
   "outputs": [
    {
     "name": "stdout",
     "output_type": "stream",
     "text": [
      "\u001b[2KCG iteration 1, residual = 3.36534091879957     \n",
      "\u001b[2KCG iteration 2, residual = 3.0073729480941287e-13     \n",
      "55143.997623777555\n",
      "1.8676420614573558e-06\n",
      "1.1123335627581046\n"
     ]
    }
   ],
   "source": [
    "\n",
    "cl_Phi.numSheets = numSheets\n",
    "cl_Phi.dFe = cMeshMS.dFe\n",
    "cl_Phi.d0 = cMeshMS.d0\n",
    "cl_Phi.mesh = meshMS\n",
    "\n",
    "cl_Phi.modelHalfAir = modelHalfAir\n",
    "cl_Phi.orientation = 0\n",
    "\n",
    "# from cempy.phiFunctions import Lobatto, dxLobatto\n",
    "# cl_Phi.phiFunction = Lobatto\n",
    "# cl_Phi.dzPhiFunction = dxLobatto\n",
    "\n",
    "\n",
    "def calcMultiscale(useGradients=True, darwPhis=True):\n",
    "\n",
    "\n",
    "    # microshape functions\n",
    "    orderPhi = [\n",
    "            cl_Phi(1, fes_order=0, material=\"multiscale\", useGradients=useGradients), \n",
    "        ]\n",
    "\n",
    "    if darwPhis:\n",
    "        cl_Phi.plotEvaluated(orderPhi)\n",
    "\n",
    "    VSpace = []\n",
    "    # u0 \n",
    "    VSpace.append(H1(meshMS, order=order0, dirichlet=\"right|left\")) \n",
    "        \n",
    "    # ui * phi i\n",
    "    for phi_i in orderPhi: \n",
    "        VSpace.append(H1(meshMS, order=phi_i.fes_oder, definedon=meshMS.Materials(phi_i.material)))\n",
    "    VSpace = FESpace(VSpace)\n",
    "\n",
    "\n",
    "    # multiscale container\n",
    "    ansatz = \"\"\n",
    "    sol = GridFunction(VSpace, \"sol\")\n",
    "       \n",
    "\n",
    "    cl_gradgradMS = gradgradMS(orderPhi, sol, addPhi0Outer=True)\n",
    "\n",
    "    a = BilinearForm(VSpace, symmetric=True)\n",
    "    f = LinearForm(VSpace)\n",
    "\n",
    "    a += lambda1  * grad(cl_gradgradMS.trials[0]) * grad(cl_gradgradMS.tests[0]) * dx(\"outer\")\n",
    "    a += getIntegrand4BFI(cl_gradgradMS.gradu, cl_gradgradMS.gradv, lambda2, lambda1) * dx(\"multiscale\")\n",
    "\n",
    "\n",
    "    prec = Preconditioner(a,type=\"direct\")  \n",
    "\n",
    "\n",
    "\n",
    "\n",
    "    # dirichlet boundary values\n",
    "    sol.components[0].Set(1 * x/Norm(x), BND)\n",
    "    \n",
    "    solvers.BVP(bf = a, lf= f, pre=prec, gf=sol, maxsteps=10)\n",
    "    print(a.mat.AsVector().Norm())\n",
    "\n",
    "    energy =  Integrate(getIntegrand4BFI(cl_gradgradMS.gradsol_pack, cl_gradgradMS.gradsol_pack, lambda2, lambda1), meshMS, definedon=meshMS.Materials(\"multiscale\"))\n",
    "    \n",
    "    return sol, cl_gradgradMS.gradsol_pack, cl_gradgradMS.sol_comp, cl_gradgradMS.gradsol_comp, energy, cl_gradgradMS\n",
    "\n",
    "\n",
    "    \n",
    "\n",
    "sol_MS, sol_pack_MS, sol_comp_MS, H_comp,    energy_MS, cl_gradgradMS = calcMultiscale(useGradients=False, darwPhis=False)\n",
    "\n",
    "print(Integrate(Norm(sum(sol_comp_MS) - sol_ref), meshRef))\n",
    "print(energy_MS)\n"
   ]
  },
  {
   "cell_type": "code",
   "execution_count": 9,
   "metadata": {},
   "outputs": [],
   "source": [
    "if False:\n",
    "    from cempy.phiFunctions import Lobatto, dxLobatto\n",
    "    cl_Phi.phiFunction = Lobatto\n",
    "    cl_Phi.dzPhiFunction = dxLobatto\n",
    "\n",
    "\n",
    "    a = cl_Phi(2, 1, phiFunction=Lobatto, dxPhiFunction=dxLobatto, inAir=False)\n",
    "    b = cl_Phi(2, 1, phiFunction=pyLobatto, dxPhiFunction=pydxLobatto, inAir=False)\n",
    "\n",
    "    print(a.phi.xStart, b.phi.xStart)\n",
    "\n",
    "\n",
    "    print(getPhiPhiValue(a.phi, a.phi, 1, 1, force_num_int=True))\n",
    "    print(getPhiPhiValue(b.phi, b.phi, 1, 1, force_num_int=True))\n",
    "\n",
    "    print(a.phi.DirectEvaluate(0))\n",
    "    print(b.phi.DirectEvaluate(0))\n",
    "\n",
    "    xi= np.linspace(-d/2*1.1, d/2*1.1, 200000)\n",
    "    yi_a = [a.phi.DirectEvaluate(x) for x in xi]\n",
    "    yi_b = [b.phi.DirectEvaluate(x) for x in xi]\n",
    "\n",
    "    print(\"test\", cl_Phi.dFe/2, b.phi.map2sheet(b.phi.xStart + cl_Phi.dFe/2 ))\n",
    "\n",
    "    print(a.phi.d)\n",
    "    plt.figure(10)\n",
    "    plt.clf()\n",
    "    plt.plot(xi, yi_a, label=\"c++\")\n",
    "    plt.plot(xi, yi_b, label=\"python\")\n",
    "    plt.legend()\n",
    "    plt.pause(0.1)\n",
    "\n"
   ]
  },
  {
   "cell_type": "code",
   "execution_count": 10,
   "metadata": {},
   "outputs": [
    {
     "data": {
      "application/vnd.jupyter.widget-view+json": {
       "model_id": "48f5b7711b36465eb44e0648c040e7dd",
       "version_major": 2,
       "version_minor": 0
      },
      "image/png": "[encoded data removed]",
      "text/html": [
       "\n",
       "            <div style=\"display: inline-block;\">\n",
       "                <div class=\"jupyter-widgets widget-label\" style=\"text-align: center;\">\n",
       "                    Figure\n",
       "                </div>\n",
       "                <img src='data:image/png;base64,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' width=640.0/>\n",
       "            </div>\n",
       "        "
      ],
      "text/plain": [
       "Canvas(toolbar=Toolbar(toolitems=[('Home', 'Reset original view', 'home', 'home'), ('Back', 'Back to previous …"
      ]
     },
     "metadata": {},
     "output_type": "display_data"
    }
   ],
   "source": [
    "from myPackage import evalOnLine\n",
    "\n",
    "start = -d/2*1.05\n",
    "end =-d/2*0.8\n",
    "\n",
    "# start = -D/2\n",
    "# end = D/2\n",
    "evalOnLine(sol_ref , meshRef, [start, 0, 0], [end, 0, 0], plot=True, ls='-', marker=\"x\", show=False, label=\"ref\");\n",
    "evalOnLine(sum(sol_comp_MS) , meshRef, [start, 0, 0], [end, 0, 0], plot=True, ls='-', marker=\"x\", clear=False, label=\"MS\", show=False);\n",
    "plt.legend()\n",
    "plt.show()\n"
   ]
  },
  {
   "cell_type": "code",
   "execution_count": 11,
   "metadata": {},
   "outputs": [
    {
     "data": {
      "application/vnd.jupyter.widget-view+json": {
       "model_id": "0a5422d64f0f4fc1a959c96dec2020ba",
       "version_major": 2,
       "version_minor": 0
      },
      "text/plain": [
       "WebGuiWidget(layout=Layout(height='500px', width='100%'), value={'gui_settings': {'Objects': {'Wireframe': Tru…"
      ]
     },
     "metadata": {},
     "output_type": "display_data"
    },
    {
     "data": {
      "text/plain": [
       "BaseWebGuiScene"
      ]
     },
     "execution_count": 11,
     "metadata": {},
     "output_type": "execute_result"
    }
   ],
   "source": [
    "Draw(sum(sol_comp_MS) , meshRef, settings={\"Objects\":{\"Wireframe\":True}, \"deformation\": 0.01})\n"
   ]
  },
  {
   "cell_type": "code",
   "execution_count": 12,
   "metadata": {},
   "outputs": [
    {
     "data": {
      "application/vnd.jupyter.widget-view+json": {
       "model_id": "f1cf5d592af144be8bc7312b8f506e05",
       "version_major": 2,
       "version_minor": 0
      },
      "text/plain": [
       "WebGuiWidget(layout=Layout(height='500px', width='100%'), value={'gui_settings': {'Objects': {'Wireframe': Fal…"
      ]
     },
     "metadata": {},
     "output_type": "display_data"
    },
    {
     "data": {
      "text/plain": [
       "BaseWebGuiScene"
      ]
     },
     "execution_count": 12,
     "metadata": {},
     "output_type": "execute_result"
    }
   ],
   "source": [
    "Draw(-lam * sum(H_comp)[0], meshRef, min = 0, max=150, settings={\"Objects\":{\"Wireframe\":False}})"
   ]
  },
  {
   "cell_type": "code",
   "execution_count": 13,
   "metadata": {},
   "outputs": [
    {
     "data": {
      "application/vnd.jupyter.widget-view+json": {
       "model_id": "077a8d2a26ff4dd8ac66400718cb3c10",
       "version_major": 2,
       "version_minor": 0
      },
      "text/plain": [
       "WebGuiWidget(layout=Layout(height='500px', width='100%'), value={'gui_settings': {'Objects': {'Wireframe': Fal…"
      ]
     },
     "metadata": {},
     "output_type": "display_data"
    },
    {
     "data": {
      "text/plain": [
       "BaseWebGuiScene"
      ]
     },
     "execution_count": 13,
     "metadata": {},
     "output_type": "execute_result"
    }
   ],
   "source": [
    "Draw(lam * grad(sol_ref)[0], meshRef, min = 0, max=150, settings={\"Objects\":{\"Wireframe\":False}})"
   ]
  },
  {
   "cell_type": "code",
   "execution_count": 14,
   "metadata": {},
   "outputs": [
    {
     "name": "stdout",
     "output_type": "stream",
     "text": [
      "energy multiscale 1.1123335627581046\n",
      "energy reference 0.996255426755937\n"
     ]
    }
   ],
   "source": [
    "print(\"energy multiscale\", energy_MS)\n",
    "print(\"energy reference\", energy_ref)"
   ]
  }
 ],
 "metadata": {
  "kernelspec": {
   "display_name": "Python 3",
   "language": "python",
   "name": "python3"
  },
  "language_info": {
   "codemirror_mode": {
    "name": "ipython",
    "version": 3
   },
   "file_extension": ".py",
   "mimetype": "text/x-python",
   "name": "python",
   "nbconvert_exporter": "python",
   "pygments_lexer": "ipython3",
   "version": "3.10.12"
  },
  "orig_nbformat": 4
 },
 "nbformat": 4,
 "nbformat_minor": 2
}
