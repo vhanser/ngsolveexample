{
 "cells": [
  {
   "cell_type": "code",
   "execution_count": null,
   "metadata": {},
   "outputs": [],
   "source": [
    "from netgen.occ import *\n",
    "from ngsolve import *\n",
    "from netgen.meshing import IdentificationType\n",
    "#from MS_helper_functions import *\n",
    "from netgen.webgui import Draw as DrawGeo\n",
    "from ngsolve.webgui import Draw\n",
    "#Draw = lambda *args, **kwargs : None\n",
    "\n",
    "import matplotlib.pyplot as plt\n",
    "%matplotlib widget\n",
    "plt.ioff()\n",
    "\n",
    "from myPackage import evalOnLine, L2Draw, colorprint, TextColor\n",
    "L2Draw.drawFunc = Draw\n",
    "from meshGen import mesh2DLaminates\n",
    "\n",
    "import numpy as np\n",
    "\n",
    "modelHalfAir = False\n",
    "\n",
    "\n"
   ]
  },
  {
   "cell_type": "code",
   "execution_count": null,
   "metadata": {},
   "outputs": [],
   "source": [
    "mu0 = 4e-7*np.pi\n",
    "\n",
    "muAir = 1 * mu0\n",
    "muFe = 10 * mu0\n",
    "\n",
    "\n",
    "order0 = 2"
   ]
  },
  {
   "cell_type": "code",
   "execution_count": null,
   "metadata": {},
   "outputs": [],
   "source": [
    "D = 0.06\n",
    "d = 0.02\n",
    "\n",
    "ff = 0.7\n",
    "\n",
    "\n",
    "numSheets = 5\n",
    "\n",
    "maxh_edges = d/numSheets*1/2 * 0.1\n",
    "\n",
    "\n",
    "\n",
    "\n",
    "\n"
   ]
  },
  {
   "cell_type": "markdown",
   "metadata": {},
   "source": [
    "## 4. All together with Eddy currents\n",
    "### 4.1. Reference Solution "
   ]
  },
  {
   "cell_type": "code",
   "execution_count": null,
   "metadata": {},
   "outputs": [],
   "source": [
    "import importlib\n",
    "\n",
    "import meshGen as mg\n",
    "mg = importlib.reload(mg)\n",
    "mesh2DLaminates = mg.mesh2DLaminates\n",
    "cMeshRef = mesh2DLaminates(D, d, ff, numSheets, multiscale=False, maxh_edges=[maxh_edges, maxh_edges], fullProblemX=True, onlySmooth = False, onlyRough = False, rotated=True, modelHalfAir=modelHalfAir, quad_dominated=False)\n",
    "meshRef = cMeshRef.mesh\n",
    "print(\"Boundaries\", set(meshRef.GetBoundaries()))\n",
    "print(\"Materials\", set(meshRef.GetMaterials()))\n",
    "\n",
    "print(cMeshRef.dFe)\n",
    "\n"
   ]
  },
  {
   "cell_type": "code",
   "execution_count": null,
   "metadata": {},
   "outputs": [],
   "source": [
    "Draw(meshRef)"
   ]
  },
  {
   "cell_type": "code",
   "execution_count": null,
   "metadata": {},
   "outputs": [],
   "source": [
    "set(meshRef.GetBoundaries())"
   ]
  },
  {
   "cell_type": "code",
   "execution_count": null,
   "metadata": {},
   "outputs": [],
   "source": [
    "mu = meshRef.MaterialCF({\"inner\":muFe, \"outer\":muAir, \"insulation\":muAir, \"gap\":muAir, \"multiscale\":muFe})\n",
    "def calcRef():\n",
    "    fesPhi = H1(meshRef, order=order0+1, dirichlet=\"left|right\")\n",
    "    fes = FESpace([fesPhi])\n",
    "\n",
    "    trials, tests = fes.TnT()\n",
    "    sol = GridFunction(fes)\n",
    "\n",
    "    a = BilinearForm(fes, symmetric=True)\n",
    "    f = LinearForm(fes)\n",
    "\n",
    "    a += mu * (-grad(trials[0])) * (-grad(tests[0])) * dx\n",
    "    a += 1e-3* trials[0] * tests[0] * dx(\"inner\")\n",
    "\n",
    "\n",
    "    prec = Preconditioner(a, \"direct\", inverse=\"umfpack\")\n",
    "\n",
    "    Phi = sol.components[0]\n",
    "\n",
    "    Phi.Set((1 * x/Norm(x)), BND)\n",
    "    solvers.BVP(bf = a, lf= f, pre=prec, gf=sol, maxsteps=30, tol = 1e-10, print=True)\n",
    "\n",
    "    \n",
    "    \n",
    "    energy =  Integrate( InnerProduct(mu * ( - grad(Phi)), ( - grad(Phi))), meshRef, definedon=meshRef.Materials(\"inner|insulation\")).real\n",
    "    \n",
    "    return sol, energy\n",
    "\n",
    "sol_ref, energy_ref = calcRef()\n",
    "\n",
    "\n",
    "Phi = sol_ref.components[0]\n",
    "H_ref = -grad(Phi)\n",
    "B_ref = mu  * H_ref\n"
   ]
  },
  {
   "cell_type": "code",
   "execution_count": null,
   "metadata": {},
   "outputs": [],
   "source": [
    "#energy:\t3.10067858198899e-07\n",
    "#eddy current losses:\t5.042166093099941e-07\n",
    "\n",
    "\n",
    "# stab \n",
    "# energy:\t3.100512177819719e-07\n",
    "# eddy current losses:\t5.041911557192412e-07\n",
    "\n",
    "print(f\"energy:\\t{energy_ref}\")\n",
    "\n"
   ]
  },
  {
   "cell_type": "code",
   "execution_count": null,
   "metadata": {},
   "outputs": [],
   "source": [
    "L2Draw( H_ref[0].real, meshRef, settings={\"Objects\":{\"Wireframe\":False}, \"deformation\": False}, min = -50, max = 0)\n",
    "L2Draw( H_ref[1].real, meshRef, settings={\"Objects\":{\"Wireframe\":False}, \"deformation\": False}, min = -10, max = 10)"
   ]
  },
  {
   "cell_type": "code",
   "execution_count": null,
   "metadata": {},
   "outputs": [],
   "source": [
    "L2Draw(B_ref.real[0], meshRef, settings={\"Objects\":{\"Wireframe\":False}, \"deformation\": False})\n",
    "L2Draw(B_ref.real[1], meshRef, settings={\"Objects\":{\"Wireframe\":False}, \"deformation\": False}, min = - 5e-5, max=5e-5)"
   ]
  },
  {
   "cell_type": "code",
   "execution_count": null,
   "metadata": {},
   "outputs": [],
   "source": [
    "L2Draw(B_ref.Norm(), meshRef, settings={\"Objects\":{\"Wireframe\":False}, \"deformation\": False}, min = 0, max = 1e-4)"
   ]
  },
  {
   "cell_type": "markdown",
   "metadata": {},
   "source": [
    "4.1.1 Multiscale with REf Mesh"
   ]
  },
  {
   "cell_type": "markdown",
   "metadata": {},
   "source": [
    "### 4.2 Multiscale "
   ]
  },
  {
   "cell_type": "code",
   "execution_count": null,
   "metadata": {},
   "outputs": [],
   "source": [
    "import cempy as cp\n",
    "mg = importlib.reload(mg)\n",
    "mesh2DLaminates = mg.mesh2DLaminates\n",
    "cMeshMS = mesh2DLaminates(D, d, ff, numSheets, multiscale=True, modelHalfAir=modelHalfAir, onlySmooth=False, \n",
    "        onlyRough=False, domainNameHalfAir=\"multiscale\", maxh_edges= (maxh_edges*10, maxh_edges*3), rotated=True, modelGap=True, maxh = d/2)\n",
    "# cMeshMS = mesh2DLaminates(D, d, ff, numSheets, multiscale=True, modelHalfAir=modelHalfAir, domainNameHalfAir=\"smoothFrame\", onlySmooth=onlySmooth)\n",
    "meshMS = cMeshMS.mesh\n",
    "print(meshMS.GetMaterials())\n",
    "print(set(meshMS.GetBoundaries()))\n"
   ]
  },
  {
   "cell_type": "code",
   "execution_count": null,
   "metadata": {},
   "outputs": [],
   "source": [
    "from ngsolve.webgui import Draw\n",
    "L2Draw.drawFunc=Draw\n",
    "L2Draw(CF([1, 2, 3, 4, 5, 6]), meshMS)\n",
    "from myPackage import drawBndAll\n",
    "\n",
    "# drawBndAll(meshMS, drawFunc=Draw, block=False)"
   ]
  },
  {
   "cell_type": "code",
   "execution_count": null,
   "metadata": {},
   "outputs": [],
   "source": [
    "import importlib\n",
    "import MS_helper_functions as ms\n",
    "ms = importlib.reload(ms)\n",
    "cl_Phi = ms.cl_Phi\n",
    "\n",
    "getIntegrand4BFI = ms.getIntegrand4BFI\n",
    "cl_gradgradMS = ms.cl_gradgradMS\n",
    "cl_curlcurlMS = ms.cl_curlcurlMS\n",
    "pyLobatto = ms.pyLobatto\n",
    "pydxLobatto = ms.pydxLobatto\n",
    "getPhiPhiValue = ms.getPhiPhiValue\n",
    "pyPhiFunction = ms.pyPhiFunction\n",
    "pyPhiZero = ms.pyPhiZero\n",
    "pyPhiConst = ms.pyPhiConst\n",
    "\n",
    "\n",
    "cl_Phi.numSheets = numSheets\n",
    "cl_Phi.dFe = cMeshMS.dFe\n",
    "cl_Phi.d0 = cMeshMS.d0\n",
    "cl_Phi.mesh = meshMS\n",
    "\n",
    "cl_Phi.modelHalfAir = modelHalfAir\n",
    "cl_Phi.orientation = 1\n",
    "\n",
    "if False:\n",
    "    import cempy as cp\n",
    "    importlib.reload(cp)\n",
    "    \n",
    "    \n",
    "    cl_Phi.phiFunction = cp.phiFunctions.Lobatto\n",
    "    cl_Phi.dzPhiFunction = cp.phiFunctions.dxLobatto\n",
    "else:\n",
    "    cl_Phi.phiFunction = pyLobatto\n",
    "    cl_Phi.dzPhiFunction = pydxLobatto\n",
    "\n",
    "\n"
   ]
  },
  {
   "cell_type": "code",
   "execution_count": null,
   "metadata": {},
   "outputs": [],
   "source": [
    "force_full_Phi = True\n",
    "\n",
    "def calcMultiscale(orderPhi, mesh, drawPhis=True, couple_fluxes=False):\n",
    "\n",
    "\n",
    "    if drawPhis:\n",
    "        # cl_Phi.plotEvaluated(orderPhi, nFig=1)\n",
    "        cl_Phi.plotEvaluated(orderT, nFig=1)\n",
    "        cl_Phi.plotDirectEvaluated(orderT, nFig=1)\n",
    "\n",
    "    VSpace = []\n",
    "    # # u0 \n",
    "    VSpace.append(H1(mesh, order=order0+1, dirichlet=\"left|right\")) \n",
    "        \n",
    "    # ui * phi i\n",
    "    for phi_i in orderPhi: \n",
    "        VSpace.append(H1(mesh, order=phi_i.fes_oder+1, definedon=phi_i.material, dirichlet=phi_i.dirichlet))\n",
    "\n",
    "    \n",
    "    \n",
    "    VSpace = FESpace(VSpace)\n",
    "    sol = GridFunction(VSpace, \"sol\")\n",
    "      \n",
    "    # multiscale container\n",
    "    gradgradMS = cl_gradgradMS(orderPhi, sol, addPhi0Outer=True, secondOrder=False)\n",
    "\n",
    "\n",
    "\n",
    "    a = BilinearForm(VSpace, symmetric=True)\n",
    "    f = LinearForm(VSpace)\n",
    "\n",
    "    a += muAir  * grad(gradgradMS.trials[0]) * grad(gradgradMS.tests[0]) * dx(\"outer\")\n",
    "    # a += gradgradMS.trials[0] * gradgradMS.tests[0] * dx(\"multiscale\")\n",
    "    a += gradgradMS.getIntegrand4BFI(gradgradMS.gradu_pack, gradgradMS.gradv_pack, muAir, muAir, force_full_Phi=force_full_Phi, checkDimensions=False) * dx(\"gap\")\n",
    "    a += gradgradMS.getIntegrand4BFI(gradgradMS.gradu_pack, gradgradMS.gradv_pack, muFe, muAir, force_full_Phi=force_full_Phi, checkDimensions=False) * dx(\"multiscale\")\n",
    "\n",
    "    \n",
    "\n",
    "    # couple fluxes\n",
    "    if couple_fluxes:\n",
    "        # [dn u] [ dn v]\n",
    "\n",
    "        alpha = 2000\n",
    "        h = specialcf.mesh_size\n",
    "        \n",
    "\n",
    "        a += alpha*order0**2/h  * gradgradMS.getIntegrand4BFI(gradgradMS.gradu_trace_n_pack, gradgradMS.gradv_trace_n_pack,  muFe, muAir, force_full_Phi=force_full_Phi)  *ds(smoothbnd)\n",
    "        a += -alpha*order0**2/h  * gradgradMS.getIntegrand4BFI(gradgradMS.gradu_trace_n_pack, gradgradMS.gradv_trace_n_pack[:1],  muFe, muAir, force_full_Phi=force_full_Phi)  *ds(smoothbnd)\n",
    "        a += alpha*order0**2/h  * gradgradMS.getIntegrand4BFI(gradgradMS.gradu_trace_n_pack[:1], gradgradMS.gradv_trace_n_pack[:1],  muFe, muAir, force_full_Phi=force_full_Phi)  *ds(smoothbnd)\n",
    "        a += -alpha*order0**2/h  * gradgradMS.getIntegrand4BFI(gradgradMS.gradu_trace_n_pack[:1], gradgradMS.gradv_trace_n_pack,  muFe, muAir, force_full_Phi=force_full_Phi)  *ds(smoothbnd)\n",
    "\n",
    "    prec = Preconditioner(a,type=\"direct\")  \n",
    "\n",
    "\n",
    "    # dirichlet boundary values\n",
    "    sol.components[0].Set((x/Norm(x)), BND)\n",
    "    \n",
    "    solvers.BVP(bf = a, lf= f, pre=prec, gf=sol, maxsteps=30, tol = 1e-20, print=True)\n",
    "    \n",
    "    H_MS = sum(gradgradMS.gradsol_comp)\n",
    "\n",
    "\n",
    "    energy =  Integrate(gradgradMS.getIntegrand4BFI(gradgradMS.gradsol_pack, gradgradMS.gradsol_pack, muFe, muAir, force_full_Phi=force_full_Phi, checkDimensions=False), mesh, \n",
    "                                                    definedon=mesh.Materials(\"multiscale\")).real\n",
    "\n",
    "    \n",
    "    # print(\"a norm\", a.mat.AsVector().Norm())\n",
    "\n",
    "    # print(\"ansatz\", gradgradMS.ansatz)\n",
    "    return sol, energy,  gradgradMS, H_MS\n",
    "\n",
    "    \n",
    "\n",
    "\n",
    "\n",
    "\n"
   ]
  },
  {
   "cell_type": "code",
   "execution_count": null,
   "metadata": {},
   "outputs": [],
   "source": [
    "\n",
    "\n",
    "\n",
    "if \"curlcurlMS\" in locals():\n",
    "    del curlcurlMS\n",
    "if \"gradgradMS\" in locals():\n",
    "    del gradgradMS\n",
    "\n",
    "\n",
    "orderPhi = [\n",
    "        \n",
    "        cl_Phi(1, fes_order=1, material=\"multiscale|gap\", dirichlet=\"itop|ibottom|left|right\", modelHalfAir=modelHalfAir), \n",
    "        cl_Phi(2, fes_order=1, material=\"gap|multiscale\", dirichlet=\"left|right\", inAir=False, modelHalfAir=modelHalfAir), \n",
    "        cl_Phi(2, fes_order=1, material=\"gap|multiscale\", dirichlet=\"left|right\", inIron=False, modelHalfAir=modelHalfAir), \n",
    "\n",
    "    ]\n",
    "\n",
    "sol_MS, energy_MS,  gradgradMS,  H_MS = calcMultiscale(orderPhi,  meshMS, drawPhis=False, couple_fluxes=False)\n",
    "\n",
    "\n",
    "print(gradgradMS.ansatz)\n",
    "print(\"diff energy\", energy_MS, energy_ref, energy_MS - energy_ref, (energy_MS - energy_ref)/energy_ref * 100, \"%\")\n",
    "u_MS = sum(gradgradMS.sol_comp[:len(gradgradMS.orderPhi)])\n",
    "print(orderPhi)\n",
    "\n",
    "# J_MS = - (curlcurlMS.curlsol_comp[0]  - curlcurlMS.curlsol_comp[1])\n",
    "# L2Draw((J_ref.imag, J_MS.imag), meshRef, settings = {\"Objects\":{\"Wireframe\":False}}, min = -20, max=20, diff=False)"
   ]
  },
  {
   "cell_type": "code",
   "execution_count": null,
   "metadata": {},
   "outputs": [],
   "source": [
    "#gradgradMS.generateCouplingMatrix(muFe, muAir, force_full_Phi=force_full_Phi)\n",
    "gradgradMS.printCouplingMatrix(sparsity=True);\n",
    "#assert gradgradMS.checkCouplingMatrxiSymmetric(1e-3) == True"
   ]
  },
  {
   "cell_type": "markdown",
   "metadata": {},
   "source": [
    "### 1.3 Comparison "
   ]
  },
  {
   "cell_type": "code",
   "execution_count": null,
   "metadata": {},
   "outputs": [],
   "source": [
    "\n",
    "start = -D/2*1.01\n",
    "end = -D/2*0.9\n",
    "\n",
    "start = -d/2\n",
    "end = d/2\n",
    "\n",
    "\n",
    "plt.figure(2)\n",
    "start = -d/2\n",
    "end = d/2\n",
    "\n",
    "pnt1 = [-d/2*0.99, start, 0] \n",
    "pnt2 = [-d/2*0.99, end, 0] \n",
    "\n",
    "\n"
   ]
  },
  {
   "cell_type": "code",
   "execution_count": null,
   "metadata": {},
   "outputs": [],
   "source": [
    "start = -d/2\n",
    "end = d/2\n",
    "\n",
    "plt.figure(3)\n",
    "evalOnLine(H_MS[0] , meshRef, pnt1, pnt2, plot=True, ls='-', marker=\"x\", clear=True, label=\"MS\", show=False, N=1000);\n",
    "evalOnLine(H_ref[0] , meshRef, pnt1, pnt2, plot=True, ls='-', marker=\"\", show=False, clear=False, label=\"ref\", N = 1000, title=r\"$H_x$\");\n",
    "\n",
    "\n",
    "\n",
    "plt.legend()\n",
    "plt.show()"
   ]
  },
  {
   "cell_type": "code",
   "execution_count": null,
   "metadata": {},
   "outputs": [],
   "source": [
    "start = -d/2\n",
    "end = d/2\n",
    "\n",
    "\n",
    "plt.figure(4)\n",
    "\n",
    "evalOnLine(H_MS[1] , meshRef, pnt1, pnt2, plot=True, ls='-', marker=\"x\", clear=True, label=\"MS\", show=False, N=1000);\n",
    "# [evalOnLine((H_comp[i])[1] , meshRef, pnt1, pnt2, plot=True, ls='-', marker=\"x\", clear=False, label=\"MS_\" + gradgradMS.gradsol_pack[i][1].name, show=False, N=1000) for i in range(len(H_comp))];\n",
    "\n",
    "evalOnLine(H_ref[1] , meshRef, pnt1, pnt2, plot=True, ls='-', marker=\"\", show=False, clear=False, label=\"ref\", N = 1000, title=r\"$H_y$\");\n",
    "plt.legend()\n",
    "plt.show()"
   ]
  },
  {
   "cell_type": "code",
   "execution_count": null,
   "metadata": {},
   "outputs": [],
   "source": [
    "start = -d/2\n",
    "end = d/2\n",
    "\n",
    "H_comp = gradgradMS.gradsol_comp\n",
    "plt.figure(5)\n",
    "evalOnLine(mu * H_MS[0] , meshRef, pnt1, pnt2, plot=True, ls='-', marker=\"x\", clear=True, label=\"MS\", show=False, N=1000);\n",
    "i = 0\n",
    "# evalOnLine(mu * (H_comp[i])[0] , meshRef, pnt1, pnt2, plot=True, ls='-', marker=\"x\", clear=False, label=\"MS\", show=False, N=1000);\n",
    "evalOnLine(mu * H_ref[0] , meshRef, pnt1, pnt2, plot=True, ls='-', marker=\"\", show=False, clear=False, label=\"ref\", N = 1000, title=r\"$B_x$\");\n",
    "\n",
    "plt.legend()\n",
    "plt.show()\n",
    "gradgradMS.gradsol_pack[0][1].name"
   ]
  },
  {
   "cell_type": "code",
   "execution_count": null,
   "metadata": {},
   "outputs": [],
   "source": [
    "start = -d/2\n",
    "end = d/2\n",
    "\n",
    "[print(o[1].name) for o in gradgradMS.gradsol_pack]\n",
    "\n",
    "plt.figure(6)\n",
    "H_MS = sum(gradgradMS.gradsol_comp) \n",
    "evalOnLine(mu * H_MS[1] , meshRef, pnt1, pnt2, plot=True, ls='-', marker=\"x\", clear=True, label=\"MS\", show=False, N=1000);\n",
    "\n",
    "# [evalOnLine(mu * (gradgradMS.gradsol_comp[i])[1] , meshRef, pnt1, pnt2, plot=True, ls='-', marker=\"x\", clear=False, label=\"MS_\" + gradgradMS.gradsol_pack[i][1].name, show=False, N=1000) for i in range(len(gradgradMS.gradsol_comp))];\n",
    "\n",
    "evalOnLine(mu * H_ref[1] , meshRef, pnt1, pnt2, plot=True, ls='-', marker=\"\", show=False, clear=False, label=\"ref\", N = 1000, title=r\"$B_y$\");\n",
    "\n",
    "plt.legend()\n",
    "plt.show()"
   ]
  },
  {
   "cell_type": "markdown",
   "metadata": {},
   "source": [
    "### Drawings"
   ]
  },
  {
   "cell_type": "code",
   "execution_count": null,
   "metadata": {},
   "outputs": [],
   "source": [
    "print(H_ref[1].dim)\n",
    "print(gradgradMS.gradsol_comp[1].is_complex)\n",
    "\n",
    "H_MS = sum(gradgradMS.gradsol_comp)\n",
    "# H_MS = gradgradMS.gradsol_pack[1][1]\n",
    "\n",
    "print(gradgradMS.gradsol_pack[0][1].name)\n",
    "\n",
    "L2Draw((H_ref[0], H_MS[0]), meshRef, settings={\"Objects\":{\"Wireframe\":False}, \"deformation\": False}, diff=False)\n",
    "L2Draw((H_ref[1], H_MS[1]), meshRef, settings={\"Objects\":{\"Wireframe\":False}, \"deformation\": False}, diff=False, min = -10, max=10)\n",
    "\n"
   ]
  },
  {
   "cell_type": "code",
   "execution_count": null,
   "metadata": {},
   "outputs": [],
   "source": [
    "L2Draw((H_ref[1], H_MS[1]), meshRef, settings={\"Objects\":{\"Wireframe\":False}, \"deformation\": False}, min = -50, max=50)\n",
    "L2Draw((H_ref[0], H_MS[0]), meshRef, settings={\"Objects\":{\"Wireframe\":False}, \"deformation\": False}, min = -50, max=50)"
   ]
  },
  {
   "cell_type": "code",
   "execution_count": null,
   "metadata": {},
   "outputs": [],
   "source": [
    "L2Draw((mu *H_ref[0], mu*H_MS[0]), meshRef, settings={\"Objects\":{\"Wireframe\":False}, \"deformation\": False})\n",
    "L2Draw((mu *H_ref[1], mu*H_MS[1]), meshRef, settings={\"Objects\":{\"Wireframe\":False}, \"deformation\": False})\n",
    "# lamMS = IfPos(cl_Phi(0, 0, inIron=False, material=\"multiscale\").phi, lambda1, lambda2)\n",
    "\n",
    "# Draw(lamMS * IfPos(y, -grad(sol_ref), H_MS)[0], meshMS, settings={\"Objects\":{\"Wireframe\":False}, \"deformation\": False},min = -200, max=200)\n",
    "# Draw(lamMS * IfPos(y, -grad(sol_ref), H_MS)[1], meshMS, settings={\"Objects\":{\"Wireframe\":False}, \"deformation\": False},min = -20, max=20)"
   ]
  },
  {
   "cell_type": "code",
   "execution_count": null,
   "metadata": {},
   "outputs": [],
   "source": [
    "L2Draw((B_ref.Norm(), mu * H_MS.Norm()), meshRef, settings={\"Objects\":{\"Wireframe\":False}, \"deformation\": False}, min = 0, max = 1e-4)"
   ]
  },
  {
   "cell_type": "code",
   "execution_count": null,
   "metadata": {},
   "outputs": [],
   "source": [
    "# print(\"Norm soll diff\", Integrate((sum(sol_comp_MS) - sol_ref)* (sum(sol_comp_MS) - sol_ref)/( (sol_ref)**2) , meshRef)*100,  \"%\")\n",
    "print(\"diff energy\", energy_MS, energy_ref, energy_MS - energy_ref, (energy_MS - energy_ref)/energy_ref * 100, \"%\")\n"
   ]
  },
  {
   "cell_type": "code",
   "execution_count": null,
   "metadata": {},
   "outputs": [],
   "source": []
  },
  {
   "cell_type": "code",
   "execution_count": null,
   "metadata": {},
   "outputs": [],
   "source": []
  }
 ],
 "metadata": {
  "kernelspec": {
   "display_name": "Python 3 (ipykernel)",
   "language": "python",
   "name": "python3"
  },
  "language_info": {
   "codemirror_mode": {
    "name": "ipython",
    "version": 3
   },
   "file_extension": ".py",
   "mimetype": "text/x-python",
   "name": "python",
   "nbconvert_exporter": "python",
   "pygments_lexer": "ipython3",
   "version": "3.10.12"
  }
 },
 "nbformat": 4,
 "nbformat_minor": 2
}
