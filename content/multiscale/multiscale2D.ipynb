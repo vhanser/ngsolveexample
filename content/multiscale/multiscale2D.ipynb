{
 "cells": [
  {
   "cell_type": "code",
   "execution_count": 1,
   "metadata": {},
   "outputs": [],
   "source": [
    "from netgen.occ import *\n",
    "from ngsolve import *\n",
    "from netgen.meshing import IdentificationType\n",
    "from MS_helper_functions import *\n",
    "from netgen.webgui import Draw as DrawGeo\n",
    "from ngsolve.webgui import Draw"
   ]
  },
  {
   "cell_type": "code",
   "execution_count": 2,
   "metadata": {},
   "outputs": [],
   "source": [
    "lambda1 = 1\n",
    "lambda2 = 1000\n",
    "\n",
    "order0 = 2"
   ]
  },
  {
   "cell_type": "code",
   "execution_count": 3,
   "metadata": {},
   "outputs": [],
   "source": [
    "D = 0.04\n",
    "d = 0.02\n",
    "\n",
    "ff = 0.9 \n",
    "maxh = 0.01\n",
    "\n",
    "numSheets = 10\n",
    "\n"
   ]
  },
  {
   "cell_type": "markdown",
   "metadata": {},
   "source": [
    "## Reference Solution"
   ]
  },
  {
   "cell_type": "code",
   "execution_count": 8,
   "metadata": {},
   "outputs": [
    {
     "data": {
      "application/vnd.jupyter.widget-view+json": {
       "model_id": "081ec41a2d534a6d8cfee87e183082c4",
       "version_major": 2,
       "version_minor": 0
      },
      "text/plain": [
       "WebGuiWidget(layout=Layout(height='500px', width='100%'), value={'gui_settings': {}, 'mesh_dim': 2, 'mesh_cent…"
      ]
     },
     "metadata": {},
     "output_type": "display_data"
    },
    {
     "name": "stdout",
     "output_type": "stream",
     "text": [
      "{'insulation', 'inner', 'outer'}\n"
     ]
    }
   ],
   "source": [
    "from meshGen import mesh2DLaminates\n",
    "meshRef = mesh2DLaminates(D, d, ff, numSheets, multiscale=False).mesh\n",
    "Draw(meshRef.ngmesh)\n",
    "print(set(meshRef.GetMaterials()))"
   ]
  },
  {
   "cell_type": "code",
   "execution_count": 5,
   "metadata": {},
   "outputs": [
    {
     "name": "stdout",
     "output_type": "stream",
     "text": [
      "\u001b[2KCG iteration 1, residual = 3.7760200406628512     \n",
      "\u001b[2KCG iteration 2, residual = 1.4356530095344959e-12     \n"
     ]
    }
   ],
   "source": [
    "lam = meshRef.MaterialCF({\"inner\":lambda2, \"multiscale\":lambda2}, default=lambda1)\n",
    "def calcRef():\n",
    "    fes = H1(meshRef, order=order0, dirichlet=\"left|right\")\n",
    "\n",
    "    u,v = fes.TnT()\n",
    "    sol = GridFunction(fes)\n",
    "\n",
    "    a = BilinearForm(fes, symmetric=True)\n",
    "    f = LinearForm(fes)\n",
    "\n",
    "    a += lam * grad(u) * grad(v) * dx\n",
    "\n",
    "    prec = Preconditioner(a, \"direct\")\n",
    "\n",
    "\n",
    "    sol.Set(1 * x/Norm(x), BND)\n",
    "    solvers.BVP(bf = a, lf= f, pre=prec, gf=sol, maxsteps=10)\n",
    "    \n",
    "    \n",
    "    energy =  Integrate( InnerProduct(lam * grad(sol), grad(sol)), meshRef, definedon=meshRef.Materials(\"inner|insulation\"))\n",
    "    \n",
    "    return sol, energy\n",
    "\n",
    "sol_ref, energy_ref = calcRef()\n"
   ]
  },
  {
   "cell_type": "code",
   "execution_count": 6,
   "metadata": {},
   "outputs": [
    {
     "name": "stdout",
     "output_type": "stream",
     "text": [
      "energy:\t0.5510940718908416\n"
     ]
    },
    {
     "data": {
      "application/vnd.jupyter.widget-view+json": {
       "model_id": "7a22b75128a44c2580e918d704ac75ed",
       "version_major": 2,
       "version_minor": 0
      },
      "text/plain": [
       "WebGuiWidget(layout=Layout(height='500px', width='100%'), value={'gui_settings': {'Objects': {'Wireframe': Tru…"
      ]
     },
     "metadata": {},
     "output_type": "display_data"
    },
    {
     "data": {
      "application/vnd.jupyter.widget-view+json": {
       "model_id": "ad95c9e27a7843b0b29ec2b989fe7e32",
       "version_major": 2,
       "version_minor": 0
      },
      "text/plain": [
       "WebGuiWidget(layout=Layout(height='500px', width='100%'), value={'gui_settings': {}, 'ngsolve_version': '6.2.2…"
      ]
     },
     "metadata": {},
     "output_type": "display_data"
    },
    {
     "data": {
      "text/plain": [
       "BaseWebGuiScene"
      ]
     },
     "execution_count": 6,
     "metadata": {},
     "output_type": "execute_result"
    }
   ],
   "source": [
    "\n",
    "\n",
    "print(f\"energy:\\t{energy_ref}\")\n",
    "Draw(sol_ref, settings={\"Objects\":{\"Wireframe\":True}, \"deformation\": 0.01})\n",
    "Draw(lam * grad(sol_ref)[0], meshRef, max = 150, min = 0)"
   ]
  },
  {
   "cell_type": "markdown",
   "metadata": {},
   "source": [
    "## Multiscale"
   ]
  },
  {
   "cell_type": "code",
   "execution_count": null,
   "metadata": {},
   "outputs": [
    {
     "data": {
      "application/vnd.jupyter.widget-view+json": {
       "model_id": "38676bef1c84471994bf82fb11933d57",
       "version_major": 2,
       "version_minor": 0
      },
      "text/plain": [
       "WebGuiWidget(layout=Layout(height='500px', width='100%'), value={'gui_settings': {}, 'mesh_dim': 2, 'mesh_cent…"
      ]
     },
     "metadata": {},
     "output_type": "display_data"
    },
    {
     "name": "stdout",
     "output_type": "stream",
     "text": [
      "('outer', 'multiscale')\n"
     ]
    }
   ],
   "source": [
    "modelHalfAir=True\n",
    "\n",
    "cMeshMS = mesh2DLaminates(D, d, ff, numSheets, multiscale=True, modelHalfAir=modelHalfAir)\n",
    "meshMS = cMeshMS.mesh\n",
    "Draw(meshMS.ngmesh)\n",
    "\n",
    "print(meshMS.GetMaterials())"
   ]
  },
  {
   "cell_type": "code",
   "execution_count": null,
   "metadata": {},
   "outputs": [
    {
     "name": "stdout",
     "output_type": "stream",
     "text": [
      "\u001b[2KCG iteration 1, residual = 3.676635856473944     \n",
      "\u001b[2KCG iteration 2, residual = 5.045539473592277e-13     \n",
      "106466.45603194486\n",
      "9.556665505994283e-07\n"
     ]
    }
   ],
   "source": [
    "\n",
    "cl_Phi.numSheets = numSheets\n",
    "cl_Phi.dFe = cMeshMS.dFe\n",
    "cl_Phi.d0 = cMeshMS.d0\n",
    "cl_Phi.mesh = meshMS\n",
    "\n",
    "cl_Phi.modelHalfAir = modelHalfAir\n",
    "cl_Phi.orientation = 0\n",
    "\n",
    "clPhi0 = cl_Phi(0, 0, material=\"outer|multiscale\") #numSheets=1, d0=y_total/2, dFe=y_total/2, zstart=-y_total/2)\n",
    "phi0 = clPhi0.phi\n",
    "\n",
    "\n",
    "\n",
    "def calcMultiscale(useGradients=True, darwPhis=True):\n",
    "\n",
    "\n",
    "    # microshape functions\n",
    "    orderPhi = [\n",
    "            cl_Phi(1, fes_order=order0, material=\"multiscale\", useGradients=useGradients), \n",
    "        ]\n",
    "\n",
    "    if darwPhis:\n",
    "        cl_Phi.plotEvaluated(orderPhi)\n",
    "\n",
    "    VSpace = []\n",
    "    # u0 \n",
    "    VSpace.append(H1(meshMS, order=order0, dirichlet=\"right|left\")) \n",
    "        \n",
    "    # ui * phi i\n",
    "    for phi_i in orderPhi: \n",
    "        VSpace.append(H1(meshMS, order=phi_i.fes_oder, definedon=meshMS.Materials(phi_i.material)))\n",
    "    VSpace = FESpace(VSpace)\n",
    "\n",
    "\n",
    "    # multiscale container\n",
    "    ansatz = \"\"\n",
    "    sol = GridFunction(VSpace, \"sol\")\n",
    "       \n",
    "\n",
    "    cl_gradgradMS = gradgradMS(orderPhi, sol, addPhi0Outer=True)\n",
    "\n",
    "    a = BilinearForm(VSpace, symmetric=True)\n",
    "    f = LinearForm(VSpace)\n",
    "\n",
    "    a += lambda1  * grad(cl_gradgradMS.trials[0]) * grad(cl_gradgradMS.tests[0]) * dx(\"outer\")\n",
    "    a += getIntegrand4BFI(cl_gradgradMS.gradu, cl_gradgradMS.gradv, lambda2, lambda1) * dx(\"multiscale\")\n",
    "\n",
    "\n",
    "    prec = Preconditioner(a,type=\"direct\")  \n",
    "\n",
    "\n",
    "\n",
    "\n",
    "    # dirichlet boundary values\n",
    "    sol.components[0].Set(1 * x/Norm(x), BND)\n",
    "    \n",
    "    solvers.BVP(bf = a, lf= f, pre=prec, gf=sol, maxsteps=10)\n",
    "    print(a.mat.AsVector().Norm())\n",
    "\n",
    "    energy =  Integrate(getIntegrand4BFI(cl_gradgradMS.gradsol_pack, cl_gradgradMS.gradsol_pack, lambda2, lambda1), meshMS, definedon=meshMS.Materials(\"multiscale\"))\n",
    "    \n",
    "    return sol, cl_gradgradMS.gradsol_pack, cl_gradgradMS.sol_comp, cl_gradgradMS.gradsol_comp, energy, cl_gradgradMS\n",
    "\n",
    "\n",
    "    \n",
    "\n",
    "sol_MS, sol_pack_MS, sol_comp_MS, H_comp,    energy_MS, cl_gradgradMS = calcMultiscale(False, darwPhis=False)\n",
    "\n",
    "print(Integrate(Norm(sum(sol_comp_MS) - sol_ref), meshRef))"
   ]
  },
  {
   "cell_type": "code",
   "execution_count": null,
   "metadata": {},
   "outputs": [
    {
     "data": {
      "image/png": "[encoded data removed]",
      "text/plain": [
       "<Figure size 640x480 with 1 Axes>"
      ]
     },
     "metadata": {},
     "output_type": "display_data"
    }
   ],
   "source": [
    "from myPackage import evalOnLine\n",
    "import matplotlib.pyplot as plt\n",
    "\n",
    "start = -d/2*1.05\n",
    "end =-d/2*0.8\n",
    "evalOnLine(sol_ref , meshRef, [start, 0, 0], [end, 0, 0], plot=True, ls='-', marker=\"x\", show=False, label=\"ref\");\n",
    "evalOnLine(sum(sol_comp_MS) , meshRef, [start, 0, 0], [end, 0, 0], plot=True, ls='-', marker=\"x\", clear=False, label=\"MS\", show=False);\n",
    "plt.legend()\n",
    "plt.show()\n"
   ]
  },
  {
   "cell_type": "code",
   "execution_count": null,
   "metadata": {},
   "outputs": [
    {
     "data": {
      "application/vnd.jupyter.widget-view+json": {
       "model_id": "763ad1cc7b8d47efb2ad5efc9bb6b5f6",
       "version_major": 2,
       "version_minor": 0
      },
      "text/plain": [
       "WebGuiWidget(layout=Layout(height='500px', width='100%'), value={'gui_settings': {'Objects': {'Wireframe': Tru…"
      ]
     },
     "metadata": {},
     "output_type": "display_data"
    },
    {
     "data": {
      "text/plain": [
       "BaseWebGuiScene"
      ]
     },
     "execution_count": 25,
     "metadata": {},
     "output_type": "execute_result"
    }
   ],
   "source": [
    "Draw(sum(sol_comp_MS) , meshRef, settings={\"Objects\":{\"Wireframe\":True}, \"deformation\": 0.01})\n"
   ]
  },
  {
   "cell_type": "code",
   "execution_count": null,
   "metadata": {},
   "outputs": [
    {
     "data": {
      "application/vnd.jupyter.widget-view+json": {
       "model_id": "598c05c65df047efa6511c23b822196e",
       "version_major": 2,
       "version_minor": 0
      },
      "text/plain": [
       "WebGuiWidget(layout=Layout(height='500px', width='100%'), value={'gui_settings': {'Objects': {'Wireframe': Fal…"
      ]
     },
     "metadata": {},
     "output_type": "display_data"
    },
    {
     "data": {
      "text/plain": [
       "BaseWebGuiScene"
      ]
     },
     "execution_count": 26,
     "metadata": {},
     "output_type": "execute_result"
    }
   ],
   "source": [
    "Draw(-lam * sum(H_comp)[0], meshRef, min = 0, max=150, settings={\"Objects\":{\"Wireframe\":False}})"
   ]
  },
  {
   "cell_type": "code",
   "execution_count": null,
   "metadata": {},
   "outputs": [
    {
     "data": {
      "application/vnd.jupyter.widget-view+json": {
       "model_id": "f367d0cc6d134e9695a85dfa4b4d40f5",
       "version_major": 2,
       "version_minor": 0
      },
      "text/plain": [
       "WebGuiWidget(layout=Layout(height='500px', width='100%'), value={'gui_settings': {'Objects': {'Wireframe': Fal…"
      ]
     },
     "metadata": {},
     "output_type": "display_data"
    },
    {
     "data": {
      "text/plain": [
       "BaseWebGuiScene"
      ]
     },
     "execution_count": 27,
     "metadata": {},
     "output_type": "execute_result"
    }
   ],
   "source": [
    "Draw(lam * grad(sol_ref)[0], meshRef, min = 0, max=150, settings={\"Objects\":{\"Wireframe\":False}})"
   ]
  },
  {
   "cell_type": "code",
   "execution_count": null,
   "metadata": {},
   "outputs": [
    {
     "name": "stdout",
     "output_type": "stream",
     "text": [
      "energy multiscale 0.6083219796193473\n",
      "energy reference 0.5510940718908416\n"
     ]
    }
   ],
   "source": [
    "print(\"energy multiscale\", energy_MS)\n",
    "print(\"energy reference\", energy_ref)"
   ]
  }
 ],
 "metadata": {
  "kernelspec": {
   "display_name": "Python 3",
   "language": "python",
   "name": "python3"
  },
  "language_info": {
   "codemirror_mode": {
    "name": "ipython",
    "version": 3
   },
   "file_extension": ".py",
   "mimetype": "text/x-python",
   "name": "python",
   "nbconvert_exporter": "python",
   "pygments_lexer": "ipython3",
   "version": "3.10.12"
  },
  "orig_nbformat": 4
 },
 "nbformat": 4,
 "nbformat_minor": 2
}
