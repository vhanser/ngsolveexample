{
 "cells": [
  {
   "cell_type": "code",
   "execution_count": 1,
   "metadata": {},
   "outputs": [],
   "source": [
    "from netgen.occ import *\n",
    "from ngsolve import *\n",
    "from netgen.meshing import IdentificationType\n",
    "from multiscale.MS_helper_functions import *\n",
    "from multiscale.meshGen import mesh2DLaminates\n",
    "from netgen.webgui import Draw as DrawGeo\n",
    "from ngsolve.webgui import Draw\n"
   ]
  },
  {
   "cell_type": "markdown",
   "metadata": {},
   "source": [
    "# Demonstration of the Multiscale approach "
   ]
  },
  {
   "cell_type": "code",
   "execution_count": 2,
   "metadata": {},
   "outputs": [],
   "source": [
    "lambda1 = 1\n",
    "lambda2 = 1000\n",
    "\n",
    "order0 = 2"
   ]
  },
  {
   "cell_type": "code",
   "execution_count": 3,
   "metadata": {},
   "outputs": [],
   "source": [
    "D = 0.04\n",
    "d = 0.02\n",
    "\n",
    "ff = 0.9\n",
    "maxh = 0.01\n",
    "\n",
    "numSheets = 10\n",
    "\n"
   ]
  },
  {
   "cell_type": "markdown",
   "metadata": {},
   "source": [
    "## Reference Solution"
   ]
  },
  {
   "cell_type": "code",
   "execution_count": 4,
   "metadata": {},
   "outputs": [
    {
     "data": {
      "application/vnd.jupyter.widget-view+json": {
       "model_id": "a7b55f42bc794ca8b340d21817b6c60e",
       "version_major": 2,
       "version_minor": 0
      },
      "text/plain": [
       "WebGuiWidget(layout=Layout(height='500px', width='100%'), value={'gui_settings': {}, 'ngsolve_version': '6.2.2…"
      ]
     },
     "metadata": {},
     "output_type": "display_data"
    },
    {
     "name": "stdout",
     "output_type": "stream",
     "text": [
      "{'outer', 'insulation', 'inner'}\n"
     ]
    }
   ],
   "source": [
    "\n",
    "meshRef = mesh2DLaminates(D, d, ff, numSheets, multiscale=False, modelHalfAir=True).mesh\n",
    "\n",
    "lam = meshRef.MaterialCF({\"inner\":lambda2, \"multiscale\":lambda2}, default=lambda1)\n",
    "Draw(lam, meshRef)\n",
    "print(set(meshRef.GetMaterials()))"
   ]
  },
  {
   "cell_type": "code",
   "execution_count": 5,
   "metadata": {},
   "outputs": [
    {
     "name": "stdout",
     "output_type": "stream",
     "text": [
      "\u001b[2KCG iteration 1, residual = 3.825855781256528     \n",
      "\u001b[2KCG iteration 2, residual = 1.0588168112043437e-12     \n"
     ]
    }
   ],
   "source": [
    "\n",
    "def calcRef():\n",
    "    fes = H1(meshRef, order=order0, dirichlet=\"left|right\")\n",
    "\n",
    "    u,v = fes.TnT()\n",
    "    sol = GridFunction(fes)\n",
    "\n",
    "    a = BilinearForm(fes, symmetric=True)\n",
    "    f = LinearForm(fes)\n",
    "\n",
    "    a += lam * grad(u) * grad(v) * dx\n",
    "\n",
    "    prec = Preconditioner(a, \"direct\")\n",
    "\n",
    "\n",
    "    sol.Set(1 * x/Norm(x), BND)\n",
    "    solvers.BVP(bf = a, lf= f, pre=prec, gf=sol, maxsteps=10)\n",
    "    \n",
    "    \n",
    "    energy =  Integrate( InnerProduct(lam * grad(sol), grad(sol)), meshRef, definedon=meshRef.Materials(\"inner|insulation\"))\n",
    "    \n",
    "    return sol, energy\n",
    "\n",
    "sol_ref, energy_ref = calcRef()\n"
   ]
  },
  {
   "cell_type": "code",
   "execution_count": 6,
   "metadata": {},
   "outputs": [
    {
     "name": "stdout",
     "output_type": "stream",
     "text": [
      "energy:\t0.5919583931698202\n"
     ]
    },
    {
     "data": {
      "application/vnd.jupyter.widget-view+json": {
       "model_id": "9a861f7f89d744e3bd9068b41c71397c",
       "version_major": 2,
       "version_minor": 0
      },
      "text/plain": [
       "WebGuiWidget(layout=Layout(height='500px', width='100%'), value={'gui_settings': {'Objects': {'Wireframe': Tru…"
      ]
     },
     "metadata": {},
     "output_type": "display_data"
    },
    {
     "data": {
      "application/vnd.jupyter.widget-view+json": {
       "model_id": "07cba48c668a4e82b3eff54afcf53e59",
       "version_major": 2,
       "version_minor": 0
      },
      "text/plain": [
       "WebGuiWidget(layout=Layout(height='500px', width='100%'), value={'gui_settings': {'Objects': {'Wireframe': Fal…"
      ]
     },
     "metadata": {},
     "output_type": "display_data"
    },
    {
     "data": {
      "text/plain": [
       "BaseWebGuiScene"
      ]
     },
     "execution_count": 6,
     "metadata": {},
     "output_type": "execute_result"
    }
   ],
   "source": [
    "\n",
    "\n",
    "print(f\"energy:\\t{energy_ref}\")\n",
    "Draw(sol_ref, settings={\"Objects\":{\"Wireframe\":True}, \"deformation\": 0.01})\n",
    "Draw(lam * grad(sol_ref)[0], meshRef, max = 150, min = 0, settings={\"Objects\":{\"Wireframe\":False}})"
   ]
  },
  {
   "cell_type": "markdown",
   "metadata": {},
   "source": [
    "## Multiscale"
   ]
  },
  {
   "cell_type": "code",
   "execution_count": 7,
   "metadata": {},
   "outputs": [
    {
     "data": {
      "application/vnd.jupyter.widget-view+json": {
       "model_id": "249f01822fd44ac8904d30550b21a91b",
       "version_major": 2,
       "version_minor": 0
      },
      "text/plain": [
       "WebGuiWidget(layout=Layout(height='500px', width='100%'), value={'gui_settings': {}, 'ngsolve_version': '6.2.2…"
      ]
     },
     "metadata": {},
     "output_type": "display_data"
    },
    {
     "name": "stdout",
     "output_type": "stream",
     "text": [
      "('outer', 'multiscale')\n"
     ]
    }
   ],
   "source": [
    "modelHalfAir=True\n",
    "\n",
    "cMeshMS = mesh2DLaminates(D, d, ff, numSheets, multiscale=True, modelHalfAir=modelHalfAir)\n",
    "meshMS = cMeshMS.mesh\n",
    "Draw(CF([lambda1, lambda2]), meshMS)\n",
    "\n",
    "print(meshMS.GetMaterials())"
   ]
  },
  {
   "cell_type": "code",
   "execution_count": 8,
   "metadata": {},
   "outputs": [],
   "source": [
    "\n",
    "cl_Phi.numSheets = numSheets\n",
    "cl_Phi.dFe = cMeshMS.dFe\n",
    "cl_Phi.d0 = cMeshMS.d0\n",
    "cl_Phi.mesh = meshMS\n",
    "\n",
    "cl_Phi.modelHalfAir = modelHalfAir\n",
    "cl_Phi.orientation = 0\n",
    "\n",
    "# from cempy.phiFunctions import Lobatto, dxLobatto\n",
    "# cl_Phi.phiFunction = Lobatto\n",
    "# cl_Phi.dzPhiFunction = dxLobatto\n",
    "\n",
    "\n",
    "def calcMultiscale(useGradients=True, darwPhis=True):\n",
    "\n",
    "\n",
    "    # microshape functions\n",
    "    orderPhi = [\n",
    "            cl_Phi(1, fes_order=0, material=\"multiscale\", useGradients=useGradients), \n",
    "        ]\n",
    "\n",
    "    if darwPhis:\n",
    "        cl_Phi.plotEvaluated(orderPhi)\n",
    "\n",
    "    VSpace = []\n",
    "    # u0 \n",
    "    VSpace.append(H1(meshMS, order=order0, dirichlet=\"right|left\")) \n",
    "        \n",
    "    # ui * phi i\n",
    "    for phi_i in orderPhi: \n",
    "        VSpace.append(H1(meshMS, order=phi_i.fes_oder, definedon=meshMS.Materials(phi_i.material)))\n",
    "    VSpace = FESpace(VSpace)\n",
    "\n",
    "\n",
    "    # multiscale container\n",
    "    ansatz = \"\"\n",
    "    sol = GridFunction(VSpace, \"sol\")\n",
    "       \n",
    "\n",
    "    cl_gradgradMS = gradgradMS(orderPhi, sol, addPhi0Outer=True)\n",
    "\n",
    "    a = BilinearForm(VSpace, symmetric=True)\n",
    "    f = LinearForm(VSpace)\n",
    "\n",
    "    a += lambda1  * grad(cl_gradgradMS.trials[0]) * grad(cl_gradgradMS.tests[0]) * dx(\"outer\")\n",
    "    a += getIntegrand4BFI(cl_gradgradMS.gradu, cl_gradgradMS.gradv, lambda2, lambda1) * dx(\"multiscale\")\n",
    "\n",
    "\n",
    "    prec = Preconditioner(a,type=\"direct\")  \n",
    "\n",
    "\n",
    "\n",
    "\n",
    "    # dirichlet boundary values\n",
    "    sol.components[0].Set(1 * x/Norm(x), BND)\n",
    "    \n",
    "    solvers.BVP(bf = a, lf= f, pre=prec, gf=sol, maxsteps=10)\n",
    "    print(a.mat.AsVector().Norm())\n",
    "\n",
    "    energy =  Integrate(getIntegrand4BFI(cl_gradgradMS.gradsol_pack, cl_gradgradMS.gradsol_pack, lambda2, lambda1), meshMS, definedon=meshMS.Materials(\"multiscale\"))\n",
    "    \n",
    "    return sol, cl_gradgradMS.gradsol_pack, cl_gradgradMS.sol_comp, cl_gradgradMS.gradsol_comp, energy, cl_gradgradMS\n",
    "\n",
    "\n",
    "    \n",
    "\n",
    "\n"
   ]
  },
  {
   "cell_type": "code",
   "execution_count": 9,
   "metadata": {},
   "outputs": [
    {
     "data": {
      "image/png": "[encoded data removed]",
      "text/plain": [
       "<Figure size 640x480 with 2 Axes>"
      ]
     },
     "metadata": {},
     "output_type": "display_data"
    },
    {
     "name": "stdout",
     "output_type": "stream",
     "text": [
      "\u001b[2KCG iteration 1, residual = 3.6766350469036295     \n",
      "\u001b[2KCG iteration 2, residual = 2.50748786851651e-13     \n",
      "106430.12384867012\n",
      "9.482508373977157e-07\n",
      "0.6083195846264209\n"
     ]
    }
   ],
   "source": [
    "sol_MS, sol_pack_MS, sol_comp_MS, H_comp,    energy_MS, cl_gradgradMS = calcMultiscale(useGradients=False, darwPhis=True)\n",
    "\n",
    "print(Integrate(Norm(sum(sol_comp_MS) - sol_ref), meshRef))\n",
    "print(energy_MS)"
   ]
  },
  {
   "cell_type": "code",
   "execution_count": 10,
   "metadata": {},
   "outputs": [
    {
     "data": {
      "application/vnd.jupyter.widget-view+json": {
       "model_id": "f78639e4f5eb49d7bf5d8570017a9d69",
       "version_major": 2,
       "version_minor": 0
      },
      "text/plain": [
       "WebGuiWidget(layout=Layout(height='500px', width='100%'), value={'gui_settings': {'Objects': {'Wireframe': Tru…"
      ]
     },
     "metadata": {},
     "output_type": "display_data"
    },
    {
     "data": {
      "text/plain": [
       "BaseWebGuiScene"
      ]
     },
     "execution_count": 10,
     "metadata": {},
     "output_type": "execute_result"
    }
   ],
   "source": [
    "Draw(sum(sol_comp_MS) , meshRef, settings={\"Objects\":{\"Wireframe\":True}, \"deformation\": 0.01})\n"
   ]
  },
  {
   "cell_type": "markdown",
   "metadata": {},
   "source": [
    "## Comparison of results"
   ]
  },
  {
   "cell_type": "code",
   "execution_count": 11,
   "metadata": {},
   "outputs": [
    {
     "data": {
      "application/vnd.jupyter.widget-view+json": {
       "model_id": "e83a1649168b4924957384aedae9ab76",
       "version_major": 2,
       "version_minor": 0
      },
      "text/plain": [
       "WebGuiWidget(layout=Layout(height='500px', width='100%'), value={'gui_settings': {'Objects': {'Wireframe': Fal…"
      ]
     },
     "metadata": {},
     "output_type": "display_data"
    },
    {
     "data": {
      "text/plain": [
       "BaseWebGuiScene"
      ]
     },
     "execution_count": 11,
     "metadata": {},
     "output_type": "execute_result"
    }
   ],
   "source": [
    "Draw(-lam * sum(H_comp)[0], meshRef, min = 0, max=150, settings={\"Objects\":{\"Wireframe\":False}})"
   ]
  },
  {
   "cell_type": "code",
   "execution_count": 12,
   "metadata": {},
   "outputs": [
    {
     "data": {
      "application/vnd.jupyter.widget-view+json": {
       "model_id": "f96d1cb3d8884b79b54ff5529d5813fb",
       "version_major": 2,
       "version_minor": 0
      },
      "text/plain": [
       "WebGuiWidget(layout=Layout(height='500px', width='100%'), value={'gui_settings': {'Objects': {'Wireframe': Fal…"
      ]
     },
     "metadata": {},
     "output_type": "display_data"
    },
    {
     "data": {
      "text/plain": [
       "BaseWebGuiScene"
      ]
     },
     "execution_count": 12,
     "metadata": {},
     "output_type": "execute_result"
    }
   ],
   "source": [
    "Draw(lam * grad(sol_ref)[0], meshRef, min = 0, max=150, settings={\"Objects\":{\"Wireframe\":False}})"
   ]
  },
  {
   "cell_type": "code",
   "execution_count": 13,
   "metadata": {},
   "outputs": [
    {
     "name": "stdout",
     "output_type": "stream",
     "text": [
      "energy multiscale 0.6083195846264209\n",
      "energy reference 0.5919583931698202\n"
     ]
    }
   ],
   "source": [
    "print(\"energy multiscale\", energy_MS)\n",
    "print(\"energy reference\", energy_ref)"
   ]
  },
  {
   "cell_type": "code",
   "execution_count": null,
   "metadata": {},
   "outputs": [],
   "source": []
  }
 ],
 "metadata": {
  "kernelspec": {
   "display_name": "Python 3 (ipykernel)",
   "language": "python",
   "name": "python3"
  },
  "language_info": {
   "codemirror_mode": {
    "name": "ipython",
    "version": 3
   },
   "file_extension": ".py",
   "mimetype": "text/x-python",
   "name": "python",
   "nbconvert_exporter": "python",
   "pygments_lexer": "ipython3",
   "version": "3.10.12"
  }
 },
 "nbformat": 4,
 "nbformat_minor": 2
}
